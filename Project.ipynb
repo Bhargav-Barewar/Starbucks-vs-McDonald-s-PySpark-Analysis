{
 "cells": [
  {
   "cell_type": "markdown",
   "metadata": {
    "application/vnd.databricks.v1+cell": {
     "cellMetadata": {},
     "inputWidgets": {},
     "nuid": "ec484e80-f99c-4eae-ba81-7eeaf8b7c012",
     "showTitle": false,
     "tableResultSettingsMap": {},
     "title": ""
    }
   },
   "source": [
    "#### Healthier Comparison McDonald's vs _Starbucks_"
   ]
  },
  {
   "cell_type": "code",
   "execution_count": 0,
   "metadata": {
    "application/vnd.databricks.v1+cell": {
     "cellMetadata": {
      "byteLimit": 2048000,
      "rowLimit": 10000
     },
     "inputWidgets": {},
     "nuid": "d52d3a1a-f8d9-482f-83b5-08ce85f51e60",
     "showTitle": false,
     "tableResultSettingsMap": {},
     "title": ""
    }
   },
   "outputs": [],
   "source": [
    "from pyspark.sql import SparkSession\n",
    "from pyspark.sql.functions import col\n",
    "from pyspark.sql.functions import lit\n",
    "from pyspark.sql.functions import avg"
   ]
  },
  {
   "cell_type": "code",
   "execution_count": 0,
   "metadata": {
    "application/vnd.databricks.v1+cell": {
     "cellMetadata": {
      "byteLimit": 2048000,
      "rowLimit": 10000
     },
     "inputWidgets": {},
     "nuid": "1a20e86f-27be-482c-8dc8-80f8d6698bf2",
     "showTitle": false,
     "tableResultSettingsMap": {},
     "title": ""
    }
   },
   "outputs": [],
   "source": [
    "spark = SparkSession.builder \\\n",
    "    .appName(\"Healthier_Comparison\") \\\n",
    "    .getOrCreate()"
   ]
  },
  {
   "cell_type": "markdown",
   "metadata": {
    "application/vnd.databricks.v1+cell": {
     "cellMetadata": {},
     "inputWidgets": {},
     "nuid": "21362f15-0435-4549-be93-dca75fa94a3d",
     "showTitle": false,
     "tableResultSettingsMap": {},
     "title": ""
    }
   },
   "source": [
    "#### 1) Convert all xlsx file to CSV\n",
    "#### 2) Upload files in DBFS"
   ]
  },
  {
   "cell_type": "code",
   "execution_count": 0,
   "metadata": {
    "application/vnd.databricks.v1+cell": {
     "cellMetadata": {
      "byteLimit": 2048000,
      "rowLimit": 10000
     },
     "inputWidgets": {},
     "nuid": "b6f160b0-8003-453c-926c-6c980684c9d2",
     "showTitle": false,
     "tableResultSettingsMap": {},
     "title": ""
    }
   },
   "outputs": [
    {
     "output_type": "display_data",
     "data": {
      "text/html": [
       "<style scoped>\n",
       "  .table-result-container {\n",
       "    max-height: 300px;\n",
       "    overflow: auto;\n",
       "  }\n",
       "  table, th, td {\n",
       "    border: 1px solid black;\n",
       "    border-collapse: collapse;\n",
       "  }\n",
       "  th, td {\n",
       "    padding: 5px;\n",
       "  }\n",
       "  th {\n",
       "    text-align: left;\n",
       "  }\n",
       "</style><div class='table-result-container'><table class='table-result'><thead style='background-color: white'><tr><th>path</th><th>name</th><th>size</th><th>modificationTime</th></tr></thead><tbody><tr><td>dbfs:/FileStore/tables/Sample_Data.csv</td><td>Sample_Data.csv</td><td>104</td><td>1731676084000</td></tr><tr><td>dbfs:/FileStore/tables/mealDatabase.csv</td><td>mealDatabase.csv</td><td>37424</td><td>1732114017000</td></tr><tr><td>dbfs:/FileStore/tables/menu.csv</td><td>menu.csv</td><td>30233</td><td>1740139024000</td></tr><tr><td>dbfs:/FileStore/tables/restaurant.json</td><td>restaurant.json</td><td>681632</td><td>1731670025000</td></tr><tr><td>dbfs:/FileStore/tables/starbucks_drinkMenu_expanded.csv</td><td>starbucks_drinkMenu_expanded.csv</td><td>26907</td><td>1740139024000</td></tr><tr><td>dbfs:/FileStore/tables/starbucks_menu_nutrition_drinks.csv</td><td>starbucks_menu_nutrition_drinks.csv</td><td>8531</td><td>1740139025000</td></tr><tr><td>dbfs:/FileStore/tables/starbucks_menu_nutrition_food.csv</td><td>starbucks_menu_nutrition_food.csv</td><td>5038</td><td>1740139025000</td></tr><tr><td>dbfs:/FileStore/tables/tips.csv</td><td>tips.csv</td><td>8188</td><td>1731591548000</td></tr><tr><td>dbfs:/FileStore/tables/userdata.parquet</td><td>userdata.parquet</td><td>113629</td><td>1731672145000</td></tr></tbody></table></div>"
      ]
     },
     "metadata": {
      "application/vnd.databricks.v1+output": {
       "addedWidgets": {},
       "aggData": [],
       "aggError": "",
       "aggOverflow": false,
       "aggSchema": [],
       "aggSeriesLimitReached": false,
       "aggType": "",
       "arguments": {},
       "columnCustomDisplayInfos": {},
       "data": [
        [
         "dbfs:/FileStore/tables/Sample_Data.csv",
         "Sample_Data.csv",
         104,
         1731676084000
        ],
        [
         "dbfs:/FileStore/tables/mealDatabase.csv",
         "mealDatabase.csv",
         37424,
         1732114017000
        ],
        [
         "dbfs:/FileStore/tables/menu.csv",
         "menu.csv",
         30233,
         1740139024000
        ],
        [
         "dbfs:/FileStore/tables/restaurant.json",
         "restaurant.json",
         681632,
         1731670025000
        ],
        [
         "dbfs:/FileStore/tables/starbucks_drinkMenu_expanded.csv",
         "starbucks_drinkMenu_expanded.csv",
         26907,
         1740139024000
        ],
        [
         "dbfs:/FileStore/tables/starbucks_menu_nutrition_drinks.csv",
         "starbucks_menu_nutrition_drinks.csv",
         8531,
         1740139025000
        ],
        [
         "dbfs:/FileStore/tables/starbucks_menu_nutrition_food.csv",
         "starbucks_menu_nutrition_food.csv",
         5038,
         1740139025000
        ],
        [
         "dbfs:/FileStore/tables/tips.csv",
         "tips.csv",
         8188,
         1731591548000
        ],
        [
         "dbfs:/FileStore/tables/userdata.parquet",
         "userdata.parquet",
         113629,
         1731672145000
        ]
       ],
       "datasetInfos": [],
       "dbfsResultPath": null,
       "isJsonSchema": true,
       "metadata": {
        "isDbfsCommandResult": false
       },
       "overflow": false,
       "plotOptions": {
        "customPlotOptions": {},
        "displayType": "table",
        "pivotAggregation": null,
        "pivotColumns": null,
        "xColumns": null,
        "yColumns": null
       },
       "removedWidgets": [],
       "schema": [
        {
         "metadata": "{}",
         "name": "path",
         "type": "\"string\""
        },
        {
         "metadata": "{}",
         "name": "name",
         "type": "\"string\""
        },
        {
         "metadata": "{}",
         "name": "size",
         "type": "\"long\""
        },
        {
         "metadata": "{}",
         "name": "modificationTime",
         "type": "\"long\""
        }
       ],
       "type": "table"
      }
     },
     "output_type": "display_data"
    }
   ],
   "source": [
    "%fs ls /FileStore/tables/"
   ]
  },
  {
   "cell_type": "markdown",
   "metadata": {
    "application/vnd.databricks.v1+cell": {
     "cellMetadata": {},
     "inputWidgets": {},
     "nuid": "ab36fb45-8890-4f69-aa27-15d02248bc6a",
     "showTitle": false,
     "tableResultSettingsMap": {},
     "title": ""
    }
   },
   "source": [
    "- dbfs:/FileStore/tables/menu.csv\n",
    "- dbfs:/FileStore/tables/starbucks_drinkMenu_expanded.csv\n",
    "- dbfs:/FileStore/tables/starbucks_menu_nutrition_drinks.csv\n",
    "- dbfs:/FileStore/tables/starbucks_menu_nutrition_food.csv"
   ]
  },
  {
   "cell_type": "markdown",
   "metadata": {
    "application/vnd.databricks.v1+cell": {
     "cellMetadata": {},
     "inputWidgets": {},
     "nuid": "98602fb5-624d-4bff-b169-1d88e430ad62",
     "showTitle": false,
     "tableResultSettingsMap": {},
     "title": ""
    }
   },
   "source": [
    "- md_df = menu.csv\n",
    "- sb_drink_df = starbucks_drinkMenu_expanded.csv\n",
    "- sb_nutD_df = starbucks_menu_nutrition_drinks.csv\n",
    "- sb_nutF_df = starbucks_menu_nutrition_food.csv"
   ]
  },
  {
   "cell_type": "code",
   "execution_count": 0,
   "metadata": {
    "application/vnd.databricks.v1+cell": {
     "cellMetadata": {
      "byteLimit": 2048000,
      "rowLimit": 10000
     },
     "inputWidgets": {},
     "nuid": "0975a78c-14be-486d-8ea5-a2d5596927c0",
     "showTitle": false,
     "tableResultSettingsMap": {},
     "title": ""
    }
   },
   "outputs": [],
   "source": [
    "# menu.csv\n",
    "mcd_df = spark.read.format(\"csv\") \\\n",
    "    .option(\"header\",\"true\") \\\n",
    "    .option(\"inferSchema\",\"true\") \\\n",
    "    .load(\"dbfs:/FileStore/tables/menu.csv\")\n",
    "\n",
    "# starbucks_drinkMenu_expanded.csv\n",
    "sb_drink_df = spark.read.format(\"csv\") \\\n",
    "    .option(\"header\",\"true\") \\\n",
    "    .option(\"inferSchema\",\"true\") \\\n",
    "    .load(\"dbfs:/FileStore/tables/starbucks_drinkMenu_expanded.csv\")\n",
    "\n",
    "# starbucks_menu_nutrition_drinks.csv\n",
    "sb_nutD_df = spark.read.format(\"csv\") \\\n",
    "    .option(\"header\",\"true\") \\\n",
    "    .option(\"inferSchema\",\"true\") \\\n",
    "    .load(\"dbfs:/FileStore/tables/starbucks_menu_nutrition_drinks.csv\")\n",
    "    \n",
    "# starbucks_menu_nutrition_food.csv\n",
    "sb_nutF_df = spark.read.format(\"csv\") \\\n",
    "    .option(\"header\",\"true\") \\\n",
    "    .option(\"inferSchema\",\"true\") \\\n",
    "    .load(\"dbfs:/FileStore/tables/starbucks_menu_nutrition_food.csv\")"
   ]
  },
  {
   "cell_type": "markdown",
   "metadata": {
    "application/vnd.databricks.v1+cell": {
     "cellMetadata": {},
     "inputWidgets": {},
     "nuid": "0d2c70a5-ea30-40ee-b758-7f472fd0be09",
     "showTitle": false,
     "tableResultSettingsMap": {},
     "title": ""
    }
   },
   "source": [
    "### Cleaning and selecting IMP columns"
   ]
  },
  {
   "cell_type": "markdown",
   "metadata": {
    "application/vnd.databricks.v1+cell": {
     "cellMetadata": {
      "byteLimit": 2048000,
      "rowLimit": 10000
     },
     "inputWidgets": {},
     "nuid": "654aed49-d204-4127-9350-7e248ddd59c3",
     "showTitle": false,
     "tableResultSettingsMap": {},
     "title": ""
    }
   },
   "source": [
    "##### Selecting Columns for McDonald's"
   ]
  },
  {
   "cell_type": "code",
   "execution_count": 0,
   "metadata": {
    "application/vnd.databricks.v1+cell": {
     "cellMetadata": {
      "byteLimit": 2048000,
      "rowLimit": 10000
     },
     "inputWidgets": {},
     "nuid": "2bd61aa8-015c-4b08-a999-ad11b8e1af9e",
     "showTitle": false,
     "tableResultSettingsMap": {},
     "title": ""
    }
   },
   "outputs": [],
   "source": [
    "mcd_df = mcd_df.select(\n",
    "    col(\"Item\").alias(\"Food_Item\"),\n",
    "    col(\"Calories\").cast(\"int\"),\n",
    "    col(\"Total Fat\").alias(\"Fat\").cast(\"float\"),\n",
    "    col(\"Sugars\").cast(\"float\"),\n",
    "    col(\"Protein\").cast(\"float\"),\n",
    "    col(\"Carbohydrates\").alias(\"Carbs\").cast(\"float\")\n",
    ").dropna()"
   ]
  },
  {
   "cell_type": "markdown",
   "metadata": {
    "application/vnd.databricks.v1+cell": {
     "cellMetadata": {
      "byteLimit": 2048000,
      "rowLimit": 10000
     },
     "inputWidgets": {},
     "nuid": "ac1ab120-22f4-4727-a247-210156f1bb82",
     "showTitle": false,
     "tableResultSettingsMap": {},
     "title": ""
    }
   },
   "source": [
    "##### Add new column Brand with litrial McDonald's"
   ]
  },
  {
   "cell_type": "code",
   "execution_count": 0,
   "metadata": {
    "application/vnd.databricks.v1+cell": {
     "cellMetadata": {
      "byteLimit": 2048000,
      "rowLimit": 10000
     },
     "collapsed": true,
     "inputWidgets": {},
     "nuid": "3a82697f-10fa-4db0-bcac-f6bebea7193f",
     "showTitle": false,
     "tableResultSettingsMap": {},
     "title": ""
    }
   },
   "outputs": [
    {
     "output_type": "display_data",
     "data": {
      "text/html": [
       "<style scoped>\n",
       "  .table-result-container {\n",
       "    max-height: 300px;\n",
       "    overflow: auto;\n",
       "  }\n",
       "  table, th, td {\n",
       "    border: 1px solid black;\n",
       "    border-collapse: collapse;\n",
       "  }\n",
       "  th, td {\n",
       "    padding: 5px;\n",
       "  }\n",
       "  th {\n",
       "    text-align: left;\n",
       "  }\n",
       "</style><div class='table-result-container'><table class='table-result'><thead style='background-color: white'><tr><th>Food_Item</th><th>Calories</th><th>Fat</th><th>Sugars</th><th>Protein</th><th>Carbs</th><th>Brand</th></tr></thead><tbody><tr><td>Egg McMuffin</td><td>300</td><td>13.0</td><td>3.0</td><td>17.0</td><td>31.0</td><td>McDonald's</td></tr><tr><td>Egg White Delight</td><td>250</td><td>8.0</td><td>3.0</td><td>18.0</td><td>30.0</td><td>McDonald's</td></tr><tr><td>Sausage McMuffin</td><td>370</td><td>23.0</td><td>2.0</td><td>14.0</td><td>29.0</td><td>McDonald's</td></tr><tr><td>Sausage McMuffin with Egg</td><td>450</td><td>28.0</td><td>2.0</td><td>21.0</td><td>30.0</td><td>McDonald's</td></tr><tr><td>Sausage McMuffin with Egg Whites</td><td>400</td><td>23.0</td><td>2.0</td><td>21.0</td><td>30.0</td><td>McDonald's</td></tr><tr><td>Steak & Egg McMuffin</td><td>430</td><td>23.0</td><td>3.0</td><td>26.0</td><td>31.0</td><td>McDonald's</td></tr><tr><td>Bacon, Egg & Cheese Biscuit (Regular Biscuit)</td><td>460</td><td>26.0</td><td>3.0</td><td>19.0</td><td>38.0</td><td>McDonald's</td></tr><tr><td>Bacon, Egg & Cheese Biscuit (Large Biscuit)</td><td>520</td><td>30.0</td><td>4.0</td><td>19.0</td><td>43.0</td><td>McDonald's</td></tr><tr><td>Bacon, Egg & Cheese Biscuit with Egg Whites (Regular Biscuit)</td><td>410</td><td>20.0</td><td>3.0</td><td>20.0</td><td>36.0</td><td>McDonald's</td></tr><tr><td>Bacon, Egg & Cheese Biscuit with Egg Whites (Large Biscuit)</td><td>470</td><td>25.0</td><td>4.0</td><td>20.0</td><td>42.0</td><td>McDonald's</td></tr><tr><td>Sausage Biscuit (Regular Biscuit)</td><td>430</td><td>27.0</td><td>2.0</td><td>11.0</td><td>34.0</td><td>McDonald's</td></tr><tr><td>Sausage Biscuit (Large Biscuit)</td><td>480</td><td>31.0</td><td>3.0</td><td>11.0</td><td>39.0</td><td>McDonald's</td></tr><tr><td>Sausage Biscuit with Egg (Regular Biscuit)</td><td>510</td><td>33.0</td><td>2.0</td><td>18.0</td><td>36.0</td><td>McDonald's</td></tr><tr><td>Sausage Biscuit with Egg (Large Biscuit)</td><td>570</td><td>37.0</td><td>3.0</td><td>18.0</td><td>42.0</td><td>McDonald's</td></tr><tr><td>Sausage Biscuit with Egg Whites (Regular Biscuit)</td><td>460</td><td>27.0</td><td>3.0</td><td>18.0</td><td>34.0</td><td>McDonald's</td></tr><tr><td>Sausage Biscuit with Egg Whites (Large Biscuit)</td><td>520</td><td>32.0</td><td>3.0</td><td>18.0</td><td>40.0</td><td>McDonald's</td></tr><tr><td>Southern Style Chicken Biscuit (Regular Biscuit)</td><td>410</td><td>20.0</td><td>3.0</td><td>17.0</td><td>41.0</td><td>McDonald's</td></tr><tr><td>Southern Style Chicken Biscuit (Large Biscuit)</td><td>470</td><td>24.0</td><td>4.0</td><td>17.0</td><td>46.0</td><td>McDonald's</td></tr><tr><td>Steak & Egg Biscuit (Regular Biscuit)</td><td>540</td><td>32.0</td><td>3.0</td><td>25.0</td><td>38.0</td><td>McDonald's</td></tr><tr><td>Bacon, Egg & Cheese McGriddles</td><td>460</td><td>21.0</td><td>15.0</td><td>19.0</td><td>48.0</td><td>McDonald's</td></tr><tr><td>Bacon, Egg & Cheese McGriddles with Egg Whites</td><td>400</td><td>15.0</td><td>16.0</td><td>20.0</td><td>47.0</td><td>McDonald's</td></tr><tr><td>Sausage McGriddles</td><td>420</td><td>22.0</td><td>15.0</td><td>11.0</td><td>44.0</td><td>McDonald's</td></tr><tr><td>Sausage, Egg & Cheese McGriddles</td><td>550</td><td>31.0</td><td>15.0</td><td>20.0</td><td>48.0</td><td>McDonald's</td></tr><tr><td>Sausage, Egg & Cheese McGriddles with Egg Whites</td><td>500</td><td>26.0</td><td>15.0</td><td>21.0</td><td>46.0</td><td>McDonald's</td></tr><tr><td>Bacon, Egg & Cheese Bagel</td><td>620</td><td>31.0</td><td>7.0</td><td>30.0</td><td>57.0</td><td>McDonald's</td></tr><tr><td>Bacon, Egg & Cheese Bagel with Egg Whites</td><td>570</td><td>25.0</td><td>8.0</td><td>30.0</td><td>55.0</td><td>McDonald's</td></tr><tr><td>Steak, Egg & Cheese Bagel</td><td>670</td><td>35.0</td><td>7.0</td><td>33.0</td><td>56.0</td><td>McDonald's</td></tr><tr><td>Big Breakfast (Regular Biscuit)</td><td>740</td><td>48.0</td><td>3.0</td><td>28.0</td><td>51.0</td><td>McDonald's</td></tr><tr><td>Big Breakfast (Large Biscuit)</td><td>800</td><td>52.0</td><td>3.0</td><td>28.0</td><td>56.0</td><td>McDonald's</td></tr><tr><td>Big Breakfast with Egg Whites (Regular Biscuit)</td><td>640</td><td>37.0</td><td>3.0</td><td>26.0</td><td>50.0</td><td>McDonald's</td></tr><tr><td>Big Breakfast with Egg Whites (Large Biscuit)</td><td>690</td><td>41.0</td><td>4.0</td><td>26.0</td><td>55.0</td><td>McDonald's</td></tr><tr><td>Big Breakfast with Hotcakes (Regular Biscuit)</td><td>1090</td><td>56.0</td><td>17.0</td><td>36.0</td><td>111.0</td><td>McDonald's</td></tr><tr><td>Big Breakfast with Hotcakes (Large Biscuit)</td><td>1150</td><td>60.0</td><td>17.0</td><td>36.0</td><td>116.0</td><td>McDonald's</td></tr><tr><td>Big Breakfast with Hotcakes and Egg Whites (Regular Biscuit)</td><td>990</td><td>46.0</td><td>17.0</td><td>35.0</td><td>110.0</td><td>McDonald's</td></tr><tr><td>Big Breakfast with Hotcakes and Egg Whites (Large Biscuit)</td><td>1050</td><td>50.0</td><td>18.0</td><td>35.0</td><td>115.0</td><td>McDonald's</td></tr><tr><td>Hotcakes</td><td>350</td><td>9.0</td><td>14.0</td><td>8.0</td><td>60.0</td><td>McDonald's</td></tr><tr><td>Hotcakes and Sausage</td><td>520</td><td>24.0</td><td>14.0</td><td>15.0</td><td>61.0</td><td>McDonald's</td></tr><tr><td>Sausage Burrito</td><td>300</td><td>16.0</td><td>2.0</td><td>12.0</td><td>26.0</td><td>McDonald's</td></tr><tr><td>Hash Brown</td><td>150</td><td>9.0</td><td>0.0</td><td>1.0</td><td>15.0</td><td>McDonald's</td></tr><tr><td>Cinnamon Melts</td><td>460</td><td>19.0</td><td>32.0</td><td>6.0</td><td>66.0</td><td>McDonald's</td></tr><tr><td>Fruit & Maple Oatmeal</td><td>290</td><td>4.0</td><td>32.0</td><td>5.0</td><td>58.0</td><td>McDonald's</td></tr><tr><td>Fruit & Maple Oatmeal without Brown Sugar</td><td>260</td><td>4.0</td><td>18.0</td><td>5.0</td><td>49.0</td><td>McDonald's</td></tr><tr><td>Big Mac</td><td>530</td><td>27.0</td><td>9.0</td><td>24.0</td><td>47.0</td><td>McDonald's</td></tr><tr><td>Quarter Pounder with Cheese</td><td>520</td><td>26.0</td><td>10.0</td><td>30.0</td><td>41.0</td><td>McDonald's</td></tr><tr><td>Quarter Pounder with Bacon & Cheese</td><td>600</td><td>29.0</td><td>12.0</td><td>37.0</td><td>48.0</td><td>McDonald's</td></tr><tr><td>Quarter Pounder with Bacon Habanero Ranch</td><td>610</td><td>31.0</td><td>10.0</td><td>37.0</td><td>46.0</td><td>McDonald's</td></tr><tr><td>Quarter Pounder Deluxe</td><td>540</td><td>27.0</td><td>9.0</td><td>29.0</td><td>45.0</td><td>McDonald's</td></tr><tr><td>Double Quarter Pounder with Cheese</td><td>750</td><td>43.0</td><td>10.0</td><td>48.0</td><td>42.0</td><td>McDonald's</td></tr><tr><td>Hamburger</td><td>240</td><td>8.0</td><td>6.0</td><td>12.0</td><td>32.0</td><td>McDonald's</td></tr><tr><td>Cheeseburger</td><td>290</td><td>11.0</td><td>7.0</td><td>15.0</td><td>33.0</td><td>McDonald's</td></tr><tr><td>Double Cheeseburger</td><td>430</td><td>21.0</td><td>7.0</td><td>24.0</td><td>35.0</td><td>McDonald's</td></tr><tr><td>Bacon Clubhouse Burger</td><td>720</td><td>40.0</td><td>14.0</td><td>39.0</td><td>51.0</td><td>McDonald's</td></tr><tr><td>McDouble</td><td>380</td><td>17.0</td><td>7.0</td><td>22.0</td><td>34.0</td><td>McDonald's</td></tr><tr><td>Bacon McDouble</td><td>440</td><td>22.0</td><td>7.0</td><td>27.0</td><td>35.0</td><td>McDonald's</td></tr><tr><td>Daily Double</td><td>430</td><td>22.0</td><td>7.0</td><td>22.0</td><td>34.0</td><td>McDonald's</td></tr><tr><td>Jalape�o Double</td><td>430</td><td>23.0</td><td>6.0</td><td>22.0</td><td>35.0</td><td>McDonald's</td></tr><tr><td>McRib</td><td>500</td><td>26.0</td><td>11.0</td><td>22.0</td><td>44.0</td><td>McDonald's</td></tr><tr><td>Premium Crispy Chicken Classic Sandwich</td><td>510</td><td>22.0</td><td>10.0</td><td>24.0</td><td>55.0</td><td>McDonald's</td></tr><tr><td>Premium Grilled Chicken Classic Sandwich</td><td>350</td><td>9.0</td><td>8.0</td><td>28.0</td><td>42.0</td><td>McDonald's</td></tr><tr><td>Premium Crispy Chicken Club Sandwich</td><td>670</td><td>33.0</td><td>11.0</td><td>36.0</td><td>58.0</td><td>McDonald's</td></tr><tr><td>Premium Grilled Chicken Club Sandwich</td><td>510</td><td>20.0</td><td>9.0</td><td>40.0</td><td>44.0</td><td>McDonald's</td></tr><tr><td>Premium Crispy Chicken Ranch BLT Sandwich</td><td>610</td><td>28.0</td><td>11.0</td><td>32.0</td><td>57.0</td><td>McDonald's</td></tr><tr><td>Premium Grilled Chicken Ranch BLT Sandwich</td><td>450</td><td>15.0</td><td>9.0</td><td>36.0</td><td>43.0</td><td>McDonald's</td></tr><tr><td>Bacon Clubhouse Crispy Chicken Sandwich</td><td>750</td><td>38.0</td><td>16.0</td><td>36.0</td><td>65.0</td><td>McDonald's</td></tr><tr><td>Bacon Clubhouse Grilled Chicken Sandwich</td><td>590</td><td>25.0</td><td>14.0</td><td>40.0</td><td>51.0</td><td>McDonald's</td></tr><tr><td>Southern Style Crispy Chicken Sandwich</td><td>430</td><td>19.0</td><td>7.0</td><td>21.0</td><td>43.0</td><td>McDonald's</td></tr><tr><td>McChicken</td><td>360</td><td>16.0</td><td>5.0</td><td>14.0</td><td>40.0</td><td>McDonald's</td></tr><tr><td>Bacon Cheddar McChicken</td><td>480</td><td>24.0</td><td>6.0</td><td>22.0</td><td>43.0</td><td>McDonald's</td></tr><tr><td>Bacon Buffalo Ranch McChicken</td><td>430</td><td>21.0</td><td>6.0</td><td>20.0</td><td>41.0</td><td>McDonald's</td></tr><tr><td>Buffalo Ranch McChicken</td><td>360</td><td>16.0</td><td>5.0</td><td>14.0</td><td>40.0</td><td>McDonald's</td></tr><tr><td>Premium McWrap Chicken & Bacon (Crispy Chicken)</td><td>630</td><td>32.0</td><td>7.0</td><td>32.0</td><td>56.0</td><td>McDonald's</td></tr><tr><td>Premium McWrap Chicken & Bacon (Grilled Chicken)</td><td>480</td><td>19.0</td><td>6.0</td><td>36.0</td><td>42.0</td><td>McDonald's</td></tr><tr><td>Premium McWrap Chicken & Ranch (Crispy Chicken)</td><td>610</td><td>31.0</td><td>8.0</td><td>27.0</td><td>56.0</td><td>McDonald's</td></tr><tr><td>Premium McWrap Chicken & Ranch (Grilled Chicken)</td><td>450</td><td>18.0</td><td>6.0</td><td>30.0</td><td>42.0</td><td>McDonald's</td></tr><tr><td>Premium McWrap Southwest Chicken (Crispy Chicken)</td><td>670</td><td>33.0</td><td>12.0</td><td>27.0</td><td>68.0</td><td>McDonald's</td></tr><tr><td>Premium McWrap Southwest Chicken (Grilled Chicken)</td><td>520</td><td>20.0</td><td>10.0</td><td>31.0</td><td>55.0</td><td>McDonald's</td></tr><tr><td>Premium McWrap Chicken Sweet Chili (Crispy Chicken)</td><td>540</td><td>23.0</td><td>14.0</td><td>23.0</td><td>61.0</td><td>McDonald's</td></tr><tr><td>Premium McWrap Chicken Sweet Chili (Grilled Chicken)</td><td>380</td><td>10.0</td><td>12.0</td><td>27.0</td><td>47.0</td><td>McDonald's</td></tr><tr><td>Chicken McNuggets (4 piece)</td><td>190</td><td>12.0</td><td>0.0</td><td>9.0</td><td>12.0</td><td>McDonald's</td></tr><tr><td>Chicken McNuggets (6 piece)</td><td>280</td><td>18.0</td><td>0.0</td><td>13.0</td><td>18.0</td><td>McDonald's</td></tr><tr><td>Chicken McNuggets (10 piece)</td><td>470</td><td>30.0</td><td>0.0</td><td>22.0</td><td>30.0</td><td>McDonald's</td></tr><tr><td>Chicken McNuggets (20 piece)</td><td>940</td><td>59.0</td><td>0.0</td><td>44.0</td><td>59.0</td><td>McDonald's</td></tr><tr><td>Chicken McNuggets (40 piece)</td><td>1880</td><td>118.0</td><td>1.0</td><td>87.0</td><td>118.0</td><td>McDonald's</td></tr><tr><td>Filet-O-Fish</td><td>390</td><td>19.0</td><td>5.0</td><td>15.0</td><td>39.0</td><td>McDonald's</td></tr><tr><td>Premium Bacon Ranch Salad (without Chicken)</td><td>140</td><td>7.0</td><td>4.0</td><td>9.0</td><td>10.0</td><td>McDonald's</td></tr><tr><td>Premium Bacon Ranch Salad with Crispy Chicken</td><td>380</td><td>21.0</td><td>5.0</td><td>25.0</td><td>22.0</td><td>McDonald's</td></tr><tr><td>Premium Bacon Ranch Salad with Grilled Chicken</td><td>220</td><td>8.0</td><td>4.0</td><td>29.0</td><td>8.0</td><td>McDonald's</td></tr><tr><td>Premium Southwest Salad (without Chicken)</td><td>140</td><td>4.5</td><td>6.0</td><td>6.0</td><td>20.0</td><td>McDonald's</td></tr><tr><td>Premium Southwest Salad with Crispy Chicken</td><td>450</td><td>22.0</td><td>12.0</td><td>23.0</td><td>42.0</td><td>McDonald's</td></tr><tr><td>Premium Southwest Salad with Grilled Chicken</td><td>290</td><td>8.0</td><td>10.0</td><td>27.0</td><td>28.0</td><td>McDonald's</td></tr><tr><td>Chipotle BBQ Snack Wrap (Crispy Chicken)</td><td>340</td><td>15.0</td><td>8.0</td><td>14.0</td><td>37.0</td><td>McDonald's</td></tr><tr><td>Chipotle BBQ Snack Wrap (Grilled Chicken)</td><td>260</td><td>8.0</td><td>7.0</td><td>16.0</td><td>30.0</td><td>McDonald's</td></tr><tr><td>Honey Mustard Snack Wrap (Crispy Chicken)</td><td>330</td><td>15.0</td><td>3.0</td><td>14.0</td><td>34.0</td><td>McDonald's</td></tr><tr><td>Honey Mustard Snack Wrap (Grilled Chicken)</td><td>250</td><td>8.0</td><td>2.0</td><td>16.0</td><td>27.0</td><td>McDonald's</td></tr><tr><td>Ranch Snack Wrap (Crispy Chicken)</td><td>360</td><td>20.0</td><td>3.0</td><td>15.0</td><td>32.0</td><td>McDonald's</td></tr><tr><td>Ranch Snack Wrap (Grilled Chicken)</td><td>280</td><td>13.0</td><td>2.0</td><td>16.0</td><td>25.0</td><td>McDonald's</td></tr><tr><td>Small French Fries</td><td>230</td><td>11.0</td><td>0.0</td><td>2.0</td><td>30.0</td><td>McDonald's</td></tr><tr><td>Medium French Fries</td><td>340</td><td>16.0</td><td>0.0</td><td>4.0</td><td>44.0</td><td>McDonald's</td></tr><tr><td>Large French Fries</td><td>510</td><td>24.0</td><td>0.0</td><td>6.0</td><td>67.0</td><td>McDonald's</td></tr><tr><td>Kids French Fries</td><td>110</td><td>5.0</td><td>0.0</td><td>1.0</td><td>15.0</td><td>McDonald's</td></tr><tr><td>Side Salad</td><td>20</td><td>0.0</td><td>2.0</td><td>1.0</td><td>4.0</td><td>McDonald's</td></tr><tr><td>Apple Slices</td><td>15</td><td>0.0</td><td>3.0</td><td>0.0</td><td>4.0</td><td>McDonald's</td></tr><tr><td>Fruit 'n Yogurt Parfait</td><td>150</td><td>2.0</td><td>23.0</td><td>4.0</td><td>30.0</td><td>McDonald's</td></tr><tr><td>Baked Apple Pie</td><td>250</td><td>13.0</td><td>13.0</td><td>2.0</td><td>32.0</td><td>McDonald's</td></tr><tr><td>Chocolate Chip Cookie</td><td>160</td><td>8.0</td><td>15.0</td><td>2.0</td><td>21.0</td><td>McDonald's</td></tr><tr><td>Oatmeal Raisin Cookie</td><td>150</td><td>6.0</td><td>13.0</td><td>2.0</td><td>22.0</td><td>McDonald's</td></tr><tr><td>Kids Ice Cream Cone</td><td>45</td><td>1.5</td><td>6.0</td><td>1.0</td><td>7.0</td><td>McDonald's</td></tr><tr><td>Hot Fudge Sundae</td><td>330</td><td>9.0</td><td>48.0</td><td>8.0</td><td>53.0</td><td>McDonald's</td></tr><tr><td>Hot Caramel Sundae</td><td>340</td><td>8.0</td><td>43.0</td><td>7.0</td><td>60.0</td><td>McDonald's</td></tr><tr><td>Strawberry Sundae</td><td>280</td><td>6.0</td><td>45.0</td><td>6.0</td><td>49.0</td><td>McDonald's</td></tr><tr><td>Coca-Cola Classic (Small)</td><td>140</td><td>0.0</td><td>39.0</td><td>0.0</td><td>39.0</td><td>McDonald's</td></tr><tr><td>Coca-Cola Classic (Medium)</td><td>200</td><td>0.0</td><td>55.0</td><td>0.0</td><td>55.0</td><td>McDonald's</td></tr><tr><td>Coca-Cola Classic (Large)</td><td>280</td><td>0.0</td><td>76.0</td><td>0.0</td><td>76.0</td><td>McDonald's</td></tr><tr><td>Coca-Cola Classic (Child)</td><td>100</td><td>0.0</td><td>28.0</td><td>0.0</td><td>28.0</td><td>McDonald's</td></tr><tr><td>Diet Coke (Small)</td><td>0</td><td>0.0</td><td>0.0</td><td>0.0</td><td>0.0</td><td>McDonald's</td></tr><tr><td>Diet Coke (Medium)</td><td>0</td><td>0.0</td><td>0.0</td><td>0.0</td><td>0.0</td><td>McDonald's</td></tr><tr><td>Diet Coke (Large)</td><td>0</td><td>0.0</td><td>0.0</td><td>0.0</td><td>0.0</td><td>McDonald's</td></tr><tr><td>Diet Coke (Child)</td><td>0</td><td>0.0</td><td>0.0</td><td>0.0</td><td>0.0</td><td>McDonald's</td></tr><tr><td>Dr Pepper (Small)</td><td>140</td><td>0.0</td><td>35.0</td><td>0.0</td><td>37.0</td><td>McDonald's</td></tr><tr><td>Dr Pepper (Medium)</td><td>190</td><td>0.0</td><td>51.0</td><td>0.0</td><td>53.0</td><td>McDonald's</td></tr><tr><td>Dr Pepper (Large)</td><td>270</td><td>0.0</td><td>70.0</td><td>0.0</td><td>72.0</td><td>McDonald's</td></tr><tr><td>Dr Pepper (Child)</td><td>100</td><td>0.0</td><td>26.0</td><td>0.0</td><td>27.0</td><td>McDonald's</td></tr><tr><td>Diet Dr Pepper (Small)</td><td>0</td><td>0.0</td><td>0.0</td><td>2.0</td><td>0.0</td><td>McDonald's</td></tr><tr><td>Diet Dr Pepper (Medium)</td><td>0</td><td>0.0</td><td>0.0</td><td>3.0</td><td>0.0</td><td>McDonald's</td></tr><tr><td>Diet Dr Pepper (Large)</td><td>0</td><td>0.0</td><td>0.0</td><td>4.0</td><td>0.0</td><td>McDonald's</td></tr><tr><td>Diet Dr Pepper (Child)</td><td>0</td><td>0.0</td><td>0.0</td><td>1.0</td><td>0.0</td><td>McDonald's</td></tr><tr><td>Sprite (Small)</td><td>140</td><td>0.0</td><td>37.0</td><td>0.0</td><td>37.0</td><td>McDonald's</td></tr><tr><td>Sprite (Medium)</td><td>200</td><td>0.0</td><td>54.0</td><td>0.0</td><td>54.0</td><td>McDonald's</td></tr><tr><td>Sprite (Large)</td><td>280</td><td>0.0</td><td>74.0</td><td>0.0</td><td>74.0</td><td>McDonald's</td></tr><tr><td>Sprite (Child)</td><td>100</td><td>0.0</td><td>27.0</td><td>0.0</td><td>27.0</td><td>McDonald's</td></tr><tr><td>1% Low Fat Milk Jug</td><td>100</td><td>2.5</td><td>12.0</td><td>8.0</td><td>12.0</td><td>McDonald's</td></tr><tr><td>Fat Free Chocolate Milk Jug</td><td>130</td><td>0.0</td><td>22.0</td><td>9.0</td><td>23.0</td><td>McDonald's</td></tr><tr><td>Minute Maid 100% Apple Juice Box</td><td>80</td><td>0.0</td><td>19.0</td><td>0.0</td><td>21.0</td><td>McDonald's</td></tr><tr><td>Minute Maid Orange Juice (Small)</td><td>150</td><td>0.0</td><td>30.0</td><td>2.0</td><td>34.0</td><td>McDonald's</td></tr><tr><td>Minute Maid Orange Juice (Medium)</td><td>190</td><td>0.0</td><td>39.0</td><td>3.0</td><td>44.0</td><td>McDonald's</td></tr><tr><td>Minute Maid Orange Juice (Large)</td><td>280</td><td>0.0</td><td>58.0</td><td>4.0</td><td>65.0</td><td>McDonald's</td></tr><tr><td>Dasani Water Bottle</td><td>0</td><td>0.0</td><td>0.0</td><td>0.0</td><td>0.0</td><td>McDonald's</td></tr><tr><td>Iced Tea (Small)</td><td>0</td><td>0.0</td><td>0.0</td><td>0.0</td><td>0.0</td><td>McDonald's</td></tr><tr><td>Iced Tea (Medium)</td><td>0</td><td>0.0</td><td>0.0</td><td>0.0</td><td>0.0</td><td>McDonald's</td></tr><tr><td>Iced Tea (Large)</td><td>0</td><td>0.0</td><td>0.0</td><td>0.0</td><td>0.0</td><td>McDonald's</td></tr><tr><td>Iced Tea (Child)</td><td>0</td><td>0.0</td><td>0.0</td><td>0.0</td><td>0.0</td><td>McDonald's</td></tr><tr><td>Sweet Tea (Small)</td><td>150</td><td>0.0</td><td>36.0</td><td>1.0</td><td>36.0</td><td>McDonald's</td></tr><tr><td>Sweet Tea (Medium)</td><td>180</td><td>0.0</td><td>45.0</td><td>1.0</td><td>45.0</td><td>McDonald's</td></tr><tr><td>Sweet Tea (Large)</td><td>220</td><td>0.0</td><td>54.0</td><td>1.0</td><td>54.0</td><td>McDonald's</td></tr><tr><td>Sweet Tea (Child)</td><td>110</td><td>0.0</td><td>27.0</td><td>0.0</td><td>27.0</td><td>McDonald's</td></tr><tr><td>Coffee (Small)</td><td>0</td><td>0.0</td><td>0.0</td><td>0.0</td><td>0.0</td><td>McDonald's</td></tr><tr><td>Coffee (Medium)</td><td>0</td><td>0.0</td><td>0.0</td><td>0.0</td><td>0.0</td><td>McDonald's</td></tr><tr><td>Coffee (Large)</td><td>0</td><td>0.0</td><td>0.0</td><td>0.0</td><td>0.0</td><td>McDonald's</td></tr><tr><td>Latte (Small)</td><td>170</td><td>9.0</td><td>12.0</td><td>9.0</td><td>15.0</td><td>McDonald's</td></tr><tr><td>Latte (Medium)</td><td>210</td><td>10.0</td><td>15.0</td><td>11.0</td><td>18.0</td><td>McDonald's</td></tr><tr><td>Latte (Large)</td><td>280</td><td>14.0</td><td>20.0</td><td>15.0</td><td>24.0</td><td>McDonald's</td></tr><tr><td>Caramel Latte (Small)</td><td>270</td><td>9.0</td><td>38.0</td><td>9.0</td><td>40.0</td><td>McDonald's</td></tr><tr><td>Caramel Latte (Medium)</td><td>340</td><td>10.0</td><td>48.0</td><td>11.0</td><td>50.0</td><td>McDonald's</td></tr><tr><td>Caramel Latte (Large)</td><td>430</td><td>14.0</td><td>59.0</td><td>15.0</td><td>62.0</td><td>McDonald's</td></tr><tr><td>Hazelnut Latte (Small)</td><td>270</td><td>9.0</td><td>38.0</td><td>9.0</td><td>40.0</td><td>McDonald's</td></tr><tr><td>Hazelnut Latte (Medium)</td><td>330</td><td>10.0</td><td>47.0</td><td>11.0</td><td>50.0</td><td>McDonald's</td></tr><tr><td>Hazelnut Latte (Large)</td><td>430</td><td>14.0</td><td>58.0</td><td>15.0</td><td>62.0</td><td>McDonald's</td></tr><tr><td>French Vanilla Latte (Small)</td><td>260</td><td>9.0</td><td>36.0</td><td>9.0</td><td>38.0</td><td>McDonald's</td></tr><tr><td>French Vanilla Latte (Medium)</td><td>330</td><td>10.0</td><td>45.0</td><td>11.0</td><td>48.0</td><td>McDonald's</td></tr><tr><td>French Vanilla Latte (Large)</td><td>420</td><td>14.0</td><td>56.0</td><td>15.0</td><td>60.0</td><td>McDonald's</td></tr><tr><td>Latte with Sugar Free French Vanilla Syrup (Small)</td><td>210</td><td>9.0</td><td>12.0</td><td>9.0</td><td>24.0</td><td>McDonald's</td></tr><tr><td>Latte with Sugar Free French Vanilla Syrup (Medium)</td><td>260</td><td>10.0</td><td>15.0</td><td>12.0</td><td>29.0</td><td>McDonald's</td></tr><tr><td>Latte with Sugar Free French Vanilla Syrup (Large)</td><td>330</td><td>14.0</td><td>20.0</td><td>15.0</td><td>37.0</td><td>McDonald's</td></tr><tr><td>Nonfat Latte (Small)</td><td>100</td><td>0.0</td><td>13.0</td><td>10.0</td><td>15.0</td><td>McDonald's</td></tr><tr><td>Nonfat Latte (Medium)</td><td>130</td><td>0.0</td><td>16.0</td><td>12.0</td><td>19.0</td><td>McDonald's</td></tr><tr><td>Nonfat Latte (Large)</td><td>170</td><td>0.5</td><td>21.0</td><td>16.0</td><td>25.0</td><td>McDonald's</td></tr><tr><td>Nonfat Caramel Latte (Small)</td><td>200</td><td>0.0</td><td>39.0</td><td>10.0</td><td>41.0</td><td>McDonald's</td></tr><tr><td>Nonfat Caramel Latte (Medium)</td><td>250</td><td>0.0</td><td>48.0</td><td>12.0</td><td>51.0</td><td>McDonald's</td></tr><tr><td>Nonfat Caramel Latte (Large)</td><td>310</td><td>0.5</td><td>59.0</td><td>16.0</td><td>63.0</td><td>McDonald's</td></tr><tr><td>Nonfat Hazelnut Latte (Small)</td><td>200</td><td>0.0</td><td>38.0</td><td>10.0</td><td>40.0</td><td>McDonald's</td></tr><tr><td>Nonfat Hazelnut Latte (Medium)</td><td>250</td><td>0.0</td><td>48.0</td><td>12.0</td><td>51.0</td><td>McDonald's</td></tr><tr><td>Nonfat Hazelnut Latte (Large)</td><td>310</td><td>0.5</td><td>59.0</td><td>16.0</td><td>63.0</td><td>McDonald's</td></tr><tr><td>Nonfat French Vanilla Latte (Small)</td><td>190</td><td>0.0</td><td>37.0</td><td>10.0</td><td>39.0</td><td>McDonald's</td></tr><tr><td>Nonfat French Vanilla Latte (Medium)</td><td>240</td><td>0.0</td><td>46.0</td><td>12.0</td><td>49.0</td><td>McDonald's</td></tr><tr><td>Nonfat French Vanilla Latte (Large)</td><td>300</td><td>0.5</td><td>56.0</td><td>16.0</td><td>60.0</td><td>McDonald's</td></tr><tr><td>Nonfat Latte with Sugar Free French Vanilla Syrup (Small)</td><td>140</td><td>0.0</td><td>13.0</td><td>10.0</td><td>24.0</td><td>McDonald's</td></tr><tr><td>Nonfat Latte with Sugar Free French Vanilla Syrup (Medium)</td><td>170</td><td>0.0</td><td>16.0</td><td>12.0</td><td>30.0</td><td>McDonald's</td></tr><tr><td>Nonfat Latte with Sugar Free French Vanilla Syrup (Large)</td><td>220</td><td>0.5</td><td>21.0</td><td>16.0</td><td>38.0</td><td>McDonald's</td></tr><tr><td>Mocha (Small)</td><td>340</td><td>11.0</td><td>42.0</td><td>10.0</td><td>49.0</td><td>McDonald's</td></tr><tr><td>Mocha (Medium)</td><td>410</td><td>14.0</td><td>53.0</td><td>13.0</td><td>60.0</td><td>McDonald's</td></tr><tr><td>Mocha (Large)</td><td>500</td><td>17.0</td><td>63.0</td><td>16.0</td><td>72.0</td><td>McDonald's</td></tr><tr><td>Mocha with Nonfat Milk (Small)</td><td>270</td><td>3.5</td><td>43.0</td><td>11.0</td><td>49.0</td><td>McDonald's</td></tr><tr><td>Mocha with Nonfat Milk (Medium)</td><td>330</td><td>3.5</td><td>53.0</td><td>13.0</td><td>60.0</td><td>McDonald's</td></tr><tr><td>Mocha with Nonfat Milk (Large)</td><td>390</td><td>4.0</td><td>64.0</td><td>17.0</td><td>73.0</td><td>McDonald's</td></tr><tr><td>Caramel Mocha (Small)</td><td>320</td><td>11.0</td><td>40.0</td><td>10.0</td><td>45.0</td><td>McDonald's</td></tr><tr><td>Caramel Mocha (Medium)</td><td>390</td><td>14.0</td><td>50.0</td><td>12.0</td><td>55.0</td><td>McDonald's</td></tr><tr><td>Caramel Mocha (Large)</td><td>480</td><td>17.0</td><td>60.0</td><td>16.0</td><td>66.0</td><td>McDonald's</td></tr><tr><td>Nonfat Caramel Mocha (Small)</td><td>250</td><td>3.5</td><td>41.0</td><td>10.0</td><td>45.0</td><td>McDonald's</td></tr><tr><td>Nonfat Caramel Mocha (Medium)</td><td>310</td><td>3.5</td><td>51.0</td><td>13.0</td><td>56.0</td><td>McDonald's</td></tr><tr><td>Nonfat Caramel Mocha (Large)</td><td>370</td><td>3.5</td><td>61.0</td><td>17.0</td><td>67.0</td><td>McDonald's</td></tr><tr><td>Hot Chocolate (Small)</td><td>360</td><td>13.0</td><td>45.0</td><td>11.0</td><td>50.0</td><td>McDonald's</td></tr><tr><td>Hot Chocolate (Medium)</td><td>440</td><td>16.0</td><td>56.0</td><td>14.0</td><td>61.0</td><td>McDonald's</td></tr><tr><td>Hot Chocolate (Large)</td><td>540</td><td>20.0</td><td>68.0</td><td>17.0</td><td>73.0</td><td>McDonald's</td></tr><tr><td>Hot Chocolate with Nonfat Milk (Small)</td><td>280</td><td>3.5</td><td>46.0</td><td>12.0</td><td>50.0</td><td>McDonald's</td></tr><tr><td>Hot Chocolate with Nonfat Milk (Medium)</td><td>340</td><td>3.5</td><td>57.0</td><td>14.0</td><td>61.0</td><td>McDonald's</td></tr><tr><td>Hot Chocolate with Nonfat Milk (Large)</td><td>400</td><td>3.5</td><td>69.0</td><td>19.0</td><td>74.0</td><td>McDonald's</td></tr><tr><td>Regular Iced Coffee (Small)</td><td>140</td><td>4.5</td><td>22.0</td><td>1.0</td><td>23.0</td><td>McDonald's</td></tr><tr><td>Regular Iced Coffee (Medium)</td><td>190</td><td>7.0</td><td>30.0</td><td>1.0</td><td>31.0</td><td>McDonald's</td></tr><tr><td>Regular Iced Coffee (Large)</td><td>270</td><td>9.0</td><td>45.0</td><td>2.0</td><td>47.0</td><td>McDonald's</td></tr><tr><td>Caramel Iced Coffee (Small)</td><td>130</td><td>4.5</td><td>21.0</td><td>1.0</td><td>22.0</td><td>McDonald's</td></tr><tr><td>Caramel Iced Coffee (Medium)</td><td>180</td><td>7.0</td><td>28.0</td><td>1.0</td><td>29.0</td><td>McDonald's</td></tr><tr><td>Caramel Iced Coffee (Large)</td><td>260</td><td>9.0</td><td>42.0</td><td>2.0</td><td>43.0</td><td>McDonald's</td></tr><tr><td>Hazelnut Iced Coffee (Small)</td><td>130</td><td>4.5</td><td>20.0</td><td>1.0</td><td>21.0</td><td>McDonald's</td></tr><tr><td>Hazelnut Iced Coffee (Medium)</td><td>180</td><td>7.0</td><td>28.0</td><td>1.0</td><td>29.0</td><td>McDonald's</td></tr><tr><td>Hazelnut Iced Coffee (Large)</td><td>250</td><td>9.0</td><td>41.0</td><td>2.0</td><td>43.0</td><td>McDonald's</td></tr><tr><td>French Vanilla Iced Coffee (Small)</td><td>120</td><td>4.5</td><td>19.0</td><td>1.0</td><td>20.0</td><td>McDonald's</td></tr><tr><td>French Vanilla Iced Coffee (Medium)</td><td>170</td><td>7.0</td><td>26.0</td><td>1.0</td><td>27.0</td><td>McDonald's</td></tr><tr><td>French Vanilla Iced Coffee (Large)</td><td>240</td><td>9.0</td><td>39.0</td><td>2.0</td><td>41.0</td><td>McDonald's</td></tr><tr><td>Iced Coffee with Sugar Free French Vanilla Syrup (Small)</td><td>80</td><td>4.5</td><td>1.0</td><td>1.0</td><td>9.0</td><td>McDonald's</td></tr><tr><td>Iced Coffee with Sugar Free French Vanilla Syrup (Medium)</td><td>120</td><td>7.0</td><td>2.0</td><td>1.0</td><td>12.0</td><td>McDonald's</td></tr><tr><td>Iced Coffee with Sugar Free French Vanilla Syrup (Large)</td><td>160</td><td>9.0</td><td>2.0</td><td>2.0</td><td>18.0</td><td>McDonald's</td></tr><tr><td>Iced Mocha (Small)</td><td>290</td><td>11.0</td><td>34.0</td><td>8.0</td><td>41.0</td><td>McDonald's</td></tr><tr><td>Iced Mocha (Medium)</td><td>350</td><td>13.0</td><td>43.0</td><td>9.0</td><td>50.0</td><td>McDonald's</td></tr><tr><td>Iced Mocha (Large)</td><td>480</td><td>16.0</td><td>62.0</td><td>14.0</td><td>70.0</td><td>McDonald's</td></tr><tr><td>Iced Mocha with Nonfat Milk (Small)</td><td>240</td><td>5.0</td><td>35.0</td><td>8.0</td><td>41.0</td><td>McDonald's</td></tr><tr><td>Iced Mocha with Nonfat Milk (Medium)</td><td>290</td><td>5.0</td><td>43.0</td><td>10.0</td><td>50.0</td><td>McDonald's</td></tr><tr><td>Iced Mocha with Nonfat Milk (Large)</td><td>390</td><td>6.0</td><td>62.0</td><td>14.0</td><td>71.0</td><td>McDonald's</td></tr><tr><td>Iced Caramel Mocha (Small)</td><td>280</td><td>11.0</td><td>33.0</td><td>8.0</td><td>38.0</td><td>McDonald's</td></tr><tr><td>Iced Caramel Mocha (Medium)</td><td>340</td><td>13.0</td><td>41.0</td><td>9.0</td><td>46.0</td><td>McDonald's</td></tr><tr><td>Iced Caramel Mocha (Large)</td><td>460</td><td>16.0</td><td>59.0</td><td>13.0</td><td>65.0</td><td>McDonald's</td></tr><tr><td>Iced Nonfat Caramel Mocha (Small)</td><td>230</td><td>5.0</td><td>33.0</td><td>8.0</td><td>38.0</td><td>McDonald's</td></tr><tr><td>Iced Nonfat Caramel Mocha (Medium)</td><td>270</td><td>5.0</td><td>41.0</td><td>10.0</td><td>47.0</td><td>McDonald's</td></tr><tr><td>Iced Nonfat Caramel Mocha (Large)</td><td>370</td><td>6.0</td><td>59.0</td><td>14.0</td><td>65.0</td><td>McDonald's</td></tr><tr><td>Frapp� Mocha (Small)</td><td>450</td><td>18.0</td><td>57.0</td><td>7.0</td><td>65.0</td><td>McDonald's</td></tr><tr><td>Frapp� Mocha (Medium)</td><td>550</td><td>22.0</td><td>71.0</td><td>9.0</td><td>80.0</td><td>McDonald's</td></tr><tr><td>Frapp� Mocha (Large)</td><td>670</td><td>26.0</td><td>88.0</td><td>11.0</td><td>98.0</td><td>McDonald's</td></tr><tr><td>Frapp� Caramel (Small)</td><td>450</td><td>19.0</td><td>57.0</td><td>7.0</td><td>64.0</td><td>McDonald's</td></tr><tr><td>Frapp� Caramel (Medium)</td><td>550</td><td>23.0</td><td>71.0</td><td>9.0</td><td>79.0</td><td>McDonald's</td></tr><tr><td>Frapp� Caramel (Large)</td><td>670</td><td>27.0</td><td>88.0</td><td>11.0</td><td>96.0</td><td>McDonald's</td></tr><tr><td>Frapp� Chocolate Chip (Small)</td><td>530</td><td>23.0</td><td>67.0</td><td>8.0</td><td>76.0</td><td>McDonald's</td></tr><tr><td>Frapp� Chocolate Chip (Medium)</td><td>630</td><td>26.0</td><td>81.0</td><td>9.0</td><td>91.0</td><td>McDonald's</td></tr><tr><td>Frapp� Chocolate Chip (Large)</td><td>760</td><td>31.0</td><td>99.0</td><td>12.0</td><td>111.0</td><td>McDonald's</td></tr><tr><td>Blueberry Pomegranate Smoothie (Small)</td><td>220</td><td>0.5</td><td>44.0</td><td>2.0</td><td>50.0</td><td>McDonald's</td></tr><tr><td>Blueberry Pomegranate Smoothie (Medium)</td><td>260</td><td>1.0</td><td>54.0</td><td>3.0</td><td>62.0</td><td>McDonald's</td></tr><tr><td>Blueberry Pomegranate Smoothie (Large)</td><td>340</td><td>1.0</td><td>70.0</td><td>4.0</td><td>79.0</td><td>McDonald's</td></tr><tr><td>Strawberry Banana Smoothie (Small)</td><td>210</td><td>0.5</td><td>44.0</td><td>3.0</td><td>47.0</td><td>McDonald's</td></tr><tr><td>Strawberry Banana Smoothie (Medium)</td><td>250</td><td>1.0</td><td>54.0</td><td>4.0</td><td>58.0</td><td>McDonald's</td></tr><tr><td>Strawberry Banana Smoothie (Large)</td><td>330</td><td>1.0</td><td>70.0</td><td>5.0</td><td>74.0</td><td>McDonald's</td></tr><tr><td>Mango Pineapple Smoothie (Small)</td><td>210</td><td>0.5</td><td>46.0</td><td>2.0</td><td>50.0</td><td>McDonald's</td></tr><tr><td>Mango Pineapple Smoothie (Medium)</td><td>260</td><td>1.0</td><td>56.0</td><td>3.0</td><td>61.0</td><td>McDonald's</td></tr><tr><td>Mango Pineapple Smoothie (Large)</td><td>340</td><td>1.0</td><td>72.0</td><td>4.0</td><td>78.0</td><td>McDonald's</td></tr><tr><td>Vanilla Shake (Small)</td><td>530</td><td>15.0</td><td>63.0</td><td>11.0</td><td>86.0</td><td>McDonald's</td></tr><tr><td>Vanilla Shake (Medium)</td><td>660</td><td>19.0</td><td>81.0</td><td>14.0</td><td>109.0</td><td>McDonald's</td></tr><tr><td>Vanilla Shake (Large)</td><td>820</td><td>23.0</td><td>101.0</td><td>18.0</td><td>135.0</td><td>McDonald's</td></tr><tr><td>Strawberry Shake (Small)</td><td>550</td><td>16.0</td><td>79.0</td><td>12.0</td><td>90.0</td><td>McDonald's</td></tr><tr><td>Strawberry Shake (Medium)</td><td>690</td><td>20.0</td><td>100.0</td><td>15.0</td><td>114.0</td><td>McDonald's</td></tr><tr><td>Strawberry Shake (Large)</td><td>850</td><td>24.0</td><td>123.0</td><td>18.0</td><td>140.0</td><td>McDonald's</td></tr><tr><td>Chocolate Shake (Small)</td><td>560</td><td>16.0</td><td>77.0</td><td>12.0</td><td>91.0</td><td>McDonald's</td></tr><tr><td>Chocolate Shake (Medium)</td><td>700</td><td>20.0</td><td>97.0</td><td>15.0</td><td>114.0</td><td>McDonald's</td></tr><tr><td>Chocolate Shake (Large)</td><td>850</td><td>23.0</td><td>120.0</td><td>19.0</td><td>141.0</td><td>McDonald's</td></tr><tr><td>Shamrock Shake (Medium)</td><td>660</td><td>19.0</td><td>93.0</td><td>14.0</td><td>109.0</td><td>McDonald's</td></tr><tr><td>Shamrock Shake (Large)</td><td>820</td><td>23.0</td><td>115.0</td><td>18.0</td><td>135.0</td><td>McDonald's</td></tr><tr><td>McFlurry with M&M�s Candies (Small)</td><td>650</td><td>23.0</td><td>89.0</td><td>13.0</td><td>96.0</td><td>McDonald's</td></tr><tr><td>McFlurry with M&M�s Candies (Medium)</td><td>930</td><td>33.0</td><td>128.0</td><td>20.0</td><td>139.0</td><td>McDonald's</td></tr><tr><td>McFlurry with M&M�s Candies (Snack)</td><td>430</td><td>15.0</td><td>59.0</td><td>9.0</td><td>64.0</td><td>McDonald's</td></tr><tr><td>McFlurry with Oreo Cookies (Small)</td><td>510</td><td>17.0</td><td>64.0</td><td>12.0</td><td>80.0</td><td>McDonald's</td></tr><tr><td>McFlurry with Oreo Cookies (Medium)</td><td>690</td><td>23.0</td><td>85.0</td><td>15.0</td><td>106.0</td><td>McDonald's</td></tr><tr><td>McFlurry with Oreo Cookies (Snack)</td><td>340</td><td>11.0</td><td>43.0</td><td>8.0</td><td>53.0</td><td>McDonald's</td></tr><tr><td>McFlurry with Reese's Peanut Butter Cups (Medium)</td><td>810</td><td>32.0</td><td>103.0</td><td>21.0</td><td>114.0</td><td>McDonald's</td></tr><tr><td>McFlurry with Reese's Peanut Butter Cups (Snack)</td><td>410</td><td>16.0</td><td>51.0</td><td>10.0</td><td>57.0</td><td>McDonald's</td></tr></tbody></table></div>"
      ]
     },
     "metadata": {
      "application/vnd.databricks.v1+output": {
       "addedWidgets": {},
       "aggData": [],
       "aggError": "",
       "aggOverflow": false,
       "aggSchema": [],
       "aggSeriesLimitReached": false,
       "aggType": "",
       "arguments": {},
       "columnCustomDisplayInfos": {},
       "data": [
        [
         "Egg McMuffin",
         300,
         13.0,
         3.0,
         17.0,
         31.0,
         "McDonald's"
        ],
        [
         "Egg White Delight",
         250,
         8.0,
         3.0,
         18.0,
         30.0,
         "McDonald's"
        ],
        [
         "Sausage McMuffin",
         370,
         23.0,
         2.0,
         14.0,
         29.0,
         "McDonald's"
        ],
        [
         "Sausage McMuffin with Egg",
         450,
         28.0,
         2.0,
         21.0,
         30.0,
         "McDonald's"
        ],
        [
         "Sausage McMuffin with Egg Whites",
         400,
         23.0,
         2.0,
         21.0,
         30.0,
         "McDonald's"
        ],
        [
         "Steak & Egg McMuffin",
         430,
         23.0,
         3.0,
         26.0,
         31.0,
         "McDonald's"
        ],
        [
         "Bacon, Egg & Cheese Biscuit (Regular Biscuit)",
         460,
         26.0,
         3.0,
         19.0,
         38.0,
         "McDonald's"
        ],
        [
         "Bacon, Egg & Cheese Biscuit (Large Biscuit)",
         520,
         30.0,
         4.0,
         19.0,
         43.0,
         "McDonald's"
        ],
        [
         "Bacon, Egg & Cheese Biscuit with Egg Whites (Regular Biscuit)",
         410,
         20.0,
         3.0,
         20.0,
         36.0,
         "McDonald's"
        ],
        [
         "Bacon, Egg & Cheese Biscuit with Egg Whites (Large Biscuit)",
         470,
         25.0,
         4.0,
         20.0,
         42.0,
         "McDonald's"
        ],
        [
         "Sausage Biscuit (Regular Biscuit)",
         430,
         27.0,
         2.0,
         11.0,
         34.0,
         "McDonald's"
        ],
        [
         "Sausage Biscuit (Large Biscuit)",
         480,
         31.0,
         3.0,
         11.0,
         39.0,
         "McDonald's"
        ],
        [
         "Sausage Biscuit with Egg (Regular Biscuit)",
         510,
         33.0,
         2.0,
         18.0,
         36.0,
         "McDonald's"
        ],
        [
         "Sausage Biscuit with Egg (Large Biscuit)",
         570,
         37.0,
         3.0,
         18.0,
         42.0,
         "McDonald's"
        ],
        [
         "Sausage Biscuit with Egg Whites (Regular Biscuit)",
         460,
         27.0,
         3.0,
         18.0,
         34.0,
         "McDonald's"
        ],
        [
         "Sausage Biscuit with Egg Whites (Large Biscuit)",
         520,
         32.0,
         3.0,
         18.0,
         40.0,
         "McDonald's"
        ],
        [
         "Southern Style Chicken Biscuit (Regular Biscuit)",
         410,
         20.0,
         3.0,
         17.0,
         41.0,
         "McDonald's"
        ],
        [
         "Southern Style Chicken Biscuit (Large Biscuit)",
         470,
         24.0,
         4.0,
         17.0,
         46.0,
         "McDonald's"
        ],
        [
         "Steak & Egg Biscuit (Regular Biscuit)",
         540,
         32.0,
         3.0,
         25.0,
         38.0,
         "McDonald's"
        ],
        [
         "Bacon, Egg & Cheese McGriddles",
         460,
         21.0,
         15.0,
         19.0,
         48.0,
         "McDonald's"
        ],
        [
         "Bacon, Egg & Cheese McGriddles with Egg Whites",
         400,
         15.0,
         16.0,
         20.0,
         47.0,
         "McDonald's"
        ],
        [
         "Sausage McGriddles",
         420,
         22.0,
         15.0,
         11.0,
         44.0,
         "McDonald's"
        ],
        [
         "Sausage, Egg & Cheese McGriddles",
         550,
         31.0,
         15.0,
         20.0,
         48.0,
         "McDonald's"
        ],
        [
         "Sausage, Egg & Cheese McGriddles with Egg Whites",
         500,
         26.0,
         15.0,
         21.0,
         46.0,
         "McDonald's"
        ],
        [
         "Bacon, Egg & Cheese Bagel",
         620,
         31.0,
         7.0,
         30.0,
         57.0,
         "McDonald's"
        ],
        [
         "Bacon, Egg & Cheese Bagel with Egg Whites",
         570,
         25.0,
         8.0,
         30.0,
         55.0,
         "McDonald's"
        ],
        [
         "Steak, Egg & Cheese Bagel",
         670,
         35.0,
         7.0,
         33.0,
         56.0,
         "McDonald's"
        ],
        [
         "Big Breakfast (Regular Biscuit)",
         740,
         48.0,
         3.0,
         28.0,
         51.0,
         "McDonald's"
        ],
        [
         "Big Breakfast (Large Biscuit)",
         800,
         52.0,
         3.0,
         28.0,
         56.0,
         "McDonald's"
        ],
        [
         "Big Breakfast with Egg Whites (Regular Biscuit)",
         640,
         37.0,
         3.0,
         26.0,
         50.0,
         "McDonald's"
        ],
        [
         "Big Breakfast with Egg Whites (Large Biscuit)",
         690,
         41.0,
         4.0,
         26.0,
         55.0,
         "McDonald's"
        ],
        [
         "Big Breakfast with Hotcakes (Regular Biscuit)",
         1090,
         56.0,
         17.0,
         36.0,
         111.0,
         "McDonald's"
        ],
        [
         "Big Breakfast with Hotcakes (Large Biscuit)",
         1150,
         60.0,
         17.0,
         36.0,
         116.0,
         "McDonald's"
        ],
        [
         "Big Breakfast with Hotcakes and Egg Whites (Regular Biscuit)",
         990,
         46.0,
         17.0,
         35.0,
         110.0,
         "McDonald's"
        ],
        [
         "Big Breakfast with Hotcakes and Egg Whites (Large Biscuit)",
         1050,
         50.0,
         18.0,
         35.0,
         115.0,
         "McDonald's"
        ],
        [
         "Hotcakes",
         350,
         9.0,
         14.0,
         8.0,
         60.0,
         "McDonald's"
        ],
        [
         "Hotcakes and Sausage",
         520,
         24.0,
         14.0,
         15.0,
         61.0,
         "McDonald's"
        ],
        [
         "Sausage Burrito",
         300,
         16.0,
         2.0,
         12.0,
         26.0,
         "McDonald's"
        ],
        [
         "Hash Brown",
         150,
         9.0,
         0.0,
         1.0,
         15.0,
         "McDonald's"
        ],
        [
         "Cinnamon Melts",
         460,
         19.0,
         32.0,
         6.0,
         66.0,
         "McDonald's"
        ],
        [
         "Fruit & Maple Oatmeal",
         290,
         4.0,
         32.0,
         5.0,
         58.0,
         "McDonald's"
        ],
        [
         "Fruit & Maple Oatmeal without Brown Sugar",
         260,
         4.0,
         18.0,
         5.0,
         49.0,
         "McDonald's"
        ],
        [
         "Big Mac",
         530,
         27.0,
         9.0,
         24.0,
         47.0,
         "McDonald's"
        ],
        [
         "Quarter Pounder with Cheese",
         520,
         26.0,
         10.0,
         30.0,
         41.0,
         "McDonald's"
        ],
        [
         "Quarter Pounder with Bacon & Cheese",
         600,
         29.0,
         12.0,
         37.0,
         48.0,
         "McDonald's"
        ],
        [
         "Quarter Pounder with Bacon Habanero Ranch",
         610,
         31.0,
         10.0,
         37.0,
         46.0,
         "McDonald's"
        ],
        [
         "Quarter Pounder Deluxe",
         540,
         27.0,
         9.0,
         29.0,
         45.0,
         "McDonald's"
        ],
        [
         "Double Quarter Pounder with Cheese",
         750,
         43.0,
         10.0,
         48.0,
         42.0,
         "McDonald's"
        ],
        [
         "Hamburger",
         240,
         8.0,
         6.0,
         12.0,
         32.0,
         "McDonald's"
        ],
        [
         "Cheeseburger",
         290,
         11.0,
         7.0,
         15.0,
         33.0,
         "McDonald's"
        ],
        [
         "Double Cheeseburger",
         430,
         21.0,
         7.0,
         24.0,
         35.0,
         "McDonald's"
        ],
        [
         "Bacon Clubhouse Burger",
         720,
         40.0,
         14.0,
         39.0,
         51.0,
         "McDonald's"
        ],
        [
         "McDouble",
         380,
         17.0,
         7.0,
         22.0,
         34.0,
         "McDonald's"
        ],
        [
         "Bacon McDouble",
         440,
         22.0,
         7.0,
         27.0,
         35.0,
         "McDonald's"
        ],
        [
         "Daily Double",
         430,
         22.0,
         7.0,
         22.0,
         34.0,
         "McDonald's"
        ],
        [
         "Jalape�o Double",
         430,
         23.0,
         6.0,
         22.0,
         35.0,
         "McDonald's"
        ],
        [
         "McRib",
         500,
         26.0,
         11.0,
         22.0,
         44.0,
         "McDonald's"
        ],
        [
         "Premium Crispy Chicken Classic Sandwich",
         510,
         22.0,
         10.0,
         24.0,
         55.0,
         "McDonald's"
        ],
        [
         "Premium Grilled Chicken Classic Sandwich",
         350,
         9.0,
         8.0,
         28.0,
         42.0,
         "McDonald's"
        ],
        [
         "Premium Crispy Chicken Club Sandwich",
         670,
         33.0,
         11.0,
         36.0,
         58.0,
         "McDonald's"
        ],
        [
         "Premium Grilled Chicken Club Sandwich",
         510,
         20.0,
         9.0,
         40.0,
         44.0,
         "McDonald's"
        ],
        [
         "Premium Crispy Chicken Ranch BLT Sandwich",
         610,
         28.0,
         11.0,
         32.0,
         57.0,
         "McDonald's"
        ],
        [
         "Premium Grilled Chicken Ranch BLT Sandwich",
         450,
         15.0,
         9.0,
         36.0,
         43.0,
         "McDonald's"
        ],
        [
         "Bacon Clubhouse Crispy Chicken Sandwich",
         750,
         38.0,
         16.0,
         36.0,
         65.0,
         "McDonald's"
        ],
        [
         "Bacon Clubhouse Grilled Chicken Sandwich",
         590,
         25.0,
         14.0,
         40.0,
         51.0,
         "McDonald's"
        ],
        [
         "Southern Style Crispy Chicken Sandwich",
         430,
         19.0,
         7.0,
         21.0,
         43.0,
         "McDonald's"
        ],
        [
         "McChicken",
         360,
         16.0,
         5.0,
         14.0,
         40.0,
         "McDonald's"
        ],
        [
         "Bacon Cheddar McChicken",
         480,
         24.0,
         6.0,
         22.0,
         43.0,
         "McDonald's"
        ],
        [
         "Bacon Buffalo Ranch McChicken",
         430,
         21.0,
         6.0,
         20.0,
         41.0,
         "McDonald's"
        ],
        [
         "Buffalo Ranch McChicken",
         360,
         16.0,
         5.0,
         14.0,
         40.0,
         "McDonald's"
        ],
        [
         "Premium McWrap Chicken & Bacon (Crispy Chicken)",
         630,
         32.0,
         7.0,
         32.0,
         56.0,
         "McDonald's"
        ],
        [
         "Premium McWrap Chicken & Bacon (Grilled Chicken)",
         480,
         19.0,
         6.0,
         36.0,
         42.0,
         "McDonald's"
        ],
        [
         "Premium McWrap Chicken & Ranch (Crispy Chicken)",
         610,
         31.0,
         8.0,
         27.0,
         56.0,
         "McDonald's"
        ],
        [
         "Premium McWrap Chicken & Ranch (Grilled Chicken)",
         450,
         18.0,
         6.0,
         30.0,
         42.0,
         "McDonald's"
        ],
        [
         "Premium McWrap Southwest Chicken (Crispy Chicken)",
         670,
         33.0,
         12.0,
         27.0,
         68.0,
         "McDonald's"
        ],
        [
         "Premium McWrap Southwest Chicken (Grilled Chicken)",
         520,
         20.0,
         10.0,
         31.0,
         55.0,
         "McDonald's"
        ],
        [
         "Premium McWrap Chicken Sweet Chili (Crispy Chicken)",
         540,
         23.0,
         14.0,
         23.0,
         61.0,
         "McDonald's"
        ],
        [
         "Premium McWrap Chicken Sweet Chili (Grilled Chicken)",
         380,
         10.0,
         12.0,
         27.0,
         47.0,
         "McDonald's"
        ],
        [
         "Chicken McNuggets (4 piece)",
         190,
         12.0,
         0.0,
         9.0,
         12.0,
         "McDonald's"
        ],
        [
         "Chicken McNuggets (6 piece)",
         280,
         18.0,
         0.0,
         13.0,
         18.0,
         "McDonald's"
        ],
        [
         "Chicken McNuggets (10 piece)",
         470,
         30.0,
         0.0,
         22.0,
         30.0,
         "McDonald's"
        ],
        [
         "Chicken McNuggets (20 piece)",
         940,
         59.0,
         0.0,
         44.0,
         59.0,
         "McDonald's"
        ],
        [
         "Chicken McNuggets (40 piece)",
         1880,
         118.0,
         1.0,
         87.0,
         118.0,
         "McDonald's"
        ],
        [
         "Filet-O-Fish",
         390,
         19.0,
         5.0,
         15.0,
         39.0,
         "McDonald's"
        ],
        [
         "Premium Bacon Ranch Salad (without Chicken)",
         140,
         7.0,
         4.0,
         9.0,
         10.0,
         "McDonald's"
        ],
        [
         "Premium Bacon Ranch Salad with Crispy Chicken",
         380,
         21.0,
         5.0,
         25.0,
         22.0,
         "McDonald's"
        ],
        [
         "Premium Bacon Ranch Salad with Grilled Chicken",
         220,
         8.0,
         4.0,
         29.0,
         8.0,
         "McDonald's"
        ],
        [
         "Premium Southwest Salad (without Chicken)",
         140,
         4.5,
         6.0,
         6.0,
         20.0,
         "McDonald's"
        ],
        [
         "Premium Southwest Salad with Crispy Chicken",
         450,
         22.0,
         12.0,
         23.0,
         42.0,
         "McDonald's"
        ],
        [
         "Premium Southwest Salad with Grilled Chicken",
         290,
         8.0,
         10.0,
         27.0,
         28.0,
         "McDonald's"
        ],
        [
         "Chipotle BBQ Snack Wrap (Crispy Chicken)",
         340,
         15.0,
         8.0,
         14.0,
         37.0,
         "McDonald's"
        ],
        [
         "Chipotle BBQ Snack Wrap (Grilled Chicken)",
         260,
         8.0,
         7.0,
         16.0,
         30.0,
         "McDonald's"
        ],
        [
         "Honey Mustard Snack Wrap (Crispy Chicken)",
         330,
         15.0,
         3.0,
         14.0,
         34.0,
         "McDonald's"
        ],
        [
         "Honey Mustard Snack Wrap (Grilled Chicken)",
         250,
         8.0,
         2.0,
         16.0,
         27.0,
         "McDonald's"
        ],
        [
         "Ranch Snack Wrap (Crispy Chicken)",
         360,
         20.0,
         3.0,
         15.0,
         32.0,
         "McDonald's"
        ],
        [
         "Ranch Snack Wrap (Grilled Chicken)",
         280,
         13.0,
         2.0,
         16.0,
         25.0,
         "McDonald's"
        ],
        [
         "Small French Fries",
         230,
         11.0,
         0.0,
         2.0,
         30.0,
         "McDonald's"
        ],
        [
         "Medium French Fries",
         340,
         16.0,
         0.0,
         4.0,
         44.0,
         "McDonald's"
        ],
        [
         "Large French Fries",
         510,
         24.0,
         0.0,
         6.0,
         67.0,
         "McDonald's"
        ],
        [
         "Kids French Fries",
         110,
         5.0,
         0.0,
         1.0,
         15.0,
         "McDonald's"
        ],
        [
         "Side Salad",
         20,
         0.0,
         2.0,
         1.0,
         4.0,
         "McDonald's"
        ],
        [
         "Apple Slices",
         15,
         0.0,
         3.0,
         0.0,
         4.0,
         "McDonald's"
        ],
        [
         "Fruit 'n Yogurt Parfait",
         150,
         2.0,
         23.0,
         4.0,
         30.0,
         "McDonald's"
        ],
        [
         "Baked Apple Pie",
         250,
         13.0,
         13.0,
         2.0,
         32.0,
         "McDonald's"
        ],
        [
         "Chocolate Chip Cookie",
         160,
         8.0,
         15.0,
         2.0,
         21.0,
         "McDonald's"
        ],
        [
         "Oatmeal Raisin Cookie",
         150,
         6.0,
         13.0,
         2.0,
         22.0,
         "McDonald's"
        ],
        [
         "Kids Ice Cream Cone",
         45,
         1.5,
         6.0,
         1.0,
         7.0,
         "McDonald's"
        ],
        [
         "Hot Fudge Sundae",
         330,
         9.0,
         48.0,
         8.0,
         53.0,
         "McDonald's"
        ],
        [
         "Hot Caramel Sundae",
         340,
         8.0,
         43.0,
         7.0,
         60.0,
         "McDonald's"
        ],
        [
         "Strawberry Sundae",
         280,
         6.0,
         45.0,
         6.0,
         49.0,
         "McDonald's"
        ],
        [
         "Coca-Cola Classic (Small)",
         140,
         0.0,
         39.0,
         0.0,
         39.0,
         "McDonald's"
        ],
        [
         "Coca-Cola Classic (Medium)",
         200,
         0.0,
         55.0,
         0.0,
         55.0,
         "McDonald's"
        ],
        [
         "Coca-Cola Classic (Large)",
         280,
         0.0,
         76.0,
         0.0,
         76.0,
         "McDonald's"
        ],
        [
         "Coca-Cola Classic (Child)",
         100,
         0.0,
         28.0,
         0.0,
         28.0,
         "McDonald's"
        ],
        [
         "Diet Coke (Small)",
         0,
         0.0,
         0.0,
         0.0,
         0.0,
         "McDonald's"
        ],
        [
         "Diet Coke (Medium)",
         0,
         0.0,
         0.0,
         0.0,
         0.0,
         "McDonald's"
        ],
        [
         "Diet Coke (Large)",
         0,
         0.0,
         0.0,
         0.0,
         0.0,
         "McDonald's"
        ],
        [
         "Diet Coke (Child)",
         0,
         0.0,
         0.0,
         0.0,
         0.0,
         "McDonald's"
        ],
        [
         "Dr Pepper (Small)",
         140,
         0.0,
         35.0,
         0.0,
         37.0,
         "McDonald's"
        ],
        [
         "Dr Pepper (Medium)",
         190,
         0.0,
         51.0,
         0.0,
         53.0,
         "McDonald's"
        ],
        [
         "Dr Pepper (Large)",
         270,
         0.0,
         70.0,
         0.0,
         72.0,
         "McDonald's"
        ],
        [
         "Dr Pepper (Child)",
         100,
         0.0,
         26.0,
         0.0,
         27.0,
         "McDonald's"
        ],
        [
         "Diet Dr Pepper (Small)",
         0,
         0.0,
         0.0,
         2.0,
         0.0,
         "McDonald's"
        ],
        [
         "Diet Dr Pepper (Medium)",
         0,
         0.0,
         0.0,
         3.0,
         0.0,
         "McDonald's"
        ],
        [
         "Diet Dr Pepper (Large)",
         0,
         0.0,
         0.0,
         4.0,
         0.0,
         "McDonald's"
        ],
        [
         "Diet Dr Pepper (Child)",
         0,
         0.0,
         0.0,
         1.0,
         0.0,
         "McDonald's"
        ],
        [
         "Sprite (Small)",
         140,
         0.0,
         37.0,
         0.0,
         37.0,
         "McDonald's"
        ],
        [
         "Sprite (Medium)",
         200,
         0.0,
         54.0,
         0.0,
         54.0,
         "McDonald's"
        ],
        [
         "Sprite (Large)",
         280,
         0.0,
         74.0,
         0.0,
         74.0,
         "McDonald's"
        ],
        [
         "Sprite (Child)",
         100,
         0.0,
         27.0,
         0.0,
         27.0,
         "McDonald's"
        ],
        [
         "1% Low Fat Milk Jug",
         100,
         2.5,
         12.0,
         8.0,
         12.0,
         "McDonald's"
        ],
        [
         "Fat Free Chocolate Milk Jug",
         130,
         0.0,
         22.0,
         9.0,
         23.0,
         "McDonald's"
        ],
        [
         "Minute Maid 100% Apple Juice Box",
         80,
         0.0,
         19.0,
         0.0,
         21.0,
         "McDonald's"
        ],
        [
         "Minute Maid Orange Juice (Small)",
         150,
         0.0,
         30.0,
         2.0,
         34.0,
         "McDonald's"
        ],
        [
         "Minute Maid Orange Juice (Medium)",
         190,
         0.0,
         39.0,
         3.0,
         44.0,
         "McDonald's"
        ],
        [
         "Minute Maid Orange Juice (Large)",
         280,
         0.0,
         58.0,
         4.0,
         65.0,
         "McDonald's"
        ],
        [
         "Dasani Water Bottle",
         0,
         0.0,
         0.0,
         0.0,
         0.0,
         "McDonald's"
        ],
        [
         "Iced Tea (Small)",
         0,
         0.0,
         0.0,
         0.0,
         0.0,
         "McDonald's"
        ],
        [
         "Iced Tea (Medium)",
         0,
         0.0,
         0.0,
         0.0,
         0.0,
         "McDonald's"
        ],
        [
         "Iced Tea (Large)",
         0,
         0.0,
         0.0,
         0.0,
         0.0,
         "McDonald's"
        ],
        [
         "Iced Tea (Child)",
         0,
         0.0,
         0.0,
         0.0,
         0.0,
         "McDonald's"
        ],
        [
         "Sweet Tea (Small)",
         150,
         0.0,
         36.0,
         1.0,
         36.0,
         "McDonald's"
        ],
        [
         "Sweet Tea (Medium)",
         180,
         0.0,
         45.0,
         1.0,
         45.0,
         "McDonald's"
        ],
        [
         "Sweet Tea (Large)",
         220,
         0.0,
         54.0,
         1.0,
         54.0,
         "McDonald's"
        ],
        [
         "Sweet Tea (Child)",
         110,
         0.0,
         27.0,
         0.0,
         27.0,
         "McDonald's"
        ],
        [
         "Coffee (Small)",
         0,
         0.0,
         0.0,
         0.0,
         0.0,
         "McDonald's"
        ],
        [
         "Coffee (Medium)",
         0,
         0.0,
         0.0,
         0.0,
         0.0,
         "McDonald's"
        ],
        [
         "Coffee (Large)",
         0,
         0.0,
         0.0,
         0.0,
         0.0,
         "McDonald's"
        ],
        [
         "Latte (Small)",
         170,
         9.0,
         12.0,
         9.0,
         15.0,
         "McDonald's"
        ],
        [
         "Latte (Medium)",
         210,
         10.0,
         15.0,
         11.0,
         18.0,
         "McDonald's"
        ],
        [
         "Latte (Large)",
         280,
         14.0,
         20.0,
         15.0,
         24.0,
         "McDonald's"
        ],
        [
         "Caramel Latte (Small)",
         270,
         9.0,
         38.0,
         9.0,
         40.0,
         "McDonald's"
        ],
        [
         "Caramel Latte (Medium)",
         340,
         10.0,
         48.0,
         11.0,
         50.0,
         "McDonald's"
        ],
        [
         "Caramel Latte (Large)",
         430,
         14.0,
         59.0,
         15.0,
         62.0,
         "McDonald's"
        ],
        [
         "Hazelnut Latte (Small)",
         270,
         9.0,
         38.0,
         9.0,
         40.0,
         "McDonald's"
        ],
        [
         "Hazelnut Latte (Medium)",
         330,
         10.0,
         47.0,
         11.0,
         50.0,
         "McDonald's"
        ],
        [
         "Hazelnut Latte (Large)",
         430,
         14.0,
         58.0,
         15.0,
         62.0,
         "McDonald's"
        ],
        [
         "French Vanilla Latte (Small)",
         260,
         9.0,
         36.0,
         9.0,
         38.0,
         "McDonald's"
        ],
        [
         "French Vanilla Latte (Medium)",
         330,
         10.0,
         45.0,
         11.0,
         48.0,
         "McDonald's"
        ],
        [
         "French Vanilla Latte (Large)",
         420,
         14.0,
         56.0,
         15.0,
         60.0,
         "McDonald's"
        ],
        [
         "Latte with Sugar Free French Vanilla Syrup (Small)",
         210,
         9.0,
         12.0,
         9.0,
         24.0,
         "McDonald's"
        ],
        [
         "Latte with Sugar Free French Vanilla Syrup (Medium)",
         260,
         10.0,
         15.0,
         12.0,
         29.0,
         "McDonald's"
        ],
        [
         "Latte with Sugar Free French Vanilla Syrup (Large)",
         330,
         14.0,
         20.0,
         15.0,
         37.0,
         "McDonald's"
        ],
        [
         "Nonfat Latte (Small)",
         100,
         0.0,
         13.0,
         10.0,
         15.0,
         "McDonald's"
        ],
        [
         "Nonfat Latte (Medium)",
         130,
         0.0,
         16.0,
         12.0,
         19.0,
         "McDonald's"
        ],
        [
         "Nonfat Latte (Large)",
         170,
         0.5,
         21.0,
         16.0,
         25.0,
         "McDonald's"
        ],
        [
         "Nonfat Caramel Latte (Small)",
         200,
         0.0,
         39.0,
         10.0,
         41.0,
         "McDonald's"
        ],
        [
         "Nonfat Caramel Latte (Medium)",
         250,
         0.0,
         48.0,
         12.0,
         51.0,
         "McDonald's"
        ],
        [
         "Nonfat Caramel Latte (Large)",
         310,
         0.5,
         59.0,
         16.0,
         63.0,
         "McDonald's"
        ],
        [
         "Nonfat Hazelnut Latte (Small)",
         200,
         0.0,
         38.0,
         10.0,
         40.0,
         "McDonald's"
        ],
        [
         "Nonfat Hazelnut Latte (Medium)",
         250,
         0.0,
         48.0,
         12.0,
         51.0,
         "McDonald's"
        ],
        [
         "Nonfat Hazelnut Latte (Large)",
         310,
         0.5,
         59.0,
         16.0,
         63.0,
         "McDonald's"
        ],
        [
         "Nonfat French Vanilla Latte (Small)",
         190,
         0.0,
         37.0,
         10.0,
         39.0,
         "McDonald's"
        ],
        [
         "Nonfat French Vanilla Latte (Medium)",
         240,
         0.0,
         46.0,
         12.0,
         49.0,
         "McDonald's"
        ],
        [
         "Nonfat French Vanilla Latte (Large)",
         300,
         0.5,
         56.0,
         16.0,
         60.0,
         "McDonald's"
        ],
        [
         "Nonfat Latte with Sugar Free French Vanilla Syrup (Small)",
         140,
         0.0,
         13.0,
         10.0,
         24.0,
         "McDonald's"
        ],
        [
         "Nonfat Latte with Sugar Free French Vanilla Syrup (Medium)",
         170,
         0.0,
         16.0,
         12.0,
         30.0,
         "McDonald's"
        ],
        [
         "Nonfat Latte with Sugar Free French Vanilla Syrup (Large)",
         220,
         0.5,
         21.0,
         16.0,
         38.0,
         "McDonald's"
        ],
        [
         "Mocha (Small)",
         340,
         11.0,
         42.0,
         10.0,
         49.0,
         "McDonald's"
        ],
        [
         "Mocha (Medium)",
         410,
         14.0,
         53.0,
         13.0,
         60.0,
         "McDonald's"
        ],
        [
         "Mocha (Large)",
         500,
         17.0,
         63.0,
         16.0,
         72.0,
         "McDonald's"
        ],
        [
         "Mocha with Nonfat Milk (Small)",
         270,
         3.5,
         43.0,
         11.0,
         49.0,
         "McDonald's"
        ],
        [
         "Mocha with Nonfat Milk (Medium)",
         330,
         3.5,
         53.0,
         13.0,
         60.0,
         "McDonald's"
        ],
        [
         "Mocha with Nonfat Milk (Large)",
         390,
         4.0,
         64.0,
         17.0,
         73.0,
         "McDonald's"
        ],
        [
         "Caramel Mocha (Small)",
         320,
         11.0,
         40.0,
         10.0,
         45.0,
         "McDonald's"
        ],
        [
         "Caramel Mocha (Medium)",
         390,
         14.0,
         50.0,
         12.0,
         55.0,
         "McDonald's"
        ],
        [
         "Caramel Mocha (Large)",
         480,
         17.0,
         60.0,
         16.0,
         66.0,
         "McDonald's"
        ],
        [
         "Nonfat Caramel Mocha (Small)",
         250,
         3.5,
         41.0,
         10.0,
         45.0,
         "McDonald's"
        ],
        [
         "Nonfat Caramel Mocha (Medium)",
         310,
         3.5,
         51.0,
         13.0,
         56.0,
         "McDonald's"
        ],
        [
         "Nonfat Caramel Mocha (Large)",
         370,
         3.5,
         61.0,
         17.0,
         67.0,
         "McDonald's"
        ],
        [
         "Hot Chocolate (Small)",
         360,
         13.0,
         45.0,
         11.0,
         50.0,
         "McDonald's"
        ],
        [
         "Hot Chocolate (Medium)",
         440,
         16.0,
         56.0,
         14.0,
         61.0,
         "McDonald's"
        ],
        [
         "Hot Chocolate (Large)",
         540,
         20.0,
         68.0,
         17.0,
         73.0,
         "McDonald's"
        ],
        [
         "Hot Chocolate with Nonfat Milk (Small)",
         280,
         3.5,
         46.0,
         12.0,
         50.0,
         "McDonald's"
        ],
        [
         "Hot Chocolate with Nonfat Milk (Medium)",
         340,
         3.5,
         57.0,
         14.0,
         61.0,
         "McDonald's"
        ],
        [
         "Hot Chocolate with Nonfat Milk (Large)",
         400,
         3.5,
         69.0,
         19.0,
         74.0,
         "McDonald's"
        ],
        [
         "Regular Iced Coffee (Small)",
         140,
         4.5,
         22.0,
         1.0,
         23.0,
         "McDonald's"
        ],
        [
         "Regular Iced Coffee (Medium)",
         190,
         7.0,
         30.0,
         1.0,
         31.0,
         "McDonald's"
        ],
        [
         "Regular Iced Coffee (Large)",
         270,
         9.0,
         45.0,
         2.0,
         47.0,
         "McDonald's"
        ],
        [
         "Caramel Iced Coffee (Small)",
         130,
         4.5,
         21.0,
         1.0,
         22.0,
         "McDonald's"
        ],
        [
         "Caramel Iced Coffee (Medium)",
         180,
         7.0,
         28.0,
         1.0,
         29.0,
         "McDonald's"
        ],
        [
         "Caramel Iced Coffee (Large)",
         260,
         9.0,
         42.0,
         2.0,
         43.0,
         "McDonald's"
        ],
        [
         "Hazelnut Iced Coffee (Small)",
         130,
         4.5,
         20.0,
         1.0,
         21.0,
         "McDonald's"
        ],
        [
         "Hazelnut Iced Coffee (Medium)",
         180,
         7.0,
         28.0,
         1.0,
         29.0,
         "McDonald's"
        ],
        [
         "Hazelnut Iced Coffee (Large)",
         250,
         9.0,
         41.0,
         2.0,
         43.0,
         "McDonald's"
        ],
        [
         "French Vanilla Iced Coffee (Small)",
         120,
         4.5,
         19.0,
         1.0,
         20.0,
         "McDonald's"
        ],
        [
         "French Vanilla Iced Coffee (Medium)",
         170,
         7.0,
         26.0,
         1.0,
         27.0,
         "McDonald's"
        ],
        [
         "French Vanilla Iced Coffee (Large)",
         240,
         9.0,
         39.0,
         2.0,
         41.0,
         "McDonald's"
        ],
        [
         "Iced Coffee with Sugar Free French Vanilla Syrup (Small)",
         80,
         4.5,
         1.0,
         1.0,
         9.0,
         "McDonald's"
        ],
        [
         "Iced Coffee with Sugar Free French Vanilla Syrup (Medium)",
         120,
         7.0,
         2.0,
         1.0,
         12.0,
         "McDonald's"
        ],
        [
         "Iced Coffee with Sugar Free French Vanilla Syrup (Large)",
         160,
         9.0,
         2.0,
         2.0,
         18.0,
         "McDonald's"
        ],
        [
         "Iced Mocha (Small)",
         290,
         11.0,
         34.0,
         8.0,
         41.0,
         "McDonald's"
        ],
        [
         "Iced Mocha (Medium)",
         350,
         13.0,
         43.0,
         9.0,
         50.0,
         "McDonald's"
        ],
        [
         "Iced Mocha (Large)",
         480,
         16.0,
         62.0,
         14.0,
         70.0,
         "McDonald's"
        ],
        [
         "Iced Mocha with Nonfat Milk (Small)",
         240,
         5.0,
         35.0,
         8.0,
         41.0,
         "McDonald's"
        ],
        [
         "Iced Mocha with Nonfat Milk (Medium)",
         290,
         5.0,
         43.0,
         10.0,
         50.0,
         "McDonald's"
        ],
        [
         "Iced Mocha with Nonfat Milk (Large)",
         390,
         6.0,
         62.0,
         14.0,
         71.0,
         "McDonald's"
        ],
        [
         "Iced Caramel Mocha (Small)",
         280,
         11.0,
         33.0,
         8.0,
         38.0,
         "McDonald's"
        ],
        [
         "Iced Caramel Mocha (Medium)",
         340,
         13.0,
         41.0,
         9.0,
         46.0,
         "McDonald's"
        ],
        [
         "Iced Caramel Mocha (Large)",
         460,
         16.0,
         59.0,
         13.0,
         65.0,
         "McDonald's"
        ],
        [
         "Iced Nonfat Caramel Mocha (Small)",
         230,
         5.0,
         33.0,
         8.0,
         38.0,
         "McDonald's"
        ],
        [
         "Iced Nonfat Caramel Mocha (Medium)",
         270,
         5.0,
         41.0,
         10.0,
         47.0,
         "McDonald's"
        ],
        [
         "Iced Nonfat Caramel Mocha (Large)",
         370,
         6.0,
         59.0,
         14.0,
         65.0,
         "McDonald's"
        ],
        [
         "Frapp� Mocha (Small)",
         450,
         18.0,
         57.0,
         7.0,
         65.0,
         "McDonald's"
        ],
        [
         "Frapp� Mocha (Medium)",
         550,
         22.0,
         71.0,
         9.0,
         80.0,
         "McDonald's"
        ],
        [
         "Frapp� Mocha (Large)",
         670,
         26.0,
         88.0,
         11.0,
         98.0,
         "McDonald's"
        ],
        [
         "Frapp� Caramel (Small)",
         450,
         19.0,
         57.0,
         7.0,
         64.0,
         "McDonald's"
        ],
        [
         "Frapp� Caramel (Medium)",
         550,
         23.0,
         71.0,
         9.0,
         79.0,
         "McDonald's"
        ],
        [
         "Frapp� Caramel (Large)",
         670,
         27.0,
         88.0,
         11.0,
         96.0,
         "McDonald's"
        ],
        [
         "Frapp� Chocolate Chip (Small)",
         530,
         23.0,
         67.0,
         8.0,
         76.0,
         "McDonald's"
        ],
        [
         "Frapp� Chocolate Chip (Medium)",
         630,
         26.0,
         81.0,
         9.0,
         91.0,
         "McDonald's"
        ],
        [
         "Frapp� Chocolate Chip (Large)",
         760,
         31.0,
         99.0,
         12.0,
         111.0,
         "McDonald's"
        ],
        [
         "Blueberry Pomegranate Smoothie (Small)",
         220,
         0.5,
         44.0,
         2.0,
         50.0,
         "McDonald's"
        ],
        [
         "Blueberry Pomegranate Smoothie (Medium)",
         260,
         1.0,
         54.0,
         3.0,
         62.0,
         "McDonald's"
        ],
        [
         "Blueberry Pomegranate Smoothie (Large)",
         340,
         1.0,
         70.0,
         4.0,
         79.0,
         "McDonald's"
        ],
        [
         "Strawberry Banana Smoothie (Small)",
         210,
         0.5,
         44.0,
         3.0,
         47.0,
         "McDonald's"
        ],
        [
         "Strawberry Banana Smoothie (Medium)",
         250,
         1.0,
         54.0,
         4.0,
         58.0,
         "McDonald's"
        ],
        [
         "Strawberry Banana Smoothie (Large)",
         330,
         1.0,
         70.0,
         5.0,
         74.0,
         "McDonald's"
        ],
        [
         "Mango Pineapple Smoothie (Small)",
         210,
         0.5,
         46.0,
         2.0,
         50.0,
         "McDonald's"
        ],
        [
         "Mango Pineapple Smoothie (Medium)",
         260,
         1.0,
         56.0,
         3.0,
         61.0,
         "McDonald's"
        ],
        [
         "Mango Pineapple Smoothie (Large)",
         340,
         1.0,
         72.0,
         4.0,
         78.0,
         "McDonald's"
        ],
        [
         "Vanilla Shake (Small)",
         530,
         15.0,
         63.0,
         11.0,
         86.0,
         "McDonald's"
        ],
        [
         "Vanilla Shake (Medium)",
         660,
         19.0,
         81.0,
         14.0,
         109.0,
         "McDonald's"
        ],
        [
         "Vanilla Shake (Large)",
         820,
         23.0,
         101.0,
         18.0,
         135.0,
         "McDonald's"
        ],
        [
         "Strawberry Shake (Small)",
         550,
         16.0,
         79.0,
         12.0,
         90.0,
         "McDonald's"
        ],
        [
         "Strawberry Shake (Medium)",
         690,
         20.0,
         100.0,
         15.0,
         114.0,
         "McDonald's"
        ],
        [
         "Strawberry Shake (Large)",
         850,
         24.0,
         123.0,
         18.0,
         140.0,
         "McDonald's"
        ],
        [
         "Chocolate Shake (Small)",
         560,
         16.0,
         77.0,
         12.0,
         91.0,
         "McDonald's"
        ],
        [
         "Chocolate Shake (Medium)",
         700,
         20.0,
         97.0,
         15.0,
         114.0,
         "McDonald's"
        ],
        [
         "Chocolate Shake (Large)",
         850,
         23.0,
         120.0,
         19.0,
         141.0,
         "McDonald's"
        ],
        [
         "Shamrock Shake (Medium)",
         660,
         19.0,
         93.0,
         14.0,
         109.0,
         "McDonald's"
        ],
        [
         "Shamrock Shake (Large)",
         820,
         23.0,
         115.0,
         18.0,
         135.0,
         "McDonald's"
        ],
        [
         "McFlurry with M&M�s Candies (Small)",
         650,
         23.0,
         89.0,
         13.0,
         96.0,
         "McDonald's"
        ],
        [
         "McFlurry with M&M�s Candies (Medium)",
         930,
         33.0,
         128.0,
         20.0,
         139.0,
         "McDonald's"
        ],
        [
         "McFlurry with M&M�s Candies (Snack)",
         430,
         15.0,
         59.0,
         9.0,
         64.0,
         "McDonald's"
        ],
        [
         "McFlurry with Oreo Cookies (Small)",
         510,
         17.0,
         64.0,
         12.0,
         80.0,
         "McDonald's"
        ],
        [
         "McFlurry with Oreo Cookies (Medium)",
         690,
         23.0,
         85.0,
         15.0,
         106.0,
         "McDonald's"
        ],
        [
         "McFlurry with Oreo Cookies (Snack)",
         340,
         11.0,
         43.0,
         8.0,
         53.0,
         "McDonald's"
        ],
        [
         "McFlurry with Reese's Peanut Butter Cups (Medium)",
         810,
         32.0,
         103.0,
         21.0,
         114.0,
         "McDonald's"
        ],
        [
         "McFlurry with Reese's Peanut Butter Cups (Snack)",
         410,
         16.0,
         51.0,
         10.0,
         57.0,
         "McDonald's"
        ]
       ],
       "datasetInfos": [],
       "dbfsResultPath": null,
       "isJsonSchema": true,
       "metadata": {},
       "overflow": false,
       "plotOptions": {
        "customPlotOptions": {},
        "displayType": "table",
        "pivotAggregation": null,
        "pivotColumns": null,
        "xColumns": null,
        "yColumns": null
       },
       "removedWidgets": [],
       "schema": [
        {
         "metadata": "{}",
         "name": "Food_Item",
         "type": "\"string\""
        },
        {
         "metadata": "{}",
         "name": "Calories",
         "type": "\"integer\""
        },
        {
         "metadata": "{}",
         "name": "Fat",
         "type": "\"float\""
        },
        {
         "metadata": "{}",
         "name": "Sugars",
         "type": "\"float\""
        },
        {
         "metadata": "{}",
         "name": "Protein",
         "type": "\"float\""
        },
        {
         "metadata": "{}",
         "name": "Carbs",
         "type": "\"float\""
        },
        {
         "metadata": "{}",
         "name": "Brand",
         "type": "\"string\""
        }
       ],
       "type": "table"
      }
     },
     "output_type": "display_data"
    }
   ],
   "source": [
    "mcd_df = mcd_df.withColumn(\"Brand\", lit(\"McDonald's\"))\n",
    "mcd_df.display()"
   ]
  },
  {
   "cell_type": "markdown",
   "metadata": {
    "application/vnd.databricks.v1+cell": {
     "cellMetadata": {},
     "inputWidgets": {},
     "nuid": "ead00624-873e-4110-a30d-432d5c49f348",
     "showTitle": false,
     "tableResultSettingsMap": {},
     "title": ""
    }
   },
   "source": [
    "##### Selecting Columns for StarBucks"
   ]
  },
  {
   "cell_type": "markdown",
   "metadata": {
    "application/vnd.databricks.v1+cell": {
     "cellMetadata": {},
     "inputWidgets": {},
     "nuid": "e7ee4373-8834-456b-90db-c31085036b92",
     "showTitle": false,
     "tableResultSettingsMap": {},
     "title": ""
    }
   },
   "source": [
    "##### Select from starbucks_menu_nutrition_food"
   ]
  },
  {
   "cell_type": "code",
   "execution_count": 0,
   "metadata": {
    "application/vnd.databricks.v1+cell": {
     "cellMetadata": {
      "byteLimit": 2048000,
      "rowLimit": 10000
     },
     "inputWidgets": {},
     "nuid": "f6dcb2be-8f29-4122-a0d4-f210c3ac9ea3",
     "showTitle": false,
     "tableResultSettingsMap": {},
     "title": ""
    }
   },
   "outputs": [],
   "source": [
    "sb_nutF_df = sb_nutF_df.select(\n",
    "    col(\"_c0\").alias(\"Food_Item\"),  # If the first column is unnamed, use _c0\n",
    "    col(\"Calories\").cast(\"int\"),\n",
    "    col(\"Fat (g)\").alias(\"Fat\").cast(\"float\"),\n",
    "    col(\"`Carb. (g)`\").alias(\"Carbs\").cast(\"float\"), # Use backticks (``) around column names if they contain spaces or dots\n",
    "    col(\"Protein (g)\").alias(\"Protein\").cast(\"float\")\n",
    ").dropna()"
   ]
  },
  {
   "cell_type": "markdown",
   "metadata": {
    "application/vnd.databricks.v1+cell": {
     "cellMetadata": {},
     "inputWidgets": {},
     "nuid": "9ae7b9a4-979f-4420-a949-7ed28c4ce09f",
     "showTitle": false,
     "tableResultSettingsMap": {},
     "title": ""
    }
   },
   "source": [
    "##### Select from starbucks_menu_nutrition_drinks"
   ]
  },
  {
   "cell_type": "code",
   "execution_count": 0,
   "metadata": {
    "application/vnd.databricks.v1+cell": {
     "cellMetadata": {
      "byteLimit": 2048000,
      "rowLimit": 10000
     },
     "inputWidgets": {},
     "nuid": "6ba85972-c276-422c-8d54-a20f375088da",
     "showTitle": false,
     "tableResultSettingsMap": {},
     "title": ""
    }
   },
   "outputs": [],
   "source": [
    "sb_nutD_df = sb_nutD_df.select(\n",
    "    col(\"_c0\").alias(\"Food_Item\"),\n",
    "    col(\"Calories\").cast(\"int\"),\n",
    "    col(\"Fat (g)\").alias(\"Fat\").cast(\"float\"),\n",
    "    col(\"`Carb. (g)`\").alias(\"Carbs\").cast(\"float\"),\n",
    "    col(\"Protein\").cast(\"float\")\n",
    ").dropna()"
   ]
  },
  {
   "cell_type": "markdown",
   "metadata": {
    "application/vnd.databricks.v1+cell": {
     "cellMetadata": {},
     "inputWidgets": {},
     "nuid": "f54808db-dd37-46b5-8eed-25a0255ecf1e",
     "showTitle": false,
     "tableResultSettingsMap": {},
     "title": ""
    }
   },
   "source": [
    "#### combining both sb_nutD_df & sb_nutF_df \n",
    "#### and Add new column Brand with data Starbucks"
   ]
  },
  {
   "cell_type": "code",
   "execution_count": 0,
   "metadata": {
    "application/vnd.databricks.v1+cell": {
     "cellMetadata": {
      "byteLimit": 2048000,
      "rowLimit": 10000
     },
     "inputWidgets": {},
     "nuid": "b753a38d-2c05-4e22-8ce1-809351edfb8d",
     "showTitle": false,
     "tableResultSettingsMap": {},
     "title": ""
    }
   },
   "outputs": [],
   "source": [
    "sb_df = sb_nutF_df.union(sb_nutD_df).withColumn(\"Brand\", lit(\"Starbucks\"))"
   ]
  },
  {
   "cell_type": "code",
   "execution_count": 0,
   "metadata": {
    "application/vnd.databricks.v1+cell": {
     "cellMetadata": {
      "byteLimit": 2048000,
      "rowLimit": 10000
     },
     "inputWidgets": {},
     "nuid": "95751706-e050-40d3-834d-d0dbc3485f27",
     "showTitle": false,
     "tableResultSettingsMap": {},
     "title": ""
    }
   },
   "outputs": [],
   "source": [
    "sb_df = sb_df.withColumn(\"Sugars\", lit(None).cast(\"float\"))"
   ]
  },
  {
   "cell_type": "code",
   "execution_count": 0,
   "metadata": {
    "application/vnd.databricks.v1+cell": {
     "cellMetadata": {
      "byteLimit": 2048000,
      "rowLimit": 10000
     },
     "collapsed": true,
     "inputWidgets": {},
     "nuid": "9062594a-7747-4471-bdf4-1dc7299b742d",
     "showTitle": false,
     "tableResultSettingsMap": {},
     "title": ""
    }
   },
   "outputs": [
    {
     "output_type": "display_data",
     "data": {
      "text/html": [
       "<style scoped>\n",
       "  .table-result-container {\n",
       "    max-height: 300px;\n",
       "    overflow: auto;\n",
       "  }\n",
       "  table, th, td {\n",
       "    border: 1px solid black;\n",
       "    border-collapse: collapse;\n",
       "  }\n",
       "  th, td {\n",
       "    padding: 5px;\n",
       "  }\n",
       "  th {\n",
       "    text-align: left;\n",
       "  }\n",
       "</style><div class='table-result-container'><table class='table-result'><thead style='background-color: white'><tr><th>Food_Item</th><th>Calories</th><th>Fat</th><th>Sugars</th><th>Protein</th><th>Carbs</th><th>Brand</th></tr></thead><tbody><tr><td>Egg McMuffin</td><td>300</td><td>13.0</td><td>3.0</td><td>17.0</td><td>31.0</td><td>McDonald's</td></tr><tr><td>Egg White Delight</td><td>250</td><td>8.0</td><td>3.0</td><td>18.0</td><td>30.0</td><td>McDonald's</td></tr><tr><td>Sausage McMuffin</td><td>370</td><td>23.0</td><td>2.0</td><td>14.0</td><td>29.0</td><td>McDonald's</td></tr><tr><td>Sausage McMuffin with Egg</td><td>450</td><td>28.0</td><td>2.0</td><td>21.0</td><td>30.0</td><td>McDonald's</td></tr><tr><td>Sausage McMuffin with Egg Whites</td><td>400</td><td>23.0</td><td>2.0</td><td>21.0</td><td>30.0</td><td>McDonald's</td></tr><tr><td>Steak & Egg McMuffin</td><td>430</td><td>23.0</td><td>3.0</td><td>26.0</td><td>31.0</td><td>McDonald's</td></tr><tr><td>Bacon, Egg & Cheese Biscuit (Regular Biscuit)</td><td>460</td><td>26.0</td><td>3.0</td><td>19.0</td><td>38.0</td><td>McDonald's</td></tr><tr><td>Bacon, Egg & Cheese Biscuit (Large Biscuit)</td><td>520</td><td>30.0</td><td>4.0</td><td>19.0</td><td>43.0</td><td>McDonald's</td></tr><tr><td>Bacon, Egg & Cheese Biscuit with Egg Whites (Regular Biscuit)</td><td>410</td><td>20.0</td><td>3.0</td><td>20.0</td><td>36.0</td><td>McDonald's</td></tr><tr><td>Bacon, Egg & Cheese Biscuit with Egg Whites (Large Biscuit)</td><td>470</td><td>25.0</td><td>4.0</td><td>20.0</td><td>42.0</td><td>McDonald's</td></tr><tr><td>Sausage Biscuit (Regular Biscuit)</td><td>430</td><td>27.0</td><td>2.0</td><td>11.0</td><td>34.0</td><td>McDonald's</td></tr><tr><td>Sausage Biscuit (Large Biscuit)</td><td>480</td><td>31.0</td><td>3.0</td><td>11.0</td><td>39.0</td><td>McDonald's</td></tr><tr><td>Sausage Biscuit with Egg (Regular Biscuit)</td><td>510</td><td>33.0</td><td>2.0</td><td>18.0</td><td>36.0</td><td>McDonald's</td></tr><tr><td>Sausage Biscuit with Egg (Large Biscuit)</td><td>570</td><td>37.0</td><td>3.0</td><td>18.0</td><td>42.0</td><td>McDonald's</td></tr><tr><td>Sausage Biscuit with Egg Whites (Regular Biscuit)</td><td>460</td><td>27.0</td><td>3.0</td><td>18.0</td><td>34.0</td><td>McDonald's</td></tr><tr><td>Sausage Biscuit with Egg Whites (Large Biscuit)</td><td>520</td><td>32.0</td><td>3.0</td><td>18.0</td><td>40.0</td><td>McDonald's</td></tr><tr><td>Southern Style Chicken Biscuit (Regular Biscuit)</td><td>410</td><td>20.0</td><td>3.0</td><td>17.0</td><td>41.0</td><td>McDonald's</td></tr><tr><td>Southern Style Chicken Biscuit (Large Biscuit)</td><td>470</td><td>24.0</td><td>4.0</td><td>17.0</td><td>46.0</td><td>McDonald's</td></tr><tr><td>Steak & Egg Biscuit (Regular Biscuit)</td><td>540</td><td>32.0</td><td>3.0</td><td>25.0</td><td>38.0</td><td>McDonald's</td></tr><tr><td>Bacon, Egg & Cheese McGriddles</td><td>460</td><td>21.0</td><td>15.0</td><td>19.0</td><td>48.0</td><td>McDonald's</td></tr><tr><td>Bacon, Egg & Cheese McGriddles with Egg Whites</td><td>400</td><td>15.0</td><td>16.0</td><td>20.0</td><td>47.0</td><td>McDonald's</td></tr><tr><td>Sausage McGriddles</td><td>420</td><td>22.0</td><td>15.0</td><td>11.0</td><td>44.0</td><td>McDonald's</td></tr><tr><td>Sausage, Egg & Cheese McGriddles</td><td>550</td><td>31.0</td><td>15.0</td><td>20.0</td><td>48.0</td><td>McDonald's</td></tr><tr><td>Sausage, Egg & Cheese McGriddles with Egg Whites</td><td>500</td><td>26.0</td><td>15.0</td><td>21.0</td><td>46.0</td><td>McDonald's</td></tr><tr><td>Bacon, Egg & Cheese Bagel</td><td>620</td><td>31.0</td><td>7.0</td><td>30.0</td><td>57.0</td><td>McDonald's</td></tr><tr><td>Bacon, Egg & Cheese Bagel with Egg Whites</td><td>570</td><td>25.0</td><td>8.0</td><td>30.0</td><td>55.0</td><td>McDonald's</td></tr><tr><td>Steak, Egg & Cheese Bagel</td><td>670</td><td>35.0</td><td>7.0</td><td>33.0</td><td>56.0</td><td>McDonald's</td></tr><tr><td>Big Breakfast (Regular Biscuit)</td><td>740</td><td>48.0</td><td>3.0</td><td>28.0</td><td>51.0</td><td>McDonald's</td></tr><tr><td>Big Breakfast (Large Biscuit)</td><td>800</td><td>52.0</td><td>3.0</td><td>28.0</td><td>56.0</td><td>McDonald's</td></tr><tr><td>Big Breakfast with Egg Whites (Regular Biscuit)</td><td>640</td><td>37.0</td><td>3.0</td><td>26.0</td><td>50.0</td><td>McDonald's</td></tr><tr><td>Big Breakfast with Egg Whites (Large Biscuit)</td><td>690</td><td>41.0</td><td>4.0</td><td>26.0</td><td>55.0</td><td>McDonald's</td></tr><tr><td>Big Breakfast with Hotcakes (Regular Biscuit)</td><td>1090</td><td>56.0</td><td>17.0</td><td>36.0</td><td>111.0</td><td>McDonald's</td></tr><tr><td>Big Breakfast with Hotcakes (Large Biscuit)</td><td>1150</td><td>60.0</td><td>17.0</td><td>36.0</td><td>116.0</td><td>McDonald's</td></tr><tr><td>Big Breakfast with Hotcakes and Egg Whites (Regular Biscuit)</td><td>990</td><td>46.0</td><td>17.0</td><td>35.0</td><td>110.0</td><td>McDonald's</td></tr><tr><td>Big Breakfast with Hotcakes and Egg Whites (Large Biscuit)</td><td>1050</td><td>50.0</td><td>18.0</td><td>35.0</td><td>115.0</td><td>McDonald's</td></tr><tr><td>Hotcakes</td><td>350</td><td>9.0</td><td>14.0</td><td>8.0</td><td>60.0</td><td>McDonald's</td></tr><tr><td>Hotcakes and Sausage</td><td>520</td><td>24.0</td><td>14.0</td><td>15.0</td><td>61.0</td><td>McDonald's</td></tr><tr><td>Sausage Burrito</td><td>300</td><td>16.0</td><td>2.0</td><td>12.0</td><td>26.0</td><td>McDonald's</td></tr><tr><td>Hash Brown</td><td>150</td><td>9.0</td><td>0.0</td><td>1.0</td><td>15.0</td><td>McDonald's</td></tr><tr><td>Cinnamon Melts</td><td>460</td><td>19.0</td><td>32.0</td><td>6.0</td><td>66.0</td><td>McDonald's</td></tr><tr><td>Fruit & Maple Oatmeal</td><td>290</td><td>4.0</td><td>32.0</td><td>5.0</td><td>58.0</td><td>McDonald's</td></tr><tr><td>Fruit & Maple Oatmeal without Brown Sugar</td><td>260</td><td>4.0</td><td>18.0</td><td>5.0</td><td>49.0</td><td>McDonald's</td></tr><tr><td>Big Mac</td><td>530</td><td>27.0</td><td>9.0</td><td>24.0</td><td>47.0</td><td>McDonald's</td></tr><tr><td>Quarter Pounder with Cheese</td><td>520</td><td>26.0</td><td>10.0</td><td>30.0</td><td>41.0</td><td>McDonald's</td></tr><tr><td>Quarter Pounder with Bacon & Cheese</td><td>600</td><td>29.0</td><td>12.0</td><td>37.0</td><td>48.0</td><td>McDonald's</td></tr><tr><td>Quarter Pounder with Bacon Habanero Ranch</td><td>610</td><td>31.0</td><td>10.0</td><td>37.0</td><td>46.0</td><td>McDonald's</td></tr><tr><td>Quarter Pounder Deluxe</td><td>540</td><td>27.0</td><td>9.0</td><td>29.0</td><td>45.0</td><td>McDonald's</td></tr><tr><td>Double Quarter Pounder with Cheese</td><td>750</td><td>43.0</td><td>10.0</td><td>48.0</td><td>42.0</td><td>McDonald's</td></tr><tr><td>Hamburger</td><td>240</td><td>8.0</td><td>6.0</td><td>12.0</td><td>32.0</td><td>McDonald's</td></tr><tr><td>Cheeseburger</td><td>290</td><td>11.0</td><td>7.0</td><td>15.0</td><td>33.0</td><td>McDonald's</td></tr><tr><td>Double Cheeseburger</td><td>430</td><td>21.0</td><td>7.0</td><td>24.0</td><td>35.0</td><td>McDonald's</td></tr><tr><td>Bacon Clubhouse Burger</td><td>720</td><td>40.0</td><td>14.0</td><td>39.0</td><td>51.0</td><td>McDonald's</td></tr><tr><td>McDouble</td><td>380</td><td>17.0</td><td>7.0</td><td>22.0</td><td>34.0</td><td>McDonald's</td></tr><tr><td>Bacon McDouble</td><td>440</td><td>22.0</td><td>7.0</td><td>27.0</td><td>35.0</td><td>McDonald's</td></tr><tr><td>Daily Double</td><td>430</td><td>22.0</td><td>7.0</td><td>22.0</td><td>34.0</td><td>McDonald's</td></tr><tr><td>Jalape�o Double</td><td>430</td><td>23.0</td><td>6.0</td><td>22.0</td><td>35.0</td><td>McDonald's</td></tr><tr><td>McRib</td><td>500</td><td>26.0</td><td>11.0</td><td>22.0</td><td>44.0</td><td>McDonald's</td></tr><tr><td>Premium Crispy Chicken Classic Sandwich</td><td>510</td><td>22.0</td><td>10.0</td><td>24.0</td><td>55.0</td><td>McDonald's</td></tr><tr><td>Premium Grilled Chicken Classic Sandwich</td><td>350</td><td>9.0</td><td>8.0</td><td>28.0</td><td>42.0</td><td>McDonald's</td></tr><tr><td>Premium Crispy Chicken Club Sandwich</td><td>670</td><td>33.0</td><td>11.0</td><td>36.0</td><td>58.0</td><td>McDonald's</td></tr><tr><td>Premium Grilled Chicken Club Sandwich</td><td>510</td><td>20.0</td><td>9.0</td><td>40.0</td><td>44.0</td><td>McDonald's</td></tr><tr><td>Premium Crispy Chicken Ranch BLT Sandwich</td><td>610</td><td>28.0</td><td>11.0</td><td>32.0</td><td>57.0</td><td>McDonald's</td></tr><tr><td>Premium Grilled Chicken Ranch BLT Sandwich</td><td>450</td><td>15.0</td><td>9.0</td><td>36.0</td><td>43.0</td><td>McDonald's</td></tr><tr><td>Bacon Clubhouse Crispy Chicken Sandwich</td><td>750</td><td>38.0</td><td>16.0</td><td>36.0</td><td>65.0</td><td>McDonald's</td></tr><tr><td>Bacon Clubhouse Grilled Chicken Sandwich</td><td>590</td><td>25.0</td><td>14.0</td><td>40.0</td><td>51.0</td><td>McDonald's</td></tr><tr><td>Southern Style Crispy Chicken Sandwich</td><td>430</td><td>19.0</td><td>7.0</td><td>21.0</td><td>43.0</td><td>McDonald's</td></tr><tr><td>McChicken</td><td>360</td><td>16.0</td><td>5.0</td><td>14.0</td><td>40.0</td><td>McDonald's</td></tr><tr><td>Bacon Cheddar McChicken</td><td>480</td><td>24.0</td><td>6.0</td><td>22.0</td><td>43.0</td><td>McDonald's</td></tr><tr><td>Bacon Buffalo Ranch McChicken</td><td>430</td><td>21.0</td><td>6.0</td><td>20.0</td><td>41.0</td><td>McDonald's</td></tr><tr><td>Buffalo Ranch McChicken</td><td>360</td><td>16.0</td><td>5.0</td><td>14.0</td><td>40.0</td><td>McDonald's</td></tr><tr><td>Premium McWrap Chicken & Bacon (Crispy Chicken)</td><td>630</td><td>32.0</td><td>7.0</td><td>32.0</td><td>56.0</td><td>McDonald's</td></tr><tr><td>Premium McWrap Chicken & Bacon (Grilled Chicken)</td><td>480</td><td>19.0</td><td>6.0</td><td>36.0</td><td>42.0</td><td>McDonald's</td></tr><tr><td>Premium McWrap Chicken & Ranch (Crispy Chicken)</td><td>610</td><td>31.0</td><td>8.0</td><td>27.0</td><td>56.0</td><td>McDonald's</td></tr><tr><td>Premium McWrap Chicken & Ranch (Grilled Chicken)</td><td>450</td><td>18.0</td><td>6.0</td><td>30.0</td><td>42.0</td><td>McDonald's</td></tr><tr><td>Premium McWrap Southwest Chicken (Crispy Chicken)</td><td>670</td><td>33.0</td><td>12.0</td><td>27.0</td><td>68.0</td><td>McDonald's</td></tr><tr><td>Premium McWrap Southwest Chicken (Grilled Chicken)</td><td>520</td><td>20.0</td><td>10.0</td><td>31.0</td><td>55.0</td><td>McDonald's</td></tr><tr><td>Premium McWrap Chicken Sweet Chili (Crispy Chicken)</td><td>540</td><td>23.0</td><td>14.0</td><td>23.0</td><td>61.0</td><td>McDonald's</td></tr><tr><td>Premium McWrap Chicken Sweet Chili (Grilled Chicken)</td><td>380</td><td>10.0</td><td>12.0</td><td>27.0</td><td>47.0</td><td>McDonald's</td></tr><tr><td>Chicken McNuggets (4 piece)</td><td>190</td><td>12.0</td><td>0.0</td><td>9.0</td><td>12.0</td><td>McDonald's</td></tr><tr><td>Chicken McNuggets (6 piece)</td><td>280</td><td>18.0</td><td>0.0</td><td>13.0</td><td>18.0</td><td>McDonald's</td></tr><tr><td>Chicken McNuggets (10 piece)</td><td>470</td><td>30.0</td><td>0.0</td><td>22.0</td><td>30.0</td><td>McDonald's</td></tr><tr><td>Chicken McNuggets (20 piece)</td><td>940</td><td>59.0</td><td>0.0</td><td>44.0</td><td>59.0</td><td>McDonald's</td></tr><tr><td>Chicken McNuggets (40 piece)</td><td>1880</td><td>118.0</td><td>1.0</td><td>87.0</td><td>118.0</td><td>McDonald's</td></tr><tr><td>Filet-O-Fish</td><td>390</td><td>19.0</td><td>5.0</td><td>15.0</td><td>39.0</td><td>McDonald's</td></tr><tr><td>Premium Bacon Ranch Salad (without Chicken)</td><td>140</td><td>7.0</td><td>4.0</td><td>9.0</td><td>10.0</td><td>McDonald's</td></tr><tr><td>Premium Bacon Ranch Salad with Crispy Chicken</td><td>380</td><td>21.0</td><td>5.0</td><td>25.0</td><td>22.0</td><td>McDonald's</td></tr><tr><td>Premium Bacon Ranch Salad with Grilled Chicken</td><td>220</td><td>8.0</td><td>4.0</td><td>29.0</td><td>8.0</td><td>McDonald's</td></tr><tr><td>Premium Southwest Salad (without Chicken)</td><td>140</td><td>4.5</td><td>6.0</td><td>6.0</td><td>20.0</td><td>McDonald's</td></tr><tr><td>Premium Southwest Salad with Crispy Chicken</td><td>450</td><td>22.0</td><td>12.0</td><td>23.0</td><td>42.0</td><td>McDonald's</td></tr><tr><td>Premium Southwest Salad with Grilled Chicken</td><td>290</td><td>8.0</td><td>10.0</td><td>27.0</td><td>28.0</td><td>McDonald's</td></tr><tr><td>Chipotle BBQ Snack Wrap (Crispy Chicken)</td><td>340</td><td>15.0</td><td>8.0</td><td>14.0</td><td>37.0</td><td>McDonald's</td></tr><tr><td>Chipotle BBQ Snack Wrap (Grilled Chicken)</td><td>260</td><td>8.0</td><td>7.0</td><td>16.0</td><td>30.0</td><td>McDonald's</td></tr><tr><td>Honey Mustard Snack Wrap (Crispy Chicken)</td><td>330</td><td>15.0</td><td>3.0</td><td>14.0</td><td>34.0</td><td>McDonald's</td></tr><tr><td>Honey Mustard Snack Wrap (Grilled Chicken)</td><td>250</td><td>8.0</td><td>2.0</td><td>16.0</td><td>27.0</td><td>McDonald's</td></tr><tr><td>Ranch Snack Wrap (Crispy Chicken)</td><td>360</td><td>20.0</td><td>3.0</td><td>15.0</td><td>32.0</td><td>McDonald's</td></tr><tr><td>Ranch Snack Wrap (Grilled Chicken)</td><td>280</td><td>13.0</td><td>2.0</td><td>16.0</td><td>25.0</td><td>McDonald's</td></tr><tr><td>Small French Fries</td><td>230</td><td>11.0</td><td>0.0</td><td>2.0</td><td>30.0</td><td>McDonald's</td></tr><tr><td>Medium French Fries</td><td>340</td><td>16.0</td><td>0.0</td><td>4.0</td><td>44.0</td><td>McDonald's</td></tr><tr><td>Large French Fries</td><td>510</td><td>24.0</td><td>0.0</td><td>6.0</td><td>67.0</td><td>McDonald's</td></tr><tr><td>Kids French Fries</td><td>110</td><td>5.0</td><td>0.0</td><td>1.0</td><td>15.0</td><td>McDonald's</td></tr><tr><td>Side Salad</td><td>20</td><td>0.0</td><td>2.0</td><td>1.0</td><td>4.0</td><td>McDonald's</td></tr><tr><td>Apple Slices</td><td>15</td><td>0.0</td><td>3.0</td><td>0.0</td><td>4.0</td><td>McDonald's</td></tr><tr><td>Fruit 'n Yogurt Parfait</td><td>150</td><td>2.0</td><td>23.0</td><td>4.0</td><td>30.0</td><td>McDonald's</td></tr><tr><td>Baked Apple Pie</td><td>250</td><td>13.0</td><td>13.0</td><td>2.0</td><td>32.0</td><td>McDonald's</td></tr><tr><td>Chocolate Chip Cookie</td><td>160</td><td>8.0</td><td>15.0</td><td>2.0</td><td>21.0</td><td>McDonald's</td></tr><tr><td>Oatmeal Raisin Cookie</td><td>150</td><td>6.0</td><td>13.0</td><td>2.0</td><td>22.0</td><td>McDonald's</td></tr><tr><td>Kids Ice Cream Cone</td><td>45</td><td>1.5</td><td>6.0</td><td>1.0</td><td>7.0</td><td>McDonald's</td></tr><tr><td>Hot Fudge Sundae</td><td>330</td><td>9.0</td><td>48.0</td><td>8.0</td><td>53.0</td><td>McDonald's</td></tr><tr><td>Hot Caramel Sundae</td><td>340</td><td>8.0</td><td>43.0</td><td>7.0</td><td>60.0</td><td>McDonald's</td></tr><tr><td>Strawberry Sundae</td><td>280</td><td>6.0</td><td>45.0</td><td>6.0</td><td>49.0</td><td>McDonald's</td></tr><tr><td>Coca-Cola Classic (Small)</td><td>140</td><td>0.0</td><td>39.0</td><td>0.0</td><td>39.0</td><td>McDonald's</td></tr><tr><td>Coca-Cola Classic (Medium)</td><td>200</td><td>0.0</td><td>55.0</td><td>0.0</td><td>55.0</td><td>McDonald's</td></tr><tr><td>Coca-Cola Classic (Large)</td><td>280</td><td>0.0</td><td>76.0</td><td>0.0</td><td>76.0</td><td>McDonald's</td></tr><tr><td>Coca-Cola Classic (Child)</td><td>100</td><td>0.0</td><td>28.0</td><td>0.0</td><td>28.0</td><td>McDonald's</td></tr><tr><td>Diet Coke (Small)</td><td>0</td><td>0.0</td><td>0.0</td><td>0.0</td><td>0.0</td><td>McDonald's</td></tr><tr><td>Diet Coke (Medium)</td><td>0</td><td>0.0</td><td>0.0</td><td>0.0</td><td>0.0</td><td>McDonald's</td></tr><tr><td>Diet Coke (Large)</td><td>0</td><td>0.0</td><td>0.0</td><td>0.0</td><td>0.0</td><td>McDonald's</td></tr><tr><td>Diet Coke (Child)</td><td>0</td><td>0.0</td><td>0.0</td><td>0.0</td><td>0.0</td><td>McDonald's</td></tr><tr><td>Dr Pepper (Small)</td><td>140</td><td>0.0</td><td>35.0</td><td>0.0</td><td>37.0</td><td>McDonald's</td></tr><tr><td>Dr Pepper (Medium)</td><td>190</td><td>0.0</td><td>51.0</td><td>0.0</td><td>53.0</td><td>McDonald's</td></tr><tr><td>Dr Pepper (Large)</td><td>270</td><td>0.0</td><td>70.0</td><td>0.0</td><td>72.0</td><td>McDonald's</td></tr><tr><td>Dr Pepper (Child)</td><td>100</td><td>0.0</td><td>26.0</td><td>0.0</td><td>27.0</td><td>McDonald's</td></tr><tr><td>Diet Dr Pepper (Small)</td><td>0</td><td>0.0</td><td>0.0</td><td>2.0</td><td>0.0</td><td>McDonald's</td></tr><tr><td>Diet Dr Pepper (Medium)</td><td>0</td><td>0.0</td><td>0.0</td><td>3.0</td><td>0.0</td><td>McDonald's</td></tr><tr><td>Diet Dr Pepper (Large)</td><td>0</td><td>0.0</td><td>0.0</td><td>4.0</td><td>0.0</td><td>McDonald's</td></tr><tr><td>Diet Dr Pepper (Child)</td><td>0</td><td>0.0</td><td>0.0</td><td>1.0</td><td>0.0</td><td>McDonald's</td></tr><tr><td>Sprite (Small)</td><td>140</td><td>0.0</td><td>37.0</td><td>0.0</td><td>37.0</td><td>McDonald's</td></tr><tr><td>Sprite (Medium)</td><td>200</td><td>0.0</td><td>54.0</td><td>0.0</td><td>54.0</td><td>McDonald's</td></tr><tr><td>Sprite (Large)</td><td>280</td><td>0.0</td><td>74.0</td><td>0.0</td><td>74.0</td><td>McDonald's</td></tr><tr><td>Sprite (Child)</td><td>100</td><td>0.0</td><td>27.0</td><td>0.0</td><td>27.0</td><td>McDonald's</td></tr><tr><td>1% Low Fat Milk Jug</td><td>100</td><td>2.5</td><td>12.0</td><td>8.0</td><td>12.0</td><td>McDonald's</td></tr><tr><td>Fat Free Chocolate Milk Jug</td><td>130</td><td>0.0</td><td>22.0</td><td>9.0</td><td>23.0</td><td>McDonald's</td></tr><tr><td>Minute Maid 100% Apple Juice Box</td><td>80</td><td>0.0</td><td>19.0</td><td>0.0</td><td>21.0</td><td>McDonald's</td></tr><tr><td>Minute Maid Orange Juice (Small)</td><td>150</td><td>0.0</td><td>30.0</td><td>2.0</td><td>34.0</td><td>McDonald's</td></tr><tr><td>Minute Maid Orange Juice (Medium)</td><td>190</td><td>0.0</td><td>39.0</td><td>3.0</td><td>44.0</td><td>McDonald's</td></tr><tr><td>Minute Maid Orange Juice (Large)</td><td>280</td><td>0.0</td><td>58.0</td><td>4.0</td><td>65.0</td><td>McDonald's</td></tr><tr><td>Dasani Water Bottle</td><td>0</td><td>0.0</td><td>0.0</td><td>0.0</td><td>0.0</td><td>McDonald's</td></tr><tr><td>Iced Tea (Small)</td><td>0</td><td>0.0</td><td>0.0</td><td>0.0</td><td>0.0</td><td>McDonald's</td></tr><tr><td>Iced Tea (Medium)</td><td>0</td><td>0.0</td><td>0.0</td><td>0.0</td><td>0.0</td><td>McDonald's</td></tr><tr><td>Iced Tea (Large)</td><td>0</td><td>0.0</td><td>0.0</td><td>0.0</td><td>0.0</td><td>McDonald's</td></tr><tr><td>Iced Tea (Child)</td><td>0</td><td>0.0</td><td>0.0</td><td>0.0</td><td>0.0</td><td>McDonald's</td></tr><tr><td>Sweet Tea (Small)</td><td>150</td><td>0.0</td><td>36.0</td><td>1.0</td><td>36.0</td><td>McDonald's</td></tr><tr><td>Sweet Tea (Medium)</td><td>180</td><td>0.0</td><td>45.0</td><td>1.0</td><td>45.0</td><td>McDonald's</td></tr><tr><td>Sweet Tea (Large)</td><td>220</td><td>0.0</td><td>54.0</td><td>1.0</td><td>54.0</td><td>McDonald's</td></tr><tr><td>Sweet Tea (Child)</td><td>110</td><td>0.0</td><td>27.0</td><td>0.0</td><td>27.0</td><td>McDonald's</td></tr><tr><td>Coffee (Small)</td><td>0</td><td>0.0</td><td>0.0</td><td>0.0</td><td>0.0</td><td>McDonald's</td></tr><tr><td>Coffee (Medium)</td><td>0</td><td>0.0</td><td>0.0</td><td>0.0</td><td>0.0</td><td>McDonald's</td></tr><tr><td>Coffee (Large)</td><td>0</td><td>0.0</td><td>0.0</td><td>0.0</td><td>0.0</td><td>McDonald's</td></tr><tr><td>Latte (Small)</td><td>170</td><td>9.0</td><td>12.0</td><td>9.0</td><td>15.0</td><td>McDonald's</td></tr><tr><td>Latte (Medium)</td><td>210</td><td>10.0</td><td>15.0</td><td>11.0</td><td>18.0</td><td>McDonald's</td></tr><tr><td>Latte (Large)</td><td>280</td><td>14.0</td><td>20.0</td><td>15.0</td><td>24.0</td><td>McDonald's</td></tr><tr><td>Caramel Latte (Small)</td><td>270</td><td>9.0</td><td>38.0</td><td>9.0</td><td>40.0</td><td>McDonald's</td></tr><tr><td>Caramel Latte (Medium)</td><td>340</td><td>10.0</td><td>48.0</td><td>11.0</td><td>50.0</td><td>McDonald's</td></tr><tr><td>Caramel Latte (Large)</td><td>430</td><td>14.0</td><td>59.0</td><td>15.0</td><td>62.0</td><td>McDonald's</td></tr><tr><td>Hazelnut Latte (Small)</td><td>270</td><td>9.0</td><td>38.0</td><td>9.0</td><td>40.0</td><td>McDonald's</td></tr><tr><td>Hazelnut Latte (Medium)</td><td>330</td><td>10.0</td><td>47.0</td><td>11.0</td><td>50.0</td><td>McDonald's</td></tr><tr><td>Hazelnut Latte (Large)</td><td>430</td><td>14.0</td><td>58.0</td><td>15.0</td><td>62.0</td><td>McDonald's</td></tr><tr><td>French Vanilla Latte (Small)</td><td>260</td><td>9.0</td><td>36.0</td><td>9.0</td><td>38.0</td><td>McDonald's</td></tr><tr><td>French Vanilla Latte (Medium)</td><td>330</td><td>10.0</td><td>45.0</td><td>11.0</td><td>48.0</td><td>McDonald's</td></tr><tr><td>French Vanilla Latte (Large)</td><td>420</td><td>14.0</td><td>56.0</td><td>15.0</td><td>60.0</td><td>McDonald's</td></tr><tr><td>Latte with Sugar Free French Vanilla Syrup (Small)</td><td>210</td><td>9.0</td><td>12.0</td><td>9.0</td><td>24.0</td><td>McDonald's</td></tr><tr><td>Latte with Sugar Free French Vanilla Syrup (Medium)</td><td>260</td><td>10.0</td><td>15.0</td><td>12.0</td><td>29.0</td><td>McDonald's</td></tr><tr><td>Latte with Sugar Free French Vanilla Syrup (Large)</td><td>330</td><td>14.0</td><td>20.0</td><td>15.0</td><td>37.0</td><td>McDonald's</td></tr><tr><td>Nonfat Latte (Small)</td><td>100</td><td>0.0</td><td>13.0</td><td>10.0</td><td>15.0</td><td>McDonald's</td></tr><tr><td>Nonfat Latte (Medium)</td><td>130</td><td>0.0</td><td>16.0</td><td>12.0</td><td>19.0</td><td>McDonald's</td></tr><tr><td>Nonfat Latte (Large)</td><td>170</td><td>0.5</td><td>21.0</td><td>16.0</td><td>25.0</td><td>McDonald's</td></tr><tr><td>Nonfat Caramel Latte (Small)</td><td>200</td><td>0.0</td><td>39.0</td><td>10.0</td><td>41.0</td><td>McDonald's</td></tr><tr><td>Nonfat Caramel Latte (Medium)</td><td>250</td><td>0.0</td><td>48.0</td><td>12.0</td><td>51.0</td><td>McDonald's</td></tr><tr><td>Nonfat Caramel Latte (Large)</td><td>310</td><td>0.5</td><td>59.0</td><td>16.0</td><td>63.0</td><td>McDonald's</td></tr><tr><td>Nonfat Hazelnut Latte (Small)</td><td>200</td><td>0.0</td><td>38.0</td><td>10.0</td><td>40.0</td><td>McDonald's</td></tr><tr><td>Nonfat Hazelnut Latte (Medium)</td><td>250</td><td>0.0</td><td>48.0</td><td>12.0</td><td>51.0</td><td>McDonald's</td></tr><tr><td>Nonfat Hazelnut Latte (Large)</td><td>310</td><td>0.5</td><td>59.0</td><td>16.0</td><td>63.0</td><td>McDonald's</td></tr><tr><td>Nonfat French Vanilla Latte (Small)</td><td>190</td><td>0.0</td><td>37.0</td><td>10.0</td><td>39.0</td><td>McDonald's</td></tr><tr><td>Nonfat French Vanilla Latte (Medium)</td><td>240</td><td>0.0</td><td>46.0</td><td>12.0</td><td>49.0</td><td>McDonald's</td></tr><tr><td>Nonfat French Vanilla Latte (Large)</td><td>300</td><td>0.5</td><td>56.0</td><td>16.0</td><td>60.0</td><td>McDonald's</td></tr><tr><td>Nonfat Latte with Sugar Free French Vanilla Syrup (Small)</td><td>140</td><td>0.0</td><td>13.0</td><td>10.0</td><td>24.0</td><td>McDonald's</td></tr><tr><td>Nonfat Latte with Sugar Free French Vanilla Syrup (Medium)</td><td>170</td><td>0.0</td><td>16.0</td><td>12.0</td><td>30.0</td><td>McDonald's</td></tr><tr><td>Nonfat Latte with Sugar Free French Vanilla Syrup (Large)</td><td>220</td><td>0.5</td><td>21.0</td><td>16.0</td><td>38.0</td><td>McDonald's</td></tr><tr><td>Mocha (Small)</td><td>340</td><td>11.0</td><td>42.0</td><td>10.0</td><td>49.0</td><td>McDonald's</td></tr><tr><td>Mocha (Medium)</td><td>410</td><td>14.0</td><td>53.0</td><td>13.0</td><td>60.0</td><td>McDonald's</td></tr><tr><td>Mocha (Large)</td><td>500</td><td>17.0</td><td>63.0</td><td>16.0</td><td>72.0</td><td>McDonald's</td></tr><tr><td>Mocha with Nonfat Milk (Small)</td><td>270</td><td>3.5</td><td>43.0</td><td>11.0</td><td>49.0</td><td>McDonald's</td></tr><tr><td>Mocha with Nonfat Milk (Medium)</td><td>330</td><td>3.5</td><td>53.0</td><td>13.0</td><td>60.0</td><td>McDonald's</td></tr><tr><td>Mocha with Nonfat Milk (Large)</td><td>390</td><td>4.0</td><td>64.0</td><td>17.0</td><td>73.0</td><td>McDonald's</td></tr><tr><td>Caramel Mocha (Small)</td><td>320</td><td>11.0</td><td>40.0</td><td>10.0</td><td>45.0</td><td>McDonald's</td></tr><tr><td>Caramel Mocha (Medium)</td><td>390</td><td>14.0</td><td>50.0</td><td>12.0</td><td>55.0</td><td>McDonald's</td></tr><tr><td>Caramel Mocha (Large)</td><td>480</td><td>17.0</td><td>60.0</td><td>16.0</td><td>66.0</td><td>McDonald's</td></tr><tr><td>Nonfat Caramel Mocha (Small)</td><td>250</td><td>3.5</td><td>41.0</td><td>10.0</td><td>45.0</td><td>McDonald's</td></tr><tr><td>Nonfat Caramel Mocha (Medium)</td><td>310</td><td>3.5</td><td>51.0</td><td>13.0</td><td>56.0</td><td>McDonald's</td></tr><tr><td>Nonfat Caramel Mocha (Large)</td><td>370</td><td>3.5</td><td>61.0</td><td>17.0</td><td>67.0</td><td>McDonald's</td></tr><tr><td>Hot Chocolate (Small)</td><td>360</td><td>13.0</td><td>45.0</td><td>11.0</td><td>50.0</td><td>McDonald's</td></tr><tr><td>Hot Chocolate (Medium)</td><td>440</td><td>16.0</td><td>56.0</td><td>14.0</td><td>61.0</td><td>McDonald's</td></tr><tr><td>Hot Chocolate (Large)</td><td>540</td><td>20.0</td><td>68.0</td><td>17.0</td><td>73.0</td><td>McDonald's</td></tr><tr><td>Hot Chocolate with Nonfat Milk (Small)</td><td>280</td><td>3.5</td><td>46.0</td><td>12.0</td><td>50.0</td><td>McDonald's</td></tr><tr><td>Hot Chocolate with Nonfat Milk (Medium)</td><td>340</td><td>3.5</td><td>57.0</td><td>14.0</td><td>61.0</td><td>McDonald's</td></tr><tr><td>Hot Chocolate with Nonfat Milk (Large)</td><td>400</td><td>3.5</td><td>69.0</td><td>19.0</td><td>74.0</td><td>McDonald's</td></tr><tr><td>Regular Iced Coffee (Small)</td><td>140</td><td>4.5</td><td>22.0</td><td>1.0</td><td>23.0</td><td>McDonald's</td></tr><tr><td>Regular Iced Coffee (Medium)</td><td>190</td><td>7.0</td><td>30.0</td><td>1.0</td><td>31.0</td><td>McDonald's</td></tr><tr><td>Regular Iced Coffee (Large)</td><td>270</td><td>9.0</td><td>45.0</td><td>2.0</td><td>47.0</td><td>McDonald's</td></tr><tr><td>Caramel Iced Coffee (Small)</td><td>130</td><td>4.5</td><td>21.0</td><td>1.0</td><td>22.0</td><td>McDonald's</td></tr><tr><td>Caramel Iced Coffee (Medium)</td><td>180</td><td>7.0</td><td>28.0</td><td>1.0</td><td>29.0</td><td>McDonald's</td></tr><tr><td>Caramel Iced Coffee (Large)</td><td>260</td><td>9.0</td><td>42.0</td><td>2.0</td><td>43.0</td><td>McDonald's</td></tr><tr><td>Hazelnut Iced Coffee (Small)</td><td>130</td><td>4.5</td><td>20.0</td><td>1.0</td><td>21.0</td><td>McDonald's</td></tr><tr><td>Hazelnut Iced Coffee (Medium)</td><td>180</td><td>7.0</td><td>28.0</td><td>1.0</td><td>29.0</td><td>McDonald's</td></tr><tr><td>Hazelnut Iced Coffee (Large)</td><td>250</td><td>9.0</td><td>41.0</td><td>2.0</td><td>43.0</td><td>McDonald's</td></tr><tr><td>French Vanilla Iced Coffee (Small)</td><td>120</td><td>4.5</td><td>19.0</td><td>1.0</td><td>20.0</td><td>McDonald's</td></tr><tr><td>French Vanilla Iced Coffee (Medium)</td><td>170</td><td>7.0</td><td>26.0</td><td>1.0</td><td>27.0</td><td>McDonald's</td></tr><tr><td>French Vanilla Iced Coffee (Large)</td><td>240</td><td>9.0</td><td>39.0</td><td>2.0</td><td>41.0</td><td>McDonald's</td></tr><tr><td>Iced Coffee with Sugar Free French Vanilla Syrup (Small)</td><td>80</td><td>4.5</td><td>1.0</td><td>1.0</td><td>9.0</td><td>McDonald's</td></tr><tr><td>Iced Coffee with Sugar Free French Vanilla Syrup (Medium)</td><td>120</td><td>7.0</td><td>2.0</td><td>1.0</td><td>12.0</td><td>McDonald's</td></tr><tr><td>Iced Coffee with Sugar Free French Vanilla Syrup (Large)</td><td>160</td><td>9.0</td><td>2.0</td><td>2.0</td><td>18.0</td><td>McDonald's</td></tr><tr><td>Iced Mocha (Small)</td><td>290</td><td>11.0</td><td>34.0</td><td>8.0</td><td>41.0</td><td>McDonald's</td></tr><tr><td>Iced Mocha (Medium)</td><td>350</td><td>13.0</td><td>43.0</td><td>9.0</td><td>50.0</td><td>McDonald's</td></tr><tr><td>Iced Mocha (Large)</td><td>480</td><td>16.0</td><td>62.0</td><td>14.0</td><td>70.0</td><td>McDonald's</td></tr><tr><td>Iced Mocha with Nonfat Milk (Small)</td><td>240</td><td>5.0</td><td>35.0</td><td>8.0</td><td>41.0</td><td>McDonald's</td></tr><tr><td>Iced Mocha with Nonfat Milk (Medium)</td><td>290</td><td>5.0</td><td>43.0</td><td>10.0</td><td>50.0</td><td>McDonald's</td></tr><tr><td>Iced Mocha with Nonfat Milk (Large)</td><td>390</td><td>6.0</td><td>62.0</td><td>14.0</td><td>71.0</td><td>McDonald's</td></tr><tr><td>Iced Caramel Mocha (Small)</td><td>280</td><td>11.0</td><td>33.0</td><td>8.0</td><td>38.0</td><td>McDonald's</td></tr><tr><td>Iced Caramel Mocha (Medium)</td><td>340</td><td>13.0</td><td>41.0</td><td>9.0</td><td>46.0</td><td>McDonald's</td></tr><tr><td>Iced Caramel Mocha (Large)</td><td>460</td><td>16.0</td><td>59.0</td><td>13.0</td><td>65.0</td><td>McDonald's</td></tr><tr><td>Iced Nonfat Caramel Mocha (Small)</td><td>230</td><td>5.0</td><td>33.0</td><td>8.0</td><td>38.0</td><td>McDonald's</td></tr><tr><td>Iced Nonfat Caramel Mocha (Medium)</td><td>270</td><td>5.0</td><td>41.0</td><td>10.0</td><td>47.0</td><td>McDonald's</td></tr><tr><td>Iced Nonfat Caramel Mocha (Large)</td><td>370</td><td>6.0</td><td>59.0</td><td>14.0</td><td>65.0</td><td>McDonald's</td></tr><tr><td>Frapp� Mocha (Small)</td><td>450</td><td>18.0</td><td>57.0</td><td>7.0</td><td>65.0</td><td>McDonald's</td></tr><tr><td>Frapp� Mocha (Medium)</td><td>550</td><td>22.0</td><td>71.0</td><td>9.0</td><td>80.0</td><td>McDonald's</td></tr><tr><td>Frapp� Mocha (Large)</td><td>670</td><td>26.0</td><td>88.0</td><td>11.0</td><td>98.0</td><td>McDonald's</td></tr><tr><td>Frapp� Caramel (Small)</td><td>450</td><td>19.0</td><td>57.0</td><td>7.0</td><td>64.0</td><td>McDonald's</td></tr><tr><td>Frapp� Caramel (Medium)</td><td>550</td><td>23.0</td><td>71.0</td><td>9.0</td><td>79.0</td><td>McDonald's</td></tr><tr><td>Frapp� Caramel (Large)</td><td>670</td><td>27.0</td><td>88.0</td><td>11.0</td><td>96.0</td><td>McDonald's</td></tr><tr><td>Frapp� Chocolate Chip (Small)</td><td>530</td><td>23.0</td><td>67.0</td><td>8.0</td><td>76.0</td><td>McDonald's</td></tr><tr><td>Frapp� Chocolate Chip (Medium)</td><td>630</td><td>26.0</td><td>81.0</td><td>9.0</td><td>91.0</td><td>McDonald's</td></tr><tr><td>Frapp� Chocolate Chip (Large)</td><td>760</td><td>31.0</td><td>99.0</td><td>12.0</td><td>111.0</td><td>McDonald's</td></tr><tr><td>Blueberry Pomegranate Smoothie (Small)</td><td>220</td><td>0.5</td><td>44.0</td><td>2.0</td><td>50.0</td><td>McDonald's</td></tr><tr><td>Blueberry Pomegranate Smoothie (Medium)</td><td>260</td><td>1.0</td><td>54.0</td><td>3.0</td><td>62.0</td><td>McDonald's</td></tr><tr><td>Blueberry Pomegranate Smoothie (Large)</td><td>340</td><td>1.0</td><td>70.0</td><td>4.0</td><td>79.0</td><td>McDonald's</td></tr><tr><td>Strawberry Banana Smoothie (Small)</td><td>210</td><td>0.5</td><td>44.0</td><td>3.0</td><td>47.0</td><td>McDonald's</td></tr><tr><td>Strawberry Banana Smoothie (Medium)</td><td>250</td><td>1.0</td><td>54.0</td><td>4.0</td><td>58.0</td><td>McDonald's</td></tr><tr><td>Strawberry Banana Smoothie (Large)</td><td>330</td><td>1.0</td><td>70.0</td><td>5.0</td><td>74.0</td><td>McDonald's</td></tr><tr><td>Mango Pineapple Smoothie (Small)</td><td>210</td><td>0.5</td><td>46.0</td><td>2.0</td><td>50.0</td><td>McDonald's</td></tr><tr><td>Mango Pineapple Smoothie (Medium)</td><td>260</td><td>1.0</td><td>56.0</td><td>3.0</td><td>61.0</td><td>McDonald's</td></tr><tr><td>Mango Pineapple Smoothie (Large)</td><td>340</td><td>1.0</td><td>72.0</td><td>4.0</td><td>78.0</td><td>McDonald's</td></tr><tr><td>Vanilla Shake (Small)</td><td>530</td><td>15.0</td><td>63.0</td><td>11.0</td><td>86.0</td><td>McDonald's</td></tr><tr><td>Vanilla Shake (Medium)</td><td>660</td><td>19.0</td><td>81.0</td><td>14.0</td><td>109.0</td><td>McDonald's</td></tr><tr><td>Vanilla Shake (Large)</td><td>820</td><td>23.0</td><td>101.0</td><td>18.0</td><td>135.0</td><td>McDonald's</td></tr><tr><td>Strawberry Shake (Small)</td><td>550</td><td>16.0</td><td>79.0</td><td>12.0</td><td>90.0</td><td>McDonald's</td></tr><tr><td>Strawberry Shake (Medium)</td><td>690</td><td>20.0</td><td>100.0</td><td>15.0</td><td>114.0</td><td>McDonald's</td></tr><tr><td>Strawberry Shake (Large)</td><td>850</td><td>24.0</td><td>123.0</td><td>18.0</td><td>140.0</td><td>McDonald's</td></tr><tr><td>Chocolate Shake (Small)</td><td>560</td><td>16.0</td><td>77.0</td><td>12.0</td><td>91.0</td><td>McDonald's</td></tr><tr><td>Chocolate Shake (Medium)</td><td>700</td><td>20.0</td><td>97.0</td><td>15.0</td><td>114.0</td><td>McDonald's</td></tr><tr><td>Chocolate Shake (Large)</td><td>850</td><td>23.0</td><td>120.0</td><td>19.0</td><td>141.0</td><td>McDonald's</td></tr><tr><td>Shamrock Shake (Medium)</td><td>660</td><td>19.0</td><td>93.0</td><td>14.0</td><td>109.0</td><td>McDonald's</td></tr><tr><td>Shamrock Shake (Large)</td><td>820</td><td>23.0</td><td>115.0</td><td>18.0</td><td>135.0</td><td>McDonald's</td></tr><tr><td>McFlurry with M&M�s Candies (Small)</td><td>650</td><td>23.0</td><td>89.0</td><td>13.0</td><td>96.0</td><td>McDonald's</td></tr><tr><td>McFlurry with M&M�s Candies (Medium)</td><td>930</td><td>33.0</td><td>128.0</td><td>20.0</td><td>139.0</td><td>McDonald's</td></tr><tr><td>McFlurry with M&M�s Candies (Snack)</td><td>430</td><td>15.0</td><td>59.0</td><td>9.0</td><td>64.0</td><td>McDonald's</td></tr><tr><td>McFlurry with Oreo Cookies (Small)</td><td>510</td><td>17.0</td><td>64.0</td><td>12.0</td><td>80.0</td><td>McDonald's</td></tr><tr><td>McFlurry with Oreo Cookies (Medium)</td><td>690</td><td>23.0</td><td>85.0</td><td>15.0</td><td>106.0</td><td>McDonald's</td></tr><tr><td>McFlurry with Oreo Cookies (Snack)</td><td>340</td><td>11.0</td><td>43.0</td><td>8.0</td><td>53.0</td><td>McDonald's</td></tr><tr><td>McFlurry with Reese's Peanut Butter Cups (Medium)</td><td>810</td><td>32.0</td><td>103.0</td><td>21.0</td><td>114.0</td><td>McDonald's</td></tr><tr><td>McFlurry with Reese's Peanut Butter Cups (Snack)</td><td>410</td><td>16.0</td><td>51.0</td><td>10.0</td><td>57.0</td><td>McDonald's</td></tr></tbody></table></div>"
      ]
     },
     "metadata": {
      "application/vnd.databricks.v1+output": {
       "addedWidgets": {},
       "aggData": [],
       "aggError": "",
       "aggOverflow": false,
       "aggSchema": [],
       "aggSeriesLimitReached": false,
       "aggType": "",
       "arguments": {},
       "columnCustomDisplayInfos": {},
       "data": [
        [
         "Egg McMuffin",
         300,
         13.0,
         3.0,
         17.0,
         31.0,
         "McDonald's"
        ],
        [
         "Egg White Delight",
         250,
         8.0,
         3.0,
         18.0,
         30.0,
         "McDonald's"
        ],
        [
         "Sausage McMuffin",
         370,
         23.0,
         2.0,
         14.0,
         29.0,
         "McDonald's"
        ],
        [
         "Sausage McMuffin with Egg",
         450,
         28.0,
         2.0,
         21.0,
         30.0,
         "McDonald's"
        ],
        [
         "Sausage McMuffin with Egg Whites",
         400,
         23.0,
         2.0,
         21.0,
         30.0,
         "McDonald's"
        ],
        [
         "Steak & Egg McMuffin",
         430,
         23.0,
         3.0,
         26.0,
         31.0,
         "McDonald's"
        ],
        [
         "Bacon, Egg & Cheese Biscuit (Regular Biscuit)",
         460,
         26.0,
         3.0,
         19.0,
         38.0,
         "McDonald's"
        ],
        [
         "Bacon, Egg & Cheese Biscuit (Large Biscuit)",
         520,
         30.0,
         4.0,
         19.0,
         43.0,
         "McDonald's"
        ],
        [
         "Bacon, Egg & Cheese Biscuit with Egg Whites (Regular Biscuit)",
         410,
         20.0,
         3.0,
         20.0,
         36.0,
         "McDonald's"
        ],
        [
         "Bacon, Egg & Cheese Biscuit with Egg Whites (Large Biscuit)",
         470,
         25.0,
         4.0,
         20.0,
         42.0,
         "McDonald's"
        ],
        [
         "Sausage Biscuit (Regular Biscuit)",
         430,
         27.0,
         2.0,
         11.0,
         34.0,
         "McDonald's"
        ],
        [
         "Sausage Biscuit (Large Biscuit)",
         480,
         31.0,
         3.0,
         11.0,
         39.0,
         "McDonald's"
        ],
        [
         "Sausage Biscuit with Egg (Regular Biscuit)",
         510,
         33.0,
         2.0,
         18.0,
         36.0,
         "McDonald's"
        ],
        [
         "Sausage Biscuit with Egg (Large Biscuit)",
         570,
         37.0,
         3.0,
         18.0,
         42.0,
         "McDonald's"
        ],
        [
         "Sausage Biscuit with Egg Whites (Regular Biscuit)",
         460,
         27.0,
         3.0,
         18.0,
         34.0,
         "McDonald's"
        ],
        [
         "Sausage Biscuit with Egg Whites (Large Biscuit)",
         520,
         32.0,
         3.0,
         18.0,
         40.0,
         "McDonald's"
        ],
        [
         "Southern Style Chicken Biscuit (Regular Biscuit)",
         410,
         20.0,
         3.0,
         17.0,
         41.0,
         "McDonald's"
        ],
        [
         "Southern Style Chicken Biscuit (Large Biscuit)",
         470,
         24.0,
         4.0,
         17.0,
         46.0,
         "McDonald's"
        ],
        [
         "Steak & Egg Biscuit (Regular Biscuit)",
         540,
         32.0,
         3.0,
         25.0,
         38.0,
         "McDonald's"
        ],
        [
         "Bacon, Egg & Cheese McGriddles",
         460,
         21.0,
         15.0,
         19.0,
         48.0,
         "McDonald's"
        ],
        [
         "Bacon, Egg & Cheese McGriddles with Egg Whites",
         400,
         15.0,
         16.0,
         20.0,
         47.0,
         "McDonald's"
        ],
        [
         "Sausage McGriddles",
         420,
         22.0,
         15.0,
         11.0,
         44.0,
         "McDonald's"
        ],
        [
         "Sausage, Egg & Cheese McGriddles",
         550,
         31.0,
         15.0,
         20.0,
         48.0,
         "McDonald's"
        ],
        [
         "Sausage, Egg & Cheese McGriddles with Egg Whites",
         500,
         26.0,
         15.0,
         21.0,
         46.0,
         "McDonald's"
        ],
        [
         "Bacon, Egg & Cheese Bagel",
         620,
         31.0,
         7.0,
         30.0,
         57.0,
         "McDonald's"
        ],
        [
         "Bacon, Egg & Cheese Bagel with Egg Whites",
         570,
         25.0,
         8.0,
         30.0,
         55.0,
         "McDonald's"
        ],
        [
         "Steak, Egg & Cheese Bagel",
         670,
         35.0,
         7.0,
         33.0,
         56.0,
         "McDonald's"
        ],
        [
         "Big Breakfast (Regular Biscuit)",
         740,
         48.0,
         3.0,
         28.0,
         51.0,
         "McDonald's"
        ],
        [
         "Big Breakfast (Large Biscuit)",
         800,
         52.0,
         3.0,
         28.0,
         56.0,
         "McDonald's"
        ],
        [
         "Big Breakfast with Egg Whites (Regular Biscuit)",
         640,
         37.0,
         3.0,
         26.0,
         50.0,
         "McDonald's"
        ],
        [
         "Big Breakfast with Egg Whites (Large Biscuit)",
         690,
         41.0,
         4.0,
         26.0,
         55.0,
         "McDonald's"
        ],
        [
         "Big Breakfast with Hotcakes (Regular Biscuit)",
         1090,
         56.0,
         17.0,
         36.0,
         111.0,
         "McDonald's"
        ],
        [
         "Big Breakfast with Hotcakes (Large Biscuit)",
         1150,
         60.0,
         17.0,
         36.0,
         116.0,
         "McDonald's"
        ],
        [
         "Big Breakfast with Hotcakes and Egg Whites (Regular Biscuit)",
         990,
         46.0,
         17.0,
         35.0,
         110.0,
         "McDonald's"
        ],
        [
         "Big Breakfast with Hotcakes and Egg Whites (Large Biscuit)",
         1050,
         50.0,
         18.0,
         35.0,
         115.0,
         "McDonald's"
        ],
        [
         "Hotcakes",
         350,
         9.0,
         14.0,
         8.0,
         60.0,
         "McDonald's"
        ],
        [
         "Hotcakes and Sausage",
         520,
         24.0,
         14.0,
         15.0,
         61.0,
         "McDonald's"
        ],
        [
         "Sausage Burrito",
         300,
         16.0,
         2.0,
         12.0,
         26.0,
         "McDonald's"
        ],
        [
         "Hash Brown",
         150,
         9.0,
         0.0,
         1.0,
         15.0,
         "McDonald's"
        ],
        [
         "Cinnamon Melts",
         460,
         19.0,
         32.0,
         6.0,
         66.0,
         "McDonald's"
        ],
        [
         "Fruit & Maple Oatmeal",
         290,
         4.0,
         32.0,
         5.0,
         58.0,
         "McDonald's"
        ],
        [
         "Fruit & Maple Oatmeal without Brown Sugar",
         260,
         4.0,
         18.0,
         5.0,
         49.0,
         "McDonald's"
        ],
        [
         "Big Mac",
         530,
         27.0,
         9.0,
         24.0,
         47.0,
         "McDonald's"
        ],
        [
         "Quarter Pounder with Cheese",
         520,
         26.0,
         10.0,
         30.0,
         41.0,
         "McDonald's"
        ],
        [
         "Quarter Pounder with Bacon & Cheese",
         600,
         29.0,
         12.0,
         37.0,
         48.0,
         "McDonald's"
        ],
        [
         "Quarter Pounder with Bacon Habanero Ranch",
         610,
         31.0,
         10.0,
         37.0,
         46.0,
         "McDonald's"
        ],
        [
         "Quarter Pounder Deluxe",
         540,
         27.0,
         9.0,
         29.0,
         45.0,
         "McDonald's"
        ],
        [
         "Double Quarter Pounder with Cheese",
         750,
         43.0,
         10.0,
         48.0,
         42.0,
         "McDonald's"
        ],
        [
         "Hamburger",
         240,
         8.0,
         6.0,
         12.0,
         32.0,
         "McDonald's"
        ],
        [
         "Cheeseburger",
         290,
         11.0,
         7.0,
         15.0,
         33.0,
         "McDonald's"
        ],
        [
         "Double Cheeseburger",
         430,
         21.0,
         7.0,
         24.0,
         35.0,
         "McDonald's"
        ],
        [
         "Bacon Clubhouse Burger",
         720,
         40.0,
         14.0,
         39.0,
         51.0,
         "McDonald's"
        ],
        [
         "McDouble",
         380,
         17.0,
         7.0,
         22.0,
         34.0,
         "McDonald's"
        ],
        [
         "Bacon McDouble",
         440,
         22.0,
         7.0,
         27.0,
         35.0,
         "McDonald's"
        ],
        [
         "Daily Double",
         430,
         22.0,
         7.0,
         22.0,
         34.0,
         "McDonald's"
        ],
        [
         "Jalape�o Double",
         430,
         23.0,
         6.0,
         22.0,
         35.0,
         "McDonald's"
        ],
        [
         "McRib",
         500,
         26.0,
         11.0,
         22.0,
         44.0,
         "McDonald's"
        ],
        [
         "Premium Crispy Chicken Classic Sandwich",
         510,
         22.0,
         10.0,
         24.0,
         55.0,
         "McDonald's"
        ],
        [
         "Premium Grilled Chicken Classic Sandwich",
         350,
         9.0,
         8.0,
         28.0,
         42.0,
         "McDonald's"
        ],
        [
         "Premium Crispy Chicken Club Sandwich",
         670,
         33.0,
         11.0,
         36.0,
         58.0,
         "McDonald's"
        ],
        [
         "Premium Grilled Chicken Club Sandwich",
         510,
         20.0,
         9.0,
         40.0,
         44.0,
         "McDonald's"
        ],
        [
         "Premium Crispy Chicken Ranch BLT Sandwich",
         610,
         28.0,
         11.0,
         32.0,
         57.0,
         "McDonald's"
        ],
        [
         "Premium Grilled Chicken Ranch BLT Sandwich",
         450,
         15.0,
         9.0,
         36.0,
         43.0,
         "McDonald's"
        ],
        [
         "Bacon Clubhouse Crispy Chicken Sandwich",
         750,
         38.0,
         16.0,
         36.0,
         65.0,
         "McDonald's"
        ],
        [
         "Bacon Clubhouse Grilled Chicken Sandwich",
         590,
         25.0,
         14.0,
         40.0,
         51.0,
         "McDonald's"
        ],
        [
         "Southern Style Crispy Chicken Sandwich",
         430,
         19.0,
         7.0,
         21.0,
         43.0,
         "McDonald's"
        ],
        [
         "McChicken",
         360,
         16.0,
         5.0,
         14.0,
         40.0,
         "McDonald's"
        ],
        [
         "Bacon Cheddar McChicken",
         480,
         24.0,
         6.0,
         22.0,
         43.0,
         "McDonald's"
        ],
        [
         "Bacon Buffalo Ranch McChicken",
         430,
         21.0,
         6.0,
         20.0,
         41.0,
         "McDonald's"
        ],
        [
         "Buffalo Ranch McChicken",
         360,
         16.0,
         5.0,
         14.0,
         40.0,
         "McDonald's"
        ],
        [
         "Premium McWrap Chicken & Bacon (Crispy Chicken)",
         630,
         32.0,
         7.0,
         32.0,
         56.0,
         "McDonald's"
        ],
        [
         "Premium McWrap Chicken & Bacon (Grilled Chicken)",
         480,
         19.0,
         6.0,
         36.0,
         42.0,
         "McDonald's"
        ],
        [
         "Premium McWrap Chicken & Ranch (Crispy Chicken)",
         610,
         31.0,
         8.0,
         27.0,
         56.0,
         "McDonald's"
        ],
        [
         "Premium McWrap Chicken & Ranch (Grilled Chicken)",
         450,
         18.0,
         6.0,
         30.0,
         42.0,
         "McDonald's"
        ],
        [
         "Premium McWrap Southwest Chicken (Crispy Chicken)",
         670,
         33.0,
         12.0,
         27.0,
         68.0,
         "McDonald's"
        ],
        [
         "Premium McWrap Southwest Chicken (Grilled Chicken)",
         520,
         20.0,
         10.0,
         31.0,
         55.0,
         "McDonald's"
        ],
        [
         "Premium McWrap Chicken Sweet Chili (Crispy Chicken)",
         540,
         23.0,
         14.0,
         23.0,
         61.0,
         "McDonald's"
        ],
        [
         "Premium McWrap Chicken Sweet Chili (Grilled Chicken)",
         380,
         10.0,
         12.0,
         27.0,
         47.0,
         "McDonald's"
        ],
        [
         "Chicken McNuggets (4 piece)",
         190,
         12.0,
         0.0,
         9.0,
         12.0,
         "McDonald's"
        ],
        [
         "Chicken McNuggets (6 piece)",
         280,
         18.0,
         0.0,
         13.0,
         18.0,
         "McDonald's"
        ],
        [
         "Chicken McNuggets (10 piece)",
         470,
         30.0,
         0.0,
         22.0,
         30.0,
         "McDonald's"
        ],
        [
         "Chicken McNuggets (20 piece)",
         940,
         59.0,
         0.0,
         44.0,
         59.0,
         "McDonald's"
        ],
        [
         "Chicken McNuggets (40 piece)",
         1880,
         118.0,
         1.0,
         87.0,
         118.0,
         "McDonald's"
        ],
        [
         "Filet-O-Fish",
         390,
         19.0,
         5.0,
         15.0,
         39.0,
         "McDonald's"
        ],
        [
         "Premium Bacon Ranch Salad (without Chicken)",
         140,
         7.0,
         4.0,
         9.0,
         10.0,
         "McDonald's"
        ],
        [
         "Premium Bacon Ranch Salad with Crispy Chicken",
         380,
         21.0,
         5.0,
         25.0,
         22.0,
         "McDonald's"
        ],
        [
         "Premium Bacon Ranch Salad with Grilled Chicken",
         220,
         8.0,
         4.0,
         29.0,
         8.0,
         "McDonald's"
        ],
        [
         "Premium Southwest Salad (without Chicken)",
         140,
         4.5,
         6.0,
         6.0,
         20.0,
         "McDonald's"
        ],
        [
         "Premium Southwest Salad with Crispy Chicken",
         450,
         22.0,
         12.0,
         23.0,
         42.0,
         "McDonald's"
        ],
        [
         "Premium Southwest Salad with Grilled Chicken",
         290,
         8.0,
         10.0,
         27.0,
         28.0,
         "McDonald's"
        ],
        [
         "Chipotle BBQ Snack Wrap (Crispy Chicken)",
         340,
         15.0,
         8.0,
         14.0,
         37.0,
         "McDonald's"
        ],
        [
         "Chipotle BBQ Snack Wrap (Grilled Chicken)",
         260,
         8.0,
         7.0,
         16.0,
         30.0,
         "McDonald's"
        ],
        [
         "Honey Mustard Snack Wrap (Crispy Chicken)",
         330,
         15.0,
         3.0,
         14.0,
         34.0,
         "McDonald's"
        ],
        [
         "Honey Mustard Snack Wrap (Grilled Chicken)",
         250,
         8.0,
         2.0,
         16.0,
         27.0,
         "McDonald's"
        ],
        [
         "Ranch Snack Wrap (Crispy Chicken)",
         360,
         20.0,
         3.0,
         15.0,
         32.0,
         "McDonald's"
        ],
        [
         "Ranch Snack Wrap (Grilled Chicken)",
         280,
         13.0,
         2.0,
         16.0,
         25.0,
         "McDonald's"
        ],
        [
         "Small French Fries",
         230,
         11.0,
         0.0,
         2.0,
         30.0,
         "McDonald's"
        ],
        [
         "Medium French Fries",
         340,
         16.0,
         0.0,
         4.0,
         44.0,
         "McDonald's"
        ],
        [
         "Large French Fries",
         510,
         24.0,
         0.0,
         6.0,
         67.0,
         "McDonald's"
        ],
        [
         "Kids French Fries",
         110,
         5.0,
         0.0,
         1.0,
         15.0,
         "McDonald's"
        ],
        [
         "Side Salad",
         20,
         0.0,
         2.0,
         1.0,
         4.0,
         "McDonald's"
        ],
        [
         "Apple Slices",
         15,
         0.0,
         3.0,
         0.0,
         4.0,
         "McDonald's"
        ],
        [
         "Fruit 'n Yogurt Parfait",
         150,
         2.0,
         23.0,
         4.0,
         30.0,
         "McDonald's"
        ],
        [
         "Baked Apple Pie",
         250,
         13.0,
         13.0,
         2.0,
         32.0,
         "McDonald's"
        ],
        [
         "Chocolate Chip Cookie",
         160,
         8.0,
         15.0,
         2.0,
         21.0,
         "McDonald's"
        ],
        [
         "Oatmeal Raisin Cookie",
         150,
         6.0,
         13.0,
         2.0,
         22.0,
         "McDonald's"
        ],
        [
         "Kids Ice Cream Cone",
         45,
         1.5,
         6.0,
         1.0,
         7.0,
         "McDonald's"
        ],
        [
         "Hot Fudge Sundae",
         330,
         9.0,
         48.0,
         8.0,
         53.0,
         "McDonald's"
        ],
        [
         "Hot Caramel Sundae",
         340,
         8.0,
         43.0,
         7.0,
         60.0,
         "McDonald's"
        ],
        [
         "Strawberry Sundae",
         280,
         6.0,
         45.0,
         6.0,
         49.0,
         "McDonald's"
        ],
        [
         "Coca-Cola Classic (Small)",
         140,
         0.0,
         39.0,
         0.0,
         39.0,
         "McDonald's"
        ],
        [
         "Coca-Cola Classic (Medium)",
         200,
         0.0,
         55.0,
         0.0,
         55.0,
         "McDonald's"
        ],
        [
         "Coca-Cola Classic (Large)",
         280,
         0.0,
         76.0,
         0.0,
         76.0,
         "McDonald's"
        ],
        [
         "Coca-Cola Classic (Child)",
         100,
         0.0,
         28.0,
         0.0,
         28.0,
         "McDonald's"
        ],
        [
         "Diet Coke (Small)",
         0,
         0.0,
         0.0,
         0.0,
         0.0,
         "McDonald's"
        ],
        [
         "Diet Coke (Medium)",
         0,
         0.0,
         0.0,
         0.0,
         0.0,
         "McDonald's"
        ],
        [
         "Diet Coke (Large)",
         0,
         0.0,
         0.0,
         0.0,
         0.0,
         "McDonald's"
        ],
        [
         "Diet Coke (Child)",
         0,
         0.0,
         0.0,
         0.0,
         0.0,
         "McDonald's"
        ],
        [
         "Dr Pepper (Small)",
         140,
         0.0,
         35.0,
         0.0,
         37.0,
         "McDonald's"
        ],
        [
         "Dr Pepper (Medium)",
         190,
         0.0,
         51.0,
         0.0,
         53.0,
         "McDonald's"
        ],
        [
         "Dr Pepper (Large)",
         270,
         0.0,
         70.0,
         0.0,
         72.0,
         "McDonald's"
        ],
        [
         "Dr Pepper (Child)",
         100,
         0.0,
         26.0,
         0.0,
         27.0,
         "McDonald's"
        ],
        [
         "Diet Dr Pepper (Small)",
         0,
         0.0,
         0.0,
         2.0,
         0.0,
         "McDonald's"
        ],
        [
         "Diet Dr Pepper (Medium)",
         0,
         0.0,
         0.0,
         3.0,
         0.0,
         "McDonald's"
        ],
        [
         "Diet Dr Pepper (Large)",
         0,
         0.0,
         0.0,
         4.0,
         0.0,
         "McDonald's"
        ],
        [
         "Diet Dr Pepper (Child)",
         0,
         0.0,
         0.0,
         1.0,
         0.0,
         "McDonald's"
        ],
        [
         "Sprite (Small)",
         140,
         0.0,
         37.0,
         0.0,
         37.0,
         "McDonald's"
        ],
        [
         "Sprite (Medium)",
         200,
         0.0,
         54.0,
         0.0,
         54.0,
         "McDonald's"
        ],
        [
         "Sprite (Large)",
         280,
         0.0,
         74.0,
         0.0,
         74.0,
         "McDonald's"
        ],
        [
         "Sprite (Child)",
         100,
         0.0,
         27.0,
         0.0,
         27.0,
         "McDonald's"
        ],
        [
         "1% Low Fat Milk Jug",
         100,
         2.5,
         12.0,
         8.0,
         12.0,
         "McDonald's"
        ],
        [
         "Fat Free Chocolate Milk Jug",
         130,
         0.0,
         22.0,
         9.0,
         23.0,
         "McDonald's"
        ],
        [
         "Minute Maid 100% Apple Juice Box",
         80,
         0.0,
         19.0,
         0.0,
         21.0,
         "McDonald's"
        ],
        [
         "Minute Maid Orange Juice (Small)",
         150,
         0.0,
         30.0,
         2.0,
         34.0,
         "McDonald's"
        ],
        [
         "Minute Maid Orange Juice (Medium)",
         190,
         0.0,
         39.0,
         3.0,
         44.0,
         "McDonald's"
        ],
        [
         "Minute Maid Orange Juice (Large)",
         280,
         0.0,
         58.0,
         4.0,
         65.0,
         "McDonald's"
        ],
        [
         "Dasani Water Bottle",
         0,
         0.0,
         0.0,
         0.0,
         0.0,
         "McDonald's"
        ],
        [
         "Iced Tea (Small)",
         0,
         0.0,
         0.0,
         0.0,
         0.0,
         "McDonald's"
        ],
        [
         "Iced Tea (Medium)",
         0,
         0.0,
         0.0,
         0.0,
         0.0,
         "McDonald's"
        ],
        [
         "Iced Tea (Large)",
         0,
         0.0,
         0.0,
         0.0,
         0.0,
         "McDonald's"
        ],
        [
         "Iced Tea (Child)",
         0,
         0.0,
         0.0,
         0.0,
         0.0,
         "McDonald's"
        ],
        [
         "Sweet Tea (Small)",
         150,
         0.0,
         36.0,
         1.0,
         36.0,
         "McDonald's"
        ],
        [
         "Sweet Tea (Medium)",
         180,
         0.0,
         45.0,
         1.0,
         45.0,
         "McDonald's"
        ],
        [
         "Sweet Tea (Large)",
         220,
         0.0,
         54.0,
         1.0,
         54.0,
         "McDonald's"
        ],
        [
         "Sweet Tea (Child)",
         110,
         0.0,
         27.0,
         0.0,
         27.0,
         "McDonald's"
        ],
        [
         "Coffee (Small)",
         0,
         0.0,
         0.0,
         0.0,
         0.0,
         "McDonald's"
        ],
        [
         "Coffee (Medium)",
         0,
         0.0,
         0.0,
         0.0,
         0.0,
         "McDonald's"
        ],
        [
         "Coffee (Large)",
         0,
         0.0,
         0.0,
         0.0,
         0.0,
         "McDonald's"
        ],
        [
         "Latte (Small)",
         170,
         9.0,
         12.0,
         9.0,
         15.0,
         "McDonald's"
        ],
        [
         "Latte (Medium)",
         210,
         10.0,
         15.0,
         11.0,
         18.0,
         "McDonald's"
        ],
        [
         "Latte (Large)",
         280,
         14.0,
         20.0,
         15.0,
         24.0,
         "McDonald's"
        ],
        [
         "Caramel Latte (Small)",
         270,
         9.0,
         38.0,
         9.0,
         40.0,
         "McDonald's"
        ],
        [
         "Caramel Latte (Medium)",
         340,
         10.0,
         48.0,
         11.0,
         50.0,
         "McDonald's"
        ],
        [
         "Caramel Latte (Large)",
         430,
         14.0,
         59.0,
         15.0,
         62.0,
         "McDonald's"
        ],
        [
         "Hazelnut Latte (Small)",
         270,
         9.0,
         38.0,
         9.0,
         40.0,
         "McDonald's"
        ],
        [
         "Hazelnut Latte (Medium)",
         330,
         10.0,
         47.0,
         11.0,
         50.0,
         "McDonald's"
        ],
        [
         "Hazelnut Latte (Large)",
         430,
         14.0,
         58.0,
         15.0,
         62.0,
         "McDonald's"
        ],
        [
         "French Vanilla Latte (Small)",
         260,
         9.0,
         36.0,
         9.0,
         38.0,
         "McDonald's"
        ],
        [
         "French Vanilla Latte (Medium)",
         330,
         10.0,
         45.0,
         11.0,
         48.0,
         "McDonald's"
        ],
        [
         "French Vanilla Latte (Large)",
         420,
         14.0,
         56.0,
         15.0,
         60.0,
         "McDonald's"
        ],
        [
         "Latte with Sugar Free French Vanilla Syrup (Small)",
         210,
         9.0,
         12.0,
         9.0,
         24.0,
         "McDonald's"
        ],
        [
         "Latte with Sugar Free French Vanilla Syrup (Medium)",
         260,
         10.0,
         15.0,
         12.0,
         29.0,
         "McDonald's"
        ],
        [
         "Latte with Sugar Free French Vanilla Syrup (Large)",
         330,
         14.0,
         20.0,
         15.0,
         37.0,
         "McDonald's"
        ],
        [
         "Nonfat Latte (Small)",
         100,
         0.0,
         13.0,
         10.0,
         15.0,
         "McDonald's"
        ],
        [
         "Nonfat Latte (Medium)",
         130,
         0.0,
         16.0,
         12.0,
         19.0,
         "McDonald's"
        ],
        [
         "Nonfat Latte (Large)",
         170,
         0.5,
         21.0,
         16.0,
         25.0,
         "McDonald's"
        ],
        [
         "Nonfat Caramel Latte (Small)",
         200,
         0.0,
         39.0,
         10.0,
         41.0,
         "McDonald's"
        ],
        [
         "Nonfat Caramel Latte (Medium)",
         250,
         0.0,
         48.0,
         12.0,
         51.0,
         "McDonald's"
        ],
        [
         "Nonfat Caramel Latte (Large)",
         310,
         0.5,
         59.0,
         16.0,
         63.0,
         "McDonald's"
        ],
        [
         "Nonfat Hazelnut Latte (Small)",
         200,
         0.0,
         38.0,
         10.0,
         40.0,
         "McDonald's"
        ],
        [
         "Nonfat Hazelnut Latte (Medium)",
         250,
         0.0,
         48.0,
         12.0,
         51.0,
         "McDonald's"
        ],
        [
         "Nonfat Hazelnut Latte (Large)",
         310,
         0.5,
         59.0,
         16.0,
         63.0,
         "McDonald's"
        ],
        [
         "Nonfat French Vanilla Latte (Small)",
         190,
         0.0,
         37.0,
         10.0,
         39.0,
         "McDonald's"
        ],
        [
         "Nonfat French Vanilla Latte (Medium)",
         240,
         0.0,
         46.0,
         12.0,
         49.0,
         "McDonald's"
        ],
        [
         "Nonfat French Vanilla Latte (Large)",
         300,
         0.5,
         56.0,
         16.0,
         60.0,
         "McDonald's"
        ],
        [
         "Nonfat Latte with Sugar Free French Vanilla Syrup (Small)",
         140,
         0.0,
         13.0,
         10.0,
         24.0,
         "McDonald's"
        ],
        [
         "Nonfat Latte with Sugar Free French Vanilla Syrup (Medium)",
         170,
         0.0,
         16.0,
         12.0,
         30.0,
         "McDonald's"
        ],
        [
         "Nonfat Latte with Sugar Free French Vanilla Syrup (Large)",
         220,
         0.5,
         21.0,
         16.0,
         38.0,
         "McDonald's"
        ],
        [
         "Mocha (Small)",
         340,
         11.0,
         42.0,
         10.0,
         49.0,
         "McDonald's"
        ],
        [
         "Mocha (Medium)",
         410,
         14.0,
         53.0,
         13.0,
         60.0,
         "McDonald's"
        ],
        [
         "Mocha (Large)",
         500,
         17.0,
         63.0,
         16.0,
         72.0,
         "McDonald's"
        ],
        [
         "Mocha with Nonfat Milk (Small)",
         270,
         3.5,
         43.0,
         11.0,
         49.0,
         "McDonald's"
        ],
        [
         "Mocha with Nonfat Milk (Medium)",
         330,
         3.5,
         53.0,
         13.0,
         60.0,
         "McDonald's"
        ],
        [
         "Mocha with Nonfat Milk (Large)",
         390,
         4.0,
         64.0,
         17.0,
         73.0,
         "McDonald's"
        ],
        [
         "Caramel Mocha (Small)",
         320,
         11.0,
         40.0,
         10.0,
         45.0,
         "McDonald's"
        ],
        [
         "Caramel Mocha (Medium)",
         390,
         14.0,
         50.0,
         12.0,
         55.0,
         "McDonald's"
        ],
        [
         "Caramel Mocha (Large)",
         480,
         17.0,
         60.0,
         16.0,
         66.0,
         "McDonald's"
        ],
        [
         "Nonfat Caramel Mocha (Small)",
         250,
         3.5,
         41.0,
         10.0,
         45.0,
         "McDonald's"
        ],
        [
         "Nonfat Caramel Mocha (Medium)",
         310,
         3.5,
         51.0,
         13.0,
         56.0,
         "McDonald's"
        ],
        [
         "Nonfat Caramel Mocha (Large)",
         370,
         3.5,
         61.0,
         17.0,
         67.0,
         "McDonald's"
        ],
        [
         "Hot Chocolate (Small)",
         360,
         13.0,
         45.0,
         11.0,
         50.0,
         "McDonald's"
        ],
        [
         "Hot Chocolate (Medium)",
         440,
         16.0,
         56.0,
         14.0,
         61.0,
         "McDonald's"
        ],
        [
         "Hot Chocolate (Large)",
         540,
         20.0,
         68.0,
         17.0,
         73.0,
         "McDonald's"
        ],
        [
         "Hot Chocolate with Nonfat Milk (Small)",
         280,
         3.5,
         46.0,
         12.0,
         50.0,
         "McDonald's"
        ],
        [
         "Hot Chocolate with Nonfat Milk (Medium)",
         340,
         3.5,
         57.0,
         14.0,
         61.0,
         "McDonald's"
        ],
        [
         "Hot Chocolate with Nonfat Milk (Large)",
         400,
         3.5,
         69.0,
         19.0,
         74.0,
         "McDonald's"
        ],
        [
         "Regular Iced Coffee (Small)",
         140,
         4.5,
         22.0,
         1.0,
         23.0,
         "McDonald's"
        ],
        [
         "Regular Iced Coffee (Medium)",
         190,
         7.0,
         30.0,
         1.0,
         31.0,
         "McDonald's"
        ],
        [
         "Regular Iced Coffee (Large)",
         270,
         9.0,
         45.0,
         2.0,
         47.0,
         "McDonald's"
        ],
        [
         "Caramel Iced Coffee (Small)",
         130,
         4.5,
         21.0,
         1.0,
         22.0,
         "McDonald's"
        ],
        [
         "Caramel Iced Coffee (Medium)",
         180,
         7.0,
         28.0,
         1.0,
         29.0,
         "McDonald's"
        ],
        [
         "Caramel Iced Coffee (Large)",
         260,
         9.0,
         42.0,
         2.0,
         43.0,
         "McDonald's"
        ],
        [
         "Hazelnut Iced Coffee (Small)",
         130,
         4.5,
         20.0,
         1.0,
         21.0,
         "McDonald's"
        ],
        [
         "Hazelnut Iced Coffee (Medium)",
         180,
         7.0,
         28.0,
         1.0,
         29.0,
         "McDonald's"
        ],
        [
         "Hazelnut Iced Coffee (Large)",
         250,
         9.0,
         41.0,
         2.0,
         43.0,
         "McDonald's"
        ],
        [
         "French Vanilla Iced Coffee (Small)",
         120,
         4.5,
         19.0,
         1.0,
         20.0,
         "McDonald's"
        ],
        [
         "French Vanilla Iced Coffee (Medium)",
         170,
         7.0,
         26.0,
         1.0,
         27.0,
         "McDonald's"
        ],
        [
         "French Vanilla Iced Coffee (Large)",
         240,
         9.0,
         39.0,
         2.0,
         41.0,
         "McDonald's"
        ],
        [
         "Iced Coffee with Sugar Free French Vanilla Syrup (Small)",
         80,
         4.5,
         1.0,
         1.0,
         9.0,
         "McDonald's"
        ],
        [
         "Iced Coffee with Sugar Free French Vanilla Syrup (Medium)",
         120,
         7.0,
         2.0,
         1.0,
         12.0,
         "McDonald's"
        ],
        [
         "Iced Coffee with Sugar Free French Vanilla Syrup (Large)",
         160,
         9.0,
         2.0,
         2.0,
         18.0,
         "McDonald's"
        ],
        [
         "Iced Mocha (Small)",
         290,
         11.0,
         34.0,
         8.0,
         41.0,
         "McDonald's"
        ],
        [
         "Iced Mocha (Medium)",
         350,
         13.0,
         43.0,
         9.0,
         50.0,
         "McDonald's"
        ],
        [
         "Iced Mocha (Large)",
         480,
         16.0,
         62.0,
         14.0,
         70.0,
         "McDonald's"
        ],
        [
         "Iced Mocha with Nonfat Milk (Small)",
         240,
         5.0,
         35.0,
         8.0,
         41.0,
         "McDonald's"
        ],
        [
         "Iced Mocha with Nonfat Milk (Medium)",
         290,
         5.0,
         43.0,
         10.0,
         50.0,
         "McDonald's"
        ],
        [
         "Iced Mocha with Nonfat Milk (Large)",
         390,
         6.0,
         62.0,
         14.0,
         71.0,
         "McDonald's"
        ],
        [
         "Iced Caramel Mocha (Small)",
         280,
         11.0,
         33.0,
         8.0,
         38.0,
         "McDonald's"
        ],
        [
         "Iced Caramel Mocha (Medium)",
         340,
         13.0,
         41.0,
         9.0,
         46.0,
         "McDonald's"
        ],
        [
         "Iced Caramel Mocha (Large)",
         460,
         16.0,
         59.0,
         13.0,
         65.0,
         "McDonald's"
        ],
        [
         "Iced Nonfat Caramel Mocha (Small)",
         230,
         5.0,
         33.0,
         8.0,
         38.0,
         "McDonald's"
        ],
        [
         "Iced Nonfat Caramel Mocha (Medium)",
         270,
         5.0,
         41.0,
         10.0,
         47.0,
         "McDonald's"
        ],
        [
         "Iced Nonfat Caramel Mocha (Large)",
         370,
         6.0,
         59.0,
         14.0,
         65.0,
         "McDonald's"
        ],
        [
         "Frapp� Mocha (Small)",
         450,
         18.0,
         57.0,
         7.0,
         65.0,
         "McDonald's"
        ],
        [
         "Frapp� Mocha (Medium)",
         550,
         22.0,
         71.0,
         9.0,
         80.0,
         "McDonald's"
        ],
        [
         "Frapp� Mocha (Large)",
         670,
         26.0,
         88.0,
         11.0,
         98.0,
         "McDonald's"
        ],
        [
         "Frapp� Caramel (Small)",
         450,
         19.0,
         57.0,
         7.0,
         64.0,
         "McDonald's"
        ],
        [
         "Frapp� Caramel (Medium)",
         550,
         23.0,
         71.0,
         9.0,
         79.0,
         "McDonald's"
        ],
        [
         "Frapp� Caramel (Large)",
         670,
         27.0,
         88.0,
         11.0,
         96.0,
         "McDonald's"
        ],
        [
         "Frapp� Chocolate Chip (Small)",
         530,
         23.0,
         67.0,
         8.0,
         76.0,
         "McDonald's"
        ],
        [
         "Frapp� Chocolate Chip (Medium)",
         630,
         26.0,
         81.0,
         9.0,
         91.0,
         "McDonald's"
        ],
        [
         "Frapp� Chocolate Chip (Large)",
         760,
         31.0,
         99.0,
         12.0,
         111.0,
         "McDonald's"
        ],
        [
         "Blueberry Pomegranate Smoothie (Small)",
         220,
         0.5,
         44.0,
         2.0,
         50.0,
         "McDonald's"
        ],
        [
         "Blueberry Pomegranate Smoothie (Medium)",
         260,
         1.0,
         54.0,
         3.0,
         62.0,
         "McDonald's"
        ],
        [
         "Blueberry Pomegranate Smoothie (Large)",
         340,
         1.0,
         70.0,
         4.0,
         79.0,
         "McDonald's"
        ],
        [
         "Strawberry Banana Smoothie (Small)",
         210,
         0.5,
         44.0,
         3.0,
         47.0,
         "McDonald's"
        ],
        [
         "Strawberry Banana Smoothie (Medium)",
         250,
         1.0,
         54.0,
         4.0,
         58.0,
         "McDonald's"
        ],
        [
         "Strawberry Banana Smoothie (Large)",
         330,
         1.0,
         70.0,
         5.0,
         74.0,
         "McDonald's"
        ],
        [
         "Mango Pineapple Smoothie (Small)",
         210,
         0.5,
         46.0,
         2.0,
         50.0,
         "McDonald's"
        ],
        [
         "Mango Pineapple Smoothie (Medium)",
         260,
         1.0,
         56.0,
         3.0,
         61.0,
         "McDonald's"
        ],
        [
         "Mango Pineapple Smoothie (Large)",
         340,
         1.0,
         72.0,
         4.0,
         78.0,
         "McDonald's"
        ],
        [
         "Vanilla Shake (Small)",
         530,
         15.0,
         63.0,
         11.0,
         86.0,
         "McDonald's"
        ],
        [
         "Vanilla Shake (Medium)",
         660,
         19.0,
         81.0,
         14.0,
         109.0,
         "McDonald's"
        ],
        [
         "Vanilla Shake (Large)",
         820,
         23.0,
         101.0,
         18.0,
         135.0,
         "McDonald's"
        ],
        [
         "Strawberry Shake (Small)",
         550,
         16.0,
         79.0,
         12.0,
         90.0,
         "McDonald's"
        ],
        [
         "Strawberry Shake (Medium)",
         690,
         20.0,
         100.0,
         15.0,
         114.0,
         "McDonald's"
        ],
        [
         "Strawberry Shake (Large)",
         850,
         24.0,
         123.0,
         18.0,
         140.0,
         "McDonald's"
        ],
        [
         "Chocolate Shake (Small)",
         560,
         16.0,
         77.0,
         12.0,
         91.0,
         "McDonald's"
        ],
        [
         "Chocolate Shake (Medium)",
         700,
         20.0,
         97.0,
         15.0,
         114.0,
         "McDonald's"
        ],
        [
         "Chocolate Shake (Large)",
         850,
         23.0,
         120.0,
         19.0,
         141.0,
         "McDonald's"
        ],
        [
         "Shamrock Shake (Medium)",
         660,
         19.0,
         93.0,
         14.0,
         109.0,
         "McDonald's"
        ],
        [
         "Shamrock Shake (Large)",
         820,
         23.0,
         115.0,
         18.0,
         135.0,
         "McDonald's"
        ],
        [
         "McFlurry with M&M�s Candies (Small)",
         650,
         23.0,
         89.0,
         13.0,
         96.0,
         "McDonald's"
        ],
        [
         "McFlurry with M&M�s Candies (Medium)",
         930,
         33.0,
         128.0,
         20.0,
         139.0,
         "McDonald's"
        ],
        [
         "McFlurry with M&M�s Candies (Snack)",
         430,
         15.0,
         59.0,
         9.0,
         64.0,
         "McDonald's"
        ],
        [
         "McFlurry with Oreo Cookies (Small)",
         510,
         17.0,
         64.0,
         12.0,
         80.0,
         "McDonald's"
        ],
        [
         "McFlurry with Oreo Cookies (Medium)",
         690,
         23.0,
         85.0,
         15.0,
         106.0,
         "McDonald's"
        ],
        [
         "McFlurry with Oreo Cookies (Snack)",
         340,
         11.0,
         43.0,
         8.0,
         53.0,
         "McDonald's"
        ],
        [
         "McFlurry with Reese's Peanut Butter Cups (Medium)",
         810,
         32.0,
         103.0,
         21.0,
         114.0,
         "McDonald's"
        ],
        [
         "McFlurry with Reese's Peanut Butter Cups (Snack)",
         410,
         16.0,
         51.0,
         10.0,
         57.0,
         "McDonald's"
        ]
       ],
       "datasetInfos": [],
       "dbfsResultPath": null,
       "isJsonSchema": true,
       "metadata": {},
       "overflow": false,
       "plotOptions": {
        "customPlotOptions": {},
        "displayType": "table",
        "pivotAggregation": null,
        "pivotColumns": null,
        "xColumns": null,
        "yColumns": null
       },
       "removedWidgets": [],
       "schema": [
        {
         "metadata": "{}",
         "name": "Food_Item",
         "type": "\"string\""
        },
        {
         "metadata": "{}",
         "name": "Calories",
         "type": "\"integer\""
        },
        {
         "metadata": "{}",
         "name": "Fat",
         "type": "\"float\""
        },
        {
         "metadata": "{}",
         "name": "Sugars",
         "type": "\"float\""
        },
        {
         "metadata": "{}",
         "name": "Protein",
         "type": "\"float\""
        },
        {
         "metadata": "{}",
         "name": "Carbs",
         "type": "\"float\""
        },
        {
         "metadata": "{}",
         "name": "Brand",
         "type": "\"string\""
        }
       ],
       "type": "table"
      }
     },
     "output_type": "display_data"
    }
   ],
   "source": [
    "mcd_df.display()"
   ]
  },
  {
   "cell_type": "code",
   "execution_count": 0,
   "metadata": {
    "application/vnd.databricks.v1+cell": {
     "cellMetadata": {
      "byteLimit": 2048000,
      "rowLimit": 10000
     },
     "collapsed": true,
     "inputWidgets": {},
     "nuid": "35e3dc09-8cde-4160-bde3-c9bc9f5bfe17",
     "showTitle": false,
     "tableResultSettingsMap": {},
     "title": ""
    }
   },
   "outputs": [
    {
     "output_type": "display_data",
     "data": {
      "text/html": [
       "<style scoped>\n",
       "  .table-result-container {\n",
       "    max-height: 300px;\n",
       "    overflow: auto;\n",
       "  }\n",
       "  table, th, td {\n",
       "    border: 1px solid black;\n",
       "    border-collapse: collapse;\n",
       "  }\n",
       "  th, td {\n",
       "    padding: 5px;\n",
       "  }\n",
       "  th {\n",
       "    text-align: left;\n",
       "  }\n",
       "</style><div class='table-result-container'><table class='table-result'><thead style='background-color: white'><tr><th>Food_Item</th><th>Calories</th><th>Fat</th><th>Sugars</th><th>Protein</th><th>Carbs</th><th>Brand</th></tr></thead><tbody><tr><td>Chonga Bagel</td><td>300</td><td>5.0</td><td>null</td><td>12.0</td><td>50.0</td><td>Starbucks</td></tr><tr><td>8-Grain Roll</td><td>380</td><td>6.0</td><td>null</td><td>10.0</td><td>70.0</td><td>Starbucks</td></tr><tr><td>Almond Croissant</td><td>410</td><td>22.0</td><td>null</td><td>10.0</td><td>45.0</td><td>Starbucks</td></tr><tr><td>Apple Fritter</td><td>460</td><td>23.0</td><td>null</td><td>7.0</td><td>56.0</td><td>Starbucks</td></tr><tr><td>Banana Nut Bread</td><td>420</td><td>22.0</td><td>null</td><td>6.0</td><td>52.0</td><td>Starbucks</td></tr><tr><td>Blueberry Muffin with Yogurt and Honey</td><td>380</td><td>16.0</td><td>null</td><td>6.0</td><td>53.0</td><td>Starbucks</td></tr><tr><td>Blueberry Scone</td><td>420</td><td>17.0</td><td>null</td><td>5.0</td><td>61.0</td><td>Starbucks</td></tr><tr><td>Butter Croissant</td><td>240</td><td>12.0</td><td>null</td><td>5.0</td><td>28.0</td><td>Starbucks</td></tr><tr><td>Butterfly Cookie</td><td>350</td><td>22.0</td><td>null</td><td>2.0</td><td>38.0</td><td>Starbucks</td></tr><tr><td>Cheese Danish</td><td>320</td><td>16.0</td><td>null</td><td>8.0</td><td>36.0</td><td>Starbucks</td></tr><tr><td>Chewy Chocolate Cookie</td><td>170</td><td>5.0</td><td>null</td><td>2.0</td><td>30.0</td><td>Starbucks</td></tr><tr><td>Chocolate Chip Cookie</td><td>310</td><td>15.0</td><td>null</td><td>4.0</td><td>42.0</td><td>Starbucks</td></tr><tr><td>Chocolate Chunk Muffin</td><td>440</td><td>21.0</td><td>null</td><td>7.0</td><td>60.0</td><td>Starbucks</td></tr><tr><td>Chocolate Croissant</td><td>330</td><td>18.0</td><td>null</td><td>6.0</td><td>38.0</td><td>Starbucks</td></tr><tr><td>Chocolate Hazelnut Croissant</td><td>390</td><td>22.0</td><td>null</td><td>7.0</td><td>43.0</td><td>Starbucks</td></tr><tr><td>Chocolate Marble Loaf Cake</td><td>490</td><td>24.0</td><td>null</td><td>6.0</td><td>64.0</td><td>Starbucks</td></tr><tr><td>Cinnamon Morning Bun</td><td>390</td><td>15.0</td><td>null</td><td>8.0</td><td>56.0</td><td>Starbucks</td></tr><tr><td>Cinnamon Raisin Bagel</td><td>270</td><td>1.0</td><td>null</td><td>9.0</td><td>58.0</td><td>Starbucks</td></tr><tr><td>Classic Coffee Cake</td><td>390</td><td>16.0</td><td>null</td><td>5.0</td><td>57.0</td><td>Starbucks</td></tr><tr><td>Cookie Butter Bar</td><td>360</td><td>23.0</td><td>null</td><td>2.0</td><td>36.0</td><td>Starbucks</td></tr><tr><td>Cranberry Orange Scone</td><td>420</td><td>15.0</td><td>null</td><td>6.0</td><td>64.0</td><td>Starbucks</td></tr><tr><td>Devil's Food Doughnut</td><td>430</td><td>23.0</td><td>null</td><td>5.0</td><td>53.0</td><td>Starbucks</td></tr><tr><td>Double Chocolate Brownie</td><td>410</td><td>24.0</td><td>null</td><td>6.0</td><td>46.0</td><td>Starbucks</td></tr><tr><td>Double Chocolate Chunk Brownie</td><td>490</td><td>28.0</td><td>null</td><td>7.0</td><td>55.0</td><td>Starbucks</td></tr><tr><td>Double Chocolate Loaf Cake</td><td>440</td><td>23.0</td><td>null</td><td>5.0</td><td>54.0</td><td>Starbucks</td></tr><tr><td>Everybody's Favorite - Bantam Bagel (2 Pack)</td><td>100</td><td>3.5</td><td>null</td><td>3.0</td><td>14.0</td><td>Starbucks</td></tr><tr><td>Everything Bagel with Cheese</td><td>290</td><td>3.5</td><td>null</td><td>11.0</td><td>53.0</td><td>Starbucks</td></tr><tr><td>Frappuccino� Cookie Straw</td><td>90</td><td>3.0</td><td>null</td><td>1.0</td><td>14.0</td><td>Starbucks</td></tr><tr><td>French Toast - Bantam Bagels (2 Pack)</td><td>200</td><td>8.0</td><td>null</td><td>6.0</td><td>30.0</td><td>Starbucks</td></tr><tr><td>Gluten-Free Marshmallow Dream Bar</td><td>240</td><td>5.0</td><td>null</td><td>2.0</td><td>45.0</td><td>Starbucks</td></tr><tr><td>Ice Cream Cone Sugar Cookie</td><td>250</td><td>14.0</td><td>null</td><td>3.0</td><td>29.0</td><td>Starbucks</td></tr><tr><td>Iced Lemon Pound Cake</td><td>470</td><td>20.0</td><td>null</td><td>6.0</td><td>68.0</td><td>Starbucks</td></tr><tr><td>Michigan Cherry Oat Bar</td><td>310</td><td>10.0</td><td>null</td><td>3.0</td><td>47.0</td><td>Starbucks</td></tr><tr><td>Multigrain Bagel</td><td>350</td><td>4.0</td><td>null</td><td>17.0</td><td>64.0</td><td>Starbucks</td></tr><tr><td>Oatmeal Cookie</td><td>290</td><td>12.0</td><td>null</td><td>5.0</td><td>40.0</td><td>Starbucks</td></tr><tr><td>Octopus Cookie</td><td>330</td><td>18.0</td><td>null</td><td>3.0</td><td>39.0</td><td>Starbucks</td></tr><tr><td>Old-Fashioned Glazed Doughnut</td><td>480</td><td>27.0</td><td>null</td><td>5.0</td><td>56.0</td><td>Starbucks</td></tr><tr><td>Peanut butter cup cookie</td><td>360</td><td>21.0</td><td>null</td><td>8.0</td><td>36.0</td><td>Starbucks</td></tr><tr><td>Pecan Tart</td><td>330</td><td>18.0</td><td>null</td><td>4.0</td><td>39.0</td><td>Starbucks</td></tr><tr><td>Petite Vanilla Bean Scone</td><td>120</td><td>4.5</td><td>null</td><td>2.0</td><td>18.0</td><td>Starbucks</td></tr><tr><td>Plain Bagel</td><td>280</td><td>1.5</td><td>null</td><td>9.0</td><td>56.0</td><td>Starbucks</td></tr><tr><td>Pumpkin Bread</td><td>410</td><td>15.0</td><td>null</td><td>6.0</td><td>63.0</td><td>Starbucks</td></tr><tr><td>Raspberry Swirl Loaf Cake</td><td>420</td><td>17.0</td><td>null</td><td>6.0</td><td>61.0</td><td>Starbucks</td></tr><tr><td>Raspberry Whoopie Pie</td><td>360</td><td>18.0</td><td>null</td><td>3.0</td><td>45.0</td><td>Starbucks</td></tr><tr><td>Reduced-Fat Cinnamon Swirl Coffee Cake</td><td>370</td><td>9.0</td><td>null</td><td>5.0</td><td>67.0</td><td>Starbucks</td></tr><tr><td>S'mores Bar</td><td>330</td><td>17.0</td><td>null</td><td>2.0</td><td>44.0</td><td>Starbucks</td></tr><tr><td>S'mores Bar Multipack</td><td>330</td><td>17.0</td><td>null</td><td>2.0</td><td>44.0</td><td>Starbucks</td></tr><tr><td>Sprouted Grain Vegan Bagel</td><td>330</td><td>6.0</td><td>null</td><td>12.0</td><td>57.0</td><td>Starbucks</td></tr><tr><td>Strawberry Cake Pop</td><td>180</td><td>9.0</td><td>null</td><td>2.0</td><td>23.0</td><td>Starbucks</td></tr><tr><td>The Classic - Bantam Bagels (2 Pack)</td><td>200</td><td>8.0</td><td>null</td><td>6.0</td><td>28.0</td><td>Starbucks</td></tr><tr><td>Toffeedoodle</td><td>300</td><td>13.0</td><td>null</td><td>3.0</td><td>44.0</td><td>Starbucks</td></tr><tr><td>Vanilla Bean Whoopie Pie</td><td>360</td><td>18.0</td><td>null</td><td>3.0</td><td>45.0</td><td>Starbucks</td></tr><tr><td>Vermont Maple Walnut Muffin</td><td>390</td><td>21.0</td><td>null</td><td>6.0</td><td>45.0</td><td>Starbucks</td></tr><tr><td>Volpi� Pepperoni & Tomato Savory Foldover</td><td>270</td><td>14.0</td><td>null</td><td>10.0</td><td>27.0</td><td>Starbucks</td></tr><tr><td>Strawberries & Jam Sandwich</td><td>600</td><td>25.0</td><td>null</td><td>19.0</td><td>80.0</td><td>Starbucks</td></tr><tr><td>Burrata & Basil Pesto Small Sandwich</td><td>300</td><td>14.0</td><td>null</td><td>11.0</td><td>34.0</td><td>Starbucks</td></tr><tr><td>Cage-Free Eggs & Seasoned Grains Side Salad</td><td>360</td><td>18.0</td><td>null</td><td>17.0</td><td>33.0</td><td>Starbucks</td></tr><tr><td>Cauliflower Tabbouleh Side Salad</td><td>130</td><td>12.0</td><td>null</td><td>2.0</td><td>7.0</td><td>Starbucks</td></tr><tr><td>Cubano Sandwich</td><td>430</td><td>23.0</td><td>null</td><td>21.0</td><td>34.0</td><td>Starbucks</td></tr><tr><td>Farmers' Market Protein Box</td><td>470</td><td>29.0</td><td>null</td><td>21.0</td><td>29.0</td><td>Starbucks</td></tr><tr><td>Garden Greens & Shaved Parmesan Side Salad</td><td>170</td><td>13.0</td><td>null</td><td>7.0</td><td>9.0</td><td>Starbucks</td></tr><tr><td>Green Goddess Avocado Salad</td><td>620</td><td>37.0</td><td>null</td><td>13.0</td><td>62.0</td><td>Starbucks</td></tr><tr><td>Herbed Chicken & Fig Spread Small Sandwich</td><td>300</td><td>8.0</td><td>null</td><td>19.0</td><td>43.0</td><td>Starbucks</td></tr><tr><td>Honey BBQ Sriracha Chicken Sandwich</td><td>360</td><td>7.0</td><td>null</td><td>22.0</td><td>52.0</td><td>Starbucks</td></tr><tr><td>Roasted Carrot & Kale Side Salad</td><td>440</td><td>26.0</td><td>null</td><td>10.0</td><td>44.0</td><td>Starbucks</td></tr><tr><td>Roasted Turkey & Dill Havarti Sandwich</td><td>600</td><td>32.0</td><td>null</td><td>32.0</td><td>47.0</td><td>Starbucks</td></tr><tr><td>Seared Steak & Cheddar Sandwich</td><td>530</td><td>29.0</td><td>null</td><td>23.0</td><td>44.0</td><td>Starbucks</td></tr><tr><td>Slow-Roasted Ham & Beecher's Flagship Cheese Small Sandwich</td><td>350</td><td>18.0</td><td>null</td><td>16.0</td><td>31.0</td><td>Starbucks</td></tr><tr><td>Smoked Mozzarella & Roasted Pepper Sandwich</td><td>500</td><td>28.0</td><td>null</td><td>18.0</td><td>46.0</td><td>Starbucks</td></tr><tr><td>Turkey & Fire-Roasted Corn Salad</td><td>560</td><td>29.0</td><td>null</td><td>24.0</td><td>53.0</td><td>Starbucks</td></tr><tr><td>Za'atar Chicken & Lemon Tahini Salad</td><td>570</td><td>23.0</td><td>null</td><td>27.0</td><td>67.0</td><td>Starbucks</td></tr><tr><td>BBQ Chicken Protein Box</td><td>420</td><td>16.0</td><td>null</td><td>22.0</td><td>49.0</td><td>Starbucks</td></tr><tr><td>Cheese & Fruit Protein Box</td><td>450</td><td>27.0</td><td>null</td><td>20.0</td><td>34.0</td><td>Starbucks</td></tr><tr><td>Chicken Wrap Protein Box</td><td>460</td><td>22.0</td><td>null</td><td>20.0</td><td>45.0</td><td>Starbucks</td></tr><tr><td>Eggs & Cheese Protein Box</td><td>460</td><td>24.0</td><td>null</td><td>23.0</td><td>40.0</td><td>Starbucks</td></tr><tr><td>PB&J Protein Box</td><td>520</td><td>26.0</td><td>null</td><td>20.0</td><td>53.0</td><td>Starbucks</td></tr><tr><td>Smoked Turkey Protein Box</td><td>360</td><td>12.0</td><td>null</td><td>24.0</td><td>42.0</td><td>Starbucks</td></tr><tr><td>Birthday Cake Pop</td><td>170</td><td>9.0</td><td>null</td><td>1.0</td><td>23.0</td><td>Starbucks</td></tr><tr><td>Chocolate Cake Pop</td><td>160</td><td>8.0</td><td>null</td><td>2.0</td><td>23.0</td><td>Starbucks</td></tr><tr><td>Chocolate Chip Cookie Dough Cake Pop</td><td>180</td><td>9.0</td><td>null</td><td>2.0</td><td>23.0</td><td>Starbucks</td></tr><tr><td>Pirate Cake Pop</td><td>180</td><td>9.0</td><td>null</td><td>1.0</td><td>24.0</td><td>Starbucks</td></tr><tr><td>Bacon Gouda & Egg Breakfast Sandwich</td><td>370</td><td>19.0</td><td>null</td><td>18.0</td><td>32.0</td><td>Starbucks</td></tr><tr><td>Certified Gluten-Free Breakfast Sandwich</td><td>280</td><td>13.0</td><td>null</td><td>18.0</td><td>18.0</td><td>Starbucks</td></tr><tr><td>Classic Whole-Grain Oatmeal</td><td>160</td><td>2.5</td><td>null</td><td>5.0</td><td>28.0</td><td>Starbucks</td></tr><tr><td>Double-Smoked Bacon Cheddar & Egg Sandwich</td><td>490</td><td>27.0</td><td>null</td><td>21.0</td><td>40.0</td><td>Starbucks</td></tr><tr><td>Ham & Cheese Croissant</td><td>320</td><td>17.0</td><td>null</td><td>14.0</td><td>28.0</td><td>Starbucks</td></tr><tr><td>Hearty Blueberry Oatmeal</td><td>220</td><td>2.5</td><td>null</td><td>5.0</td><td>43.0</td><td>Starbucks</td></tr><tr><td>Reduced-Fat Turkey Bacon & Cage Free Egg White Breakfast Sandwich</td><td>230</td><td>6.0</td><td>null</td><td>16.0</td><td>28.0</td><td>Starbucks</td></tr><tr><td>Sausage Cheddar & Egg Breakfast Sandwich</td><td>500</td><td>28.0</td><td>null</td><td>15.0</td><td>41.0</td><td>Starbucks</td></tr><tr><td>Seared Steak Egg & Tomatillo Wrap</td><td>410</td><td>18.0</td><td>null</td><td>21.0</td><td>43.0</td><td>Starbucks</td></tr><tr><td>Slow-Roasted Ham Swiss & Egg Breakfast Sandwich</td><td>450</td><td>23.0</td><td>null</td><td>24.0</td><td>42.0</td><td>Starbucks</td></tr><tr><td>Sous Vide Egg Bites: Bacon & Gruyere</td><td>310</td><td>22.0</td><td>null</td><td>19.0</td><td>9.0</td><td>Starbucks</td></tr><tr><td>Sous Vide Egg Bites: Egg White & Red Pepper</td><td>170</td><td>7.0</td><td>null</td><td>13.0</td><td>13.0</td><td>Starbucks</td></tr><tr><td>Spicy Chorizo  Monterey Jack & Egg Breakfast Sandwich</td><td>500</td><td>30.0</td><td>null</td><td>26.0</td><td>35.0</td><td>Starbucks</td></tr><tr><td>Spinach Feta & Cage Free Egg White Breakfast Wrap</td><td>290</td><td>10.0</td><td>null</td><td>19.0</td><td>33.0</td><td>Starbucks</td></tr><tr><td>Ancho Chipotle Chicken Panini</td><td>500</td><td>19.0</td><td>null</td><td>26.0</td><td>57.0</td><td>Starbucks</td></tr><tr><td>Chicken & Quinoa Protein Bowl with Black Beans and Greens</td><td>420</td><td>17.0</td><td>null</td><td>27.0</td><td>42.0</td><td>Starbucks</td></tr><tr><td>Chicken Artichoke on Ancient Grain Flatbread</td><td>510</td><td>27.0</td><td>null</td><td>24.0</td><td>37.0</td><td>Starbucks</td></tr><tr><td>Chicken BLT Salad Sandwich</td><td>470</td><td>25.0</td><td>null</td><td>21.0</td><td>35.0</td><td>Starbucks</td></tr><tr><td>Egg Salad Sandwich</td><td>480</td><td>27.0</td><td>null</td><td>16.0</td><td>42.0</td><td>Starbucks</td></tr><tr><td>Homestyle Chicken & Double-Smoked Bacon</td><td>480</td><td>17.0</td><td>null</td><td>23.0</td><td>57.0</td><td>Starbucks</td></tr><tr><td>Italian-Style Ham & Spicy Salami</td><td>480</td><td>20.0</td><td>null</td><td>22.0</td><td>49.0</td><td>Starbucks</td></tr><tr><td>Lentils & Vegetable Protein Bowl with Brown Rice</td><td>650</td><td>29.0</td><td>null</td><td>23.0</td><td>80.0</td><td>Starbucks</td></tr><tr><td>Roasted Tomato & Mozzarella Panini</td><td>420</td><td>18.0</td><td>null</td><td>11.0</td><td>47.0</td><td>Starbucks</td></tr><tr><td>Turkey & Havarti Sandwich</td><td>460</td><td>21.0</td><td>null</td><td>29.0</td><td>31.0</td><td>Starbucks</td></tr><tr><td>Turkey Pesto Panini</td><td>560</td><td>23.0</td><td>null</td><td>34.0</td><td>55.0</td><td>Starbucks</td></tr><tr><td>Berry Trio Yogurt</td><td>240</td><td>2.5</td><td>null</td><td>14.0</td><td>39.0</td><td>Starbucks</td></tr><tr><td>Fresh Blueberries and Honey Greek Yogurt Parfait</td><td>240</td><td>2.5</td><td>null</td><td>14.0</td><td>42.0</td><td>Starbucks</td></tr><tr><td>Justin's Chocolate Hazelnut Butter</td><td>180</td><td>14.0</td><td>null</td><td>4.0</td><td>12.0</td><td>Starbucks</td></tr><tr><td>Justin's Classic Almond Butter</td><td>190</td><td>18.0</td><td>null</td><td>7.0</td><td>6.0</td><td>Starbucks</td></tr><tr><td>Lemon Chiffon Yogurt</td><td>340</td><td>13.0</td><td>null</td><td>18.0</td><td>38.0</td><td>Starbucks</td></tr><tr><td>Organic Avocado (Spread)</td><td>90</td><td>8.0</td><td>null</td><td>1.0</td><td>5.0</td><td>Starbucks</td></tr><tr><td>Seasonal Fruit Blend</td><td>90</td><td>0.0</td><td>null</td><td>1.0</td><td>24.0</td><td>Starbucks</td></tr><tr><td>Cool Lime Starbucks Refreshers� Beverage</td><td>45</td><td>0.0</td><td>null</td><td>0.0</td><td>11.0</td><td>Starbucks</td></tr><tr><td>Strawberry Acai Starbucks Refreshers� Beverage</td><td>80</td><td>0.0</td><td>null</td><td>0.0</td><td>18.0</td><td>Starbucks</td></tr><tr><td>Very Berry Hibiscus Starbucks Refreshers� Beverage</td><td>60</td><td>0.0</td><td>null</td><td>0.0</td><td>14.0</td><td>Starbucks</td></tr><tr><td>Evolution Fresh� Organic Ginger Limeade</td><td>110</td><td>0.0</td><td>null</td><td>0.0</td><td>28.0</td><td>Starbucks</td></tr><tr><td>Iced Coffee</td><td>0</td><td>0.0</td><td>null</td><td>0.0</td><td>0.0</td><td>Starbucks</td></tr><tr><td>Iced Espresso Classics - Vanilla Latte</td><td>130</td><td>2.5</td><td>null</td><td>5.0</td><td>21.0</td><td>Starbucks</td></tr><tr><td>Iced Espresso Classics - Caffe Mocha</td><td>140</td><td>2.5</td><td>null</td><td>5.0</td><td>23.0</td><td>Starbucks</td></tr><tr><td>Iced Espresso Classics - Caramel Macchiato</td><td>130</td><td>2.5</td><td>null</td><td>5.0</td><td>21.0</td><td>Starbucks</td></tr><tr><td>Shaken Sweet Tea</td><td>80</td><td>0.0</td><td>null</td><td>0.0</td><td>19.0</td><td>Starbucks</td></tr><tr><td>Tazo� Bottled Berry Blossom White</td><td>60</td><td>0.0</td><td>null</td><td>0.0</td><td>15.0</td><td>Starbucks</td></tr><tr><td>Tazo� Bottled Black Mango</td><td>150</td><td>0.0</td><td>null</td><td>0.0</td><td>38.0</td><td>Starbucks</td></tr><tr><td>Tazo� Bottled Black with Lemon</td><td>140</td><td>0.0</td><td>null</td><td>0.0</td><td>35.0</td><td>Starbucks</td></tr><tr><td>Tazo� Bottled Brambleberry</td><td>140</td><td>0.0</td><td>null</td><td>0.0</td><td>35.0</td><td>Starbucks</td></tr><tr><td>Tazo� Bottled Giant Peach</td><td>150</td><td>0.0</td><td>null</td><td>0.0</td><td>37.0</td><td>Starbucks</td></tr><tr><td>Tazo� Bottled Iced Passion</td><td>70</td><td>0.0</td><td>null</td><td>0.0</td><td>17.0</td><td>Starbucks</td></tr><tr><td>Tazo� Bottled Lemon Ginger</td><td>120</td><td>0.0</td><td>null</td><td>0.0</td><td>31.0</td><td>Starbucks</td></tr><tr><td>Tazo� Bottled Organic Black Lemonade</td><td>140</td><td>0.0</td><td>null</td><td>0.0</td><td>35.0</td><td>Starbucks</td></tr><tr><td>Tazo� Bottled Organic Iced Black Tea</td><td>60</td><td>0.0</td><td>null</td><td>0.0</td><td>15.0</td><td>Starbucks</td></tr><tr><td>Tazo� Bottled Organic Iced Green Tea</td><td>120</td><td>0.0</td><td>null</td><td>0.0</td><td>31.0</td><td>Starbucks</td></tr><tr><td>Tazo� Bottled Plum Pomegranate</td><td>140</td><td>0.0</td><td>null</td><td>0.0</td><td>35.0</td><td>Starbucks</td></tr><tr><td>Tazo� Bottled Tazoberry</td><td>150</td><td>0.0</td><td>null</td><td>0.0</td><td>38.0</td><td>Starbucks</td></tr><tr><td>Tazo� Bottled White Cranberry</td><td>140</td><td>0.0</td><td>null</td><td>0.0</td><td>35.0</td><td>Starbucks</td></tr><tr><td>Teavana� Shaken Iced Black Tea</td><td>30</td><td>0.0</td><td>null</td><td>0.0</td><td>8.0</td><td>Starbucks</td></tr><tr><td>Teavana� Shaken Iced Black Tea Lemonade</td><td>70</td><td>0.0</td><td>null</td><td>0.0</td><td>17.0</td><td>Starbucks</td></tr><tr><td>Teavana� Shaken Iced Green Tea</td><td>30</td><td>0.0</td><td>null</td><td>0.0</td><td>8.0</td><td>Starbucks</td></tr><tr><td>Teavana� Shaken Iced Green Tea Lemonade</td><td>70</td><td>0.0</td><td>null</td><td>0.0</td><td>17.0</td><td>Starbucks</td></tr><tr><td>Teavana� Shaken Iced Passion Tango� Tea</td><td>30</td><td>0.0</td><td>null</td><td>0.0</td><td>8.0</td><td>Starbucks</td></tr><tr><td>Teavana� Shaken Iced Passion Tango� Tea Lemonade</td><td>90</td><td>0.0</td><td>null</td><td>0.0</td><td>24.0</td><td>Starbucks</td></tr><tr><td>Teavana� Shaken Iced Peach Green Tea</td><td>60</td><td>0.0</td><td>null</td><td>0.0</td><td>15.0</td><td>Starbucks</td></tr><tr><td>Iced Espresso Classics - Vanilla Latte</td><td>130</td><td>2.5</td><td>null</td><td>5.0</td><td>21.0</td><td>Starbucks</td></tr><tr><td>Iced Espresso Classics - Caffe Mocha</td><td>140</td><td>2.5</td><td>null</td><td>5.0</td><td>23.0</td><td>Starbucks</td></tr><tr><td>Iced Espresso Classics - Caramel Macchiato</td><td>130</td><td>2.5</td><td>null</td><td>5.0</td><td>21.0</td><td>Starbucks</td></tr><tr><td>Starbucks Refreshers� Raspberry Pomegranate</td><td>90</td><td>0.0</td><td>null</td><td>0.0</td><td>27.0</td><td>Starbucks</td></tr><tr><td>Starbucks Refreshers� Strawberry Lemonade</td><td>90</td><td>0.0</td><td>null</td><td>0.0</td><td>27.0</td><td>Starbucks</td></tr><tr><td>Starbucks� Doubleshot Protein Dark Chocolate</td><td>210</td><td>2.5</td><td>null</td><td>20.0</td><td>33.0</td><td>Starbucks</td></tr><tr><td>Starbucks� Doubleshot Protein Vanilla</td><td>200</td><td>2.5</td><td>null</td><td>20.0</td><td>34.0</td><td>Starbucks</td></tr><tr><td>Starbucks� Iced Coffee Caramel</td><td>60</td><td>0.0</td><td>null</td><td>1.0</td><td>13.0</td><td>Starbucks</td></tr><tr><td>Starbucks� Iced Coffee Light Sweetened</td><td>50</td><td>0.0</td><td>null</td><td>1.0</td><td>11.0</td><td>Starbucks</td></tr><tr><td>Starbucks� Iced Coffee Unsweetened</td><td>10</td><td>0.0</td><td>null</td><td>1.0</td><td>2.0</td><td>Starbucks</td></tr><tr><td>Tazo� Bottled Berry Blossom White</td><td>60</td><td>0.0</td><td>null</td><td>0.0</td><td>15.0</td><td>Starbucks</td></tr><tr><td>Tazo� Bottled Black Mango</td><td>150</td><td>0.0</td><td>null</td><td>0.0</td><td>38.0</td><td>Starbucks</td></tr><tr><td>Tazo� Bottled Black with Lemon</td><td>140</td><td>0.0</td><td>null</td><td>0.0</td><td>35.0</td><td>Starbucks</td></tr><tr><td>Tazo� Bottled Brambleberry</td><td>140</td><td>0.0</td><td>null</td><td>0.0</td><td>35.0</td><td>Starbucks</td></tr><tr><td>Tazo� Bottled Giant Peach</td><td>150</td><td>0.0</td><td>null</td><td>0.0</td><td>37.0</td><td>Starbucks</td></tr><tr><td>Tazo� Bottled Iced Passion</td><td>70</td><td>0.0</td><td>null</td><td>0.0</td><td>17.0</td><td>Starbucks</td></tr><tr><td>Tazo� Bottled Lemon Ginger</td><td>120</td><td>0.0</td><td>null</td><td>0.0</td><td>31.0</td><td>Starbucks</td></tr><tr><td>Tazo� Bottled Organic Black Lemonade</td><td>140</td><td>0.0</td><td>null</td><td>0.0</td><td>35.0</td><td>Starbucks</td></tr><tr><td>Tazo� Bottled Organic Iced Black Tea</td><td>60</td><td>0.0</td><td>null</td><td>0.0</td><td>15.0</td><td>Starbucks</td></tr><tr><td>Tazo� Bottled Organic Iced Green Tea</td><td>120</td><td>0.0</td><td>null</td><td>0.0</td><td>31.0</td><td>Starbucks</td></tr><tr><td>Tazo� Bottled Plum Pomegranate</td><td>140</td><td>0.0</td><td>null</td><td>0.0</td><td>35.0</td><td>Starbucks</td></tr><tr><td>Tazo� Bottled Tazoberry</td><td>150</td><td>0.0</td><td>null</td><td>0.0</td><td>38.0</td><td>Starbucks</td></tr><tr><td>Tazo� Bottled White Cranberry</td><td>140</td><td>0.0</td><td>null</td><td>0.0</td><td>35.0</td><td>Starbucks</td></tr><tr><td>Blonde Roast</td><td>5</td><td>0.0</td><td>null</td><td>1.0</td><td>0.0</td><td>Starbucks</td></tr><tr><td>Clover� Brewed Coffee</td><td>10</td><td>0.0</td><td>null</td><td>1.0</td><td>0.0</td><td>Starbucks</td></tr><tr><td>Decaf Pike Place� Roast</td><td>5</td><td>0.0</td><td>null</td><td>1.0</td><td>0.0</td><td>Starbucks</td></tr><tr><td>Featured Dark Roast</td><td>5</td><td>0.0</td><td>null</td><td>1.0</td><td>0.0</td><td>Starbucks</td></tr><tr><td>Iced Coffee</td><td>5</td><td>0.0</td><td>null</td><td>0.0</td><td>0.0</td><td>Starbucks</td></tr><tr><td>Nari�o 70 Cold Brew</td><td>5</td><td>0.0</td><td>null</td><td>0.0</td><td>0.0</td><td>Starbucks</td></tr><tr><td>Nari�o 70 Cold Brew with Milk</td><td>0</td><td>0.0</td><td>null</td><td>0.0</td><td>0.0</td><td>Starbucks</td></tr><tr><td>Nitro Cold Brew</td><td>5</td><td>0.0</td><td>null</td><td>0.0</td><td>0.0</td><td>Starbucks</td></tr><tr><td>Nitro Cold Brew with Sweet Cream</td><td>70</td><td>5.0</td><td>null</td><td>1.0</td><td>5.0</td><td>Starbucks</td></tr><tr><td>Pike Place� Roast</td><td>5</td><td>0.0</td><td>null</td><td>1.0</td><td>0.0</td><td>Starbucks</td></tr><tr><td>Vanilla Sweet Cream Cold Brew</td><td>110</td><td>6.0</td><td>null</td><td>1.0</td><td>14.0</td><td>Starbucks</td></tr><tr><td>Hot Chocolate</td><td>320</td><td>9.0</td><td>null</td><td>14.0</td><td>47.0</td><td>Starbucks</td></tr><tr><td>Starbucks� Signature Hot Chocolate</td><td>430</td><td>26.0</td><td>null</td><td>12.0</td><td>45.0</td><td>Starbucks</td></tr><tr><td>Caff� Latte</td><td>190</td><td>7.0</td><td>null</td><td>13.0</td><td>19.0</td><td>Starbucks</td></tr><tr><td>Caff� Mocha</td><td>290</td><td>8.0</td><td>null</td><td>13.0</td><td>42.0</td><td>Starbucks</td></tr><tr><td>Cappuccino</td><td>120</td><td>4.0</td><td>null</td><td>8.0</td><td>12.0</td><td>Starbucks</td></tr><tr><td>Caramel Macchiato</td><td>250</td><td>7.0</td><td>null</td><td>10.0</td><td>35.0</td><td>Starbucks</td></tr><tr><td>Cinnamon Dolce Latte</td><td>260</td><td>6.0</td><td>null</td><td>11.0</td><td>40.0</td><td>Starbucks</td></tr><tr><td>Coconutmilk Mocha Macchiato</td><td>250</td><td>9.0</td><td>null</td><td>12.0</td><td>32.0</td><td>Starbucks</td></tr><tr><td>Flat White</td><td>180</td><td>7.0</td><td>null</td><td>12.0</td><td>18.0</td><td>Starbucks</td></tr><tr><td>Iced Caff� Latte</td><td>130</td><td>4.5</td><td>null</td><td>8.0</td><td>13.0</td><td>Starbucks</td></tr><tr><td>Iced Caff� Mocha</td><td>230</td><td>6.0</td><td>null</td><td>9.0</td><td>36.0</td><td>Starbucks</td></tr><tr><td>Iced Caramel Macchiato</td><td>250</td><td>7.0</td><td>null</td><td>10.0</td><td>37.0</td><td>Starbucks</td></tr><tr><td>Iced Cinnamon Dolce Latte</td><td>200</td><td>4.0</td><td>null</td><td>7.0</td><td>34.0</td><td>Starbucks</td></tr><tr><td>Iced Coconutmilk Mocha Macchiato</td><td>260</td><td>9.0</td><td>null</td><td>11.0</td><td>34.0</td><td>Starbucks</td></tr><tr><td>Iced Vanilla Latte</td><td>190</td><td>4.0</td><td>null</td><td>7.0</td><td>30.0</td><td>Starbucks</td></tr><tr><td>Iced White Chocolate Mocha</td><td>300</td><td>8.0</td><td>null</td><td>10.0</td><td>47.0</td><td>Starbucks</td></tr><tr><td>Latte Macchiato</td><td>190</td><td>7.0</td><td>null</td><td>12.0</td><td>19.0</td><td>Starbucks</td></tr><tr><td>Latte Macchiato</td><td>190</td><td>7.0</td><td>null</td><td>12.0</td><td>19.0</td><td>Starbucks</td></tr><tr><td>Starbucks Doubleshot� on Ice Beverage</td><td>45</td><td>1.0</td><td>null</td><td>3.0</td><td>5.0</td><td>Starbucks</td></tr><tr><td>Vanilla Latte</td><td>250</td><td>6.0</td><td>null</td><td>12.0</td><td>37.0</td><td>Starbucks</td></tr><tr><td>White Chocolate Mocha</td><td>360</td><td>11.0</td><td>null</td><td>14.0</td><td>53.0</td><td>Starbucks</td></tr><tr><td>Cinnamon Dolce Frappuccino� Blended Coffee</td><td>350</td><td>4.5</td><td>null</td><td>15.0</td><td>64.0</td><td>Starbucks</td></tr><tr><td>Coffee Light Frappuccino� Blended Coffee</td><td>110</td><td>0.0</td><td>null</td><td>3.0</td><td>24.0</td><td>Starbucks</td></tr><tr><td>Mocha Frappuccino� Blended Coffee</td><td>280</td><td>2.5</td><td>null</td><td>4.0</td><td>60.0</td><td>Starbucks</td></tr><tr><td>Mocha Light Frappuccino� Blended Coffee</td><td>140</td><td>0.5</td><td>null</td><td>4.0</td><td>28.0</td><td>Starbucks</td></tr><tr><td>Cinnamon Dolce Cr�me</td><td>200</td><td>6.0</td><td>null</td><td>10.0</td><td>28.0</td><td>Starbucks</td></tr><tr><td>Vanilla Cr�me</td><td>200</td><td>6.0</td><td>null</td><td>10.0</td><td>28.0</td><td>Starbucks</td></tr><tr><td>Chocolate Smoothie</td><td>320</td><td>5.0</td><td>null</td><td>20.0</td><td>53.0</td><td>Starbucks</td></tr><tr><td>Strawberry Smoothie</td><td>300</td><td>2.0</td><td>null</td><td>16.0</td><td>60.0</td><td>Starbucks</td></tr></tbody></table></div>"
      ]
     },
     "metadata": {
      "application/vnd.databricks.v1+output": {
       "addedWidgets": {},
       "aggData": [],
       "aggError": "",
       "aggOverflow": false,
       "aggSchema": [],
       "aggSeriesLimitReached": false,
       "aggType": "",
       "arguments": {},
       "columnCustomDisplayInfos": {},
       "data": [
        [
         "Chonga Bagel",
         300,
         5.0,
         null,
         12.0,
         50.0,
         "Starbucks"
        ],
        [
         "8-Grain Roll",
         380,
         6.0,
         null,
         10.0,
         70.0,
         "Starbucks"
        ],
        [
         "Almond Croissant",
         410,
         22.0,
         null,
         10.0,
         45.0,
         "Starbucks"
        ],
        [
         "Apple Fritter",
         460,
         23.0,
         null,
         7.0,
         56.0,
         "Starbucks"
        ],
        [
         "Banana Nut Bread",
         420,
         22.0,
         null,
         6.0,
         52.0,
         "Starbucks"
        ],
        [
         "Blueberry Muffin with Yogurt and Honey",
         380,
         16.0,
         null,
         6.0,
         53.0,
         "Starbucks"
        ],
        [
         "Blueberry Scone",
         420,
         17.0,
         null,
         5.0,
         61.0,
         "Starbucks"
        ],
        [
         "Butter Croissant",
         240,
         12.0,
         null,
         5.0,
         28.0,
         "Starbucks"
        ],
        [
         "Butterfly Cookie",
         350,
         22.0,
         null,
         2.0,
         38.0,
         "Starbucks"
        ],
        [
         "Cheese Danish",
         320,
         16.0,
         null,
         8.0,
         36.0,
         "Starbucks"
        ],
        [
         "Chewy Chocolate Cookie",
         170,
         5.0,
         null,
         2.0,
         30.0,
         "Starbucks"
        ],
        [
         "Chocolate Chip Cookie",
         310,
         15.0,
         null,
         4.0,
         42.0,
         "Starbucks"
        ],
        [
         "Chocolate Chunk Muffin",
         440,
         21.0,
         null,
         7.0,
         60.0,
         "Starbucks"
        ],
        [
         "Chocolate Croissant",
         330,
         18.0,
         null,
         6.0,
         38.0,
         "Starbucks"
        ],
        [
         "Chocolate Hazelnut Croissant",
         390,
         22.0,
         null,
         7.0,
         43.0,
         "Starbucks"
        ],
        [
         "Chocolate Marble Loaf Cake",
         490,
         24.0,
         null,
         6.0,
         64.0,
         "Starbucks"
        ],
        [
         "Cinnamon Morning Bun",
         390,
         15.0,
         null,
         8.0,
         56.0,
         "Starbucks"
        ],
        [
         "Cinnamon Raisin Bagel",
         270,
         1.0,
         null,
         9.0,
         58.0,
         "Starbucks"
        ],
        [
         "Classic Coffee Cake",
         390,
         16.0,
         null,
         5.0,
         57.0,
         "Starbucks"
        ],
        [
         "Cookie Butter Bar",
         360,
         23.0,
         null,
         2.0,
         36.0,
         "Starbucks"
        ],
        [
         "Cranberry Orange Scone",
         420,
         15.0,
         null,
         6.0,
         64.0,
         "Starbucks"
        ],
        [
         "Devil's Food Doughnut",
         430,
         23.0,
         null,
         5.0,
         53.0,
         "Starbucks"
        ],
        [
         "Double Chocolate Brownie",
         410,
         24.0,
         null,
         6.0,
         46.0,
         "Starbucks"
        ],
        [
         "Double Chocolate Chunk Brownie",
         490,
         28.0,
         null,
         7.0,
         55.0,
         "Starbucks"
        ],
        [
         "Double Chocolate Loaf Cake",
         440,
         23.0,
         null,
         5.0,
         54.0,
         "Starbucks"
        ],
        [
         "Everybody's Favorite - Bantam Bagel (2 Pack)",
         100,
         3.5,
         null,
         3.0,
         14.0,
         "Starbucks"
        ],
        [
         "Everything Bagel with Cheese",
         290,
         3.5,
         null,
         11.0,
         53.0,
         "Starbucks"
        ],
        [
         "Frappuccino� Cookie Straw",
         90,
         3.0,
         null,
         1.0,
         14.0,
         "Starbucks"
        ],
        [
         "French Toast - Bantam Bagels (2 Pack)",
         200,
         8.0,
         null,
         6.0,
         30.0,
         "Starbucks"
        ],
        [
         "Gluten-Free Marshmallow Dream Bar",
         240,
         5.0,
         null,
         2.0,
         45.0,
         "Starbucks"
        ],
        [
         "Ice Cream Cone Sugar Cookie",
         250,
         14.0,
         null,
         3.0,
         29.0,
         "Starbucks"
        ],
        [
         "Iced Lemon Pound Cake",
         470,
         20.0,
         null,
         6.0,
         68.0,
         "Starbucks"
        ],
        [
         "Michigan Cherry Oat Bar",
         310,
         10.0,
         null,
         3.0,
         47.0,
         "Starbucks"
        ],
        [
         "Multigrain Bagel",
         350,
         4.0,
         null,
         17.0,
         64.0,
         "Starbucks"
        ],
        [
         "Oatmeal Cookie",
         290,
         12.0,
         null,
         5.0,
         40.0,
         "Starbucks"
        ],
        [
         "Octopus Cookie",
         330,
         18.0,
         null,
         3.0,
         39.0,
         "Starbucks"
        ],
        [
         "Old-Fashioned Glazed Doughnut",
         480,
         27.0,
         null,
         5.0,
         56.0,
         "Starbucks"
        ],
        [
         "Peanut butter cup cookie",
         360,
         21.0,
         null,
         8.0,
         36.0,
         "Starbucks"
        ],
        [
         "Pecan Tart",
         330,
         18.0,
         null,
         4.0,
         39.0,
         "Starbucks"
        ],
        [
         "Petite Vanilla Bean Scone",
         120,
         4.5,
         null,
         2.0,
         18.0,
         "Starbucks"
        ],
        [
         "Plain Bagel",
         280,
         1.5,
         null,
         9.0,
         56.0,
         "Starbucks"
        ],
        [
         "Pumpkin Bread",
         410,
         15.0,
         null,
         6.0,
         63.0,
         "Starbucks"
        ],
        [
         "Raspberry Swirl Loaf Cake",
         420,
         17.0,
         null,
         6.0,
         61.0,
         "Starbucks"
        ],
        [
         "Raspberry Whoopie Pie",
         360,
         18.0,
         null,
         3.0,
         45.0,
         "Starbucks"
        ],
        [
         "Reduced-Fat Cinnamon Swirl Coffee Cake",
         370,
         9.0,
         null,
         5.0,
         67.0,
         "Starbucks"
        ],
        [
         "S'mores Bar",
         330,
         17.0,
         null,
         2.0,
         44.0,
         "Starbucks"
        ],
        [
         "S'mores Bar Multipack",
         330,
         17.0,
         null,
         2.0,
         44.0,
         "Starbucks"
        ],
        [
         "Sprouted Grain Vegan Bagel",
         330,
         6.0,
         null,
         12.0,
         57.0,
         "Starbucks"
        ],
        [
         "Strawberry Cake Pop",
         180,
         9.0,
         null,
         2.0,
         23.0,
         "Starbucks"
        ],
        [
         "The Classic - Bantam Bagels (2 Pack)",
         200,
         8.0,
         null,
         6.0,
         28.0,
         "Starbucks"
        ],
        [
         "Toffeedoodle",
         300,
         13.0,
         null,
         3.0,
         44.0,
         "Starbucks"
        ],
        [
         "Vanilla Bean Whoopie Pie",
         360,
         18.0,
         null,
         3.0,
         45.0,
         "Starbucks"
        ],
        [
         "Vermont Maple Walnut Muffin",
         390,
         21.0,
         null,
         6.0,
         45.0,
         "Starbucks"
        ],
        [
         "Volpi� Pepperoni & Tomato Savory Foldover",
         270,
         14.0,
         null,
         10.0,
         27.0,
         "Starbucks"
        ],
        [
         "Strawberries & Jam Sandwich",
         600,
         25.0,
         null,
         19.0,
         80.0,
         "Starbucks"
        ],
        [
         "Burrata & Basil Pesto Small Sandwich",
         300,
         14.0,
         null,
         11.0,
         34.0,
         "Starbucks"
        ],
        [
         "Cage-Free Eggs & Seasoned Grains Side Salad",
         360,
         18.0,
         null,
         17.0,
         33.0,
         "Starbucks"
        ],
        [
         "Cauliflower Tabbouleh Side Salad",
         130,
         12.0,
         null,
         2.0,
         7.0,
         "Starbucks"
        ],
        [
         "Cubano Sandwich",
         430,
         23.0,
         null,
         21.0,
         34.0,
         "Starbucks"
        ],
        [
         "Farmers' Market Protein Box",
         470,
         29.0,
         null,
         21.0,
         29.0,
         "Starbucks"
        ],
        [
         "Garden Greens & Shaved Parmesan Side Salad",
         170,
         13.0,
         null,
         7.0,
         9.0,
         "Starbucks"
        ],
        [
         "Green Goddess Avocado Salad",
         620,
         37.0,
         null,
         13.0,
         62.0,
         "Starbucks"
        ],
        [
         "Herbed Chicken & Fig Spread Small Sandwich",
         300,
         8.0,
         null,
         19.0,
         43.0,
         "Starbucks"
        ],
        [
         "Honey BBQ Sriracha Chicken Sandwich",
         360,
         7.0,
         null,
         22.0,
         52.0,
         "Starbucks"
        ],
        [
         "Roasted Carrot & Kale Side Salad",
         440,
         26.0,
         null,
         10.0,
         44.0,
         "Starbucks"
        ],
        [
         "Roasted Turkey & Dill Havarti Sandwich",
         600,
         32.0,
         null,
         32.0,
         47.0,
         "Starbucks"
        ],
        [
         "Seared Steak & Cheddar Sandwich",
         530,
         29.0,
         null,
         23.0,
         44.0,
         "Starbucks"
        ],
        [
         "Slow-Roasted Ham & Beecher's Flagship Cheese Small Sandwich",
         350,
         18.0,
         null,
         16.0,
         31.0,
         "Starbucks"
        ],
        [
         "Smoked Mozzarella & Roasted Pepper Sandwich",
         500,
         28.0,
         null,
         18.0,
         46.0,
         "Starbucks"
        ],
        [
         "Turkey & Fire-Roasted Corn Salad",
         560,
         29.0,
         null,
         24.0,
         53.0,
         "Starbucks"
        ],
        [
         "Za'atar Chicken & Lemon Tahini Salad",
         570,
         23.0,
         null,
         27.0,
         67.0,
         "Starbucks"
        ],
        [
         "BBQ Chicken Protein Box",
         420,
         16.0,
         null,
         22.0,
         49.0,
         "Starbucks"
        ],
        [
         "Cheese & Fruit Protein Box",
         450,
         27.0,
         null,
         20.0,
         34.0,
         "Starbucks"
        ],
        [
         "Chicken Wrap Protein Box",
         460,
         22.0,
         null,
         20.0,
         45.0,
         "Starbucks"
        ],
        [
         "Eggs & Cheese Protein Box",
         460,
         24.0,
         null,
         23.0,
         40.0,
         "Starbucks"
        ],
        [
         "PB&J Protein Box",
         520,
         26.0,
         null,
         20.0,
         53.0,
         "Starbucks"
        ],
        [
         "Smoked Turkey Protein Box",
         360,
         12.0,
         null,
         24.0,
         42.0,
         "Starbucks"
        ],
        [
         "Birthday Cake Pop",
         170,
         9.0,
         null,
         1.0,
         23.0,
         "Starbucks"
        ],
        [
         "Chocolate Cake Pop",
         160,
         8.0,
         null,
         2.0,
         23.0,
         "Starbucks"
        ],
        [
         "Chocolate Chip Cookie Dough Cake Pop",
         180,
         9.0,
         null,
         2.0,
         23.0,
         "Starbucks"
        ],
        [
         "Pirate Cake Pop",
         180,
         9.0,
         null,
         1.0,
         24.0,
         "Starbucks"
        ],
        [
         "Bacon Gouda & Egg Breakfast Sandwich",
         370,
         19.0,
         null,
         18.0,
         32.0,
         "Starbucks"
        ],
        [
         "Certified Gluten-Free Breakfast Sandwich",
         280,
         13.0,
         null,
         18.0,
         18.0,
         "Starbucks"
        ],
        [
         "Classic Whole-Grain Oatmeal",
         160,
         2.5,
         null,
         5.0,
         28.0,
         "Starbucks"
        ],
        [
         "Double-Smoked Bacon Cheddar & Egg Sandwich",
         490,
         27.0,
         null,
         21.0,
         40.0,
         "Starbucks"
        ],
        [
         "Ham & Cheese Croissant",
         320,
         17.0,
         null,
         14.0,
         28.0,
         "Starbucks"
        ],
        [
         "Hearty Blueberry Oatmeal",
         220,
         2.5,
         null,
         5.0,
         43.0,
         "Starbucks"
        ],
        [
         "Reduced-Fat Turkey Bacon & Cage Free Egg White Breakfast Sandwich",
         230,
         6.0,
         null,
         16.0,
         28.0,
         "Starbucks"
        ],
        [
         "Sausage Cheddar & Egg Breakfast Sandwich",
         500,
         28.0,
         null,
         15.0,
         41.0,
         "Starbucks"
        ],
        [
         "Seared Steak Egg & Tomatillo Wrap",
         410,
         18.0,
         null,
         21.0,
         43.0,
         "Starbucks"
        ],
        [
         "Slow-Roasted Ham Swiss & Egg Breakfast Sandwich",
         450,
         23.0,
         null,
         24.0,
         42.0,
         "Starbucks"
        ],
        [
         "Sous Vide Egg Bites: Bacon & Gruyere",
         310,
         22.0,
         null,
         19.0,
         9.0,
         "Starbucks"
        ],
        [
         "Sous Vide Egg Bites: Egg White & Red Pepper",
         170,
         7.0,
         null,
         13.0,
         13.0,
         "Starbucks"
        ],
        [
         "Spicy Chorizo  Monterey Jack & Egg Breakfast Sandwich",
         500,
         30.0,
         null,
         26.0,
         35.0,
         "Starbucks"
        ],
        [
         "Spinach Feta & Cage Free Egg White Breakfast Wrap",
         290,
         10.0,
         null,
         19.0,
         33.0,
         "Starbucks"
        ],
        [
         "Ancho Chipotle Chicken Panini",
         500,
         19.0,
         null,
         26.0,
         57.0,
         "Starbucks"
        ],
        [
         "Chicken & Quinoa Protein Bowl with Black Beans and Greens",
         420,
         17.0,
         null,
         27.0,
         42.0,
         "Starbucks"
        ],
        [
         "Chicken Artichoke on Ancient Grain Flatbread",
         510,
         27.0,
         null,
         24.0,
         37.0,
         "Starbucks"
        ],
        [
         "Chicken BLT Salad Sandwich",
         470,
         25.0,
         null,
         21.0,
         35.0,
         "Starbucks"
        ],
        [
         "Egg Salad Sandwich",
         480,
         27.0,
         null,
         16.0,
         42.0,
         "Starbucks"
        ],
        [
         "Homestyle Chicken & Double-Smoked Bacon",
         480,
         17.0,
         null,
         23.0,
         57.0,
         "Starbucks"
        ],
        [
         "Italian-Style Ham & Spicy Salami",
         480,
         20.0,
         null,
         22.0,
         49.0,
         "Starbucks"
        ],
        [
         "Lentils & Vegetable Protein Bowl with Brown Rice",
         650,
         29.0,
         null,
         23.0,
         80.0,
         "Starbucks"
        ],
        [
         "Roasted Tomato & Mozzarella Panini",
         420,
         18.0,
         null,
         11.0,
         47.0,
         "Starbucks"
        ],
        [
         "Turkey & Havarti Sandwich",
         460,
         21.0,
         null,
         29.0,
         31.0,
         "Starbucks"
        ],
        [
         "Turkey Pesto Panini",
         560,
         23.0,
         null,
         34.0,
         55.0,
         "Starbucks"
        ],
        [
         "Berry Trio Yogurt",
         240,
         2.5,
         null,
         14.0,
         39.0,
         "Starbucks"
        ],
        [
         "Fresh Blueberries and Honey Greek Yogurt Parfait",
         240,
         2.5,
         null,
         14.0,
         42.0,
         "Starbucks"
        ],
        [
         "Justin's Chocolate Hazelnut Butter",
         180,
         14.0,
         null,
         4.0,
         12.0,
         "Starbucks"
        ],
        [
         "Justin's Classic Almond Butter",
         190,
         18.0,
         null,
         7.0,
         6.0,
         "Starbucks"
        ],
        [
         "Lemon Chiffon Yogurt",
         340,
         13.0,
         null,
         18.0,
         38.0,
         "Starbucks"
        ],
        [
         "Organic Avocado (Spread)",
         90,
         8.0,
         null,
         1.0,
         5.0,
         "Starbucks"
        ],
        [
         "Seasonal Fruit Blend",
         90,
         0.0,
         null,
         1.0,
         24.0,
         "Starbucks"
        ],
        [
         "Cool Lime Starbucks Refreshers� Beverage",
         45,
         0.0,
         null,
         0.0,
         11.0,
         "Starbucks"
        ],
        [
         "Strawberry Acai Starbucks Refreshers� Beverage",
         80,
         0.0,
         null,
         0.0,
         18.0,
         "Starbucks"
        ],
        [
         "Very Berry Hibiscus Starbucks Refreshers� Beverage",
         60,
         0.0,
         null,
         0.0,
         14.0,
         "Starbucks"
        ],
        [
         "Evolution Fresh� Organic Ginger Limeade",
         110,
         0.0,
         null,
         0.0,
         28.0,
         "Starbucks"
        ],
        [
         "Iced Coffee",
         0,
         0.0,
         null,
         0.0,
         0.0,
         "Starbucks"
        ],
        [
         "Iced Espresso Classics - Vanilla Latte",
         130,
         2.5,
         null,
         5.0,
         21.0,
         "Starbucks"
        ],
        [
         "Iced Espresso Classics - Caffe Mocha",
         140,
         2.5,
         null,
         5.0,
         23.0,
         "Starbucks"
        ],
        [
         "Iced Espresso Classics - Caramel Macchiato",
         130,
         2.5,
         null,
         5.0,
         21.0,
         "Starbucks"
        ],
        [
         "Shaken Sweet Tea",
         80,
         0.0,
         null,
         0.0,
         19.0,
         "Starbucks"
        ],
        [
         "Tazo� Bottled Berry Blossom White",
         60,
         0.0,
         null,
         0.0,
         15.0,
         "Starbucks"
        ],
        [
         "Tazo� Bottled Black Mango",
         150,
         0.0,
         null,
         0.0,
         38.0,
         "Starbucks"
        ],
        [
         "Tazo� Bottled Black with Lemon",
         140,
         0.0,
         null,
         0.0,
         35.0,
         "Starbucks"
        ],
        [
         "Tazo� Bottled Brambleberry",
         140,
         0.0,
         null,
         0.0,
         35.0,
         "Starbucks"
        ],
        [
         "Tazo� Bottled Giant Peach",
         150,
         0.0,
         null,
         0.0,
         37.0,
         "Starbucks"
        ],
        [
         "Tazo� Bottled Iced Passion",
         70,
         0.0,
         null,
         0.0,
         17.0,
         "Starbucks"
        ],
        [
         "Tazo� Bottled Lemon Ginger",
         120,
         0.0,
         null,
         0.0,
         31.0,
         "Starbucks"
        ],
        [
         "Tazo� Bottled Organic Black Lemonade",
         140,
         0.0,
         null,
         0.0,
         35.0,
         "Starbucks"
        ],
        [
         "Tazo� Bottled Organic Iced Black Tea",
         60,
         0.0,
         null,
         0.0,
         15.0,
         "Starbucks"
        ],
        [
         "Tazo� Bottled Organic Iced Green Tea",
         120,
         0.0,
         null,
         0.0,
         31.0,
         "Starbucks"
        ],
        [
         "Tazo� Bottled Plum Pomegranate",
         140,
         0.0,
         null,
         0.0,
         35.0,
         "Starbucks"
        ],
        [
         "Tazo� Bottled Tazoberry",
         150,
         0.0,
         null,
         0.0,
         38.0,
         "Starbucks"
        ],
        [
         "Tazo� Bottled White Cranberry",
         140,
         0.0,
         null,
         0.0,
         35.0,
         "Starbucks"
        ],
        [
         "Teavana� Shaken Iced Black Tea",
         30,
         0.0,
         null,
         0.0,
         8.0,
         "Starbucks"
        ],
        [
         "Teavana� Shaken Iced Black Tea Lemonade",
         70,
         0.0,
         null,
         0.0,
         17.0,
         "Starbucks"
        ],
        [
         "Teavana� Shaken Iced Green Tea",
         30,
         0.0,
         null,
         0.0,
         8.0,
         "Starbucks"
        ],
        [
         "Teavana� Shaken Iced Green Tea Lemonade",
         70,
         0.0,
         null,
         0.0,
         17.0,
         "Starbucks"
        ],
        [
         "Teavana� Shaken Iced Passion Tango� Tea",
         30,
         0.0,
         null,
         0.0,
         8.0,
         "Starbucks"
        ],
        [
         "Teavana� Shaken Iced Passion Tango� Tea Lemonade",
         90,
         0.0,
         null,
         0.0,
         24.0,
         "Starbucks"
        ],
        [
         "Teavana� Shaken Iced Peach Green Tea",
         60,
         0.0,
         null,
         0.0,
         15.0,
         "Starbucks"
        ],
        [
         "Iced Espresso Classics - Vanilla Latte",
         130,
         2.5,
         null,
         5.0,
         21.0,
         "Starbucks"
        ],
        [
         "Iced Espresso Classics - Caffe Mocha",
         140,
         2.5,
         null,
         5.0,
         23.0,
         "Starbucks"
        ],
        [
         "Iced Espresso Classics - Caramel Macchiato",
         130,
         2.5,
         null,
         5.0,
         21.0,
         "Starbucks"
        ],
        [
         "Starbucks Refreshers� Raspberry Pomegranate",
         90,
         0.0,
         null,
         0.0,
         27.0,
         "Starbucks"
        ],
        [
         "Starbucks Refreshers� Strawberry Lemonade",
         90,
         0.0,
         null,
         0.0,
         27.0,
         "Starbucks"
        ],
        [
         "Starbucks� Doubleshot Protein Dark Chocolate",
         210,
         2.5,
         null,
         20.0,
         33.0,
         "Starbucks"
        ],
        [
         "Starbucks� Doubleshot Protein Vanilla",
         200,
         2.5,
         null,
         20.0,
         34.0,
         "Starbucks"
        ],
        [
         "Starbucks� Iced Coffee Caramel",
         60,
         0.0,
         null,
         1.0,
         13.0,
         "Starbucks"
        ],
        [
         "Starbucks� Iced Coffee Light Sweetened",
         50,
         0.0,
         null,
         1.0,
         11.0,
         "Starbucks"
        ],
        [
         "Starbucks� Iced Coffee Unsweetened",
         10,
         0.0,
         null,
         1.0,
         2.0,
         "Starbucks"
        ],
        [
         "Tazo� Bottled Berry Blossom White",
         60,
         0.0,
         null,
         0.0,
         15.0,
         "Starbucks"
        ],
        [
         "Tazo� Bottled Black Mango",
         150,
         0.0,
         null,
         0.0,
         38.0,
         "Starbucks"
        ],
        [
         "Tazo� Bottled Black with Lemon",
         140,
         0.0,
         null,
         0.0,
         35.0,
         "Starbucks"
        ],
        [
         "Tazo� Bottled Brambleberry",
         140,
         0.0,
         null,
         0.0,
         35.0,
         "Starbucks"
        ],
        [
         "Tazo� Bottled Giant Peach",
         150,
         0.0,
         null,
         0.0,
         37.0,
         "Starbucks"
        ],
        [
         "Tazo� Bottled Iced Passion",
         70,
         0.0,
         null,
         0.0,
         17.0,
         "Starbucks"
        ],
        [
         "Tazo� Bottled Lemon Ginger",
         120,
         0.0,
         null,
         0.0,
         31.0,
         "Starbucks"
        ],
        [
         "Tazo� Bottled Organic Black Lemonade",
         140,
         0.0,
         null,
         0.0,
         35.0,
         "Starbucks"
        ],
        [
         "Tazo� Bottled Organic Iced Black Tea",
         60,
         0.0,
         null,
         0.0,
         15.0,
         "Starbucks"
        ],
        [
         "Tazo� Bottled Organic Iced Green Tea",
         120,
         0.0,
         null,
         0.0,
         31.0,
         "Starbucks"
        ],
        [
         "Tazo� Bottled Plum Pomegranate",
         140,
         0.0,
         null,
         0.0,
         35.0,
         "Starbucks"
        ],
        [
         "Tazo� Bottled Tazoberry",
         150,
         0.0,
         null,
         0.0,
         38.0,
         "Starbucks"
        ],
        [
         "Tazo� Bottled White Cranberry",
         140,
         0.0,
         null,
         0.0,
         35.0,
         "Starbucks"
        ],
        [
         "Blonde Roast",
         5,
         0.0,
         null,
         1.0,
         0.0,
         "Starbucks"
        ],
        [
         "Clover� Brewed Coffee",
         10,
         0.0,
         null,
         1.0,
         0.0,
         "Starbucks"
        ],
        [
         "Decaf Pike Place� Roast",
         5,
         0.0,
         null,
         1.0,
         0.0,
         "Starbucks"
        ],
        [
         "Featured Dark Roast",
         5,
         0.0,
         null,
         1.0,
         0.0,
         "Starbucks"
        ],
        [
         "Iced Coffee",
         5,
         0.0,
         null,
         0.0,
         0.0,
         "Starbucks"
        ],
        [
         "Nari�o 70 Cold Brew",
         5,
         0.0,
         null,
         0.0,
         0.0,
         "Starbucks"
        ],
        [
         "Nari�o 70 Cold Brew with Milk",
         0,
         0.0,
         null,
         0.0,
         0.0,
         "Starbucks"
        ],
        [
         "Nitro Cold Brew",
         5,
         0.0,
         null,
         0.0,
         0.0,
         "Starbucks"
        ],
        [
         "Nitro Cold Brew with Sweet Cream",
         70,
         5.0,
         null,
         1.0,
         5.0,
         "Starbucks"
        ],
        [
         "Pike Place� Roast",
         5,
         0.0,
         null,
         1.0,
         0.0,
         "Starbucks"
        ],
        [
         "Vanilla Sweet Cream Cold Brew",
         110,
         6.0,
         null,
         1.0,
         14.0,
         "Starbucks"
        ],
        [
         "Hot Chocolate",
         320,
         9.0,
         null,
         14.0,
         47.0,
         "Starbucks"
        ],
        [
         "Starbucks� Signature Hot Chocolate",
         430,
         26.0,
         null,
         12.0,
         45.0,
         "Starbucks"
        ],
        [
         "Caff� Latte",
         190,
         7.0,
         null,
         13.0,
         19.0,
         "Starbucks"
        ],
        [
         "Caff� Mocha",
         290,
         8.0,
         null,
         13.0,
         42.0,
         "Starbucks"
        ],
        [
         "Cappuccino",
         120,
         4.0,
         null,
         8.0,
         12.0,
         "Starbucks"
        ],
        [
         "Caramel Macchiato",
         250,
         7.0,
         null,
         10.0,
         35.0,
         "Starbucks"
        ],
        [
         "Cinnamon Dolce Latte",
         260,
         6.0,
         null,
         11.0,
         40.0,
         "Starbucks"
        ],
        [
         "Coconutmilk Mocha Macchiato",
         250,
         9.0,
         null,
         12.0,
         32.0,
         "Starbucks"
        ],
        [
         "Flat White",
         180,
         7.0,
         null,
         12.0,
         18.0,
         "Starbucks"
        ],
        [
         "Iced Caff� Latte",
         130,
         4.5,
         null,
         8.0,
         13.0,
         "Starbucks"
        ],
        [
         "Iced Caff� Mocha",
         230,
         6.0,
         null,
         9.0,
         36.0,
         "Starbucks"
        ],
        [
         "Iced Caramel Macchiato",
         250,
         7.0,
         null,
         10.0,
         37.0,
         "Starbucks"
        ],
        [
         "Iced Cinnamon Dolce Latte",
         200,
         4.0,
         null,
         7.0,
         34.0,
         "Starbucks"
        ],
        [
         "Iced Coconutmilk Mocha Macchiato",
         260,
         9.0,
         null,
         11.0,
         34.0,
         "Starbucks"
        ],
        [
         "Iced Vanilla Latte",
         190,
         4.0,
         null,
         7.0,
         30.0,
         "Starbucks"
        ],
        [
         "Iced White Chocolate Mocha",
         300,
         8.0,
         null,
         10.0,
         47.0,
         "Starbucks"
        ],
        [
         "Latte Macchiato",
         190,
         7.0,
         null,
         12.0,
         19.0,
         "Starbucks"
        ],
        [
         "Latte Macchiato",
         190,
         7.0,
         null,
         12.0,
         19.0,
         "Starbucks"
        ],
        [
         "Starbucks Doubleshot� on Ice Beverage",
         45,
         1.0,
         null,
         3.0,
         5.0,
         "Starbucks"
        ],
        [
         "Vanilla Latte",
         250,
         6.0,
         null,
         12.0,
         37.0,
         "Starbucks"
        ],
        [
         "White Chocolate Mocha",
         360,
         11.0,
         null,
         14.0,
         53.0,
         "Starbucks"
        ],
        [
         "Cinnamon Dolce Frappuccino� Blended Coffee",
         350,
         4.5,
         null,
         15.0,
         64.0,
         "Starbucks"
        ],
        [
         "Coffee Light Frappuccino� Blended Coffee",
         110,
         0.0,
         null,
         3.0,
         24.0,
         "Starbucks"
        ],
        [
         "Mocha Frappuccino� Blended Coffee",
         280,
         2.5,
         null,
         4.0,
         60.0,
         "Starbucks"
        ],
        [
         "Mocha Light Frappuccino� Blended Coffee",
         140,
         0.5,
         null,
         4.0,
         28.0,
         "Starbucks"
        ],
        [
         "Cinnamon Dolce Cr�me",
         200,
         6.0,
         null,
         10.0,
         28.0,
         "Starbucks"
        ],
        [
         "Vanilla Cr�me",
         200,
         6.0,
         null,
         10.0,
         28.0,
         "Starbucks"
        ],
        [
         "Chocolate Smoothie",
         320,
         5.0,
         null,
         20.0,
         53.0,
         "Starbucks"
        ],
        [
         "Strawberry Smoothie",
         300,
         2.0,
         null,
         16.0,
         60.0,
         "Starbucks"
        ]
       ],
       "datasetInfos": [],
       "dbfsResultPath": null,
       "isJsonSchema": true,
       "metadata": {},
       "overflow": false,
       "plotOptions": {
        "customPlotOptions": {},
        "displayType": "table",
        "pivotAggregation": null,
        "pivotColumns": null,
        "xColumns": null,
        "yColumns": null
       },
       "removedWidgets": [],
       "schema": [
        {
         "metadata": "{}",
         "name": "Food_Item",
         "type": "\"string\""
        },
        {
         "metadata": "{}",
         "name": "Calories",
         "type": "\"integer\""
        },
        {
         "metadata": "{}",
         "name": "Fat",
         "type": "\"float\""
        },
        {
         "metadata": "{}",
         "name": "Sugars",
         "type": "\"float\""
        },
        {
         "metadata": "{}",
         "name": "Protein",
         "type": "\"float\""
        },
        {
         "metadata": "{}",
         "name": "Carbs",
         "type": "\"float\""
        },
        {
         "metadata": "{}",
         "name": "Brand",
         "type": "\"string\""
        }
       ],
       "type": "table"
      }
     },
     "output_type": "display_data"
    }
   ],
   "source": [
    "sb_df.display()"
   ]
  },
  {
   "cell_type": "markdown",
   "metadata": {
    "application/vnd.databricks.v1+cell": {
     "cellMetadata": {},
     "inputWidgets": {},
     "nuid": "1c62ee39-fae2-42db-b3cf-06d3ad41a8b7",
     "showTitle": false,
     "tableResultSettingsMap": {},
     "title": ""
    }
   },
   "source": [
    "##### sequencing column of sb_df to union with mcd_df"
   ]
  },
  {
   "cell_type": "code",
   "execution_count": 0,
   "metadata": {
    "application/vnd.databricks.v1+cell": {
     "cellMetadata": {
      "byteLimit": 2048000,
      "rowLimit": 10000
     },
     "inputWidgets": {},
     "nuid": "7b76e0bd-031c-4285-8191-b241c09eb482",
     "showTitle": false,
     "tableResultSettingsMap": {},
     "title": ""
    }
   },
   "outputs": [],
   "source": [
    "sb_df = sb_df.select(\"Food_Item\", \"Calories\", \"Fat\", \"Sugars\", \"Protein\", \"Carbs\", \"Brand\")"
   ]
  },
  {
   "cell_type": "markdown",
   "metadata": {
    "application/vnd.databricks.v1+cell": {
     "cellMetadata": {},
     "inputWidgets": {},
     "nuid": "5f356d62-5755-492c-a1e0-ab9e737c01b1",
     "showTitle": false,
     "tableResultSettingsMap": {},
     "title": ""
    }
   },
   "source": [
    "##### combining both mcd_df & sb_df"
   ]
  },
  {
   "cell_type": "code",
   "execution_count": 0,
   "metadata": {
    "application/vnd.databricks.v1+cell": {
     "cellMetadata": {
      "byteLimit": 2048000,
      "rowLimit": 10000
     },
     "inputWidgets": {},
     "nuid": "5764c3ec-84f6-4e9b-9573-025c70cddd38",
     "showTitle": false,
     "tableResultSettingsMap": {},
     "title": ""
    }
   },
   "outputs": [],
   "source": [
    "combined_df = mcd_df.union(sb_df)"
   ]
  },
  {
   "cell_type": "code",
   "execution_count": 0,
   "metadata": {
    "application/vnd.databricks.v1+cell": {
     "cellMetadata": {
      "byteLimit": 2048000,
      "rowLimit": 10000
     },
     "inputWidgets": {},
     "nuid": "a951f886-760e-46ba-bef7-c7f27a74be19",
     "showTitle": false,
     "tableResultSettingsMap": {},
     "title": ""
    }
   },
   "outputs": [
    {
     "output_type": "display_data",
     "data": {
      "text/html": [
       "<style scoped>\n",
       "  .table-result-container {\n",
       "    max-height: 300px;\n",
       "    overflow: auto;\n",
       "  }\n",
       "  table, th, td {\n",
       "    border: 1px solid black;\n",
       "    border-collapse: collapse;\n",
       "  }\n",
       "  th, td {\n",
       "    padding: 5px;\n",
       "  }\n",
       "  th {\n",
       "    text-align: left;\n",
       "  }\n",
       "</style><div class='table-result-container'><table class='table-result'><thead style='background-color: white'><tr><th>Food_Item</th><th>Calories</th><th>Fat</th><th>Sugars</th><th>Protein</th><th>Carbs</th><th>Brand</th></tr></thead><tbody><tr><td>Egg McMuffin</td><td>300</td><td>13.0</td><td>3.0</td><td>17.0</td><td>31.0</td><td>McDonald's</td></tr><tr><td>Egg White Delight</td><td>250</td><td>8.0</td><td>3.0</td><td>18.0</td><td>30.0</td><td>McDonald's</td></tr><tr><td>Sausage McMuffin</td><td>370</td><td>23.0</td><td>2.0</td><td>14.0</td><td>29.0</td><td>McDonald's</td></tr><tr><td>Sausage McMuffin with Egg</td><td>450</td><td>28.0</td><td>2.0</td><td>21.0</td><td>30.0</td><td>McDonald's</td></tr><tr><td>Sausage McMuffin with Egg Whites</td><td>400</td><td>23.0</td><td>2.0</td><td>21.0</td><td>30.0</td><td>McDonald's</td></tr><tr><td>Steak & Egg McMuffin</td><td>430</td><td>23.0</td><td>3.0</td><td>26.0</td><td>31.0</td><td>McDonald's</td></tr><tr><td>Bacon, Egg & Cheese Biscuit (Regular Biscuit)</td><td>460</td><td>26.0</td><td>3.0</td><td>19.0</td><td>38.0</td><td>McDonald's</td></tr><tr><td>Bacon, Egg & Cheese Biscuit (Large Biscuit)</td><td>520</td><td>30.0</td><td>4.0</td><td>19.0</td><td>43.0</td><td>McDonald's</td></tr><tr><td>Bacon, Egg & Cheese Biscuit with Egg Whites (Regular Biscuit)</td><td>410</td><td>20.0</td><td>3.0</td><td>20.0</td><td>36.0</td><td>McDonald's</td></tr><tr><td>Bacon, Egg & Cheese Biscuit with Egg Whites (Large Biscuit)</td><td>470</td><td>25.0</td><td>4.0</td><td>20.0</td><td>42.0</td><td>McDonald's</td></tr><tr><td>Sausage Biscuit (Regular Biscuit)</td><td>430</td><td>27.0</td><td>2.0</td><td>11.0</td><td>34.0</td><td>McDonald's</td></tr><tr><td>Sausage Biscuit (Large Biscuit)</td><td>480</td><td>31.0</td><td>3.0</td><td>11.0</td><td>39.0</td><td>McDonald's</td></tr><tr><td>Sausage Biscuit with Egg (Regular Biscuit)</td><td>510</td><td>33.0</td><td>2.0</td><td>18.0</td><td>36.0</td><td>McDonald's</td></tr><tr><td>Sausage Biscuit with Egg (Large Biscuit)</td><td>570</td><td>37.0</td><td>3.0</td><td>18.0</td><td>42.0</td><td>McDonald's</td></tr><tr><td>Sausage Biscuit with Egg Whites (Regular Biscuit)</td><td>460</td><td>27.0</td><td>3.0</td><td>18.0</td><td>34.0</td><td>McDonald's</td></tr><tr><td>Sausage Biscuit with Egg Whites (Large Biscuit)</td><td>520</td><td>32.0</td><td>3.0</td><td>18.0</td><td>40.0</td><td>McDonald's</td></tr><tr><td>Southern Style Chicken Biscuit (Regular Biscuit)</td><td>410</td><td>20.0</td><td>3.0</td><td>17.0</td><td>41.0</td><td>McDonald's</td></tr><tr><td>Southern Style Chicken Biscuit (Large Biscuit)</td><td>470</td><td>24.0</td><td>4.0</td><td>17.0</td><td>46.0</td><td>McDonald's</td></tr><tr><td>Steak & Egg Biscuit (Regular Biscuit)</td><td>540</td><td>32.0</td><td>3.0</td><td>25.0</td><td>38.0</td><td>McDonald's</td></tr><tr><td>Bacon, Egg & Cheese McGriddles</td><td>460</td><td>21.0</td><td>15.0</td><td>19.0</td><td>48.0</td><td>McDonald's</td></tr><tr><td>Bacon, Egg & Cheese McGriddles with Egg Whites</td><td>400</td><td>15.0</td><td>16.0</td><td>20.0</td><td>47.0</td><td>McDonald's</td></tr><tr><td>Sausage McGriddles</td><td>420</td><td>22.0</td><td>15.0</td><td>11.0</td><td>44.0</td><td>McDonald's</td></tr><tr><td>Sausage, Egg & Cheese McGriddles</td><td>550</td><td>31.0</td><td>15.0</td><td>20.0</td><td>48.0</td><td>McDonald's</td></tr><tr><td>Sausage, Egg & Cheese McGriddles with Egg Whites</td><td>500</td><td>26.0</td><td>15.0</td><td>21.0</td><td>46.0</td><td>McDonald's</td></tr><tr><td>Bacon, Egg & Cheese Bagel</td><td>620</td><td>31.0</td><td>7.0</td><td>30.0</td><td>57.0</td><td>McDonald's</td></tr><tr><td>Bacon, Egg & Cheese Bagel with Egg Whites</td><td>570</td><td>25.0</td><td>8.0</td><td>30.0</td><td>55.0</td><td>McDonald's</td></tr><tr><td>Steak, Egg & Cheese Bagel</td><td>670</td><td>35.0</td><td>7.0</td><td>33.0</td><td>56.0</td><td>McDonald's</td></tr><tr><td>Big Breakfast (Regular Biscuit)</td><td>740</td><td>48.0</td><td>3.0</td><td>28.0</td><td>51.0</td><td>McDonald's</td></tr><tr><td>Big Breakfast (Large Biscuit)</td><td>800</td><td>52.0</td><td>3.0</td><td>28.0</td><td>56.0</td><td>McDonald's</td></tr><tr><td>Big Breakfast with Egg Whites (Regular Biscuit)</td><td>640</td><td>37.0</td><td>3.0</td><td>26.0</td><td>50.0</td><td>McDonald's</td></tr><tr><td>Big Breakfast with Egg Whites (Large Biscuit)</td><td>690</td><td>41.0</td><td>4.0</td><td>26.0</td><td>55.0</td><td>McDonald's</td></tr><tr><td>Big Breakfast with Hotcakes (Regular Biscuit)</td><td>1090</td><td>56.0</td><td>17.0</td><td>36.0</td><td>111.0</td><td>McDonald's</td></tr><tr><td>Big Breakfast with Hotcakes (Large Biscuit)</td><td>1150</td><td>60.0</td><td>17.0</td><td>36.0</td><td>116.0</td><td>McDonald's</td></tr><tr><td>Big Breakfast with Hotcakes and Egg Whites (Regular Biscuit)</td><td>990</td><td>46.0</td><td>17.0</td><td>35.0</td><td>110.0</td><td>McDonald's</td></tr><tr><td>Big Breakfast with Hotcakes and Egg Whites (Large Biscuit)</td><td>1050</td><td>50.0</td><td>18.0</td><td>35.0</td><td>115.0</td><td>McDonald's</td></tr><tr><td>Hotcakes</td><td>350</td><td>9.0</td><td>14.0</td><td>8.0</td><td>60.0</td><td>McDonald's</td></tr><tr><td>Hotcakes and Sausage</td><td>520</td><td>24.0</td><td>14.0</td><td>15.0</td><td>61.0</td><td>McDonald's</td></tr><tr><td>Sausage Burrito</td><td>300</td><td>16.0</td><td>2.0</td><td>12.0</td><td>26.0</td><td>McDonald's</td></tr><tr><td>Hash Brown</td><td>150</td><td>9.0</td><td>0.0</td><td>1.0</td><td>15.0</td><td>McDonald's</td></tr><tr><td>Cinnamon Melts</td><td>460</td><td>19.0</td><td>32.0</td><td>6.0</td><td>66.0</td><td>McDonald's</td></tr><tr><td>Fruit & Maple Oatmeal</td><td>290</td><td>4.0</td><td>32.0</td><td>5.0</td><td>58.0</td><td>McDonald's</td></tr><tr><td>Fruit & Maple Oatmeal without Brown Sugar</td><td>260</td><td>4.0</td><td>18.0</td><td>5.0</td><td>49.0</td><td>McDonald's</td></tr><tr><td>Big Mac</td><td>530</td><td>27.0</td><td>9.0</td><td>24.0</td><td>47.0</td><td>McDonald's</td></tr><tr><td>Quarter Pounder with Cheese</td><td>520</td><td>26.0</td><td>10.0</td><td>30.0</td><td>41.0</td><td>McDonald's</td></tr><tr><td>Quarter Pounder with Bacon & Cheese</td><td>600</td><td>29.0</td><td>12.0</td><td>37.0</td><td>48.0</td><td>McDonald's</td></tr><tr><td>Quarter Pounder with Bacon Habanero Ranch</td><td>610</td><td>31.0</td><td>10.0</td><td>37.0</td><td>46.0</td><td>McDonald's</td></tr><tr><td>Quarter Pounder Deluxe</td><td>540</td><td>27.0</td><td>9.0</td><td>29.0</td><td>45.0</td><td>McDonald's</td></tr><tr><td>Double Quarter Pounder with Cheese</td><td>750</td><td>43.0</td><td>10.0</td><td>48.0</td><td>42.0</td><td>McDonald's</td></tr><tr><td>Hamburger</td><td>240</td><td>8.0</td><td>6.0</td><td>12.0</td><td>32.0</td><td>McDonald's</td></tr><tr><td>Cheeseburger</td><td>290</td><td>11.0</td><td>7.0</td><td>15.0</td><td>33.0</td><td>McDonald's</td></tr><tr><td>Double Cheeseburger</td><td>430</td><td>21.0</td><td>7.0</td><td>24.0</td><td>35.0</td><td>McDonald's</td></tr><tr><td>Bacon Clubhouse Burger</td><td>720</td><td>40.0</td><td>14.0</td><td>39.0</td><td>51.0</td><td>McDonald's</td></tr><tr><td>McDouble</td><td>380</td><td>17.0</td><td>7.0</td><td>22.0</td><td>34.0</td><td>McDonald's</td></tr><tr><td>Bacon McDouble</td><td>440</td><td>22.0</td><td>7.0</td><td>27.0</td><td>35.0</td><td>McDonald's</td></tr><tr><td>Daily Double</td><td>430</td><td>22.0</td><td>7.0</td><td>22.0</td><td>34.0</td><td>McDonald's</td></tr><tr><td>Jalape�o Double</td><td>430</td><td>23.0</td><td>6.0</td><td>22.0</td><td>35.0</td><td>McDonald's</td></tr><tr><td>McRib</td><td>500</td><td>26.0</td><td>11.0</td><td>22.0</td><td>44.0</td><td>McDonald's</td></tr><tr><td>Premium Crispy Chicken Classic Sandwich</td><td>510</td><td>22.0</td><td>10.0</td><td>24.0</td><td>55.0</td><td>McDonald's</td></tr><tr><td>Premium Grilled Chicken Classic Sandwich</td><td>350</td><td>9.0</td><td>8.0</td><td>28.0</td><td>42.0</td><td>McDonald's</td></tr><tr><td>Premium Crispy Chicken Club Sandwich</td><td>670</td><td>33.0</td><td>11.0</td><td>36.0</td><td>58.0</td><td>McDonald's</td></tr><tr><td>Premium Grilled Chicken Club Sandwich</td><td>510</td><td>20.0</td><td>9.0</td><td>40.0</td><td>44.0</td><td>McDonald's</td></tr><tr><td>Premium Crispy Chicken Ranch BLT Sandwich</td><td>610</td><td>28.0</td><td>11.0</td><td>32.0</td><td>57.0</td><td>McDonald's</td></tr><tr><td>Premium Grilled Chicken Ranch BLT Sandwich</td><td>450</td><td>15.0</td><td>9.0</td><td>36.0</td><td>43.0</td><td>McDonald's</td></tr><tr><td>Bacon Clubhouse Crispy Chicken Sandwich</td><td>750</td><td>38.0</td><td>16.0</td><td>36.0</td><td>65.0</td><td>McDonald's</td></tr><tr><td>Bacon Clubhouse Grilled Chicken Sandwich</td><td>590</td><td>25.0</td><td>14.0</td><td>40.0</td><td>51.0</td><td>McDonald's</td></tr><tr><td>Southern Style Crispy Chicken Sandwich</td><td>430</td><td>19.0</td><td>7.0</td><td>21.0</td><td>43.0</td><td>McDonald's</td></tr><tr><td>McChicken</td><td>360</td><td>16.0</td><td>5.0</td><td>14.0</td><td>40.0</td><td>McDonald's</td></tr><tr><td>Bacon Cheddar McChicken</td><td>480</td><td>24.0</td><td>6.0</td><td>22.0</td><td>43.0</td><td>McDonald's</td></tr><tr><td>Bacon Buffalo Ranch McChicken</td><td>430</td><td>21.0</td><td>6.0</td><td>20.0</td><td>41.0</td><td>McDonald's</td></tr><tr><td>Buffalo Ranch McChicken</td><td>360</td><td>16.0</td><td>5.0</td><td>14.0</td><td>40.0</td><td>McDonald's</td></tr><tr><td>Premium McWrap Chicken & Bacon (Crispy Chicken)</td><td>630</td><td>32.0</td><td>7.0</td><td>32.0</td><td>56.0</td><td>McDonald's</td></tr><tr><td>Premium McWrap Chicken & Bacon (Grilled Chicken)</td><td>480</td><td>19.0</td><td>6.0</td><td>36.0</td><td>42.0</td><td>McDonald's</td></tr><tr><td>Premium McWrap Chicken & Ranch (Crispy Chicken)</td><td>610</td><td>31.0</td><td>8.0</td><td>27.0</td><td>56.0</td><td>McDonald's</td></tr><tr><td>Premium McWrap Chicken & Ranch (Grilled Chicken)</td><td>450</td><td>18.0</td><td>6.0</td><td>30.0</td><td>42.0</td><td>McDonald's</td></tr><tr><td>Premium McWrap Southwest Chicken (Crispy Chicken)</td><td>670</td><td>33.0</td><td>12.0</td><td>27.0</td><td>68.0</td><td>McDonald's</td></tr><tr><td>Premium McWrap Southwest Chicken (Grilled Chicken)</td><td>520</td><td>20.0</td><td>10.0</td><td>31.0</td><td>55.0</td><td>McDonald's</td></tr><tr><td>Premium McWrap Chicken Sweet Chili (Crispy Chicken)</td><td>540</td><td>23.0</td><td>14.0</td><td>23.0</td><td>61.0</td><td>McDonald's</td></tr><tr><td>Premium McWrap Chicken Sweet Chili (Grilled Chicken)</td><td>380</td><td>10.0</td><td>12.0</td><td>27.0</td><td>47.0</td><td>McDonald's</td></tr><tr><td>Chicken McNuggets (4 piece)</td><td>190</td><td>12.0</td><td>0.0</td><td>9.0</td><td>12.0</td><td>McDonald's</td></tr><tr><td>Chicken McNuggets (6 piece)</td><td>280</td><td>18.0</td><td>0.0</td><td>13.0</td><td>18.0</td><td>McDonald's</td></tr><tr><td>Chicken McNuggets (10 piece)</td><td>470</td><td>30.0</td><td>0.0</td><td>22.0</td><td>30.0</td><td>McDonald's</td></tr><tr><td>Chicken McNuggets (20 piece)</td><td>940</td><td>59.0</td><td>0.0</td><td>44.0</td><td>59.0</td><td>McDonald's</td></tr><tr><td>Chicken McNuggets (40 piece)</td><td>1880</td><td>118.0</td><td>1.0</td><td>87.0</td><td>118.0</td><td>McDonald's</td></tr><tr><td>Filet-O-Fish</td><td>390</td><td>19.0</td><td>5.0</td><td>15.0</td><td>39.0</td><td>McDonald's</td></tr><tr><td>Premium Bacon Ranch Salad (without Chicken)</td><td>140</td><td>7.0</td><td>4.0</td><td>9.0</td><td>10.0</td><td>McDonald's</td></tr><tr><td>Premium Bacon Ranch Salad with Crispy Chicken</td><td>380</td><td>21.0</td><td>5.0</td><td>25.0</td><td>22.0</td><td>McDonald's</td></tr><tr><td>Premium Bacon Ranch Salad with Grilled Chicken</td><td>220</td><td>8.0</td><td>4.0</td><td>29.0</td><td>8.0</td><td>McDonald's</td></tr><tr><td>Premium Southwest Salad (without Chicken)</td><td>140</td><td>4.5</td><td>6.0</td><td>6.0</td><td>20.0</td><td>McDonald's</td></tr><tr><td>Premium Southwest Salad with Crispy Chicken</td><td>450</td><td>22.0</td><td>12.0</td><td>23.0</td><td>42.0</td><td>McDonald's</td></tr><tr><td>Premium Southwest Salad with Grilled Chicken</td><td>290</td><td>8.0</td><td>10.0</td><td>27.0</td><td>28.0</td><td>McDonald's</td></tr><tr><td>Chipotle BBQ Snack Wrap (Crispy Chicken)</td><td>340</td><td>15.0</td><td>8.0</td><td>14.0</td><td>37.0</td><td>McDonald's</td></tr><tr><td>Chipotle BBQ Snack Wrap (Grilled Chicken)</td><td>260</td><td>8.0</td><td>7.0</td><td>16.0</td><td>30.0</td><td>McDonald's</td></tr><tr><td>Honey Mustard Snack Wrap (Crispy Chicken)</td><td>330</td><td>15.0</td><td>3.0</td><td>14.0</td><td>34.0</td><td>McDonald's</td></tr><tr><td>Honey Mustard Snack Wrap (Grilled Chicken)</td><td>250</td><td>8.0</td><td>2.0</td><td>16.0</td><td>27.0</td><td>McDonald's</td></tr><tr><td>Ranch Snack Wrap (Crispy Chicken)</td><td>360</td><td>20.0</td><td>3.0</td><td>15.0</td><td>32.0</td><td>McDonald's</td></tr><tr><td>Ranch Snack Wrap (Grilled Chicken)</td><td>280</td><td>13.0</td><td>2.0</td><td>16.0</td><td>25.0</td><td>McDonald's</td></tr><tr><td>Small French Fries</td><td>230</td><td>11.0</td><td>0.0</td><td>2.0</td><td>30.0</td><td>McDonald's</td></tr><tr><td>Medium French Fries</td><td>340</td><td>16.0</td><td>0.0</td><td>4.0</td><td>44.0</td><td>McDonald's</td></tr><tr><td>Large French Fries</td><td>510</td><td>24.0</td><td>0.0</td><td>6.0</td><td>67.0</td><td>McDonald's</td></tr><tr><td>Kids French Fries</td><td>110</td><td>5.0</td><td>0.0</td><td>1.0</td><td>15.0</td><td>McDonald's</td></tr><tr><td>Side Salad</td><td>20</td><td>0.0</td><td>2.0</td><td>1.0</td><td>4.0</td><td>McDonald's</td></tr><tr><td>Apple Slices</td><td>15</td><td>0.0</td><td>3.0</td><td>0.0</td><td>4.0</td><td>McDonald's</td></tr><tr><td>Fruit 'n Yogurt Parfait</td><td>150</td><td>2.0</td><td>23.0</td><td>4.0</td><td>30.0</td><td>McDonald's</td></tr><tr><td>Baked Apple Pie</td><td>250</td><td>13.0</td><td>13.0</td><td>2.0</td><td>32.0</td><td>McDonald's</td></tr><tr><td>Chocolate Chip Cookie</td><td>160</td><td>8.0</td><td>15.0</td><td>2.0</td><td>21.0</td><td>McDonald's</td></tr><tr><td>Oatmeal Raisin Cookie</td><td>150</td><td>6.0</td><td>13.0</td><td>2.0</td><td>22.0</td><td>McDonald's</td></tr><tr><td>Kids Ice Cream Cone</td><td>45</td><td>1.5</td><td>6.0</td><td>1.0</td><td>7.0</td><td>McDonald's</td></tr><tr><td>Hot Fudge Sundae</td><td>330</td><td>9.0</td><td>48.0</td><td>8.0</td><td>53.0</td><td>McDonald's</td></tr><tr><td>Hot Caramel Sundae</td><td>340</td><td>8.0</td><td>43.0</td><td>7.0</td><td>60.0</td><td>McDonald's</td></tr><tr><td>Strawberry Sundae</td><td>280</td><td>6.0</td><td>45.0</td><td>6.0</td><td>49.0</td><td>McDonald's</td></tr><tr><td>Coca-Cola Classic (Small)</td><td>140</td><td>0.0</td><td>39.0</td><td>0.0</td><td>39.0</td><td>McDonald's</td></tr><tr><td>Coca-Cola Classic (Medium)</td><td>200</td><td>0.0</td><td>55.0</td><td>0.0</td><td>55.0</td><td>McDonald's</td></tr><tr><td>Coca-Cola Classic (Large)</td><td>280</td><td>0.0</td><td>76.0</td><td>0.0</td><td>76.0</td><td>McDonald's</td></tr><tr><td>Coca-Cola Classic (Child)</td><td>100</td><td>0.0</td><td>28.0</td><td>0.0</td><td>28.0</td><td>McDonald's</td></tr><tr><td>Diet Coke (Small)</td><td>0</td><td>0.0</td><td>0.0</td><td>0.0</td><td>0.0</td><td>McDonald's</td></tr><tr><td>Diet Coke (Medium)</td><td>0</td><td>0.0</td><td>0.0</td><td>0.0</td><td>0.0</td><td>McDonald's</td></tr><tr><td>Diet Coke (Large)</td><td>0</td><td>0.0</td><td>0.0</td><td>0.0</td><td>0.0</td><td>McDonald's</td></tr><tr><td>Diet Coke (Child)</td><td>0</td><td>0.0</td><td>0.0</td><td>0.0</td><td>0.0</td><td>McDonald's</td></tr><tr><td>Dr Pepper (Small)</td><td>140</td><td>0.0</td><td>35.0</td><td>0.0</td><td>37.0</td><td>McDonald's</td></tr><tr><td>Dr Pepper (Medium)</td><td>190</td><td>0.0</td><td>51.0</td><td>0.0</td><td>53.0</td><td>McDonald's</td></tr><tr><td>Dr Pepper (Large)</td><td>270</td><td>0.0</td><td>70.0</td><td>0.0</td><td>72.0</td><td>McDonald's</td></tr><tr><td>Dr Pepper (Child)</td><td>100</td><td>0.0</td><td>26.0</td><td>0.0</td><td>27.0</td><td>McDonald's</td></tr><tr><td>Diet Dr Pepper (Small)</td><td>0</td><td>0.0</td><td>0.0</td><td>2.0</td><td>0.0</td><td>McDonald's</td></tr><tr><td>Diet Dr Pepper (Medium)</td><td>0</td><td>0.0</td><td>0.0</td><td>3.0</td><td>0.0</td><td>McDonald's</td></tr><tr><td>Diet Dr Pepper (Large)</td><td>0</td><td>0.0</td><td>0.0</td><td>4.0</td><td>0.0</td><td>McDonald's</td></tr><tr><td>Diet Dr Pepper (Child)</td><td>0</td><td>0.0</td><td>0.0</td><td>1.0</td><td>0.0</td><td>McDonald's</td></tr><tr><td>Sprite (Small)</td><td>140</td><td>0.0</td><td>37.0</td><td>0.0</td><td>37.0</td><td>McDonald's</td></tr><tr><td>Sprite (Medium)</td><td>200</td><td>0.0</td><td>54.0</td><td>0.0</td><td>54.0</td><td>McDonald's</td></tr><tr><td>Sprite (Large)</td><td>280</td><td>0.0</td><td>74.0</td><td>0.0</td><td>74.0</td><td>McDonald's</td></tr><tr><td>Sprite (Child)</td><td>100</td><td>0.0</td><td>27.0</td><td>0.0</td><td>27.0</td><td>McDonald's</td></tr><tr><td>1% Low Fat Milk Jug</td><td>100</td><td>2.5</td><td>12.0</td><td>8.0</td><td>12.0</td><td>McDonald's</td></tr><tr><td>Fat Free Chocolate Milk Jug</td><td>130</td><td>0.0</td><td>22.0</td><td>9.0</td><td>23.0</td><td>McDonald's</td></tr><tr><td>Minute Maid 100% Apple Juice Box</td><td>80</td><td>0.0</td><td>19.0</td><td>0.0</td><td>21.0</td><td>McDonald's</td></tr><tr><td>Minute Maid Orange Juice (Small)</td><td>150</td><td>0.0</td><td>30.0</td><td>2.0</td><td>34.0</td><td>McDonald's</td></tr><tr><td>Minute Maid Orange Juice (Medium)</td><td>190</td><td>0.0</td><td>39.0</td><td>3.0</td><td>44.0</td><td>McDonald's</td></tr><tr><td>Minute Maid Orange Juice (Large)</td><td>280</td><td>0.0</td><td>58.0</td><td>4.0</td><td>65.0</td><td>McDonald's</td></tr><tr><td>Dasani Water Bottle</td><td>0</td><td>0.0</td><td>0.0</td><td>0.0</td><td>0.0</td><td>McDonald's</td></tr><tr><td>Iced Tea (Small)</td><td>0</td><td>0.0</td><td>0.0</td><td>0.0</td><td>0.0</td><td>McDonald's</td></tr><tr><td>Iced Tea (Medium)</td><td>0</td><td>0.0</td><td>0.0</td><td>0.0</td><td>0.0</td><td>McDonald's</td></tr><tr><td>Iced Tea (Large)</td><td>0</td><td>0.0</td><td>0.0</td><td>0.0</td><td>0.0</td><td>McDonald's</td></tr><tr><td>Iced Tea (Child)</td><td>0</td><td>0.0</td><td>0.0</td><td>0.0</td><td>0.0</td><td>McDonald's</td></tr><tr><td>Sweet Tea (Small)</td><td>150</td><td>0.0</td><td>36.0</td><td>1.0</td><td>36.0</td><td>McDonald's</td></tr><tr><td>Sweet Tea (Medium)</td><td>180</td><td>0.0</td><td>45.0</td><td>1.0</td><td>45.0</td><td>McDonald's</td></tr><tr><td>Sweet Tea (Large)</td><td>220</td><td>0.0</td><td>54.0</td><td>1.0</td><td>54.0</td><td>McDonald's</td></tr><tr><td>Sweet Tea (Child)</td><td>110</td><td>0.0</td><td>27.0</td><td>0.0</td><td>27.0</td><td>McDonald's</td></tr><tr><td>Coffee (Small)</td><td>0</td><td>0.0</td><td>0.0</td><td>0.0</td><td>0.0</td><td>McDonald's</td></tr><tr><td>Coffee (Medium)</td><td>0</td><td>0.0</td><td>0.0</td><td>0.0</td><td>0.0</td><td>McDonald's</td></tr><tr><td>Coffee (Large)</td><td>0</td><td>0.0</td><td>0.0</td><td>0.0</td><td>0.0</td><td>McDonald's</td></tr><tr><td>Latte (Small)</td><td>170</td><td>9.0</td><td>12.0</td><td>9.0</td><td>15.0</td><td>McDonald's</td></tr><tr><td>Latte (Medium)</td><td>210</td><td>10.0</td><td>15.0</td><td>11.0</td><td>18.0</td><td>McDonald's</td></tr><tr><td>Latte (Large)</td><td>280</td><td>14.0</td><td>20.0</td><td>15.0</td><td>24.0</td><td>McDonald's</td></tr><tr><td>Caramel Latte (Small)</td><td>270</td><td>9.0</td><td>38.0</td><td>9.0</td><td>40.0</td><td>McDonald's</td></tr><tr><td>Caramel Latte (Medium)</td><td>340</td><td>10.0</td><td>48.0</td><td>11.0</td><td>50.0</td><td>McDonald's</td></tr><tr><td>Caramel Latte (Large)</td><td>430</td><td>14.0</td><td>59.0</td><td>15.0</td><td>62.0</td><td>McDonald's</td></tr><tr><td>Hazelnut Latte (Small)</td><td>270</td><td>9.0</td><td>38.0</td><td>9.0</td><td>40.0</td><td>McDonald's</td></tr><tr><td>Hazelnut Latte (Medium)</td><td>330</td><td>10.0</td><td>47.0</td><td>11.0</td><td>50.0</td><td>McDonald's</td></tr><tr><td>Hazelnut Latte (Large)</td><td>430</td><td>14.0</td><td>58.0</td><td>15.0</td><td>62.0</td><td>McDonald's</td></tr><tr><td>French Vanilla Latte (Small)</td><td>260</td><td>9.0</td><td>36.0</td><td>9.0</td><td>38.0</td><td>McDonald's</td></tr><tr><td>French Vanilla Latte (Medium)</td><td>330</td><td>10.0</td><td>45.0</td><td>11.0</td><td>48.0</td><td>McDonald's</td></tr><tr><td>French Vanilla Latte (Large)</td><td>420</td><td>14.0</td><td>56.0</td><td>15.0</td><td>60.0</td><td>McDonald's</td></tr><tr><td>Latte with Sugar Free French Vanilla Syrup (Small)</td><td>210</td><td>9.0</td><td>12.0</td><td>9.0</td><td>24.0</td><td>McDonald's</td></tr><tr><td>Latte with Sugar Free French Vanilla Syrup (Medium)</td><td>260</td><td>10.0</td><td>15.0</td><td>12.0</td><td>29.0</td><td>McDonald's</td></tr><tr><td>Latte with Sugar Free French Vanilla Syrup (Large)</td><td>330</td><td>14.0</td><td>20.0</td><td>15.0</td><td>37.0</td><td>McDonald's</td></tr><tr><td>Nonfat Latte (Small)</td><td>100</td><td>0.0</td><td>13.0</td><td>10.0</td><td>15.0</td><td>McDonald's</td></tr><tr><td>Nonfat Latte (Medium)</td><td>130</td><td>0.0</td><td>16.0</td><td>12.0</td><td>19.0</td><td>McDonald's</td></tr><tr><td>Nonfat Latte (Large)</td><td>170</td><td>0.5</td><td>21.0</td><td>16.0</td><td>25.0</td><td>McDonald's</td></tr><tr><td>Nonfat Caramel Latte (Small)</td><td>200</td><td>0.0</td><td>39.0</td><td>10.0</td><td>41.0</td><td>McDonald's</td></tr><tr><td>Nonfat Caramel Latte (Medium)</td><td>250</td><td>0.0</td><td>48.0</td><td>12.0</td><td>51.0</td><td>McDonald's</td></tr><tr><td>Nonfat Caramel Latte (Large)</td><td>310</td><td>0.5</td><td>59.0</td><td>16.0</td><td>63.0</td><td>McDonald's</td></tr><tr><td>Nonfat Hazelnut Latte (Small)</td><td>200</td><td>0.0</td><td>38.0</td><td>10.0</td><td>40.0</td><td>McDonald's</td></tr><tr><td>Nonfat Hazelnut Latte (Medium)</td><td>250</td><td>0.0</td><td>48.0</td><td>12.0</td><td>51.0</td><td>McDonald's</td></tr><tr><td>Nonfat Hazelnut Latte (Large)</td><td>310</td><td>0.5</td><td>59.0</td><td>16.0</td><td>63.0</td><td>McDonald's</td></tr><tr><td>Nonfat French Vanilla Latte (Small)</td><td>190</td><td>0.0</td><td>37.0</td><td>10.0</td><td>39.0</td><td>McDonald's</td></tr><tr><td>Nonfat French Vanilla Latte (Medium)</td><td>240</td><td>0.0</td><td>46.0</td><td>12.0</td><td>49.0</td><td>McDonald's</td></tr><tr><td>Nonfat French Vanilla Latte (Large)</td><td>300</td><td>0.5</td><td>56.0</td><td>16.0</td><td>60.0</td><td>McDonald's</td></tr><tr><td>Nonfat Latte with Sugar Free French Vanilla Syrup (Small)</td><td>140</td><td>0.0</td><td>13.0</td><td>10.0</td><td>24.0</td><td>McDonald's</td></tr><tr><td>Nonfat Latte with Sugar Free French Vanilla Syrup (Medium)</td><td>170</td><td>0.0</td><td>16.0</td><td>12.0</td><td>30.0</td><td>McDonald's</td></tr><tr><td>Nonfat Latte with Sugar Free French Vanilla Syrup (Large)</td><td>220</td><td>0.5</td><td>21.0</td><td>16.0</td><td>38.0</td><td>McDonald's</td></tr><tr><td>Mocha (Small)</td><td>340</td><td>11.0</td><td>42.0</td><td>10.0</td><td>49.0</td><td>McDonald's</td></tr><tr><td>Mocha (Medium)</td><td>410</td><td>14.0</td><td>53.0</td><td>13.0</td><td>60.0</td><td>McDonald's</td></tr><tr><td>Mocha (Large)</td><td>500</td><td>17.0</td><td>63.0</td><td>16.0</td><td>72.0</td><td>McDonald's</td></tr><tr><td>Mocha with Nonfat Milk (Small)</td><td>270</td><td>3.5</td><td>43.0</td><td>11.0</td><td>49.0</td><td>McDonald's</td></tr><tr><td>Mocha with Nonfat Milk (Medium)</td><td>330</td><td>3.5</td><td>53.0</td><td>13.0</td><td>60.0</td><td>McDonald's</td></tr><tr><td>Mocha with Nonfat Milk (Large)</td><td>390</td><td>4.0</td><td>64.0</td><td>17.0</td><td>73.0</td><td>McDonald's</td></tr><tr><td>Caramel Mocha (Small)</td><td>320</td><td>11.0</td><td>40.0</td><td>10.0</td><td>45.0</td><td>McDonald's</td></tr><tr><td>Caramel Mocha (Medium)</td><td>390</td><td>14.0</td><td>50.0</td><td>12.0</td><td>55.0</td><td>McDonald's</td></tr><tr><td>Caramel Mocha (Large)</td><td>480</td><td>17.0</td><td>60.0</td><td>16.0</td><td>66.0</td><td>McDonald's</td></tr><tr><td>Nonfat Caramel Mocha (Small)</td><td>250</td><td>3.5</td><td>41.0</td><td>10.0</td><td>45.0</td><td>McDonald's</td></tr><tr><td>Nonfat Caramel Mocha (Medium)</td><td>310</td><td>3.5</td><td>51.0</td><td>13.0</td><td>56.0</td><td>McDonald's</td></tr><tr><td>Nonfat Caramel Mocha (Large)</td><td>370</td><td>3.5</td><td>61.0</td><td>17.0</td><td>67.0</td><td>McDonald's</td></tr><tr><td>Hot Chocolate (Small)</td><td>360</td><td>13.0</td><td>45.0</td><td>11.0</td><td>50.0</td><td>McDonald's</td></tr><tr><td>Hot Chocolate (Medium)</td><td>440</td><td>16.0</td><td>56.0</td><td>14.0</td><td>61.0</td><td>McDonald's</td></tr><tr><td>Hot Chocolate (Large)</td><td>540</td><td>20.0</td><td>68.0</td><td>17.0</td><td>73.0</td><td>McDonald's</td></tr><tr><td>Hot Chocolate with Nonfat Milk (Small)</td><td>280</td><td>3.5</td><td>46.0</td><td>12.0</td><td>50.0</td><td>McDonald's</td></tr><tr><td>Hot Chocolate with Nonfat Milk (Medium)</td><td>340</td><td>3.5</td><td>57.0</td><td>14.0</td><td>61.0</td><td>McDonald's</td></tr><tr><td>Hot Chocolate with Nonfat Milk (Large)</td><td>400</td><td>3.5</td><td>69.0</td><td>19.0</td><td>74.0</td><td>McDonald's</td></tr><tr><td>Regular Iced Coffee (Small)</td><td>140</td><td>4.5</td><td>22.0</td><td>1.0</td><td>23.0</td><td>McDonald's</td></tr><tr><td>Regular Iced Coffee (Medium)</td><td>190</td><td>7.0</td><td>30.0</td><td>1.0</td><td>31.0</td><td>McDonald's</td></tr><tr><td>Regular Iced Coffee (Large)</td><td>270</td><td>9.0</td><td>45.0</td><td>2.0</td><td>47.0</td><td>McDonald's</td></tr><tr><td>Caramel Iced Coffee (Small)</td><td>130</td><td>4.5</td><td>21.0</td><td>1.0</td><td>22.0</td><td>McDonald's</td></tr><tr><td>Caramel Iced Coffee (Medium)</td><td>180</td><td>7.0</td><td>28.0</td><td>1.0</td><td>29.0</td><td>McDonald's</td></tr><tr><td>Caramel Iced Coffee (Large)</td><td>260</td><td>9.0</td><td>42.0</td><td>2.0</td><td>43.0</td><td>McDonald's</td></tr><tr><td>Hazelnut Iced Coffee (Small)</td><td>130</td><td>4.5</td><td>20.0</td><td>1.0</td><td>21.0</td><td>McDonald's</td></tr><tr><td>Hazelnut Iced Coffee (Medium)</td><td>180</td><td>7.0</td><td>28.0</td><td>1.0</td><td>29.0</td><td>McDonald's</td></tr><tr><td>Hazelnut Iced Coffee (Large)</td><td>250</td><td>9.0</td><td>41.0</td><td>2.0</td><td>43.0</td><td>McDonald's</td></tr><tr><td>French Vanilla Iced Coffee (Small)</td><td>120</td><td>4.5</td><td>19.0</td><td>1.0</td><td>20.0</td><td>McDonald's</td></tr><tr><td>French Vanilla Iced Coffee (Medium)</td><td>170</td><td>7.0</td><td>26.0</td><td>1.0</td><td>27.0</td><td>McDonald's</td></tr><tr><td>French Vanilla Iced Coffee (Large)</td><td>240</td><td>9.0</td><td>39.0</td><td>2.0</td><td>41.0</td><td>McDonald's</td></tr><tr><td>Iced Coffee with Sugar Free French Vanilla Syrup (Small)</td><td>80</td><td>4.5</td><td>1.0</td><td>1.0</td><td>9.0</td><td>McDonald's</td></tr><tr><td>Iced Coffee with Sugar Free French Vanilla Syrup (Medium)</td><td>120</td><td>7.0</td><td>2.0</td><td>1.0</td><td>12.0</td><td>McDonald's</td></tr><tr><td>Iced Coffee with Sugar Free French Vanilla Syrup (Large)</td><td>160</td><td>9.0</td><td>2.0</td><td>2.0</td><td>18.0</td><td>McDonald's</td></tr><tr><td>Iced Mocha (Small)</td><td>290</td><td>11.0</td><td>34.0</td><td>8.0</td><td>41.0</td><td>McDonald's</td></tr><tr><td>Iced Mocha (Medium)</td><td>350</td><td>13.0</td><td>43.0</td><td>9.0</td><td>50.0</td><td>McDonald's</td></tr><tr><td>Iced Mocha (Large)</td><td>480</td><td>16.0</td><td>62.0</td><td>14.0</td><td>70.0</td><td>McDonald's</td></tr><tr><td>Iced Mocha with Nonfat Milk (Small)</td><td>240</td><td>5.0</td><td>35.0</td><td>8.0</td><td>41.0</td><td>McDonald's</td></tr><tr><td>Iced Mocha with Nonfat Milk (Medium)</td><td>290</td><td>5.0</td><td>43.0</td><td>10.0</td><td>50.0</td><td>McDonald's</td></tr><tr><td>Iced Mocha with Nonfat Milk (Large)</td><td>390</td><td>6.0</td><td>62.0</td><td>14.0</td><td>71.0</td><td>McDonald's</td></tr><tr><td>Iced Caramel Mocha (Small)</td><td>280</td><td>11.0</td><td>33.0</td><td>8.0</td><td>38.0</td><td>McDonald's</td></tr><tr><td>Iced Caramel Mocha (Medium)</td><td>340</td><td>13.0</td><td>41.0</td><td>9.0</td><td>46.0</td><td>McDonald's</td></tr><tr><td>Iced Caramel Mocha (Large)</td><td>460</td><td>16.0</td><td>59.0</td><td>13.0</td><td>65.0</td><td>McDonald's</td></tr><tr><td>Iced Nonfat Caramel Mocha (Small)</td><td>230</td><td>5.0</td><td>33.0</td><td>8.0</td><td>38.0</td><td>McDonald's</td></tr><tr><td>Iced Nonfat Caramel Mocha (Medium)</td><td>270</td><td>5.0</td><td>41.0</td><td>10.0</td><td>47.0</td><td>McDonald's</td></tr><tr><td>Iced Nonfat Caramel Mocha (Large)</td><td>370</td><td>6.0</td><td>59.0</td><td>14.0</td><td>65.0</td><td>McDonald's</td></tr><tr><td>Frapp� Mocha (Small)</td><td>450</td><td>18.0</td><td>57.0</td><td>7.0</td><td>65.0</td><td>McDonald's</td></tr><tr><td>Frapp� Mocha (Medium)</td><td>550</td><td>22.0</td><td>71.0</td><td>9.0</td><td>80.0</td><td>McDonald's</td></tr><tr><td>Frapp� Mocha (Large)</td><td>670</td><td>26.0</td><td>88.0</td><td>11.0</td><td>98.0</td><td>McDonald's</td></tr><tr><td>Frapp� Caramel (Small)</td><td>450</td><td>19.0</td><td>57.0</td><td>7.0</td><td>64.0</td><td>McDonald's</td></tr><tr><td>Frapp� Caramel (Medium)</td><td>550</td><td>23.0</td><td>71.0</td><td>9.0</td><td>79.0</td><td>McDonald's</td></tr><tr><td>Frapp� Caramel (Large)</td><td>670</td><td>27.0</td><td>88.0</td><td>11.0</td><td>96.0</td><td>McDonald's</td></tr><tr><td>Frapp� Chocolate Chip (Small)</td><td>530</td><td>23.0</td><td>67.0</td><td>8.0</td><td>76.0</td><td>McDonald's</td></tr><tr><td>Frapp� Chocolate Chip (Medium)</td><td>630</td><td>26.0</td><td>81.0</td><td>9.0</td><td>91.0</td><td>McDonald's</td></tr><tr><td>Frapp� Chocolate Chip (Large)</td><td>760</td><td>31.0</td><td>99.0</td><td>12.0</td><td>111.0</td><td>McDonald's</td></tr><tr><td>Blueberry Pomegranate Smoothie (Small)</td><td>220</td><td>0.5</td><td>44.0</td><td>2.0</td><td>50.0</td><td>McDonald's</td></tr><tr><td>Blueberry Pomegranate Smoothie (Medium)</td><td>260</td><td>1.0</td><td>54.0</td><td>3.0</td><td>62.0</td><td>McDonald's</td></tr><tr><td>Blueberry Pomegranate Smoothie (Large)</td><td>340</td><td>1.0</td><td>70.0</td><td>4.0</td><td>79.0</td><td>McDonald's</td></tr><tr><td>Strawberry Banana Smoothie (Small)</td><td>210</td><td>0.5</td><td>44.0</td><td>3.0</td><td>47.0</td><td>McDonald's</td></tr><tr><td>Strawberry Banana Smoothie (Medium)</td><td>250</td><td>1.0</td><td>54.0</td><td>4.0</td><td>58.0</td><td>McDonald's</td></tr><tr><td>Strawberry Banana Smoothie (Large)</td><td>330</td><td>1.0</td><td>70.0</td><td>5.0</td><td>74.0</td><td>McDonald's</td></tr><tr><td>Mango Pineapple Smoothie (Small)</td><td>210</td><td>0.5</td><td>46.0</td><td>2.0</td><td>50.0</td><td>McDonald's</td></tr><tr><td>Mango Pineapple Smoothie (Medium)</td><td>260</td><td>1.0</td><td>56.0</td><td>3.0</td><td>61.0</td><td>McDonald's</td></tr><tr><td>Mango Pineapple Smoothie (Large)</td><td>340</td><td>1.0</td><td>72.0</td><td>4.0</td><td>78.0</td><td>McDonald's</td></tr><tr><td>Vanilla Shake (Small)</td><td>530</td><td>15.0</td><td>63.0</td><td>11.0</td><td>86.0</td><td>McDonald's</td></tr><tr><td>Vanilla Shake (Medium)</td><td>660</td><td>19.0</td><td>81.0</td><td>14.0</td><td>109.0</td><td>McDonald's</td></tr><tr><td>Vanilla Shake (Large)</td><td>820</td><td>23.0</td><td>101.0</td><td>18.0</td><td>135.0</td><td>McDonald's</td></tr><tr><td>Strawberry Shake (Small)</td><td>550</td><td>16.0</td><td>79.0</td><td>12.0</td><td>90.0</td><td>McDonald's</td></tr><tr><td>Strawberry Shake (Medium)</td><td>690</td><td>20.0</td><td>100.0</td><td>15.0</td><td>114.0</td><td>McDonald's</td></tr><tr><td>Strawberry Shake (Large)</td><td>850</td><td>24.0</td><td>123.0</td><td>18.0</td><td>140.0</td><td>McDonald's</td></tr><tr><td>Chocolate Shake (Small)</td><td>560</td><td>16.0</td><td>77.0</td><td>12.0</td><td>91.0</td><td>McDonald's</td></tr><tr><td>Chocolate Shake (Medium)</td><td>700</td><td>20.0</td><td>97.0</td><td>15.0</td><td>114.0</td><td>McDonald's</td></tr><tr><td>Chocolate Shake (Large)</td><td>850</td><td>23.0</td><td>120.0</td><td>19.0</td><td>141.0</td><td>McDonald's</td></tr><tr><td>Shamrock Shake (Medium)</td><td>660</td><td>19.0</td><td>93.0</td><td>14.0</td><td>109.0</td><td>McDonald's</td></tr><tr><td>Shamrock Shake (Large)</td><td>820</td><td>23.0</td><td>115.0</td><td>18.0</td><td>135.0</td><td>McDonald's</td></tr><tr><td>McFlurry with M&M�s Candies (Small)</td><td>650</td><td>23.0</td><td>89.0</td><td>13.0</td><td>96.0</td><td>McDonald's</td></tr><tr><td>McFlurry with M&M�s Candies (Medium)</td><td>930</td><td>33.0</td><td>128.0</td><td>20.0</td><td>139.0</td><td>McDonald's</td></tr><tr><td>McFlurry with M&M�s Candies (Snack)</td><td>430</td><td>15.0</td><td>59.0</td><td>9.0</td><td>64.0</td><td>McDonald's</td></tr><tr><td>McFlurry with Oreo Cookies (Small)</td><td>510</td><td>17.0</td><td>64.0</td><td>12.0</td><td>80.0</td><td>McDonald's</td></tr><tr><td>McFlurry with Oreo Cookies (Medium)</td><td>690</td><td>23.0</td><td>85.0</td><td>15.0</td><td>106.0</td><td>McDonald's</td></tr><tr><td>McFlurry with Oreo Cookies (Snack)</td><td>340</td><td>11.0</td><td>43.0</td><td>8.0</td><td>53.0</td><td>McDonald's</td></tr><tr><td>McFlurry with Reese's Peanut Butter Cups (Medium)</td><td>810</td><td>32.0</td><td>103.0</td><td>21.0</td><td>114.0</td><td>McDonald's</td></tr><tr><td>McFlurry with Reese's Peanut Butter Cups (Snack)</td><td>410</td><td>16.0</td><td>51.0</td><td>10.0</td><td>57.0</td><td>McDonald's</td></tr><tr><td>Chonga Bagel</td><td>300</td><td>5.0</td><td>null</td><td>12.0</td><td>50.0</td><td>Starbucks</td></tr><tr><td>8-Grain Roll</td><td>380</td><td>6.0</td><td>null</td><td>10.0</td><td>70.0</td><td>Starbucks</td></tr><tr><td>Almond Croissant</td><td>410</td><td>22.0</td><td>null</td><td>10.0</td><td>45.0</td><td>Starbucks</td></tr><tr><td>Apple Fritter</td><td>460</td><td>23.0</td><td>null</td><td>7.0</td><td>56.0</td><td>Starbucks</td></tr><tr><td>Banana Nut Bread</td><td>420</td><td>22.0</td><td>null</td><td>6.0</td><td>52.0</td><td>Starbucks</td></tr><tr><td>Blueberry Muffin with Yogurt and Honey</td><td>380</td><td>16.0</td><td>null</td><td>6.0</td><td>53.0</td><td>Starbucks</td></tr><tr><td>Blueberry Scone</td><td>420</td><td>17.0</td><td>null</td><td>5.0</td><td>61.0</td><td>Starbucks</td></tr><tr><td>Butter Croissant</td><td>240</td><td>12.0</td><td>null</td><td>5.0</td><td>28.0</td><td>Starbucks</td></tr><tr><td>Butterfly Cookie</td><td>350</td><td>22.0</td><td>null</td><td>2.0</td><td>38.0</td><td>Starbucks</td></tr><tr><td>Cheese Danish</td><td>320</td><td>16.0</td><td>null</td><td>8.0</td><td>36.0</td><td>Starbucks</td></tr><tr><td>Chewy Chocolate Cookie</td><td>170</td><td>5.0</td><td>null</td><td>2.0</td><td>30.0</td><td>Starbucks</td></tr><tr><td>Chocolate Chip Cookie</td><td>310</td><td>15.0</td><td>null</td><td>4.0</td><td>42.0</td><td>Starbucks</td></tr><tr><td>Chocolate Chunk Muffin</td><td>440</td><td>21.0</td><td>null</td><td>7.0</td><td>60.0</td><td>Starbucks</td></tr><tr><td>Chocolate Croissant</td><td>330</td><td>18.0</td><td>null</td><td>6.0</td><td>38.0</td><td>Starbucks</td></tr><tr><td>Chocolate Hazelnut Croissant</td><td>390</td><td>22.0</td><td>null</td><td>7.0</td><td>43.0</td><td>Starbucks</td></tr><tr><td>Chocolate Marble Loaf Cake</td><td>490</td><td>24.0</td><td>null</td><td>6.0</td><td>64.0</td><td>Starbucks</td></tr><tr><td>Cinnamon Morning Bun</td><td>390</td><td>15.0</td><td>null</td><td>8.0</td><td>56.0</td><td>Starbucks</td></tr><tr><td>Cinnamon Raisin Bagel</td><td>270</td><td>1.0</td><td>null</td><td>9.0</td><td>58.0</td><td>Starbucks</td></tr><tr><td>Classic Coffee Cake</td><td>390</td><td>16.0</td><td>null</td><td>5.0</td><td>57.0</td><td>Starbucks</td></tr><tr><td>Cookie Butter Bar</td><td>360</td><td>23.0</td><td>null</td><td>2.0</td><td>36.0</td><td>Starbucks</td></tr><tr><td>Cranberry Orange Scone</td><td>420</td><td>15.0</td><td>null</td><td>6.0</td><td>64.0</td><td>Starbucks</td></tr><tr><td>Devil's Food Doughnut</td><td>430</td><td>23.0</td><td>null</td><td>5.0</td><td>53.0</td><td>Starbucks</td></tr><tr><td>Double Chocolate Brownie</td><td>410</td><td>24.0</td><td>null</td><td>6.0</td><td>46.0</td><td>Starbucks</td></tr><tr><td>Double Chocolate Chunk Brownie</td><td>490</td><td>28.0</td><td>null</td><td>7.0</td><td>55.0</td><td>Starbucks</td></tr><tr><td>Double Chocolate Loaf Cake</td><td>440</td><td>23.0</td><td>null</td><td>5.0</td><td>54.0</td><td>Starbucks</td></tr><tr><td>Everybody's Favorite - Bantam Bagel (2 Pack)</td><td>100</td><td>3.5</td><td>null</td><td>3.0</td><td>14.0</td><td>Starbucks</td></tr><tr><td>Everything Bagel with Cheese</td><td>290</td><td>3.5</td><td>null</td><td>11.0</td><td>53.0</td><td>Starbucks</td></tr><tr><td>Frappuccino� Cookie Straw</td><td>90</td><td>3.0</td><td>null</td><td>1.0</td><td>14.0</td><td>Starbucks</td></tr><tr><td>French Toast - Bantam Bagels (2 Pack)</td><td>200</td><td>8.0</td><td>null</td><td>6.0</td><td>30.0</td><td>Starbucks</td></tr><tr><td>Gluten-Free Marshmallow Dream Bar</td><td>240</td><td>5.0</td><td>null</td><td>2.0</td><td>45.0</td><td>Starbucks</td></tr><tr><td>Ice Cream Cone Sugar Cookie</td><td>250</td><td>14.0</td><td>null</td><td>3.0</td><td>29.0</td><td>Starbucks</td></tr><tr><td>Iced Lemon Pound Cake</td><td>470</td><td>20.0</td><td>null</td><td>6.0</td><td>68.0</td><td>Starbucks</td></tr><tr><td>Michigan Cherry Oat Bar</td><td>310</td><td>10.0</td><td>null</td><td>3.0</td><td>47.0</td><td>Starbucks</td></tr><tr><td>Multigrain Bagel</td><td>350</td><td>4.0</td><td>null</td><td>17.0</td><td>64.0</td><td>Starbucks</td></tr><tr><td>Oatmeal Cookie</td><td>290</td><td>12.0</td><td>null</td><td>5.0</td><td>40.0</td><td>Starbucks</td></tr><tr><td>Octopus Cookie</td><td>330</td><td>18.0</td><td>null</td><td>3.0</td><td>39.0</td><td>Starbucks</td></tr><tr><td>Old-Fashioned Glazed Doughnut</td><td>480</td><td>27.0</td><td>null</td><td>5.0</td><td>56.0</td><td>Starbucks</td></tr><tr><td>Peanut butter cup cookie</td><td>360</td><td>21.0</td><td>null</td><td>8.0</td><td>36.0</td><td>Starbucks</td></tr><tr><td>Pecan Tart</td><td>330</td><td>18.0</td><td>null</td><td>4.0</td><td>39.0</td><td>Starbucks</td></tr><tr><td>Petite Vanilla Bean Scone</td><td>120</td><td>4.5</td><td>null</td><td>2.0</td><td>18.0</td><td>Starbucks</td></tr><tr><td>Plain Bagel</td><td>280</td><td>1.5</td><td>null</td><td>9.0</td><td>56.0</td><td>Starbucks</td></tr><tr><td>Pumpkin Bread</td><td>410</td><td>15.0</td><td>null</td><td>6.0</td><td>63.0</td><td>Starbucks</td></tr><tr><td>Raspberry Swirl Loaf Cake</td><td>420</td><td>17.0</td><td>null</td><td>6.0</td><td>61.0</td><td>Starbucks</td></tr><tr><td>Raspberry Whoopie Pie</td><td>360</td><td>18.0</td><td>null</td><td>3.0</td><td>45.0</td><td>Starbucks</td></tr><tr><td>Reduced-Fat Cinnamon Swirl Coffee Cake</td><td>370</td><td>9.0</td><td>null</td><td>5.0</td><td>67.0</td><td>Starbucks</td></tr><tr><td>S'mores Bar</td><td>330</td><td>17.0</td><td>null</td><td>2.0</td><td>44.0</td><td>Starbucks</td></tr><tr><td>S'mores Bar Multipack</td><td>330</td><td>17.0</td><td>null</td><td>2.0</td><td>44.0</td><td>Starbucks</td></tr><tr><td>Sprouted Grain Vegan Bagel</td><td>330</td><td>6.0</td><td>null</td><td>12.0</td><td>57.0</td><td>Starbucks</td></tr><tr><td>Strawberry Cake Pop</td><td>180</td><td>9.0</td><td>null</td><td>2.0</td><td>23.0</td><td>Starbucks</td></tr><tr><td>The Classic - Bantam Bagels (2 Pack)</td><td>200</td><td>8.0</td><td>null</td><td>6.0</td><td>28.0</td><td>Starbucks</td></tr><tr><td>Toffeedoodle</td><td>300</td><td>13.0</td><td>null</td><td>3.0</td><td>44.0</td><td>Starbucks</td></tr><tr><td>Vanilla Bean Whoopie Pie</td><td>360</td><td>18.0</td><td>null</td><td>3.0</td><td>45.0</td><td>Starbucks</td></tr><tr><td>Vermont Maple Walnut Muffin</td><td>390</td><td>21.0</td><td>null</td><td>6.0</td><td>45.0</td><td>Starbucks</td></tr><tr><td>Volpi� Pepperoni & Tomato Savory Foldover</td><td>270</td><td>14.0</td><td>null</td><td>10.0</td><td>27.0</td><td>Starbucks</td></tr><tr><td>Strawberries & Jam Sandwich</td><td>600</td><td>25.0</td><td>null</td><td>19.0</td><td>80.0</td><td>Starbucks</td></tr><tr><td>Burrata & Basil Pesto Small Sandwich</td><td>300</td><td>14.0</td><td>null</td><td>11.0</td><td>34.0</td><td>Starbucks</td></tr><tr><td>Cage-Free Eggs & Seasoned Grains Side Salad</td><td>360</td><td>18.0</td><td>null</td><td>17.0</td><td>33.0</td><td>Starbucks</td></tr><tr><td>Cauliflower Tabbouleh Side Salad</td><td>130</td><td>12.0</td><td>null</td><td>2.0</td><td>7.0</td><td>Starbucks</td></tr><tr><td>Cubano Sandwich</td><td>430</td><td>23.0</td><td>null</td><td>21.0</td><td>34.0</td><td>Starbucks</td></tr><tr><td>Farmers' Market Protein Box</td><td>470</td><td>29.0</td><td>null</td><td>21.0</td><td>29.0</td><td>Starbucks</td></tr><tr><td>Garden Greens & Shaved Parmesan Side Salad</td><td>170</td><td>13.0</td><td>null</td><td>7.0</td><td>9.0</td><td>Starbucks</td></tr><tr><td>Green Goddess Avocado Salad</td><td>620</td><td>37.0</td><td>null</td><td>13.0</td><td>62.0</td><td>Starbucks</td></tr><tr><td>Herbed Chicken & Fig Spread Small Sandwich</td><td>300</td><td>8.0</td><td>null</td><td>19.0</td><td>43.0</td><td>Starbucks</td></tr><tr><td>Honey BBQ Sriracha Chicken Sandwich</td><td>360</td><td>7.0</td><td>null</td><td>22.0</td><td>52.0</td><td>Starbucks</td></tr><tr><td>Roasted Carrot & Kale Side Salad</td><td>440</td><td>26.0</td><td>null</td><td>10.0</td><td>44.0</td><td>Starbucks</td></tr><tr><td>Roasted Turkey & Dill Havarti Sandwich</td><td>600</td><td>32.0</td><td>null</td><td>32.0</td><td>47.0</td><td>Starbucks</td></tr><tr><td>Seared Steak & Cheddar Sandwich</td><td>530</td><td>29.0</td><td>null</td><td>23.0</td><td>44.0</td><td>Starbucks</td></tr><tr><td>Slow-Roasted Ham & Beecher's Flagship Cheese Small Sandwich</td><td>350</td><td>18.0</td><td>null</td><td>16.0</td><td>31.0</td><td>Starbucks</td></tr><tr><td>Smoked Mozzarella & Roasted Pepper Sandwich</td><td>500</td><td>28.0</td><td>null</td><td>18.0</td><td>46.0</td><td>Starbucks</td></tr><tr><td>Turkey & Fire-Roasted Corn Salad</td><td>560</td><td>29.0</td><td>null</td><td>24.0</td><td>53.0</td><td>Starbucks</td></tr><tr><td>Za'atar Chicken & Lemon Tahini Salad</td><td>570</td><td>23.0</td><td>null</td><td>27.0</td><td>67.0</td><td>Starbucks</td></tr><tr><td>BBQ Chicken Protein Box</td><td>420</td><td>16.0</td><td>null</td><td>22.0</td><td>49.0</td><td>Starbucks</td></tr><tr><td>Cheese & Fruit Protein Box</td><td>450</td><td>27.0</td><td>null</td><td>20.0</td><td>34.0</td><td>Starbucks</td></tr><tr><td>Chicken Wrap Protein Box</td><td>460</td><td>22.0</td><td>null</td><td>20.0</td><td>45.0</td><td>Starbucks</td></tr><tr><td>Eggs & Cheese Protein Box</td><td>460</td><td>24.0</td><td>null</td><td>23.0</td><td>40.0</td><td>Starbucks</td></tr><tr><td>PB&J Protein Box</td><td>520</td><td>26.0</td><td>null</td><td>20.0</td><td>53.0</td><td>Starbucks</td></tr><tr><td>Smoked Turkey Protein Box</td><td>360</td><td>12.0</td><td>null</td><td>24.0</td><td>42.0</td><td>Starbucks</td></tr><tr><td>Birthday Cake Pop</td><td>170</td><td>9.0</td><td>null</td><td>1.0</td><td>23.0</td><td>Starbucks</td></tr><tr><td>Chocolate Cake Pop</td><td>160</td><td>8.0</td><td>null</td><td>2.0</td><td>23.0</td><td>Starbucks</td></tr><tr><td>Chocolate Chip Cookie Dough Cake Pop</td><td>180</td><td>9.0</td><td>null</td><td>2.0</td><td>23.0</td><td>Starbucks</td></tr><tr><td>Pirate Cake Pop</td><td>180</td><td>9.0</td><td>null</td><td>1.0</td><td>24.0</td><td>Starbucks</td></tr><tr><td>Bacon Gouda & Egg Breakfast Sandwich</td><td>370</td><td>19.0</td><td>null</td><td>18.0</td><td>32.0</td><td>Starbucks</td></tr><tr><td>Certified Gluten-Free Breakfast Sandwich</td><td>280</td><td>13.0</td><td>null</td><td>18.0</td><td>18.0</td><td>Starbucks</td></tr><tr><td>Classic Whole-Grain Oatmeal</td><td>160</td><td>2.5</td><td>null</td><td>5.0</td><td>28.0</td><td>Starbucks</td></tr><tr><td>Double-Smoked Bacon Cheddar & Egg Sandwich</td><td>490</td><td>27.0</td><td>null</td><td>21.0</td><td>40.0</td><td>Starbucks</td></tr><tr><td>Ham & Cheese Croissant</td><td>320</td><td>17.0</td><td>null</td><td>14.0</td><td>28.0</td><td>Starbucks</td></tr><tr><td>Hearty Blueberry Oatmeal</td><td>220</td><td>2.5</td><td>null</td><td>5.0</td><td>43.0</td><td>Starbucks</td></tr><tr><td>Reduced-Fat Turkey Bacon & Cage Free Egg White Breakfast Sandwich</td><td>230</td><td>6.0</td><td>null</td><td>16.0</td><td>28.0</td><td>Starbucks</td></tr><tr><td>Sausage Cheddar & Egg Breakfast Sandwich</td><td>500</td><td>28.0</td><td>null</td><td>15.0</td><td>41.0</td><td>Starbucks</td></tr><tr><td>Seared Steak Egg & Tomatillo Wrap</td><td>410</td><td>18.0</td><td>null</td><td>21.0</td><td>43.0</td><td>Starbucks</td></tr><tr><td>Slow-Roasted Ham Swiss & Egg Breakfast Sandwich</td><td>450</td><td>23.0</td><td>null</td><td>24.0</td><td>42.0</td><td>Starbucks</td></tr><tr><td>Sous Vide Egg Bites: Bacon & Gruyere</td><td>310</td><td>22.0</td><td>null</td><td>19.0</td><td>9.0</td><td>Starbucks</td></tr><tr><td>Sous Vide Egg Bites: Egg White & Red Pepper</td><td>170</td><td>7.0</td><td>null</td><td>13.0</td><td>13.0</td><td>Starbucks</td></tr><tr><td>Spicy Chorizo  Monterey Jack & Egg Breakfast Sandwich</td><td>500</td><td>30.0</td><td>null</td><td>26.0</td><td>35.0</td><td>Starbucks</td></tr><tr><td>Spinach Feta & Cage Free Egg White Breakfast Wrap</td><td>290</td><td>10.0</td><td>null</td><td>19.0</td><td>33.0</td><td>Starbucks</td></tr><tr><td>Ancho Chipotle Chicken Panini</td><td>500</td><td>19.0</td><td>null</td><td>26.0</td><td>57.0</td><td>Starbucks</td></tr><tr><td>Chicken & Quinoa Protein Bowl with Black Beans and Greens</td><td>420</td><td>17.0</td><td>null</td><td>27.0</td><td>42.0</td><td>Starbucks</td></tr><tr><td>Chicken Artichoke on Ancient Grain Flatbread</td><td>510</td><td>27.0</td><td>null</td><td>24.0</td><td>37.0</td><td>Starbucks</td></tr><tr><td>Chicken BLT Salad Sandwich</td><td>470</td><td>25.0</td><td>null</td><td>21.0</td><td>35.0</td><td>Starbucks</td></tr><tr><td>Egg Salad Sandwich</td><td>480</td><td>27.0</td><td>null</td><td>16.0</td><td>42.0</td><td>Starbucks</td></tr><tr><td>Homestyle Chicken & Double-Smoked Bacon</td><td>480</td><td>17.0</td><td>null</td><td>23.0</td><td>57.0</td><td>Starbucks</td></tr><tr><td>Italian-Style Ham & Spicy Salami</td><td>480</td><td>20.0</td><td>null</td><td>22.0</td><td>49.0</td><td>Starbucks</td></tr><tr><td>Lentils & Vegetable Protein Bowl with Brown Rice</td><td>650</td><td>29.0</td><td>null</td><td>23.0</td><td>80.0</td><td>Starbucks</td></tr><tr><td>Roasted Tomato & Mozzarella Panini</td><td>420</td><td>18.0</td><td>null</td><td>11.0</td><td>47.0</td><td>Starbucks</td></tr><tr><td>Turkey & Havarti Sandwich</td><td>460</td><td>21.0</td><td>null</td><td>29.0</td><td>31.0</td><td>Starbucks</td></tr><tr><td>Turkey Pesto Panini</td><td>560</td><td>23.0</td><td>null</td><td>34.0</td><td>55.0</td><td>Starbucks</td></tr><tr><td>Berry Trio Yogurt</td><td>240</td><td>2.5</td><td>null</td><td>14.0</td><td>39.0</td><td>Starbucks</td></tr><tr><td>Fresh Blueberries and Honey Greek Yogurt Parfait</td><td>240</td><td>2.5</td><td>null</td><td>14.0</td><td>42.0</td><td>Starbucks</td></tr><tr><td>Justin's Chocolate Hazelnut Butter</td><td>180</td><td>14.0</td><td>null</td><td>4.0</td><td>12.0</td><td>Starbucks</td></tr><tr><td>Justin's Classic Almond Butter</td><td>190</td><td>18.0</td><td>null</td><td>7.0</td><td>6.0</td><td>Starbucks</td></tr><tr><td>Lemon Chiffon Yogurt</td><td>340</td><td>13.0</td><td>null</td><td>18.0</td><td>38.0</td><td>Starbucks</td></tr><tr><td>Organic Avocado (Spread)</td><td>90</td><td>8.0</td><td>null</td><td>1.0</td><td>5.0</td><td>Starbucks</td></tr><tr><td>Seasonal Fruit Blend</td><td>90</td><td>0.0</td><td>null</td><td>1.0</td><td>24.0</td><td>Starbucks</td></tr><tr><td>Cool Lime Starbucks Refreshers� Beverage</td><td>45</td><td>0.0</td><td>null</td><td>0.0</td><td>11.0</td><td>Starbucks</td></tr><tr><td>Strawberry Acai Starbucks Refreshers� Beverage</td><td>80</td><td>0.0</td><td>null</td><td>0.0</td><td>18.0</td><td>Starbucks</td></tr><tr><td>Very Berry Hibiscus Starbucks Refreshers� Beverage</td><td>60</td><td>0.0</td><td>null</td><td>0.0</td><td>14.0</td><td>Starbucks</td></tr><tr><td>Evolution Fresh� Organic Ginger Limeade</td><td>110</td><td>0.0</td><td>null</td><td>0.0</td><td>28.0</td><td>Starbucks</td></tr><tr><td>Iced Coffee</td><td>0</td><td>0.0</td><td>null</td><td>0.0</td><td>0.0</td><td>Starbucks</td></tr><tr><td>Iced Espresso Classics - Vanilla Latte</td><td>130</td><td>2.5</td><td>null</td><td>5.0</td><td>21.0</td><td>Starbucks</td></tr><tr><td>Iced Espresso Classics - Caffe Mocha</td><td>140</td><td>2.5</td><td>null</td><td>5.0</td><td>23.0</td><td>Starbucks</td></tr><tr><td>Iced Espresso Classics - Caramel Macchiato</td><td>130</td><td>2.5</td><td>null</td><td>5.0</td><td>21.0</td><td>Starbucks</td></tr><tr><td>Shaken Sweet Tea</td><td>80</td><td>0.0</td><td>null</td><td>0.0</td><td>19.0</td><td>Starbucks</td></tr><tr><td>Tazo� Bottled Berry Blossom White</td><td>60</td><td>0.0</td><td>null</td><td>0.0</td><td>15.0</td><td>Starbucks</td></tr><tr><td>Tazo� Bottled Black Mango</td><td>150</td><td>0.0</td><td>null</td><td>0.0</td><td>38.0</td><td>Starbucks</td></tr><tr><td>Tazo� Bottled Black with Lemon</td><td>140</td><td>0.0</td><td>null</td><td>0.0</td><td>35.0</td><td>Starbucks</td></tr><tr><td>Tazo� Bottled Brambleberry</td><td>140</td><td>0.0</td><td>null</td><td>0.0</td><td>35.0</td><td>Starbucks</td></tr><tr><td>Tazo� Bottled Giant Peach</td><td>150</td><td>0.0</td><td>null</td><td>0.0</td><td>37.0</td><td>Starbucks</td></tr><tr><td>Tazo� Bottled Iced Passion</td><td>70</td><td>0.0</td><td>null</td><td>0.0</td><td>17.0</td><td>Starbucks</td></tr><tr><td>Tazo� Bottled Lemon Ginger</td><td>120</td><td>0.0</td><td>null</td><td>0.0</td><td>31.0</td><td>Starbucks</td></tr><tr><td>Tazo� Bottled Organic Black Lemonade</td><td>140</td><td>0.0</td><td>null</td><td>0.0</td><td>35.0</td><td>Starbucks</td></tr><tr><td>Tazo� Bottled Organic Iced Black Tea</td><td>60</td><td>0.0</td><td>null</td><td>0.0</td><td>15.0</td><td>Starbucks</td></tr><tr><td>Tazo� Bottled Organic Iced Green Tea</td><td>120</td><td>0.0</td><td>null</td><td>0.0</td><td>31.0</td><td>Starbucks</td></tr><tr><td>Tazo� Bottled Plum Pomegranate</td><td>140</td><td>0.0</td><td>null</td><td>0.0</td><td>35.0</td><td>Starbucks</td></tr><tr><td>Tazo� Bottled Tazoberry</td><td>150</td><td>0.0</td><td>null</td><td>0.0</td><td>38.0</td><td>Starbucks</td></tr><tr><td>Tazo� Bottled White Cranberry</td><td>140</td><td>0.0</td><td>null</td><td>0.0</td><td>35.0</td><td>Starbucks</td></tr><tr><td>Teavana� Shaken Iced Black Tea</td><td>30</td><td>0.0</td><td>null</td><td>0.0</td><td>8.0</td><td>Starbucks</td></tr><tr><td>Teavana� Shaken Iced Black Tea Lemonade</td><td>70</td><td>0.0</td><td>null</td><td>0.0</td><td>17.0</td><td>Starbucks</td></tr><tr><td>Teavana� Shaken Iced Green Tea</td><td>30</td><td>0.0</td><td>null</td><td>0.0</td><td>8.0</td><td>Starbucks</td></tr><tr><td>Teavana� Shaken Iced Green Tea Lemonade</td><td>70</td><td>0.0</td><td>null</td><td>0.0</td><td>17.0</td><td>Starbucks</td></tr><tr><td>Teavana� Shaken Iced Passion Tango� Tea</td><td>30</td><td>0.0</td><td>null</td><td>0.0</td><td>8.0</td><td>Starbucks</td></tr><tr><td>Teavana� Shaken Iced Passion Tango� Tea Lemonade</td><td>90</td><td>0.0</td><td>null</td><td>0.0</td><td>24.0</td><td>Starbucks</td></tr><tr><td>Teavana� Shaken Iced Peach Green Tea</td><td>60</td><td>0.0</td><td>null</td><td>0.0</td><td>15.0</td><td>Starbucks</td></tr><tr><td>Iced Espresso Classics - Vanilla Latte</td><td>130</td><td>2.5</td><td>null</td><td>5.0</td><td>21.0</td><td>Starbucks</td></tr><tr><td>Iced Espresso Classics - Caffe Mocha</td><td>140</td><td>2.5</td><td>null</td><td>5.0</td><td>23.0</td><td>Starbucks</td></tr><tr><td>Iced Espresso Classics - Caramel Macchiato</td><td>130</td><td>2.5</td><td>null</td><td>5.0</td><td>21.0</td><td>Starbucks</td></tr><tr><td>Starbucks Refreshers� Raspberry Pomegranate</td><td>90</td><td>0.0</td><td>null</td><td>0.0</td><td>27.0</td><td>Starbucks</td></tr><tr><td>Starbucks Refreshers� Strawberry Lemonade</td><td>90</td><td>0.0</td><td>null</td><td>0.0</td><td>27.0</td><td>Starbucks</td></tr><tr><td>Starbucks� Doubleshot Protein Dark Chocolate</td><td>210</td><td>2.5</td><td>null</td><td>20.0</td><td>33.0</td><td>Starbucks</td></tr><tr><td>Starbucks� Doubleshot Protein Vanilla</td><td>200</td><td>2.5</td><td>null</td><td>20.0</td><td>34.0</td><td>Starbucks</td></tr><tr><td>Starbucks� Iced Coffee Caramel</td><td>60</td><td>0.0</td><td>null</td><td>1.0</td><td>13.0</td><td>Starbucks</td></tr><tr><td>Starbucks� Iced Coffee Light Sweetened</td><td>50</td><td>0.0</td><td>null</td><td>1.0</td><td>11.0</td><td>Starbucks</td></tr><tr><td>Starbucks� Iced Coffee Unsweetened</td><td>10</td><td>0.0</td><td>null</td><td>1.0</td><td>2.0</td><td>Starbucks</td></tr><tr><td>Tazo� Bottled Berry Blossom White</td><td>60</td><td>0.0</td><td>null</td><td>0.0</td><td>15.0</td><td>Starbucks</td></tr><tr><td>Tazo� Bottled Black Mango</td><td>150</td><td>0.0</td><td>null</td><td>0.0</td><td>38.0</td><td>Starbucks</td></tr><tr><td>Tazo� Bottled Black with Lemon</td><td>140</td><td>0.0</td><td>null</td><td>0.0</td><td>35.0</td><td>Starbucks</td></tr><tr><td>Tazo� Bottled Brambleberry</td><td>140</td><td>0.0</td><td>null</td><td>0.0</td><td>35.0</td><td>Starbucks</td></tr><tr><td>Tazo� Bottled Giant Peach</td><td>150</td><td>0.0</td><td>null</td><td>0.0</td><td>37.0</td><td>Starbucks</td></tr><tr><td>Tazo� Bottled Iced Passion</td><td>70</td><td>0.0</td><td>null</td><td>0.0</td><td>17.0</td><td>Starbucks</td></tr><tr><td>Tazo� Bottled Lemon Ginger</td><td>120</td><td>0.0</td><td>null</td><td>0.0</td><td>31.0</td><td>Starbucks</td></tr><tr><td>Tazo� Bottled Organic Black Lemonade</td><td>140</td><td>0.0</td><td>null</td><td>0.0</td><td>35.0</td><td>Starbucks</td></tr><tr><td>Tazo� Bottled Organic Iced Black Tea</td><td>60</td><td>0.0</td><td>null</td><td>0.0</td><td>15.0</td><td>Starbucks</td></tr><tr><td>Tazo� Bottled Organic Iced Green Tea</td><td>120</td><td>0.0</td><td>null</td><td>0.0</td><td>31.0</td><td>Starbucks</td></tr><tr><td>Tazo� Bottled Plum Pomegranate</td><td>140</td><td>0.0</td><td>null</td><td>0.0</td><td>35.0</td><td>Starbucks</td></tr><tr><td>Tazo� Bottled Tazoberry</td><td>150</td><td>0.0</td><td>null</td><td>0.0</td><td>38.0</td><td>Starbucks</td></tr><tr><td>Tazo� Bottled White Cranberry</td><td>140</td><td>0.0</td><td>null</td><td>0.0</td><td>35.0</td><td>Starbucks</td></tr><tr><td>Blonde Roast</td><td>5</td><td>0.0</td><td>null</td><td>1.0</td><td>0.0</td><td>Starbucks</td></tr><tr><td>Clover� Brewed Coffee</td><td>10</td><td>0.0</td><td>null</td><td>1.0</td><td>0.0</td><td>Starbucks</td></tr><tr><td>Decaf Pike Place� Roast</td><td>5</td><td>0.0</td><td>null</td><td>1.0</td><td>0.0</td><td>Starbucks</td></tr><tr><td>Featured Dark Roast</td><td>5</td><td>0.0</td><td>null</td><td>1.0</td><td>0.0</td><td>Starbucks</td></tr><tr><td>Iced Coffee</td><td>5</td><td>0.0</td><td>null</td><td>0.0</td><td>0.0</td><td>Starbucks</td></tr><tr><td>Nari�o 70 Cold Brew</td><td>5</td><td>0.0</td><td>null</td><td>0.0</td><td>0.0</td><td>Starbucks</td></tr><tr><td>Nari�o 70 Cold Brew with Milk</td><td>0</td><td>0.0</td><td>null</td><td>0.0</td><td>0.0</td><td>Starbucks</td></tr><tr><td>Nitro Cold Brew</td><td>5</td><td>0.0</td><td>null</td><td>0.0</td><td>0.0</td><td>Starbucks</td></tr><tr><td>Nitro Cold Brew with Sweet Cream</td><td>70</td><td>5.0</td><td>null</td><td>1.0</td><td>5.0</td><td>Starbucks</td></tr><tr><td>Pike Place� Roast</td><td>5</td><td>0.0</td><td>null</td><td>1.0</td><td>0.0</td><td>Starbucks</td></tr><tr><td>Vanilla Sweet Cream Cold Brew</td><td>110</td><td>6.0</td><td>null</td><td>1.0</td><td>14.0</td><td>Starbucks</td></tr><tr><td>Hot Chocolate</td><td>320</td><td>9.0</td><td>null</td><td>14.0</td><td>47.0</td><td>Starbucks</td></tr><tr><td>Starbucks� Signature Hot Chocolate</td><td>430</td><td>26.0</td><td>null</td><td>12.0</td><td>45.0</td><td>Starbucks</td></tr><tr><td>Caff� Latte</td><td>190</td><td>7.0</td><td>null</td><td>13.0</td><td>19.0</td><td>Starbucks</td></tr><tr><td>Caff� Mocha</td><td>290</td><td>8.0</td><td>null</td><td>13.0</td><td>42.0</td><td>Starbucks</td></tr><tr><td>Cappuccino</td><td>120</td><td>4.0</td><td>null</td><td>8.0</td><td>12.0</td><td>Starbucks</td></tr><tr><td>Caramel Macchiato</td><td>250</td><td>7.0</td><td>null</td><td>10.0</td><td>35.0</td><td>Starbucks</td></tr><tr><td>Cinnamon Dolce Latte</td><td>260</td><td>6.0</td><td>null</td><td>11.0</td><td>40.0</td><td>Starbucks</td></tr><tr><td>Coconutmilk Mocha Macchiato</td><td>250</td><td>9.0</td><td>null</td><td>12.0</td><td>32.0</td><td>Starbucks</td></tr><tr><td>Flat White</td><td>180</td><td>7.0</td><td>null</td><td>12.0</td><td>18.0</td><td>Starbucks</td></tr><tr><td>Iced Caff� Latte</td><td>130</td><td>4.5</td><td>null</td><td>8.0</td><td>13.0</td><td>Starbucks</td></tr><tr><td>Iced Caff� Mocha</td><td>230</td><td>6.0</td><td>null</td><td>9.0</td><td>36.0</td><td>Starbucks</td></tr><tr><td>Iced Caramel Macchiato</td><td>250</td><td>7.0</td><td>null</td><td>10.0</td><td>37.0</td><td>Starbucks</td></tr><tr><td>Iced Cinnamon Dolce Latte</td><td>200</td><td>4.0</td><td>null</td><td>7.0</td><td>34.0</td><td>Starbucks</td></tr><tr><td>Iced Coconutmilk Mocha Macchiato</td><td>260</td><td>9.0</td><td>null</td><td>11.0</td><td>34.0</td><td>Starbucks</td></tr><tr><td>Iced Vanilla Latte</td><td>190</td><td>4.0</td><td>null</td><td>7.0</td><td>30.0</td><td>Starbucks</td></tr><tr><td>Iced White Chocolate Mocha</td><td>300</td><td>8.0</td><td>null</td><td>10.0</td><td>47.0</td><td>Starbucks</td></tr><tr><td>Latte Macchiato</td><td>190</td><td>7.0</td><td>null</td><td>12.0</td><td>19.0</td><td>Starbucks</td></tr><tr><td>Latte Macchiato</td><td>190</td><td>7.0</td><td>null</td><td>12.0</td><td>19.0</td><td>Starbucks</td></tr><tr><td>Starbucks Doubleshot� on Ice Beverage</td><td>45</td><td>1.0</td><td>null</td><td>3.0</td><td>5.0</td><td>Starbucks</td></tr><tr><td>Vanilla Latte</td><td>250</td><td>6.0</td><td>null</td><td>12.0</td><td>37.0</td><td>Starbucks</td></tr><tr><td>White Chocolate Mocha</td><td>360</td><td>11.0</td><td>null</td><td>14.0</td><td>53.0</td><td>Starbucks</td></tr><tr><td>Cinnamon Dolce Frappuccino� Blended Coffee</td><td>350</td><td>4.5</td><td>null</td><td>15.0</td><td>64.0</td><td>Starbucks</td></tr><tr><td>Coffee Light Frappuccino� Blended Coffee</td><td>110</td><td>0.0</td><td>null</td><td>3.0</td><td>24.0</td><td>Starbucks</td></tr><tr><td>Mocha Frappuccino� Blended Coffee</td><td>280</td><td>2.5</td><td>null</td><td>4.0</td><td>60.0</td><td>Starbucks</td></tr><tr><td>Mocha Light Frappuccino� Blended Coffee</td><td>140</td><td>0.5</td><td>null</td><td>4.0</td><td>28.0</td><td>Starbucks</td></tr><tr><td>Cinnamon Dolce Cr�me</td><td>200</td><td>6.0</td><td>null</td><td>10.0</td><td>28.0</td><td>Starbucks</td></tr><tr><td>Vanilla Cr�me</td><td>200</td><td>6.0</td><td>null</td><td>10.0</td><td>28.0</td><td>Starbucks</td></tr><tr><td>Chocolate Smoothie</td><td>320</td><td>5.0</td><td>null</td><td>20.0</td><td>53.0</td><td>Starbucks</td></tr><tr><td>Strawberry Smoothie</td><td>300</td><td>2.0</td><td>null</td><td>16.0</td><td>60.0</td><td>Starbucks</td></tr></tbody></table></div>"
      ]
     },
     "metadata": {
      "application/vnd.databricks.v1+output": {
       "addedWidgets": {},
       "aggData": [],
       "aggError": "",
       "aggOverflow": false,
       "aggSchema": [],
       "aggSeriesLimitReached": false,
       "aggType": "",
       "arguments": {},
       "columnCustomDisplayInfos": {},
       "data": [
        [
         "Egg McMuffin",
         300,
         13.0,
         3.0,
         17.0,
         31.0,
         "McDonald's"
        ],
        [
         "Egg White Delight",
         250,
         8.0,
         3.0,
         18.0,
         30.0,
         "McDonald's"
        ],
        [
         "Sausage McMuffin",
         370,
         23.0,
         2.0,
         14.0,
         29.0,
         "McDonald's"
        ],
        [
         "Sausage McMuffin with Egg",
         450,
         28.0,
         2.0,
         21.0,
         30.0,
         "McDonald's"
        ],
        [
         "Sausage McMuffin with Egg Whites",
         400,
         23.0,
         2.0,
         21.0,
         30.0,
         "McDonald's"
        ],
        [
         "Steak & Egg McMuffin",
         430,
         23.0,
         3.0,
         26.0,
         31.0,
         "McDonald's"
        ],
        [
         "Bacon, Egg & Cheese Biscuit (Regular Biscuit)",
         460,
         26.0,
         3.0,
         19.0,
         38.0,
         "McDonald's"
        ],
        [
         "Bacon, Egg & Cheese Biscuit (Large Biscuit)",
         520,
         30.0,
         4.0,
         19.0,
         43.0,
         "McDonald's"
        ],
        [
         "Bacon, Egg & Cheese Biscuit with Egg Whites (Regular Biscuit)",
         410,
         20.0,
         3.0,
         20.0,
         36.0,
         "McDonald's"
        ],
        [
         "Bacon, Egg & Cheese Biscuit with Egg Whites (Large Biscuit)",
         470,
         25.0,
         4.0,
         20.0,
         42.0,
         "McDonald's"
        ],
        [
         "Sausage Biscuit (Regular Biscuit)",
         430,
         27.0,
         2.0,
         11.0,
         34.0,
         "McDonald's"
        ],
        [
         "Sausage Biscuit (Large Biscuit)",
         480,
         31.0,
         3.0,
         11.0,
         39.0,
         "McDonald's"
        ],
        [
         "Sausage Biscuit with Egg (Regular Biscuit)",
         510,
         33.0,
         2.0,
         18.0,
         36.0,
         "McDonald's"
        ],
        [
         "Sausage Biscuit with Egg (Large Biscuit)",
         570,
         37.0,
         3.0,
         18.0,
         42.0,
         "McDonald's"
        ],
        [
         "Sausage Biscuit with Egg Whites (Regular Biscuit)",
         460,
         27.0,
         3.0,
         18.0,
         34.0,
         "McDonald's"
        ],
        [
         "Sausage Biscuit with Egg Whites (Large Biscuit)",
         520,
         32.0,
         3.0,
         18.0,
         40.0,
         "McDonald's"
        ],
        [
         "Southern Style Chicken Biscuit (Regular Biscuit)",
         410,
         20.0,
         3.0,
         17.0,
         41.0,
         "McDonald's"
        ],
        [
         "Southern Style Chicken Biscuit (Large Biscuit)",
         470,
         24.0,
         4.0,
         17.0,
         46.0,
         "McDonald's"
        ],
        [
         "Steak & Egg Biscuit (Regular Biscuit)",
         540,
         32.0,
         3.0,
         25.0,
         38.0,
         "McDonald's"
        ],
        [
         "Bacon, Egg & Cheese McGriddles",
         460,
         21.0,
         15.0,
         19.0,
         48.0,
         "McDonald's"
        ],
        [
         "Bacon, Egg & Cheese McGriddles with Egg Whites",
         400,
         15.0,
         16.0,
         20.0,
         47.0,
         "McDonald's"
        ],
        [
         "Sausage McGriddles",
         420,
         22.0,
         15.0,
         11.0,
         44.0,
         "McDonald's"
        ],
        [
         "Sausage, Egg & Cheese McGriddles",
         550,
         31.0,
         15.0,
         20.0,
         48.0,
         "McDonald's"
        ],
        [
         "Sausage, Egg & Cheese McGriddles with Egg Whites",
         500,
         26.0,
         15.0,
         21.0,
         46.0,
         "McDonald's"
        ],
        [
         "Bacon, Egg & Cheese Bagel",
         620,
         31.0,
         7.0,
         30.0,
         57.0,
         "McDonald's"
        ],
        [
         "Bacon, Egg & Cheese Bagel with Egg Whites",
         570,
         25.0,
         8.0,
         30.0,
         55.0,
         "McDonald's"
        ],
        [
         "Steak, Egg & Cheese Bagel",
         670,
         35.0,
         7.0,
         33.0,
         56.0,
         "McDonald's"
        ],
        [
         "Big Breakfast (Regular Biscuit)",
         740,
         48.0,
         3.0,
         28.0,
         51.0,
         "McDonald's"
        ],
        [
         "Big Breakfast (Large Biscuit)",
         800,
         52.0,
         3.0,
         28.0,
         56.0,
         "McDonald's"
        ],
        [
         "Big Breakfast with Egg Whites (Regular Biscuit)",
         640,
         37.0,
         3.0,
         26.0,
         50.0,
         "McDonald's"
        ],
        [
         "Big Breakfast with Egg Whites (Large Biscuit)",
         690,
         41.0,
         4.0,
         26.0,
         55.0,
         "McDonald's"
        ],
        [
         "Big Breakfast with Hotcakes (Regular Biscuit)",
         1090,
         56.0,
         17.0,
         36.0,
         111.0,
         "McDonald's"
        ],
        [
         "Big Breakfast with Hotcakes (Large Biscuit)",
         1150,
         60.0,
         17.0,
         36.0,
         116.0,
         "McDonald's"
        ],
        [
         "Big Breakfast with Hotcakes and Egg Whites (Regular Biscuit)",
         990,
         46.0,
         17.0,
         35.0,
         110.0,
         "McDonald's"
        ],
        [
         "Big Breakfast with Hotcakes and Egg Whites (Large Biscuit)",
         1050,
         50.0,
         18.0,
         35.0,
         115.0,
         "McDonald's"
        ],
        [
         "Hotcakes",
         350,
         9.0,
         14.0,
         8.0,
         60.0,
         "McDonald's"
        ],
        [
         "Hotcakes and Sausage",
         520,
         24.0,
         14.0,
         15.0,
         61.0,
         "McDonald's"
        ],
        [
         "Sausage Burrito",
         300,
         16.0,
         2.0,
         12.0,
         26.0,
         "McDonald's"
        ],
        [
         "Hash Brown",
         150,
         9.0,
         0.0,
         1.0,
         15.0,
         "McDonald's"
        ],
        [
         "Cinnamon Melts",
         460,
         19.0,
         32.0,
         6.0,
         66.0,
         "McDonald's"
        ],
        [
         "Fruit & Maple Oatmeal",
         290,
         4.0,
         32.0,
         5.0,
         58.0,
         "McDonald's"
        ],
        [
         "Fruit & Maple Oatmeal without Brown Sugar",
         260,
         4.0,
         18.0,
         5.0,
         49.0,
         "McDonald's"
        ],
        [
         "Big Mac",
         530,
         27.0,
         9.0,
         24.0,
         47.0,
         "McDonald's"
        ],
        [
         "Quarter Pounder with Cheese",
         520,
         26.0,
         10.0,
         30.0,
         41.0,
         "McDonald's"
        ],
        [
         "Quarter Pounder with Bacon & Cheese",
         600,
         29.0,
         12.0,
         37.0,
         48.0,
         "McDonald's"
        ],
        [
         "Quarter Pounder with Bacon Habanero Ranch",
         610,
         31.0,
         10.0,
         37.0,
         46.0,
         "McDonald's"
        ],
        [
         "Quarter Pounder Deluxe",
         540,
         27.0,
         9.0,
         29.0,
         45.0,
         "McDonald's"
        ],
        [
         "Double Quarter Pounder with Cheese",
         750,
         43.0,
         10.0,
         48.0,
         42.0,
         "McDonald's"
        ],
        [
         "Hamburger",
         240,
         8.0,
         6.0,
         12.0,
         32.0,
         "McDonald's"
        ],
        [
         "Cheeseburger",
         290,
         11.0,
         7.0,
         15.0,
         33.0,
         "McDonald's"
        ],
        [
         "Double Cheeseburger",
         430,
         21.0,
         7.0,
         24.0,
         35.0,
         "McDonald's"
        ],
        [
         "Bacon Clubhouse Burger",
         720,
         40.0,
         14.0,
         39.0,
         51.0,
         "McDonald's"
        ],
        [
         "McDouble",
         380,
         17.0,
         7.0,
         22.0,
         34.0,
         "McDonald's"
        ],
        [
         "Bacon McDouble",
         440,
         22.0,
         7.0,
         27.0,
         35.0,
         "McDonald's"
        ],
        [
         "Daily Double",
         430,
         22.0,
         7.0,
         22.0,
         34.0,
         "McDonald's"
        ],
        [
         "Jalape�o Double",
         430,
         23.0,
         6.0,
         22.0,
         35.0,
         "McDonald's"
        ],
        [
         "McRib",
         500,
         26.0,
         11.0,
         22.0,
         44.0,
         "McDonald's"
        ],
        [
         "Premium Crispy Chicken Classic Sandwich",
         510,
         22.0,
         10.0,
         24.0,
         55.0,
         "McDonald's"
        ],
        [
         "Premium Grilled Chicken Classic Sandwich",
         350,
         9.0,
         8.0,
         28.0,
         42.0,
         "McDonald's"
        ],
        [
         "Premium Crispy Chicken Club Sandwich",
         670,
         33.0,
         11.0,
         36.0,
         58.0,
         "McDonald's"
        ],
        [
         "Premium Grilled Chicken Club Sandwich",
         510,
         20.0,
         9.0,
         40.0,
         44.0,
         "McDonald's"
        ],
        [
         "Premium Crispy Chicken Ranch BLT Sandwich",
         610,
         28.0,
         11.0,
         32.0,
         57.0,
         "McDonald's"
        ],
        [
         "Premium Grilled Chicken Ranch BLT Sandwich",
         450,
         15.0,
         9.0,
         36.0,
         43.0,
         "McDonald's"
        ],
        [
         "Bacon Clubhouse Crispy Chicken Sandwich",
         750,
         38.0,
         16.0,
         36.0,
         65.0,
         "McDonald's"
        ],
        [
         "Bacon Clubhouse Grilled Chicken Sandwich",
         590,
         25.0,
         14.0,
         40.0,
         51.0,
         "McDonald's"
        ],
        [
         "Southern Style Crispy Chicken Sandwich",
         430,
         19.0,
         7.0,
         21.0,
         43.0,
         "McDonald's"
        ],
        [
         "McChicken",
         360,
         16.0,
         5.0,
         14.0,
         40.0,
         "McDonald's"
        ],
        [
         "Bacon Cheddar McChicken",
         480,
         24.0,
         6.0,
         22.0,
         43.0,
         "McDonald's"
        ],
        [
         "Bacon Buffalo Ranch McChicken",
         430,
         21.0,
         6.0,
         20.0,
         41.0,
         "McDonald's"
        ],
        [
         "Buffalo Ranch McChicken",
         360,
         16.0,
         5.0,
         14.0,
         40.0,
         "McDonald's"
        ],
        [
         "Premium McWrap Chicken & Bacon (Crispy Chicken)",
         630,
         32.0,
         7.0,
         32.0,
         56.0,
         "McDonald's"
        ],
        [
         "Premium McWrap Chicken & Bacon (Grilled Chicken)",
         480,
         19.0,
         6.0,
         36.0,
         42.0,
         "McDonald's"
        ],
        [
         "Premium McWrap Chicken & Ranch (Crispy Chicken)",
         610,
         31.0,
         8.0,
         27.0,
         56.0,
         "McDonald's"
        ],
        [
         "Premium McWrap Chicken & Ranch (Grilled Chicken)",
         450,
         18.0,
         6.0,
         30.0,
         42.0,
         "McDonald's"
        ],
        [
         "Premium McWrap Southwest Chicken (Crispy Chicken)",
         670,
         33.0,
         12.0,
         27.0,
         68.0,
         "McDonald's"
        ],
        [
         "Premium McWrap Southwest Chicken (Grilled Chicken)",
         520,
         20.0,
         10.0,
         31.0,
         55.0,
         "McDonald's"
        ],
        [
         "Premium McWrap Chicken Sweet Chili (Crispy Chicken)",
         540,
         23.0,
         14.0,
         23.0,
         61.0,
         "McDonald's"
        ],
        [
         "Premium McWrap Chicken Sweet Chili (Grilled Chicken)",
         380,
         10.0,
         12.0,
         27.0,
         47.0,
         "McDonald's"
        ],
        [
         "Chicken McNuggets (4 piece)",
         190,
         12.0,
         0.0,
         9.0,
         12.0,
         "McDonald's"
        ],
        [
         "Chicken McNuggets (6 piece)",
         280,
         18.0,
         0.0,
         13.0,
         18.0,
         "McDonald's"
        ],
        [
         "Chicken McNuggets (10 piece)",
         470,
         30.0,
         0.0,
         22.0,
         30.0,
         "McDonald's"
        ],
        [
         "Chicken McNuggets (20 piece)",
         940,
         59.0,
         0.0,
         44.0,
         59.0,
         "McDonald's"
        ],
        [
         "Chicken McNuggets (40 piece)",
         1880,
         118.0,
         1.0,
         87.0,
         118.0,
         "McDonald's"
        ],
        [
         "Filet-O-Fish",
         390,
         19.0,
         5.0,
         15.0,
         39.0,
         "McDonald's"
        ],
        [
         "Premium Bacon Ranch Salad (without Chicken)",
         140,
         7.0,
         4.0,
         9.0,
         10.0,
         "McDonald's"
        ],
        [
         "Premium Bacon Ranch Salad with Crispy Chicken",
         380,
         21.0,
         5.0,
         25.0,
         22.0,
         "McDonald's"
        ],
        [
         "Premium Bacon Ranch Salad with Grilled Chicken",
         220,
         8.0,
         4.0,
         29.0,
         8.0,
         "McDonald's"
        ],
        [
         "Premium Southwest Salad (without Chicken)",
         140,
         4.5,
         6.0,
         6.0,
         20.0,
         "McDonald's"
        ],
        [
         "Premium Southwest Salad with Crispy Chicken",
         450,
         22.0,
         12.0,
         23.0,
         42.0,
         "McDonald's"
        ],
        [
         "Premium Southwest Salad with Grilled Chicken",
         290,
         8.0,
         10.0,
         27.0,
         28.0,
         "McDonald's"
        ],
        [
         "Chipotle BBQ Snack Wrap (Crispy Chicken)",
         340,
         15.0,
         8.0,
         14.0,
         37.0,
         "McDonald's"
        ],
        [
         "Chipotle BBQ Snack Wrap (Grilled Chicken)",
         260,
         8.0,
         7.0,
         16.0,
         30.0,
         "McDonald's"
        ],
        [
         "Honey Mustard Snack Wrap (Crispy Chicken)",
         330,
         15.0,
         3.0,
         14.0,
         34.0,
         "McDonald's"
        ],
        [
         "Honey Mustard Snack Wrap (Grilled Chicken)",
         250,
         8.0,
         2.0,
         16.0,
         27.0,
         "McDonald's"
        ],
        [
         "Ranch Snack Wrap (Crispy Chicken)",
         360,
         20.0,
         3.0,
         15.0,
         32.0,
         "McDonald's"
        ],
        [
         "Ranch Snack Wrap (Grilled Chicken)",
         280,
         13.0,
         2.0,
         16.0,
         25.0,
         "McDonald's"
        ],
        [
         "Small French Fries",
         230,
         11.0,
         0.0,
         2.0,
         30.0,
         "McDonald's"
        ],
        [
         "Medium French Fries",
         340,
         16.0,
         0.0,
         4.0,
         44.0,
         "McDonald's"
        ],
        [
         "Large French Fries",
         510,
         24.0,
         0.0,
         6.0,
         67.0,
         "McDonald's"
        ],
        [
         "Kids French Fries",
         110,
         5.0,
         0.0,
         1.0,
         15.0,
         "McDonald's"
        ],
        [
         "Side Salad",
         20,
         0.0,
         2.0,
         1.0,
         4.0,
         "McDonald's"
        ],
        [
         "Apple Slices",
         15,
         0.0,
         3.0,
         0.0,
         4.0,
         "McDonald's"
        ],
        [
         "Fruit 'n Yogurt Parfait",
         150,
         2.0,
         23.0,
         4.0,
         30.0,
         "McDonald's"
        ],
        [
         "Baked Apple Pie",
         250,
         13.0,
         13.0,
         2.0,
         32.0,
         "McDonald's"
        ],
        [
         "Chocolate Chip Cookie",
         160,
         8.0,
         15.0,
         2.0,
         21.0,
         "McDonald's"
        ],
        [
         "Oatmeal Raisin Cookie",
         150,
         6.0,
         13.0,
         2.0,
         22.0,
         "McDonald's"
        ],
        [
         "Kids Ice Cream Cone",
         45,
         1.5,
         6.0,
         1.0,
         7.0,
         "McDonald's"
        ],
        [
         "Hot Fudge Sundae",
         330,
         9.0,
         48.0,
         8.0,
         53.0,
         "McDonald's"
        ],
        [
         "Hot Caramel Sundae",
         340,
         8.0,
         43.0,
         7.0,
         60.0,
         "McDonald's"
        ],
        [
         "Strawberry Sundae",
         280,
         6.0,
         45.0,
         6.0,
         49.0,
         "McDonald's"
        ],
        [
         "Coca-Cola Classic (Small)",
         140,
         0.0,
         39.0,
         0.0,
         39.0,
         "McDonald's"
        ],
        [
         "Coca-Cola Classic (Medium)",
         200,
         0.0,
         55.0,
         0.0,
         55.0,
         "McDonald's"
        ],
        [
         "Coca-Cola Classic (Large)",
         280,
         0.0,
         76.0,
         0.0,
         76.0,
         "McDonald's"
        ],
        [
         "Coca-Cola Classic (Child)",
         100,
         0.0,
         28.0,
         0.0,
         28.0,
         "McDonald's"
        ],
        [
         "Diet Coke (Small)",
         0,
         0.0,
         0.0,
         0.0,
         0.0,
         "McDonald's"
        ],
        [
         "Diet Coke (Medium)",
         0,
         0.0,
         0.0,
         0.0,
         0.0,
         "McDonald's"
        ],
        [
         "Diet Coke (Large)",
         0,
         0.0,
         0.0,
         0.0,
         0.0,
         "McDonald's"
        ],
        [
         "Diet Coke (Child)",
         0,
         0.0,
         0.0,
         0.0,
         0.0,
         "McDonald's"
        ],
        [
         "Dr Pepper (Small)",
         140,
         0.0,
         35.0,
         0.0,
         37.0,
         "McDonald's"
        ],
        [
         "Dr Pepper (Medium)",
         190,
         0.0,
         51.0,
         0.0,
         53.0,
         "McDonald's"
        ],
        [
         "Dr Pepper (Large)",
         270,
         0.0,
         70.0,
         0.0,
         72.0,
         "McDonald's"
        ],
        [
         "Dr Pepper (Child)",
         100,
         0.0,
         26.0,
         0.0,
         27.0,
         "McDonald's"
        ],
        [
         "Diet Dr Pepper (Small)",
         0,
         0.0,
         0.0,
         2.0,
         0.0,
         "McDonald's"
        ],
        [
         "Diet Dr Pepper (Medium)",
         0,
         0.0,
         0.0,
         3.0,
         0.0,
         "McDonald's"
        ],
        [
         "Diet Dr Pepper (Large)",
         0,
         0.0,
         0.0,
         4.0,
         0.0,
         "McDonald's"
        ],
        [
         "Diet Dr Pepper (Child)",
         0,
         0.0,
         0.0,
         1.0,
         0.0,
         "McDonald's"
        ],
        [
         "Sprite (Small)",
         140,
         0.0,
         37.0,
         0.0,
         37.0,
         "McDonald's"
        ],
        [
         "Sprite (Medium)",
         200,
         0.0,
         54.0,
         0.0,
         54.0,
         "McDonald's"
        ],
        [
         "Sprite (Large)",
         280,
         0.0,
         74.0,
         0.0,
         74.0,
         "McDonald's"
        ],
        [
         "Sprite (Child)",
         100,
         0.0,
         27.0,
         0.0,
         27.0,
         "McDonald's"
        ],
        [
         "1% Low Fat Milk Jug",
         100,
         2.5,
         12.0,
         8.0,
         12.0,
         "McDonald's"
        ],
        [
         "Fat Free Chocolate Milk Jug",
         130,
         0.0,
         22.0,
         9.0,
         23.0,
         "McDonald's"
        ],
        [
         "Minute Maid 100% Apple Juice Box",
         80,
         0.0,
         19.0,
         0.0,
         21.0,
         "McDonald's"
        ],
        [
         "Minute Maid Orange Juice (Small)",
         150,
         0.0,
         30.0,
         2.0,
         34.0,
         "McDonald's"
        ],
        [
         "Minute Maid Orange Juice (Medium)",
         190,
         0.0,
         39.0,
         3.0,
         44.0,
         "McDonald's"
        ],
        [
         "Minute Maid Orange Juice (Large)",
         280,
         0.0,
         58.0,
         4.0,
         65.0,
         "McDonald's"
        ],
        [
         "Dasani Water Bottle",
         0,
         0.0,
         0.0,
         0.0,
         0.0,
         "McDonald's"
        ],
        [
         "Iced Tea (Small)",
         0,
         0.0,
         0.0,
         0.0,
         0.0,
         "McDonald's"
        ],
        [
         "Iced Tea (Medium)",
         0,
         0.0,
         0.0,
         0.0,
         0.0,
         "McDonald's"
        ],
        [
         "Iced Tea (Large)",
         0,
         0.0,
         0.0,
         0.0,
         0.0,
         "McDonald's"
        ],
        [
         "Iced Tea (Child)",
         0,
         0.0,
         0.0,
         0.0,
         0.0,
         "McDonald's"
        ],
        [
         "Sweet Tea (Small)",
         150,
         0.0,
         36.0,
         1.0,
         36.0,
         "McDonald's"
        ],
        [
         "Sweet Tea (Medium)",
         180,
         0.0,
         45.0,
         1.0,
         45.0,
         "McDonald's"
        ],
        [
         "Sweet Tea (Large)",
         220,
         0.0,
         54.0,
         1.0,
         54.0,
         "McDonald's"
        ],
        [
         "Sweet Tea (Child)",
         110,
         0.0,
         27.0,
         0.0,
         27.0,
         "McDonald's"
        ],
        [
         "Coffee (Small)",
         0,
         0.0,
         0.0,
         0.0,
         0.0,
         "McDonald's"
        ],
        [
         "Coffee (Medium)",
         0,
         0.0,
         0.0,
         0.0,
         0.0,
         "McDonald's"
        ],
        [
         "Coffee (Large)",
         0,
         0.0,
         0.0,
         0.0,
         0.0,
         "McDonald's"
        ],
        [
         "Latte (Small)",
         170,
         9.0,
         12.0,
         9.0,
         15.0,
         "McDonald's"
        ],
        [
         "Latte (Medium)",
         210,
         10.0,
         15.0,
         11.0,
         18.0,
         "McDonald's"
        ],
        [
         "Latte (Large)",
         280,
         14.0,
         20.0,
         15.0,
         24.0,
         "McDonald's"
        ],
        [
         "Caramel Latte (Small)",
         270,
         9.0,
         38.0,
         9.0,
         40.0,
         "McDonald's"
        ],
        [
         "Caramel Latte (Medium)",
         340,
         10.0,
         48.0,
         11.0,
         50.0,
         "McDonald's"
        ],
        [
         "Caramel Latte (Large)",
         430,
         14.0,
         59.0,
         15.0,
         62.0,
         "McDonald's"
        ],
        [
         "Hazelnut Latte (Small)",
         270,
         9.0,
         38.0,
         9.0,
         40.0,
         "McDonald's"
        ],
        [
         "Hazelnut Latte (Medium)",
         330,
         10.0,
         47.0,
         11.0,
         50.0,
         "McDonald's"
        ],
        [
         "Hazelnut Latte (Large)",
         430,
         14.0,
         58.0,
         15.0,
         62.0,
         "McDonald's"
        ],
        [
         "French Vanilla Latte (Small)",
         260,
         9.0,
         36.0,
         9.0,
         38.0,
         "McDonald's"
        ],
        [
         "French Vanilla Latte (Medium)",
         330,
         10.0,
         45.0,
         11.0,
         48.0,
         "McDonald's"
        ],
        [
         "French Vanilla Latte (Large)",
         420,
         14.0,
         56.0,
         15.0,
         60.0,
         "McDonald's"
        ],
        [
         "Latte with Sugar Free French Vanilla Syrup (Small)",
         210,
         9.0,
         12.0,
         9.0,
         24.0,
         "McDonald's"
        ],
        [
         "Latte with Sugar Free French Vanilla Syrup (Medium)",
         260,
         10.0,
         15.0,
         12.0,
         29.0,
         "McDonald's"
        ],
        [
         "Latte with Sugar Free French Vanilla Syrup (Large)",
         330,
         14.0,
         20.0,
         15.0,
         37.0,
         "McDonald's"
        ],
        [
         "Nonfat Latte (Small)",
         100,
         0.0,
         13.0,
         10.0,
         15.0,
         "McDonald's"
        ],
        [
         "Nonfat Latte (Medium)",
         130,
         0.0,
         16.0,
         12.0,
         19.0,
         "McDonald's"
        ],
        [
         "Nonfat Latte (Large)",
         170,
         0.5,
         21.0,
         16.0,
         25.0,
         "McDonald's"
        ],
        [
         "Nonfat Caramel Latte (Small)",
         200,
         0.0,
         39.0,
         10.0,
         41.0,
         "McDonald's"
        ],
        [
         "Nonfat Caramel Latte (Medium)",
         250,
         0.0,
         48.0,
         12.0,
         51.0,
         "McDonald's"
        ],
        [
         "Nonfat Caramel Latte (Large)",
         310,
         0.5,
         59.0,
         16.0,
         63.0,
         "McDonald's"
        ],
        [
         "Nonfat Hazelnut Latte (Small)",
         200,
         0.0,
         38.0,
         10.0,
         40.0,
         "McDonald's"
        ],
        [
         "Nonfat Hazelnut Latte (Medium)",
         250,
         0.0,
         48.0,
         12.0,
         51.0,
         "McDonald's"
        ],
        [
         "Nonfat Hazelnut Latte (Large)",
         310,
         0.5,
         59.0,
         16.0,
         63.0,
         "McDonald's"
        ],
        [
         "Nonfat French Vanilla Latte (Small)",
         190,
         0.0,
         37.0,
         10.0,
         39.0,
         "McDonald's"
        ],
        [
         "Nonfat French Vanilla Latte (Medium)",
         240,
         0.0,
         46.0,
         12.0,
         49.0,
         "McDonald's"
        ],
        [
         "Nonfat French Vanilla Latte (Large)",
         300,
         0.5,
         56.0,
         16.0,
         60.0,
         "McDonald's"
        ],
        [
         "Nonfat Latte with Sugar Free French Vanilla Syrup (Small)",
         140,
         0.0,
         13.0,
         10.0,
         24.0,
         "McDonald's"
        ],
        [
         "Nonfat Latte with Sugar Free French Vanilla Syrup (Medium)",
         170,
         0.0,
         16.0,
         12.0,
         30.0,
         "McDonald's"
        ],
        [
         "Nonfat Latte with Sugar Free French Vanilla Syrup (Large)",
         220,
         0.5,
         21.0,
         16.0,
         38.0,
         "McDonald's"
        ],
        [
         "Mocha (Small)",
         340,
         11.0,
         42.0,
         10.0,
         49.0,
         "McDonald's"
        ],
        [
         "Mocha (Medium)",
         410,
         14.0,
         53.0,
         13.0,
         60.0,
         "McDonald's"
        ],
        [
         "Mocha (Large)",
         500,
         17.0,
         63.0,
         16.0,
         72.0,
         "McDonald's"
        ],
        [
         "Mocha with Nonfat Milk (Small)",
         270,
         3.5,
         43.0,
         11.0,
         49.0,
         "McDonald's"
        ],
        [
         "Mocha with Nonfat Milk (Medium)",
         330,
         3.5,
         53.0,
         13.0,
         60.0,
         "McDonald's"
        ],
        [
         "Mocha with Nonfat Milk (Large)",
         390,
         4.0,
         64.0,
         17.0,
         73.0,
         "McDonald's"
        ],
        [
         "Caramel Mocha (Small)",
         320,
         11.0,
         40.0,
         10.0,
         45.0,
         "McDonald's"
        ],
        [
         "Caramel Mocha (Medium)",
         390,
         14.0,
         50.0,
         12.0,
         55.0,
         "McDonald's"
        ],
        [
         "Caramel Mocha (Large)",
         480,
         17.0,
         60.0,
         16.0,
         66.0,
         "McDonald's"
        ],
        [
         "Nonfat Caramel Mocha (Small)",
         250,
         3.5,
         41.0,
         10.0,
         45.0,
         "McDonald's"
        ],
        [
         "Nonfat Caramel Mocha (Medium)",
         310,
         3.5,
         51.0,
         13.0,
         56.0,
         "McDonald's"
        ],
        [
         "Nonfat Caramel Mocha (Large)",
         370,
         3.5,
         61.0,
         17.0,
         67.0,
         "McDonald's"
        ],
        [
         "Hot Chocolate (Small)",
         360,
         13.0,
         45.0,
         11.0,
         50.0,
         "McDonald's"
        ],
        [
         "Hot Chocolate (Medium)",
         440,
         16.0,
         56.0,
         14.0,
         61.0,
         "McDonald's"
        ],
        [
         "Hot Chocolate (Large)",
         540,
         20.0,
         68.0,
         17.0,
         73.0,
         "McDonald's"
        ],
        [
         "Hot Chocolate with Nonfat Milk (Small)",
         280,
         3.5,
         46.0,
         12.0,
         50.0,
         "McDonald's"
        ],
        [
         "Hot Chocolate with Nonfat Milk (Medium)",
         340,
         3.5,
         57.0,
         14.0,
         61.0,
         "McDonald's"
        ],
        [
         "Hot Chocolate with Nonfat Milk (Large)",
         400,
         3.5,
         69.0,
         19.0,
         74.0,
         "McDonald's"
        ],
        [
         "Regular Iced Coffee (Small)",
         140,
         4.5,
         22.0,
         1.0,
         23.0,
         "McDonald's"
        ],
        [
         "Regular Iced Coffee (Medium)",
         190,
         7.0,
         30.0,
         1.0,
         31.0,
         "McDonald's"
        ],
        [
         "Regular Iced Coffee (Large)",
         270,
         9.0,
         45.0,
         2.0,
         47.0,
         "McDonald's"
        ],
        [
         "Caramel Iced Coffee (Small)",
         130,
         4.5,
         21.0,
         1.0,
         22.0,
         "McDonald's"
        ],
        [
         "Caramel Iced Coffee (Medium)",
         180,
         7.0,
         28.0,
         1.0,
         29.0,
         "McDonald's"
        ],
        [
         "Caramel Iced Coffee (Large)",
         260,
         9.0,
         42.0,
         2.0,
         43.0,
         "McDonald's"
        ],
        [
         "Hazelnut Iced Coffee (Small)",
         130,
         4.5,
         20.0,
         1.0,
         21.0,
         "McDonald's"
        ],
        [
         "Hazelnut Iced Coffee (Medium)",
         180,
         7.0,
         28.0,
         1.0,
         29.0,
         "McDonald's"
        ],
        [
         "Hazelnut Iced Coffee (Large)",
         250,
         9.0,
         41.0,
         2.0,
         43.0,
         "McDonald's"
        ],
        [
         "French Vanilla Iced Coffee (Small)",
         120,
         4.5,
         19.0,
         1.0,
         20.0,
         "McDonald's"
        ],
        [
         "French Vanilla Iced Coffee (Medium)",
         170,
         7.0,
         26.0,
         1.0,
         27.0,
         "McDonald's"
        ],
        [
         "French Vanilla Iced Coffee (Large)",
         240,
         9.0,
         39.0,
         2.0,
         41.0,
         "McDonald's"
        ],
        [
         "Iced Coffee with Sugar Free French Vanilla Syrup (Small)",
         80,
         4.5,
         1.0,
         1.0,
         9.0,
         "McDonald's"
        ],
        [
         "Iced Coffee with Sugar Free French Vanilla Syrup (Medium)",
         120,
         7.0,
         2.0,
         1.0,
         12.0,
         "McDonald's"
        ],
        [
         "Iced Coffee with Sugar Free French Vanilla Syrup (Large)",
         160,
         9.0,
         2.0,
         2.0,
         18.0,
         "McDonald's"
        ],
        [
         "Iced Mocha (Small)",
         290,
         11.0,
         34.0,
         8.0,
         41.0,
         "McDonald's"
        ],
        [
         "Iced Mocha (Medium)",
         350,
         13.0,
         43.0,
         9.0,
         50.0,
         "McDonald's"
        ],
        [
         "Iced Mocha (Large)",
         480,
         16.0,
         62.0,
         14.0,
         70.0,
         "McDonald's"
        ],
        [
         "Iced Mocha with Nonfat Milk (Small)",
         240,
         5.0,
         35.0,
         8.0,
         41.0,
         "McDonald's"
        ],
        [
         "Iced Mocha with Nonfat Milk (Medium)",
         290,
         5.0,
         43.0,
         10.0,
         50.0,
         "McDonald's"
        ],
        [
         "Iced Mocha with Nonfat Milk (Large)",
         390,
         6.0,
         62.0,
         14.0,
         71.0,
         "McDonald's"
        ],
        [
         "Iced Caramel Mocha (Small)",
         280,
         11.0,
         33.0,
         8.0,
         38.0,
         "McDonald's"
        ],
        [
         "Iced Caramel Mocha (Medium)",
         340,
         13.0,
         41.0,
         9.0,
         46.0,
         "McDonald's"
        ],
        [
         "Iced Caramel Mocha (Large)",
         460,
         16.0,
         59.0,
         13.0,
         65.0,
         "McDonald's"
        ],
        [
         "Iced Nonfat Caramel Mocha (Small)",
         230,
         5.0,
         33.0,
         8.0,
         38.0,
         "McDonald's"
        ],
        [
         "Iced Nonfat Caramel Mocha (Medium)",
         270,
         5.0,
         41.0,
         10.0,
         47.0,
         "McDonald's"
        ],
        [
         "Iced Nonfat Caramel Mocha (Large)",
         370,
         6.0,
         59.0,
         14.0,
         65.0,
         "McDonald's"
        ],
        [
         "Frapp� Mocha (Small)",
         450,
         18.0,
         57.0,
         7.0,
         65.0,
         "McDonald's"
        ],
        [
         "Frapp� Mocha (Medium)",
         550,
         22.0,
         71.0,
         9.0,
         80.0,
         "McDonald's"
        ],
        [
         "Frapp� Mocha (Large)",
         670,
         26.0,
         88.0,
         11.0,
         98.0,
         "McDonald's"
        ],
        [
         "Frapp� Caramel (Small)",
         450,
         19.0,
         57.0,
         7.0,
         64.0,
         "McDonald's"
        ],
        [
         "Frapp� Caramel (Medium)",
         550,
         23.0,
         71.0,
         9.0,
         79.0,
         "McDonald's"
        ],
        [
         "Frapp� Caramel (Large)",
         670,
         27.0,
         88.0,
         11.0,
         96.0,
         "McDonald's"
        ],
        [
         "Frapp� Chocolate Chip (Small)",
         530,
         23.0,
         67.0,
         8.0,
         76.0,
         "McDonald's"
        ],
        [
         "Frapp� Chocolate Chip (Medium)",
         630,
         26.0,
         81.0,
         9.0,
         91.0,
         "McDonald's"
        ],
        [
         "Frapp� Chocolate Chip (Large)",
         760,
         31.0,
         99.0,
         12.0,
         111.0,
         "McDonald's"
        ],
        [
         "Blueberry Pomegranate Smoothie (Small)",
         220,
         0.5,
         44.0,
         2.0,
         50.0,
         "McDonald's"
        ],
        [
         "Blueberry Pomegranate Smoothie (Medium)",
         260,
         1.0,
         54.0,
         3.0,
         62.0,
         "McDonald's"
        ],
        [
         "Blueberry Pomegranate Smoothie (Large)",
         340,
         1.0,
         70.0,
         4.0,
         79.0,
         "McDonald's"
        ],
        [
         "Strawberry Banana Smoothie (Small)",
         210,
         0.5,
         44.0,
         3.0,
         47.0,
         "McDonald's"
        ],
        [
         "Strawberry Banana Smoothie (Medium)",
         250,
         1.0,
         54.0,
         4.0,
         58.0,
         "McDonald's"
        ],
        [
         "Strawberry Banana Smoothie (Large)",
         330,
         1.0,
         70.0,
         5.0,
         74.0,
         "McDonald's"
        ],
        [
         "Mango Pineapple Smoothie (Small)",
         210,
         0.5,
         46.0,
         2.0,
         50.0,
         "McDonald's"
        ],
        [
         "Mango Pineapple Smoothie (Medium)",
         260,
         1.0,
         56.0,
         3.0,
         61.0,
         "McDonald's"
        ],
        [
         "Mango Pineapple Smoothie (Large)",
         340,
         1.0,
         72.0,
         4.0,
         78.0,
         "McDonald's"
        ],
        [
         "Vanilla Shake (Small)",
         530,
         15.0,
         63.0,
         11.0,
         86.0,
         "McDonald's"
        ],
        [
         "Vanilla Shake (Medium)",
         660,
         19.0,
         81.0,
         14.0,
         109.0,
         "McDonald's"
        ],
        [
         "Vanilla Shake (Large)",
         820,
         23.0,
         101.0,
         18.0,
         135.0,
         "McDonald's"
        ],
        [
         "Strawberry Shake (Small)",
         550,
         16.0,
         79.0,
         12.0,
         90.0,
         "McDonald's"
        ],
        [
         "Strawberry Shake (Medium)",
         690,
         20.0,
         100.0,
         15.0,
         114.0,
         "McDonald's"
        ],
        [
         "Strawberry Shake (Large)",
         850,
         24.0,
         123.0,
         18.0,
         140.0,
         "McDonald's"
        ],
        [
         "Chocolate Shake (Small)",
         560,
         16.0,
         77.0,
         12.0,
         91.0,
         "McDonald's"
        ],
        [
         "Chocolate Shake (Medium)",
         700,
         20.0,
         97.0,
         15.0,
         114.0,
         "McDonald's"
        ],
        [
         "Chocolate Shake (Large)",
         850,
         23.0,
         120.0,
         19.0,
         141.0,
         "McDonald's"
        ],
        [
         "Shamrock Shake (Medium)",
         660,
         19.0,
         93.0,
         14.0,
         109.0,
         "McDonald's"
        ],
        [
         "Shamrock Shake (Large)",
         820,
         23.0,
         115.0,
         18.0,
         135.0,
         "McDonald's"
        ],
        [
         "McFlurry with M&M�s Candies (Small)",
         650,
         23.0,
         89.0,
         13.0,
         96.0,
         "McDonald's"
        ],
        [
         "McFlurry with M&M�s Candies (Medium)",
         930,
         33.0,
         128.0,
         20.0,
         139.0,
         "McDonald's"
        ],
        [
         "McFlurry with M&M�s Candies (Snack)",
         430,
         15.0,
         59.0,
         9.0,
         64.0,
         "McDonald's"
        ],
        [
         "McFlurry with Oreo Cookies (Small)",
         510,
         17.0,
         64.0,
         12.0,
         80.0,
         "McDonald's"
        ],
        [
         "McFlurry with Oreo Cookies (Medium)",
         690,
         23.0,
         85.0,
         15.0,
         106.0,
         "McDonald's"
        ],
        [
         "McFlurry with Oreo Cookies (Snack)",
         340,
         11.0,
         43.0,
         8.0,
         53.0,
         "McDonald's"
        ],
        [
         "McFlurry with Reese's Peanut Butter Cups (Medium)",
         810,
         32.0,
         103.0,
         21.0,
         114.0,
         "McDonald's"
        ],
        [
         "McFlurry with Reese's Peanut Butter Cups (Snack)",
         410,
         16.0,
         51.0,
         10.0,
         57.0,
         "McDonald's"
        ],
        [
         "Chonga Bagel",
         300,
         5.0,
         null,
         12.0,
         50.0,
         "Starbucks"
        ],
        [
         "8-Grain Roll",
         380,
         6.0,
         null,
         10.0,
         70.0,
         "Starbucks"
        ],
        [
         "Almond Croissant",
         410,
         22.0,
         null,
         10.0,
         45.0,
         "Starbucks"
        ],
        [
         "Apple Fritter",
         460,
         23.0,
         null,
         7.0,
         56.0,
         "Starbucks"
        ],
        [
         "Banana Nut Bread",
         420,
         22.0,
         null,
         6.0,
         52.0,
         "Starbucks"
        ],
        [
         "Blueberry Muffin with Yogurt and Honey",
         380,
         16.0,
         null,
         6.0,
         53.0,
         "Starbucks"
        ],
        [
         "Blueberry Scone",
         420,
         17.0,
         null,
         5.0,
         61.0,
         "Starbucks"
        ],
        [
         "Butter Croissant",
         240,
         12.0,
         null,
         5.0,
         28.0,
         "Starbucks"
        ],
        [
         "Butterfly Cookie",
         350,
         22.0,
         null,
         2.0,
         38.0,
         "Starbucks"
        ],
        [
         "Cheese Danish",
         320,
         16.0,
         null,
         8.0,
         36.0,
         "Starbucks"
        ],
        [
         "Chewy Chocolate Cookie",
         170,
         5.0,
         null,
         2.0,
         30.0,
         "Starbucks"
        ],
        [
         "Chocolate Chip Cookie",
         310,
         15.0,
         null,
         4.0,
         42.0,
         "Starbucks"
        ],
        [
         "Chocolate Chunk Muffin",
         440,
         21.0,
         null,
         7.0,
         60.0,
         "Starbucks"
        ],
        [
         "Chocolate Croissant",
         330,
         18.0,
         null,
         6.0,
         38.0,
         "Starbucks"
        ],
        [
         "Chocolate Hazelnut Croissant",
         390,
         22.0,
         null,
         7.0,
         43.0,
         "Starbucks"
        ],
        [
         "Chocolate Marble Loaf Cake",
         490,
         24.0,
         null,
         6.0,
         64.0,
         "Starbucks"
        ],
        [
         "Cinnamon Morning Bun",
         390,
         15.0,
         null,
         8.0,
         56.0,
         "Starbucks"
        ],
        [
         "Cinnamon Raisin Bagel",
         270,
         1.0,
         null,
         9.0,
         58.0,
         "Starbucks"
        ],
        [
         "Classic Coffee Cake",
         390,
         16.0,
         null,
         5.0,
         57.0,
         "Starbucks"
        ],
        [
         "Cookie Butter Bar",
         360,
         23.0,
         null,
         2.0,
         36.0,
         "Starbucks"
        ],
        [
         "Cranberry Orange Scone",
         420,
         15.0,
         null,
         6.0,
         64.0,
         "Starbucks"
        ],
        [
         "Devil's Food Doughnut",
         430,
         23.0,
         null,
         5.0,
         53.0,
         "Starbucks"
        ],
        [
         "Double Chocolate Brownie",
         410,
         24.0,
         null,
         6.0,
         46.0,
         "Starbucks"
        ],
        [
         "Double Chocolate Chunk Brownie",
         490,
         28.0,
         null,
         7.0,
         55.0,
         "Starbucks"
        ],
        [
         "Double Chocolate Loaf Cake",
         440,
         23.0,
         null,
         5.0,
         54.0,
         "Starbucks"
        ],
        [
         "Everybody's Favorite - Bantam Bagel (2 Pack)",
         100,
         3.5,
         null,
         3.0,
         14.0,
         "Starbucks"
        ],
        [
         "Everything Bagel with Cheese",
         290,
         3.5,
         null,
         11.0,
         53.0,
         "Starbucks"
        ],
        [
         "Frappuccino� Cookie Straw",
         90,
         3.0,
         null,
         1.0,
         14.0,
         "Starbucks"
        ],
        [
         "French Toast - Bantam Bagels (2 Pack)",
         200,
         8.0,
         null,
         6.0,
         30.0,
         "Starbucks"
        ],
        [
         "Gluten-Free Marshmallow Dream Bar",
         240,
         5.0,
         null,
         2.0,
         45.0,
         "Starbucks"
        ],
        [
         "Ice Cream Cone Sugar Cookie",
         250,
         14.0,
         null,
         3.0,
         29.0,
         "Starbucks"
        ],
        [
         "Iced Lemon Pound Cake",
         470,
         20.0,
         null,
         6.0,
         68.0,
         "Starbucks"
        ],
        [
         "Michigan Cherry Oat Bar",
         310,
         10.0,
         null,
         3.0,
         47.0,
         "Starbucks"
        ],
        [
         "Multigrain Bagel",
         350,
         4.0,
         null,
         17.0,
         64.0,
         "Starbucks"
        ],
        [
         "Oatmeal Cookie",
         290,
         12.0,
         null,
         5.0,
         40.0,
         "Starbucks"
        ],
        [
         "Octopus Cookie",
         330,
         18.0,
         null,
         3.0,
         39.0,
         "Starbucks"
        ],
        [
         "Old-Fashioned Glazed Doughnut",
         480,
         27.0,
         null,
         5.0,
         56.0,
         "Starbucks"
        ],
        [
         "Peanut butter cup cookie",
         360,
         21.0,
         null,
         8.0,
         36.0,
         "Starbucks"
        ],
        [
         "Pecan Tart",
         330,
         18.0,
         null,
         4.0,
         39.0,
         "Starbucks"
        ],
        [
         "Petite Vanilla Bean Scone",
         120,
         4.5,
         null,
         2.0,
         18.0,
         "Starbucks"
        ],
        [
         "Plain Bagel",
         280,
         1.5,
         null,
         9.0,
         56.0,
         "Starbucks"
        ],
        [
         "Pumpkin Bread",
         410,
         15.0,
         null,
         6.0,
         63.0,
         "Starbucks"
        ],
        [
         "Raspberry Swirl Loaf Cake",
         420,
         17.0,
         null,
         6.0,
         61.0,
         "Starbucks"
        ],
        [
         "Raspberry Whoopie Pie",
         360,
         18.0,
         null,
         3.0,
         45.0,
         "Starbucks"
        ],
        [
         "Reduced-Fat Cinnamon Swirl Coffee Cake",
         370,
         9.0,
         null,
         5.0,
         67.0,
         "Starbucks"
        ],
        [
         "S'mores Bar",
         330,
         17.0,
         null,
         2.0,
         44.0,
         "Starbucks"
        ],
        [
         "S'mores Bar Multipack",
         330,
         17.0,
         null,
         2.0,
         44.0,
         "Starbucks"
        ],
        [
         "Sprouted Grain Vegan Bagel",
         330,
         6.0,
         null,
         12.0,
         57.0,
         "Starbucks"
        ],
        [
         "Strawberry Cake Pop",
         180,
         9.0,
         null,
         2.0,
         23.0,
         "Starbucks"
        ],
        [
         "The Classic - Bantam Bagels (2 Pack)",
         200,
         8.0,
         null,
         6.0,
         28.0,
         "Starbucks"
        ],
        [
         "Toffeedoodle",
         300,
         13.0,
         null,
         3.0,
         44.0,
         "Starbucks"
        ],
        [
         "Vanilla Bean Whoopie Pie",
         360,
         18.0,
         null,
         3.0,
         45.0,
         "Starbucks"
        ],
        [
         "Vermont Maple Walnut Muffin",
         390,
         21.0,
         null,
         6.0,
         45.0,
         "Starbucks"
        ],
        [
         "Volpi� Pepperoni & Tomato Savory Foldover",
         270,
         14.0,
         null,
         10.0,
         27.0,
         "Starbucks"
        ],
        [
         "Strawberries & Jam Sandwich",
         600,
         25.0,
         null,
         19.0,
         80.0,
         "Starbucks"
        ],
        [
         "Burrata & Basil Pesto Small Sandwich",
         300,
         14.0,
         null,
         11.0,
         34.0,
         "Starbucks"
        ],
        [
         "Cage-Free Eggs & Seasoned Grains Side Salad",
         360,
         18.0,
         null,
         17.0,
         33.0,
         "Starbucks"
        ],
        [
         "Cauliflower Tabbouleh Side Salad",
         130,
         12.0,
         null,
         2.0,
         7.0,
         "Starbucks"
        ],
        [
         "Cubano Sandwich",
         430,
         23.0,
         null,
         21.0,
         34.0,
         "Starbucks"
        ],
        [
         "Farmers' Market Protein Box",
         470,
         29.0,
         null,
         21.0,
         29.0,
         "Starbucks"
        ],
        [
         "Garden Greens & Shaved Parmesan Side Salad",
         170,
         13.0,
         null,
         7.0,
         9.0,
         "Starbucks"
        ],
        [
         "Green Goddess Avocado Salad",
         620,
         37.0,
         null,
         13.0,
         62.0,
         "Starbucks"
        ],
        [
         "Herbed Chicken & Fig Spread Small Sandwich",
         300,
         8.0,
         null,
         19.0,
         43.0,
         "Starbucks"
        ],
        [
         "Honey BBQ Sriracha Chicken Sandwich",
         360,
         7.0,
         null,
         22.0,
         52.0,
         "Starbucks"
        ],
        [
         "Roasted Carrot & Kale Side Salad",
         440,
         26.0,
         null,
         10.0,
         44.0,
         "Starbucks"
        ],
        [
         "Roasted Turkey & Dill Havarti Sandwich",
         600,
         32.0,
         null,
         32.0,
         47.0,
         "Starbucks"
        ],
        [
         "Seared Steak & Cheddar Sandwich",
         530,
         29.0,
         null,
         23.0,
         44.0,
         "Starbucks"
        ],
        [
         "Slow-Roasted Ham & Beecher's Flagship Cheese Small Sandwich",
         350,
         18.0,
         null,
         16.0,
         31.0,
         "Starbucks"
        ],
        [
         "Smoked Mozzarella & Roasted Pepper Sandwich",
         500,
         28.0,
         null,
         18.0,
         46.0,
         "Starbucks"
        ],
        [
         "Turkey & Fire-Roasted Corn Salad",
         560,
         29.0,
         null,
         24.0,
         53.0,
         "Starbucks"
        ],
        [
         "Za'atar Chicken & Lemon Tahini Salad",
         570,
         23.0,
         null,
         27.0,
         67.0,
         "Starbucks"
        ],
        [
         "BBQ Chicken Protein Box",
         420,
         16.0,
         null,
         22.0,
         49.0,
         "Starbucks"
        ],
        [
         "Cheese & Fruit Protein Box",
         450,
         27.0,
         null,
         20.0,
         34.0,
         "Starbucks"
        ],
        [
         "Chicken Wrap Protein Box",
         460,
         22.0,
         null,
         20.0,
         45.0,
         "Starbucks"
        ],
        [
         "Eggs & Cheese Protein Box",
         460,
         24.0,
         null,
         23.0,
         40.0,
         "Starbucks"
        ],
        [
         "PB&J Protein Box",
         520,
         26.0,
         null,
         20.0,
         53.0,
         "Starbucks"
        ],
        [
         "Smoked Turkey Protein Box",
         360,
         12.0,
         null,
         24.0,
         42.0,
         "Starbucks"
        ],
        [
         "Birthday Cake Pop",
         170,
         9.0,
         null,
         1.0,
         23.0,
         "Starbucks"
        ],
        [
         "Chocolate Cake Pop",
         160,
         8.0,
         null,
         2.0,
         23.0,
         "Starbucks"
        ],
        [
         "Chocolate Chip Cookie Dough Cake Pop",
         180,
         9.0,
         null,
         2.0,
         23.0,
         "Starbucks"
        ],
        [
         "Pirate Cake Pop",
         180,
         9.0,
         null,
         1.0,
         24.0,
         "Starbucks"
        ],
        [
         "Bacon Gouda & Egg Breakfast Sandwich",
         370,
         19.0,
         null,
         18.0,
         32.0,
         "Starbucks"
        ],
        [
         "Certified Gluten-Free Breakfast Sandwich",
         280,
         13.0,
         null,
         18.0,
         18.0,
         "Starbucks"
        ],
        [
         "Classic Whole-Grain Oatmeal",
         160,
         2.5,
         null,
         5.0,
         28.0,
         "Starbucks"
        ],
        [
         "Double-Smoked Bacon Cheddar & Egg Sandwich",
         490,
         27.0,
         null,
         21.0,
         40.0,
         "Starbucks"
        ],
        [
         "Ham & Cheese Croissant",
         320,
         17.0,
         null,
         14.0,
         28.0,
         "Starbucks"
        ],
        [
         "Hearty Blueberry Oatmeal",
         220,
         2.5,
         null,
         5.0,
         43.0,
         "Starbucks"
        ],
        [
         "Reduced-Fat Turkey Bacon & Cage Free Egg White Breakfast Sandwich",
         230,
         6.0,
         null,
         16.0,
         28.0,
         "Starbucks"
        ],
        [
         "Sausage Cheddar & Egg Breakfast Sandwich",
         500,
         28.0,
         null,
         15.0,
         41.0,
         "Starbucks"
        ],
        [
         "Seared Steak Egg & Tomatillo Wrap",
         410,
         18.0,
         null,
         21.0,
         43.0,
         "Starbucks"
        ],
        [
         "Slow-Roasted Ham Swiss & Egg Breakfast Sandwich",
         450,
         23.0,
         null,
         24.0,
         42.0,
         "Starbucks"
        ],
        [
         "Sous Vide Egg Bites: Bacon & Gruyere",
         310,
         22.0,
         null,
         19.0,
         9.0,
         "Starbucks"
        ],
        [
         "Sous Vide Egg Bites: Egg White & Red Pepper",
         170,
         7.0,
         null,
         13.0,
         13.0,
         "Starbucks"
        ],
        [
         "Spicy Chorizo  Monterey Jack & Egg Breakfast Sandwich",
         500,
         30.0,
         null,
         26.0,
         35.0,
         "Starbucks"
        ],
        [
         "Spinach Feta & Cage Free Egg White Breakfast Wrap",
         290,
         10.0,
         null,
         19.0,
         33.0,
         "Starbucks"
        ],
        [
         "Ancho Chipotle Chicken Panini",
         500,
         19.0,
         null,
         26.0,
         57.0,
         "Starbucks"
        ],
        [
         "Chicken & Quinoa Protein Bowl with Black Beans and Greens",
         420,
         17.0,
         null,
         27.0,
         42.0,
         "Starbucks"
        ],
        [
         "Chicken Artichoke on Ancient Grain Flatbread",
         510,
         27.0,
         null,
         24.0,
         37.0,
         "Starbucks"
        ],
        [
         "Chicken BLT Salad Sandwich",
         470,
         25.0,
         null,
         21.0,
         35.0,
         "Starbucks"
        ],
        [
         "Egg Salad Sandwich",
         480,
         27.0,
         null,
         16.0,
         42.0,
         "Starbucks"
        ],
        [
         "Homestyle Chicken & Double-Smoked Bacon",
         480,
         17.0,
         null,
         23.0,
         57.0,
         "Starbucks"
        ],
        [
         "Italian-Style Ham & Spicy Salami",
         480,
         20.0,
         null,
         22.0,
         49.0,
         "Starbucks"
        ],
        [
         "Lentils & Vegetable Protein Bowl with Brown Rice",
         650,
         29.0,
         null,
         23.0,
         80.0,
         "Starbucks"
        ],
        [
         "Roasted Tomato & Mozzarella Panini",
         420,
         18.0,
         null,
         11.0,
         47.0,
         "Starbucks"
        ],
        [
         "Turkey & Havarti Sandwich",
         460,
         21.0,
         null,
         29.0,
         31.0,
         "Starbucks"
        ],
        [
         "Turkey Pesto Panini",
         560,
         23.0,
         null,
         34.0,
         55.0,
         "Starbucks"
        ],
        [
         "Berry Trio Yogurt",
         240,
         2.5,
         null,
         14.0,
         39.0,
         "Starbucks"
        ],
        [
         "Fresh Blueberries and Honey Greek Yogurt Parfait",
         240,
         2.5,
         null,
         14.0,
         42.0,
         "Starbucks"
        ],
        [
         "Justin's Chocolate Hazelnut Butter",
         180,
         14.0,
         null,
         4.0,
         12.0,
         "Starbucks"
        ],
        [
         "Justin's Classic Almond Butter",
         190,
         18.0,
         null,
         7.0,
         6.0,
         "Starbucks"
        ],
        [
         "Lemon Chiffon Yogurt",
         340,
         13.0,
         null,
         18.0,
         38.0,
         "Starbucks"
        ],
        [
         "Organic Avocado (Spread)",
         90,
         8.0,
         null,
         1.0,
         5.0,
         "Starbucks"
        ],
        [
         "Seasonal Fruit Blend",
         90,
         0.0,
         null,
         1.0,
         24.0,
         "Starbucks"
        ],
        [
         "Cool Lime Starbucks Refreshers� Beverage",
         45,
         0.0,
         null,
         0.0,
         11.0,
         "Starbucks"
        ],
        [
         "Strawberry Acai Starbucks Refreshers� Beverage",
         80,
         0.0,
         null,
         0.0,
         18.0,
         "Starbucks"
        ],
        [
         "Very Berry Hibiscus Starbucks Refreshers� Beverage",
         60,
         0.0,
         null,
         0.0,
         14.0,
         "Starbucks"
        ],
        [
         "Evolution Fresh� Organic Ginger Limeade",
         110,
         0.0,
         null,
         0.0,
         28.0,
         "Starbucks"
        ],
        [
         "Iced Coffee",
         0,
         0.0,
         null,
         0.0,
         0.0,
         "Starbucks"
        ],
        [
         "Iced Espresso Classics - Vanilla Latte",
         130,
         2.5,
         null,
         5.0,
         21.0,
         "Starbucks"
        ],
        [
         "Iced Espresso Classics - Caffe Mocha",
         140,
         2.5,
         null,
         5.0,
         23.0,
         "Starbucks"
        ],
        [
         "Iced Espresso Classics - Caramel Macchiato",
         130,
         2.5,
         null,
         5.0,
         21.0,
         "Starbucks"
        ],
        [
         "Shaken Sweet Tea",
         80,
         0.0,
         null,
         0.0,
         19.0,
         "Starbucks"
        ],
        [
         "Tazo� Bottled Berry Blossom White",
         60,
         0.0,
         null,
         0.0,
         15.0,
         "Starbucks"
        ],
        [
         "Tazo� Bottled Black Mango",
         150,
         0.0,
         null,
         0.0,
         38.0,
         "Starbucks"
        ],
        [
         "Tazo� Bottled Black with Lemon",
         140,
         0.0,
         null,
         0.0,
         35.0,
         "Starbucks"
        ],
        [
         "Tazo� Bottled Brambleberry",
         140,
         0.0,
         null,
         0.0,
         35.0,
         "Starbucks"
        ],
        [
         "Tazo� Bottled Giant Peach",
         150,
         0.0,
         null,
         0.0,
         37.0,
         "Starbucks"
        ],
        [
         "Tazo� Bottled Iced Passion",
         70,
         0.0,
         null,
         0.0,
         17.0,
         "Starbucks"
        ],
        [
         "Tazo� Bottled Lemon Ginger",
         120,
         0.0,
         null,
         0.0,
         31.0,
         "Starbucks"
        ],
        [
         "Tazo� Bottled Organic Black Lemonade",
         140,
         0.0,
         null,
         0.0,
         35.0,
         "Starbucks"
        ],
        [
         "Tazo� Bottled Organic Iced Black Tea",
         60,
         0.0,
         null,
         0.0,
         15.0,
         "Starbucks"
        ],
        [
         "Tazo� Bottled Organic Iced Green Tea",
         120,
         0.0,
         null,
         0.0,
         31.0,
         "Starbucks"
        ],
        [
         "Tazo� Bottled Plum Pomegranate",
         140,
         0.0,
         null,
         0.0,
         35.0,
         "Starbucks"
        ],
        [
         "Tazo� Bottled Tazoberry",
         150,
         0.0,
         null,
         0.0,
         38.0,
         "Starbucks"
        ],
        [
         "Tazo� Bottled White Cranberry",
         140,
         0.0,
         null,
         0.0,
         35.0,
         "Starbucks"
        ],
        [
         "Teavana� Shaken Iced Black Tea",
         30,
         0.0,
         null,
         0.0,
         8.0,
         "Starbucks"
        ],
        [
         "Teavana� Shaken Iced Black Tea Lemonade",
         70,
         0.0,
         null,
         0.0,
         17.0,
         "Starbucks"
        ],
        [
         "Teavana� Shaken Iced Green Tea",
         30,
         0.0,
         null,
         0.0,
         8.0,
         "Starbucks"
        ],
        [
         "Teavana� Shaken Iced Green Tea Lemonade",
         70,
         0.0,
         null,
         0.0,
         17.0,
         "Starbucks"
        ],
        [
         "Teavana� Shaken Iced Passion Tango� Tea",
         30,
         0.0,
         null,
         0.0,
         8.0,
         "Starbucks"
        ],
        [
         "Teavana� Shaken Iced Passion Tango� Tea Lemonade",
         90,
         0.0,
         null,
         0.0,
         24.0,
         "Starbucks"
        ],
        [
         "Teavana� Shaken Iced Peach Green Tea",
         60,
         0.0,
         null,
         0.0,
         15.0,
         "Starbucks"
        ],
        [
         "Iced Espresso Classics - Vanilla Latte",
         130,
         2.5,
         null,
         5.0,
         21.0,
         "Starbucks"
        ],
        [
         "Iced Espresso Classics - Caffe Mocha",
         140,
         2.5,
         null,
         5.0,
         23.0,
         "Starbucks"
        ],
        [
         "Iced Espresso Classics - Caramel Macchiato",
         130,
         2.5,
         null,
         5.0,
         21.0,
         "Starbucks"
        ],
        [
         "Starbucks Refreshers� Raspberry Pomegranate",
         90,
         0.0,
         null,
         0.0,
         27.0,
         "Starbucks"
        ],
        [
         "Starbucks Refreshers� Strawberry Lemonade",
         90,
         0.0,
         null,
         0.0,
         27.0,
         "Starbucks"
        ],
        [
         "Starbucks� Doubleshot Protein Dark Chocolate",
         210,
         2.5,
         null,
         20.0,
         33.0,
         "Starbucks"
        ],
        [
         "Starbucks� Doubleshot Protein Vanilla",
         200,
         2.5,
         null,
         20.0,
         34.0,
         "Starbucks"
        ],
        [
         "Starbucks� Iced Coffee Caramel",
         60,
         0.0,
         null,
         1.0,
         13.0,
         "Starbucks"
        ],
        [
         "Starbucks� Iced Coffee Light Sweetened",
         50,
         0.0,
         null,
         1.0,
         11.0,
         "Starbucks"
        ],
        [
         "Starbucks� Iced Coffee Unsweetened",
         10,
         0.0,
         null,
         1.0,
         2.0,
         "Starbucks"
        ],
        [
         "Tazo� Bottled Berry Blossom White",
         60,
         0.0,
         null,
         0.0,
         15.0,
         "Starbucks"
        ],
        [
         "Tazo� Bottled Black Mango",
         150,
         0.0,
         null,
         0.0,
         38.0,
         "Starbucks"
        ],
        [
         "Tazo� Bottled Black with Lemon",
         140,
         0.0,
         null,
         0.0,
         35.0,
         "Starbucks"
        ],
        [
         "Tazo� Bottled Brambleberry",
         140,
         0.0,
         null,
         0.0,
         35.0,
         "Starbucks"
        ],
        [
         "Tazo� Bottled Giant Peach",
         150,
         0.0,
         null,
         0.0,
         37.0,
         "Starbucks"
        ],
        [
         "Tazo� Bottled Iced Passion",
         70,
         0.0,
         null,
         0.0,
         17.0,
         "Starbucks"
        ],
        [
         "Tazo� Bottled Lemon Ginger",
         120,
         0.0,
         null,
         0.0,
         31.0,
         "Starbucks"
        ],
        [
         "Tazo� Bottled Organic Black Lemonade",
         140,
         0.0,
         null,
         0.0,
         35.0,
         "Starbucks"
        ],
        [
         "Tazo� Bottled Organic Iced Black Tea",
         60,
         0.0,
         null,
         0.0,
         15.0,
         "Starbucks"
        ],
        [
         "Tazo� Bottled Organic Iced Green Tea",
         120,
         0.0,
         null,
         0.0,
         31.0,
         "Starbucks"
        ],
        [
         "Tazo� Bottled Plum Pomegranate",
         140,
         0.0,
         null,
         0.0,
         35.0,
         "Starbucks"
        ],
        [
         "Tazo� Bottled Tazoberry",
         150,
         0.0,
         null,
         0.0,
         38.0,
         "Starbucks"
        ],
        [
         "Tazo� Bottled White Cranberry",
         140,
         0.0,
         null,
         0.0,
         35.0,
         "Starbucks"
        ],
        [
         "Blonde Roast",
         5,
         0.0,
         null,
         1.0,
         0.0,
         "Starbucks"
        ],
        [
         "Clover� Brewed Coffee",
         10,
         0.0,
         null,
         1.0,
         0.0,
         "Starbucks"
        ],
        [
         "Decaf Pike Place� Roast",
         5,
         0.0,
         null,
         1.0,
         0.0,
         "Starbucks"
        ],
        [
         "Featured Dark Roast",
         5,
         0.0,
         null,
         1.0,
         0.0,
         "Starbucks"
        ],
        [
         "Iced Coffee",
         5,
         0.0,
         null,
         0.0,
         0.0,
         "Starbucks"
        ],
        [
         "Nari�o 70 Cold Brew",
         5,
         0.0,
         null,
         0.0,
         0.0,
         "Starbucks"
        ],
        [
         "Nari�o 70 Cold Brew with Milk",
         0,
         0.0,
         null,
         0.0,
         0.0,
         "Starbucks"
        ],
        [
         "Nitro Cold Brew",
         5,
         0.0,
         null,
         0.0,
         0.0,
         "Starbucks"
        ],
        [
         "Nitro Cold Brew with Sweet Cream",
         70,
         5.0,
         null,
         1.0,
         5.0,
         "Starbucks"
        ],
        [
         "Pike Place� Roast",
         5,
         0.0,
         null,
         1.0,
         0.0,
         "Starbucks"
        ],
        [
         "Vanilla Sweet Cream Cold Brew",
         110,
         6.0,
         null,
         1.0,
         14.0,
         "Starbucks"
        ],
        [
         "Hot Chocolate",
         320,
         9.0,
         null,
         14.0,
         47.0,
         "Starbucks"
        ],
        [
         "Starbucks� Signature Hot Chocolate",
         430,
         26.0,
         null,
         12.0,
         45.0,
         "Starbucks"
        ],
        [
         "Caff� Latte",
         190,
         7.0,
         null,
         13.0,
         19.0,
         "Starbucks"
        ],
        [
         "Caff� Mocha",
         290,
         8.0,
         null,
         13.0,
         42.0,
         "Starbucks"
        ],
        [
         "Cappuccino",
         120,
         4.0,
         null,
         8.0,
         12.0,
         "Starbucks"
        ],
        [
         "Caramel Macchiato",
         250,
         7.0,
         null,
         10.0,
         35.0,
         "Starbucks"
        ],
        [
         "Cinnamon Dolce Latte",
         260,
         6.0,
         null,
         11.0,
         40.0,
         "Starbucks"
        ],
        [
         "Coconutmilk Mocha Macchiato",
         250,
         9.0,
         null,
         12.0,
         32.0,
         "Starbucks"
        ],
        [
         "Flat White",
         180,
         7.0,
         null,
         12.0,
         18.0,
         "Starbucks"
        ],
        [
         "Iced Caff� Latte",
         130,
         4.5,
         null,
         8.0,
         13.0,
         "Starbucks"
        ],
        [
         "Iced Caff� Mocha",
         230,
         6.0,
         null,
         9.0,
         36.0,
         "Starbucks"
        ],
        [
         "Iced Caramel Macchiato",
         250,
         7.0,
         null,
         10.0,
         37.0,
         "Starbucks"
        ],
        [
         "Iced Cinnamon Dolce Latte",
         200,
         4.0,
         null,
         7.0,
         34.0,
         "Starbucks"
        ],
        [
         "Iced Coconutmilk Mocha Macchiato",
         260,
         9.0,
         null,
         11.0,
         34.0,
         "Starbucks"
        ],
        [
         "Iced Vanilla Latte",
         190,
         4.0,
         null,
         7.0,
         30.0,
         "Starbucks"
        ],
        [
         "Iced White Chocolate Mocha",
         300,
         8.0,
         null,
         10.0,
         47.0,
         "Starbucks"
        ],
        [
         "Latte Macchiato",
         190,
         7.0,
         null,
         12.0,
         19.0,
         "Starbucks"
        ],
        [
         "Latte Macchiato",
         190,
         7.0,
         null,
         12.0,
         19.0,
         "Starbucks"
        ],
        [
         "Starbucks Doubleshot� on Ice Beverage",
         45,
         1.0,
         null,
         3.0,
         5.0,
         "Starbucks"
        ],
        [
         "Vanilla Latte",
         250,
         6.0,
         null,
         12.0,
         37.0,
         "Starbucks"
        ],
        [
         "White Chocolate Mocha",
         360,
         11.0,
         null,
         14.0,
         53.0,
         "Starbucks"
        ],
        [
         "Cinnamon Dolce Frappuccino� Blended Coffee",
         350,
         4.5,
         null,
         15.0,
         64.0,
         "Starbucks"
        ],
        [
         "Coffee Light Frappuccino� Blended Coffee",
         110,
         0.0,
         null,
         3.0,
         24.0,
         "Starbucks"
        ],
        [
         "Mocha Frappuccino� Blended Coffee",
         280,
         2.5,
         null,
         4.0,
         60.0,
         "Starbucks"
        ],
        [
         "Mocha Light Frappuccino� Blended Coffee",
         140,
         0.5,
         null,
         4.0,
         28.0,
         "Starbucks"
        ],
        [
         "Cinnamon Dolce Cr�me",
         200,
         6.0,
         null,
         10.0,
         28.0,
         "Starbucks"
        ],
        [
         "Vanilla Cr�me",
         200,
         6.0,
         null,
         10.0,
         28.0,
         "Starbucks"
        ],
        [
         "Chocolate Smoothie",
         320,
         5.0,
         null,
         20.0,
         53.0,
         "Starbucks"
        ],
        [
         "Strawberry Smoothie",
         300,
         2.0,
         null,
         16.0,
         60.0,
         "Starbucks"
        ]
       ],
       "datasetInfos": [],
       "dbfsResultPath": null,
       "isJsonSchema": true,
       "metadata": {},
       "overflow": false,
       "plotOptions": {
        "customPlotOptions": {},
        "displayType": "table",
        "pivotAggregation": null,
        "pivotColumns": null,
        "xColumns": null,
        "yColumns": null
       },
       "removedWidgets": [],
       "schema": [
        {
         "metadata": "{}",
         "name": "Food_Item",
         "type": "\"string\""
        },
        {
         "metadata": "{}",
         "name": "Calories",
         "type": "\"integer\""
        },
        {
         "metadata": "{}",
         "name": "Fat",
         "type": "\"float\""
        },
        {
         "metadata": "{}",
         "name": "Sugars",
         "type": "\"float\""
        },
        {
         "metadata": "{}",
         "name": "Protein",
         "type": "\"float\""
        },
        {
         "metadata": "{}",
         "name": "Carbs",
         "type": "\"float\""
        },
        {
         "metadata": "{}",
         "name": "Brand",
         "type": "\"string\""
        }
       ],
       "type": "table"
      }
     },
     "output_type": "display_data"
    }
   ],
   "source": [
    "combined_df.display()"
   ]
  },
  {
   "cell_type": "markdown",
   "metadata": {
    "application/vnd.databricks.v1+cell": {
     "cellMetadata": {},
     "inputWidgets": {},
     "nuid": "5401d28e-236f-44a9-a179-2b59c8e388f0",
     "showTitle": false,
     "tableResultSettingsMap": {},
     "title": ""
    }
   },
   "source": [
    "##### Calculating avg of calories, fat, sugar, carbs, protein"
   ]
  },
  {
   "cell_type": "code",
   "execution_count": 0,
   "metadata": {
    "application/vnd.databricks.v1+cell": {
     "cellMetadata": {
      "byteLimit": 2048000,
      "rowLimit": 10000
     },
     "inputWidgets": {},
     "nuid": "d25632d9-a2e7-47a5-b825-33a32f5c3809",
     "showTitle": false,
     "tableResultSettingsMap": {},
     "title": ""
    }
   },
   "outputs": [],
   "source": [
    "summary_df = combined_df.groupBy(\"Brand\").agg(\n",
    "    avg(\"Calories\").alias(\"Avg_Calories\"),\n",
    "    avg(\"Fat\").alias(\"Avg_Fat\"),\n",
    "    avg(\"Sugars\").alias(\"Avg_Sugars\"),\n",
    "    avg(\"Carbs\").alias(\"Avg_Carbs\"),\n",
    "    avg(\"Protein\").alias(\"Avg_Protein\")\n",
    ")"
   ]
  },
  {
   "cell_type": "markdown",
   "metadata": {
    "application/vnd.databricks.v1+cell": {
     "cellMetadata": {},
     "inputWidgets": {},
     "nuid": "d7ed6af4-5ccf-4cf6-a3c5-e9f4767a2b2f",
     "showTitle": false,
     "tableResultSettingsMap": {},
     "title": ""
    }
   },
   "source": [
    "### Result"
   ]
  },
  {
   "cell_type": "code",
   "execution_count": 0,
   "metadata": {
    "application/vnd.databricks.v1+cell": {
     "cellMetadata": {
      "byteLimit": 2048000,
      "rowLimit": 10000
     },
     "inputWidgets": {},
     "nuid": "cabf4d82-11f6-4736-8337-a4976f8dfdb6",
     "showTitle": false,
     "tableResultSettingsMap": {},
     "title": ""
    }
   },
   "outputs": [
    {
     "output_type": "stream",
     "name": "stdout",
     "output_type": "stream",
     "text": [
      "+----------+-----------------+------------------+------------------+-----------------+------------------+\n|     Brand|     Avg_Calories|           Avg_Fat|        Avg_Sugars|        Avg_Carbs|       Avg_Protein|\n+----------+-----------------+------------------+------------------+-----------------+------------------+\n|McDonald's|368.2692307692308|14.165384615384616|29.423076923076923|47.34615384615385|13.338461538461539|\n| Starbucks|257.2439024390244| 10.06341463414634|              null|33.97073170731707| 8.185365853658537|\n+----------+-----------------+------------------+------------------+-----------------+------------------+\n\n"
     ]
    }
   ],
   "source": [
    "summary_df.show()"
   ]
  }
 ],
 "metadata": {
  "application/vnd.databricks.v1+notebook": {
   "computePreferences": null,
   "dashboards": [],
   "environmentMetadata": {
    "base_environment": "",
    "client": "1"
   },
   "language": "python",
   "notebookMetadata": {
    "mostRecentlyExecutedCommandWithImplicitDF": {
     "commandId": 3334195616807154,
     "dataframes": [
      "_sqldf"
     ]
    },
    "pythonIndentUnit": 4
   },
   "notebookName": "Project 2",
   "widgets": {}
  }
 },
 "nbformat": 4,
 "nbformat_minor": 0
}
